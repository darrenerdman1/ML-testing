{
 "cells": [
  {
   "cell_type": "markdown",
   "metadata": {},
   "source": [
    "### Import numpy library as np"
   ]
  },
  {
   "cell_type": "code",
   "execution_count": 1,
   "metadata": {},
   "outputs": [],
   "source": [
    "import numpy as np"
   ]
  },
  {
   "cell_type": "markdown",
   "metadata": {},
   "source": [
    "### Look up the documentation of the function \"linspace\" in the numpy library"
   ]
  },
  {
   "cell_type": "code",
   "execution_count": 2,
   "metadata": {},
   "outputs": [
    {
     "data": {
      "text/plain": [
       "array([1., 2., 3.])"
      ]
     },
     "execution_count": 2,
     "metadata": {},
     "output_type": "execute_result"
    }
   ],
   "source": [
    "np.linspace(1,3, num=3)"
   ]
  },
  {
   "cell_type": "markdown",
   "metadata": {},
   "source": [
    "### Create a Variable X, set it to $\\left[\\begin{array}{c}1\\\\2\\\\3\\end{array}\\right]$\n",
    "### Create a Variable Y, set it to  $\\left[\\begin{array}{c}2\\\\1\\\\4\\end{array}\\right]$\n",
    "### Print both X and Y\n",
    "Hint: np.array().reshape()"
   ]
  },
  {
   "cell_type": "code",
   "execution_count": 3,
   "metadata": {},
   "outputs": [
    {
     "name": "stdout",
     "output_type": "stream",
     "text": [
      "[[1]\n",
      " [2]\n",
      " [3]]\n",
      "[[2]\n",
      " [1]\n",
      " [4]]\n"
     ]
    }
   ],
   "source": [
    "X=np.array([1,2,3])\n",
    "X.shape = (3,1)\n",
    "Y=np.array([2,1,4])\n",
    "Y.shape = (3,1)\n",
    "print(X)\n",
    "print(Y)"
   ]
  },
  {
   "cell_type": "markdown",
   "metadata": {},
   "source": [
    "### Calculate the matrix product of $X^TY$, store it in variable Z. \n",
    "### Print Z\n",
    "Hint: np.ndarray.T and np.ndarray.dot can be chained."
   ]
  },
  {
   "cell_type": "code",
   "execution_count": 4,
   "metadata": {},
   "outputs": [
    {
     "name": "stdout",
     "output_type": "stream",
     "text": [
      "[[16]]\n"
     ]
    }
   ],
   "source": [
    "Z=X.T.dot(Y)\n",
    "print(Z)"
   ]
  },
  {
   "cell_type": "markdown",
   "metadata": {},
   "source": [
    "### Add 10 to every element of X, and print the result."
   ]
  },
  {
   "cell_type": "code",
   "execution_count": 5,
   "metadata": {},
   "outputs": [
    {
     "data": {
      "text/plain": [
       "array([[11],\n",
       "       [12],\n",
       "       [13]])"
      ]
     },
     "execution_count": 5,
     "metadata": {},
     "output_type": "execute_result"
    }
   ],
   "source": [
    "10+X"
   ]
  },
  {
   "cell_type": "markdown",
   "metadata": {},
   "source": [
    "### Add noise drawn from a normal distribution to every element of Y, and print the result\n",
    "Hint: use np.random.randn(). Expected result to be the same size as Y"
   ]
  },
  {
   "cell_type": "code",
   "execution_count": 6,
   "metadata": {},
   "outputs": [
    {
     "name": "stdout",
     "output_type": "stream",
     "text": [
      "[[ 0.40421582]\n",
      " [-0.95616168]\n",
      " [ 4.93622798]]\n"
     ]
    }
   ],
   "source": [
    "print(Y+np.random.randn(3,1))"
   ]
  },
  {
   "cell_type": "markdown",
   "metadata": {},
   "source": [
    "### Re Initialize X as a range of 200 equally spaced numbers between 0 and 2, with shape (200,1). Print last 20 elements of X\n",
    "Hint: np.linspace() or np.arange()"
   ]
  },
  {
   "cell_type": "code",
   "execution_count": 7,
   "metadata": {
    "scrolled": true
   },
   "outputs": [
    {
     "name": "stdout",
     "output_type": "stream",
     "text": [
      "[[1.80904523]\n",
      " [1.81909548]\n",
      " [1.82914573]\n",
      " [1.83919598]\n",
      " [1.84924623]\n",
      " [1.85929648]\n",
      " [1.86934673]\n",
      " [1.87939698]\n",
      " [1.88944724]\n",
      " [1.89949749]\n",
      " [1.90954774]\n",
      " [1.91959799]\n",
      " [1.92964824]\n",
      " [1.93969849]\n",
      " [1.94974874]\n",
      " [1.95979899]\n",
      " [1.96984925]\n",
      " [1.9798995 ]\n",
      " [1.98994975]\n",
      " [2.        ]]\n"
     ]
    }
   ],
   "source": [
    "X=np.linspace(0,2, num=200)\n",
    "X.shape=(200,1)\n",
    "print(X[-20:,:])"
   ]
  },
  {
   "cell_type": "code",
   "execution_count": 11,
   "metadata": {},
   "outputs": [
    {
     "data": {
      "text/plain": [
       "200"
      ]
     },
     "execution_count": 11,
     "metadata": {},
     "output_type": "execute_result"
    }
   ],
   "source": [
    "len(X)"
   ]
  },
  {
   "cell_type": "markdown",
   "metadata": {},
   "source": [
    "### Find the mean of X and print it\n",
    "Hint: np.ndarray.mean()"
   ]
  },
  {
   "cell_type": "code",
   "execution_count": 8,
   "metadata": {},
   "outputs": [
    {
     "name": "stdout",
     "output_type": "stream",
     "text": [
      "1.0000000000000002\n"
     ]
    }
   ],
   "source": [
    "print(X.mean())"
   ]
  },
  {
   "cell_type": "markdown",
   "metadata": {},
   "source": [
    "###  Make a Variable T and set it equal to the concatenation of a column vector of just ones, and X. Print first 10 elements of T, and the count of the elements you printed\n",
    "Hint: np.hstack() and np.ones()\n",
    "Expected Output: $$\\left[\\begin{array}{c}1&t_1\\\\1&t_2\\\\.&.\\\\.&.\\\\.&.\\\\.&.\\\\1&t_{10}\\end{array}\\right]$$"
   ]
  },
  {
   "cell_type": "code",
   "execution_count": 19,
   "metadata": {},
   "outputs": [
    {
     "name": "stdout",
     "output_type": "stream",
     "text": [
      "[[1.         1.90954774]\n",
      " [1.         1.91959799]\n",
      " [1.         1.92964824]\n",
      " [1.         1.93969849]\n",
      " [1.         1.94974874]\n",
      " [1.         1.95979899]\n",
      " [1.         1.96984925]\n",
      " [1.         1.9798995 ]\n",
      " [1.         1.98994975]\n",
      " [1.         2.        ]]\n",
      "There are 10 rows printed\n"
     ]
    }
   ],
   "source": [
    "T= np.hstack((np.ones((200,1)),X))\n",
    "print(T[-10:,:])\n",
    "print(\"There are \" + str(len(T[-10:,:]))+\" rows printed\")"
   ]
  },
  {
   "cell_type": "markdown",
   "metadata": {},
   "source": [
    "### Re-initialize Y as: $$Y = T \\left[\\begin{array}{c}2.7\\\\9.5 \\end{array}\\right]+3.2 \\epsilon$$\n",
    "<br> \n",
    "where $\\epsilon$ is Noise, with the same dimensions as T minus one column, sampled from a normal distribution\n",
    "<br>\n",
    "Hint: np.random.randn()\n",
    "### Print first 20 elements of Y"
   ]
  },
  {
   "cell_type": "code",
   "execution_count": 38,
   "metadata": {},
   "outputs": [
    {
     "data": {
      "text/plain": [
       "array([[ 5.46260038],\n",
       "       [ 6.09819686],\n",
       "       [ 5.60238049],\n",
       "       [-1.04284558],\n",
       "       [ 4.76419182],\n",
       "       [ 6.43921703],\n",
       "       [ 9.67928082],\n",
       "       [ 2.80307939],\n",
       "       [ 7.16539734],\n",
       "       [ 4.13713903],\n",
       "       [ 3.07312126],\n",
       "       [ 6.61863418],\n",
       "       [ 4.16966132],\n",
       "       [ 0.1293672 ],\n",
       "       [ 1.56518798],\n",
       "       [ 5.16573436],\n",
       "       [ 4.39722239],\n",
       "       [-0.42150804],\n",
       "       [ 7.22494083],\n",
       "       [ 7.59804721]])"
      ]
     },
     "execution_count": 38,
     "metadata": {},
     "output_type": "execute_result"
    }
   ],
   "source": [
    "Y=np.matmul(T,[[2.7],[9.5]])+3.2*np.random.randn(200,1)\n",
    "Y[:20]"
   ]
  },
  {
   "cell_type": "markdown",
   "metadata": {},
   "source": [
    "### Import matplotlib.pyplot as plt"
   ]
  },
  {
   "cell_type": "code",
   "execution_count": 39,
   "metadata": {},
   "outputs": [],
   "source": [
    "import matplotlib.pyplot as plt"
   ]
  },
  {
   "cell_type": "markdown",
   "metadata": {},
   "source": [
    "### Create a scatter plot of second column of T and Y. Follow the rest of the specifications\n",
    "1. Set the size of the figure to (8,9)\n",
    "2. Create corresponding axis labels with font size 20\n",
    "3. Set the title to be \"Scatter Plot\" with font size 24\n",
    "4. Change the size of all the points to 4\n",
    "5. Change the color of the points to red\n",
    "\n",
    "<br>\n",
    "<br>\n",
    "Hint: plt..."
   ]
  },
  {
   "cell_type": "code",
   "execution_count": 1,
   "metadata": {},
   "outputs": [],
   "source": []
  },
  {
   "cell_type": "code",
   "execution_count": 2,
   "metadata": {},
   "outputs": [
    {
     "ename": "NameError",
     "evalue": "name 'plt' is not defined",
     "output_type": "error",
     "traceback": [
      "\u001b[0;31m---------------------------------------------------------------------------\u001b[0m",
      "\u001b[0;31mNameError\u001b[0m                                 Traceback (most recent call last)",
      "\u001b[0;32m<ipython-input-2-86c7f91a9bba>\u001b[0m in \u001b[0;36m<module>\u001b[0;34m\u001b[0m\n\u001b[0;32m----> 1\u001b[0;31m \u001b[0mplt\u001b[0m\u001b[0;34m.\u001b[0m\u001b[0mfigure\u001b[0m\u001b[0;34m(\u001b[0m\u001b[0mfigsize\u001b[0m\u001b[0;34m=\u001b[0m\u001b[0;34m(\u001b[0m\u001b[0;36m8\u001b[0m\u001b[0;34m,\u001b[0m\u001b[0;36m9\u001b[0m\u001b[0;34m)\u001b[0m\u001b[0;34m)\u001b[0m\u001b[0;34m\u001b[0m\u001b[0;34m\u001b[0m\u001b[0m\n\u001b[0m\u001b[1;32m      2\u001b[0m \u001b[0mplt\u001b[0m\u001b[0;34m.\u001b[0m\u001b[0mxlabel\u001b[0m\u001b[0;34m(\u001b[0m\u001b[0;34m\"X\"\u001b[0m\u001b[0;34m,\u001b[0m\u001b[0mfontsize\u001b[0m\u001b[0;34m=\u001b[0m\u001b[0;36m20\u001b[0m\u001b[0;34m)\u001b[0m\u001b[0;34m\u001b[0m\u001b[0;34m\u001b[0m\u001b[0m\n\u001b[1;32m      3\u001b[0m \u001b[0mplt\u001b[0m\u001b[0;34m.\u001b[0m\u001b[0mylabel\u001b[0m\u001b[0;34m(\u001b[0m\u001b[0;34m\"Y\"\u001b[0m\u001b[0;34m,\u001b[0m\u001b[0mfontsize\u001b[0m\u001b[0;34m=\u001b[0m\u001b[0;36m20\u001b[0m\u001b[0;34m)\u001b[0m\u001b[0;34m\u001b[0m\u001b[0;34m\u001b[0m\u001b[0m\n\u001b[1;32m      4\u001b[0m \u001b[0mplt\u001b[0m\u001b[0;34m.\u001b[0m\u001b[0mtitle\u001b[0m\u001b[0;34m(\u001b[0m\u001b[0;34m\"Scatter Plot\"\u001b[0m\u001b[0;34m,\u001b[0m \u001b[0mfontsize\u001b[0m\u001b[0;34m=\u001b[0m\u001b[0;36m24\u001b[0m\u001b[0;34m)\u001b[0m\u001b[0;34m\u001b[0m\u001b[0;34m\u001b[0m\u001b[0m\n\u001b[1;32m      5\u001b[0m \u001b[0mplt\u001b[0m\u001b[0;34m.\u001b[0m\u001b[0mscatter\u001b[0m\u001b[0;34m(\u001b[0m\u001b[0mT\u001b[0m\u001b[0;34m[\u001b[0m\u001b[0;34m:\u001b[0m\u001b[0;34m,\u001b[0m\u001b[0;36m1\u001b[0m\u001b[0;34m]\u001b[0m\u001b[0;34m,\u001b[0m\u001b[0mY\u001b[0m\u001b[0;34m,\u001b[0m \u001b[0ms\u001b[0m\u001b[0;34m=\u001b[0m\u001b[0;36m4\u001b[0m\u001b[0;34m,\u001b[0m\u001b[0mcolor\u001b[0m\u001b[0;34m=\u001b[0m\u001b[0;34m\"red\"\u001b[0m\u001b[0;34m)\u001b[0m\u001b[0;34m\u001b[0m\u001b[0;34m\u001b[0m\u001b[0m\n",
      "\u001b[0;31mNameError\u001b[0m: name 'plt' is not defined"
     ]
    }
   ],
   "source": [
    "plt.figure(figsize=(8,9))\n",
    "plt.xlabel(\"X\",fontsize=20)\n",
    "plt.ylabel(\"Y\",fontsize=20)\n",
    "plt.title(\"Scatter Plot\", fontsize=24)\n",
    "plt.scatter(T[:,1],Y, s=4,color=\"red\")\n",
    "plt.show()"
   ]
  },
  {
   "cell_type": "markdown",
   "metadata": {},
   "source": [
    "### Create a Variable F and set it equal to 12 times the second column of T, without preserving the dimensionality. Print the first 10 values of F."
   ]
  },
  {
   "cell_type": "code",
   "execution_count": 41,
   "metadata": {},
   "outputs": [
    {
     "name": "stdout",
     "output_type": "stream",
     "text": [
      "[0.         0.12060302 0.24120603 0.36180905 0.48241206 0.60301508\n",
      " 0.72361809 0.84422111 0.96482412 1.08542714]\n"
     ]
    }
   ],
   "source": [
    "F=12*T[:,1]\n",
    "print(F[:10])"
   ]
  },
  {
   "cell_type": "markdown",
   "metadata": {},
   "source": [
    "### Recreate the same scatter plot as earlier. Then, follow these instructions\n",
    "1. Create a line plot of F with X on the same plot. F on the y-axis, X on the X-axis\n",
    "2. Set the LineWidth to 4.\n",
    "3. Set the color of the line to be blue\n",
    "4. Create a legend indicating that the line is F. Set the font size to 20\n",
    "5. Set the font of the x and y ticks to be 15"
   ]
  },
  {
   "cell_type": "code",
   "execution_count": 64,
   "metadata": {},
   "outputs": [
    {
     "data": {
      "image/png": "[encoded data removed]",
      "text/plain": [
       "<Figure size 576x648 with 1 Axes>"
      ]
     },
     "metadata": {
      "needs_background": "light"
     },
     "output_type": "display_data"
    }
   ],
   "source": [
    "plt.figure(figsize=(8,9))\n",
    "plt.xlabel(\"X\",fontsize=20)\n",
    "plt.ylabel(\"Y\",fontsize=20)\n",
    "plt.title(\"Scatter Plot\", fontsize=24)\n",
    "plt.scatter(T[:,1],Y, s=4,color=\"red\")\n",
    "plt.plot(X,F,color=\"blue\", LineWidth=4, label=\"F\")\n",
    "plt.legend(fontsize=20)\n",
    "plt.tick_params(axis='both', which='major', labelsize=15)\n",
    "plt.show()"
   ]
  },
  {
   "cell_type": "code",
   "execution_count": null,
   "metadata": {},
   "outputs": [],
   "source": []
  }
 ],
 "metadata": {
  "kernelspec": {
   "display_name": "Python 3",
   "language": "python",
   "name": "python3"
  },
  "language_info": {
   "codemirror_mode": {
    "name": "ipython",
    "version": 3
   },
   "file_extension": ".py",
   "mimetype": "text/x-python",
   "name": "python",
   "nbconvert_exporter": "python",
   "pygments_lexer": "ipython3",
   "version": "3.7.1"
  }
 },
 "nbformat": 4,
 "nbformat_minor": 2
}
