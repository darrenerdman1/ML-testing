{
 "cells": [
  {
   "cell_type": "markdown",
   "metadata": {},
   "source": [
    "### Import numpy library as np"
   ]
  },
  {
   "cell_type": "code",
   "execution_count": 2,
   "metadata": {},
   "outputs": [
    {
     "name": "stdout",
     "output_type": "stream",
     "text": [
      "mkl_info:\n",
      "    libraries = ['mkl_rt', 'pthread']\n",
      "    library_dirs = ['/home/derdman/anaconda3/lib']\n",
      "    define_macros = [('SCIPY_MKL_H', None), ('HAVE_CBLAS', None)]\n",
      "    include_dirs = ['/home/derdman/anaconda3/include']\n",
      "blas_mkl_info:\n",
      "    libraries = ['mkl_rt', 'pthread']\n",
      "    library_dirs = ['/home/derdman/anaconda3/lib']\n",
      "    define_macros = [('SCIPY_MKL_H', None), ('HAVE_CBLAS', None)]\n",
      "    include_dirs = ['/home/derdman/anaconda3/include']\n",
      "blas_opt_info:\n",
      "    libraries = ['mkl_rt', 'pthread']\n",
      "    library_dirs = ['/home/derdman/anaconda3/lib']\n",
      "    define_macros = [('SCIPY_MKL_H', None), ('HAVE_CBLAS', None)]\n",
      "    include_dirs = ['/home/derdman/anaconda3/include']\n",
      "lapack_mkl_info:\n",
      "    libraries = ['mkl_rt', 'pthread']\n",
      "    library_dirs = ['/home/derdman/anaconda3/lib']\n",
      "    define_macros = [('SCIPY_MKL_H', None), ('HAVE_CBLAS', None)]\n",
      "    include_dirs = ['/home/derdman/anaconda3/include']\n",
      "lapack_opt_info:\n",
      "    libraries = ['mkl_rt', 'pthread']\n",
      "    library_dirs = ['/home/derdman/anaconda3/lib']\n",
      "    define_macros = [('SCIPY_MKL_H', None), ('HAVE_CBLAS', None)]\n",
      "    include_dirs = ['/home/derdman/anaconda3/include']\n"
     ]
    }
   ],
   "source": [
    "import numpy as np\n",
    "np.__config__.show()"
   ]
  },
  {
   "cell_type": "markdown",
   "metadata": {},
   "source": [
    "### Look up the documentation of the function \"linspace\" in the numpy library"
   ]
  },
  {
   "cell_type": "code",
   "execution_count": 41,
   "metadata": {},
   "outputs": [
    {
     "data": {
      "text/plain": [
       "array([1., 2., 3.])"
      ]
     },
     "execution_count": 41,
     "metadata": {},
     "output_type": "execute_result"
    }
   ],
   "source": [
    "np.linspace(1,3, num=3)"
   ]
  },
  {
   "cell_type": "markdown",
   "metadata": {},
   "source": [
    "### Create a Variable X, set it to $\\left[\\begin{array}{c}1\\\\2\\\\3\\end{array}\\right]$\n",
    "### Create a Variable Y, set it to  $\\left[\\begin{array}{c}2\\\\1\\\\4\\end{array}\\right]$\n",
    "### Print both X and Y\n",
    "Hint: np.array().reshape()"
   ]
  },
  {
   "cell_type": "code",
   "execution_count": 42,
   "metadata": {},
   "outputs": [
    {
     "name": "stdout",
     "output_type": "stream",
     "text": [
      "[[1]\n",
      " [2]\n",
      " [3]]\n",
      "[[2]\n",
      " [1]\n",
      " [4]]\n"
     ]
    }
   ],
   "source": [
    "X=np.array([1,2,3])\n",
    "X.shape = (3,1)\n",
    "Y=np.array([2,1,4])\n",
    "Y.shape = (3,1)\n",
    "print(X)\n",
    "print(Y)"
   ]
  },
  {
   "cell_type": "markdown",
   "metadata": {},
   "source": [
    "### Calculate the matrix product of $X^TY$, store it in variable Z. \n",
    "### Print Z\n",
    "Hint: np.ndarray.T and np.ndarray.dot can be chained."
   ]
  },
  {
   "cell_type": "code",
   "execution_count": 43,
   "metadata": {},
   "outputs": [
    {
     "name": "stdout",
     "output_type": "stream",
     "text": [
      "[[16]]\n"
     ]
    }
   ],
   "source": [
    "Z=X.T.dot(Y)\n",
    "print(Z)"
   ]
  },
  {
   "cell_type": "markdown",
   "metadata": {},
   "source": [
    "### Add 10 to every element of X, and print the result."
   ]
  },
  {
   "cell_type": "code",
   "execution_count": 44,
   "metadata": {},
   "outputs": [
    {
     "name": "stdout",
     "output_type": "stream",
     "text": [
      "[[11]\n",
      " [12]\n",
      " [13]]\n"
     ]
    }
   ],
   "source": [
    "print(X+10)"
   ]
  },
  {
   "cell_type": "markdown",
   "metadata": {},
   "source": [
    "### Add noise drawn from a normal distribution to every element of Y, and print the result\n",
    "Hint: use np.random.randn(). Expected result to be the same size as Y"
   ]
  },
  {
   "cell_type": "code",
   "execution_count": 45,
   "metadata": {},
   "outputs": [
    {
     "name": "stdout",
     "output_type": "stream",
     "text": [
      "[[1.57049044]\n",
      " [1.51054121]\n",
      " [3.80107883]]\n"
     ]
    }
   ],
   "source": [
    "print(Y+np.random.randn(3,1))"
   ]
  },
  {
   "cell_type": "markdown",
   "metadata": {},
   "source": [
    "### Re Initialize X as a range of 200 equally spaced numbers between 0 and 2, with shape (200,1). Print last 20 elements of X\n",
    "Hint: np.linspace() or np.arange()"
   ]
  },
  {
   "cell_type": "code",
   "execution_count": 46,
   "metadata": {},
   "outputs": [
    {
     "name": "stdout",
     "output_type": "stream",
     "text": [
      "[[1.80904523]\n",
      " [1.81909548]\n",
      " [1.82914573]\n",
      " [1.83919598]\n",
      " [1.84924623]\n",
      " [1.85929648]\n",
      " [1.86934673]\n",
      " [1.87939698]\n",
      " [1.88944724]\n",
      " [1.89949749]\n",
      " [1.90954774]\n",
      " [1.91959799]\n",
      " [1.92964824]\n",
      " [1.93969849]\n",
      " [1.94974874]\n",
      " [1.95979899]\n",
      " [1.96984925]\n",
      " [1.9798995 ]\n",
      " [1.98994975]\n",
      " [2.        ]]\n"
     ]
    }
   ],
   "source": [
    "X=np.linspace(0,2, num=200)\n",
    "X.shape=(200,1)\n",
    "print(X[-20:,:])"
   ]
  },
  {
   "cell_type": "markdown",
   "metadata": {},
   "source": [
    "### Find the mean of X and print it\n",
    "Hint: np.ndarray.mean()"
   ]
  },
  {
   "cell_type": "code",
   "execution_count": 47,
   "metadata": {
    "scrolled": true
   },
   "outputs": [
    {
     "name": "stdout",
     "output_type": "stream",
     "text": [
      "1.0000000000000002\n"
     ]
    }
   ],
   "source": [
    "print(X.mean())"
   ]
  },
  {
   "cell_type": "markdown",
   "metadata": {},
   "source": [
    "###  Make a Variable T and set it equal to the concatenation of a column vector of just ones, and X. Print first 10 elements of T, and the count of the elements you printed\n",
    "Hint: np.hstack() and np.ones()\n",
    "Expected Output: $$\\left[\\begin{array}{c}1&t_1\\\\1&t_2\\\\.&.\\\\.&.\\\\.&.\\\\.&.\\\\1&t_{10}\\end{array}\\right]$$"
   ]
  },
  {
   "cell_type": "code",
   "execution_count": null,
   "metadata": {},
   "outputs": [],
   "source": []
  },
  {
   "cell_type": "markdown",
   "metadata": {},
   "source": [
    "### Re-initialize Y as: $$Y = T \\left[\\begin{array}{c}2.7\\\\9.5 \\end{array}\\right]+3.2 \\epsilon$$\n",
    "<br> \n",
    "where $\\epsilon$ is Noise, with the same dimensions as T minus one column, sampled from a normal distribution\n",
    "### Print first 20 elements of Y"
   ]
  },
  {
   "cell_type": "code",
   "execution_count": null,
   "metadata": {},
   "outputs": [],
   "source": []
  },
  {
   "cell_type": "markdown",
   "metadata": {},
   "source": [
    "### Import matplotlib.pyplot as plt"
   ]
  },
  {
   "cell_type": "code",
   "execution_count": 2,
   "metadata": {},
   "outputs": [],
   "source": [
    "import matplotlib.pyplot as plt"
   ]
  },
  {
   "cell_type": "markdown",
   "metadata": {},
   "source": [
    "### Create a scatter plot of second column of T and Y. Follow the rest of the specifications\n",
    "1. Set the size of the figure to (8,9)\n",
    "2. Create corresponding axis labels with font size 20\n",
    "3. Set the title to be \"Scatter Plot\" with font size 24\n",
    "4. Change the size of all the points to 4\n",
    "5. Change the color of the points to red\n",
    "\n",
    "<br>\n",
    "<br>\n",
    "Hint: plt..."
   ]
  },
  {
   "cell_type": "code",
   "execution_count": null,
   "metadata": {},
   "outputs": [],
   "source": []
  },
  {
   "cell_type": "markdown",
   "metadata": {},
   "source": [
    "### Create a Variable F and set it equal to 12 times the second column of Z, without preserving the dimensionality. Print the first 10 values of F."
   ]
  },
  {
   "cell_type": "code",
   "execution_count": null,
   "metadata": {},
   "outputs": [],
   "source": []
  },
  {
   "cell_type": "markdown",
   "metadata": {},
   "source": [
    "### Recreate the same scatter plot as earlier. Then, follow these instructions\n",
    "1. Create a line plot of F with X on the same plot. F on the y-axis, X on the X-axis\n",
    "2. Set the LineWidth to 4.\n",
    "3. Set the color of the line to be blue\n",
    "4. Create a legend indicating that the line is F. Set the font size to 20\n",
    "5. Set the font of the x and y ticks to be 15"
   ]
  },
  {
   "cell_type": "code",
   "execution_count": null,
   "metadata": {},
   "outputs": [],
   "source": []
  }
 ],
 "metadata": {
  "kernelspec": {
   "display_name": "Python 3",
   "language": "python",
   "name": "python3"
  },
  "language_info": {
   "codemirror_mode": {
    "name": "ipython",
    "version": 3
   },
   "file_extension": ".py",
   "mimetype": "text/x-python",
   "name": "python",
   "nbconvert_exporter": "python",
   "pygments_lexer": "ipython3",
   "version": "3.7.1"
  }
 },
 "nbformat": 4,
 "nbformat_minor": 2
}
