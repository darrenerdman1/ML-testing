{
 "cells": [
  {
   "cell_type": "code",
   "execution_count": 1,
   "metadata": {},
   "outputs": [],
   "source": [
    "Data<-UCBAdmissions"
   ]
  },
  {
   "cell_type": "code",
   "execution_count": 2,
   "metadata": {},
   "outputs": [],
   "source": [
    "# Data admitted and rejected totals aggregated over all departments\n",
    "total<-apply(Data, c(1, 2), sum)"
   ]
  },
  {
   "cell_type": "code",
   "execution_count": 3,
   "metadata": {},
   "outputs": [
    {
     "data": {
      "text/html": [
       "<table>\n",
       "<thead><tr><th></th><th scope=col>Male</th><th scope=col>Female</th></tr></thead>\n",
       "<tbody>\n",
       "\t<tr><th scope=row>Admitted</th><td>1198</td><td> 557</td></tr>\n",
       "\t<tr><th scope=row>Rejected</th><td>1493</td><td>1278</td></tr>\n",
       "</tbody>\n",
       "</table>\n"
      ],
      "text/latex": [
       "\\begin{tabular}{r|ll}\n",
       "  & Male & Female\\\\\n",
       "\\hline\n",
       "\tAdmitted & 1198 &  557\\\\\n",
       "\tRejected & 1493 & 1278\\\\\n",
       "\\end{tabular}\n"
      ],
      "text/markdown": [
       "\n",
       "| <!--/--> | Male | Female |\n",
       "|---|---|---|\n",
       "| Admitted | 1198 |  557 |\n",
       "| Rejected | 1493 | 1278 |\n",
       "\n"
      ],
      "text/plain": [
       "          Gender\n",
       "Admit      Male Female\n",
       "  Admitted 1198  557  \n",
       "  Rejected 1493 1278  "
      ]
     },
     "metadata": {},
     "output_type": "display_data"
    }
   ],
   "source": [
    "# Check The result\n",
    "total"
   ]
  },
  {
   "cell_type": "code",
   "execution_count": 4,
   "metadata": {},
   "outputs": [
    {
     "data": {
      "text/html": [
       "<table>\n",
       "<thead><tr><th></th><th scope=col>Male</th><th scope=col>Female</th></tr></thead>\n",
       "<tbody>\n",
       "\t<tr><th scope=row>Admitted</th><td>0.4451877</td><td>0.3035422</td></tr>\n",
       "\t<tr><th scope=row>Rejected</th><td>0.5548123</td><td>0.6964578</td></tr>\n",
       "</tbody>\n",
       "</table>\n"
      ],
      "text/latex": [
       "\\begin{tabular}{r|ll}\n",
       "  & Male & Female\\\\\n",
       "\\hline\n",
       "\tAdmitted & 0.4451877 & 0.3035422\\\\\n",
       "\tRejected & 0.5548123 & 0.6964578\\\\\n",
       "\\end{tabular}\n"
      ],
      "text/markdown": [
       "\n",
       "| <!--/--> | Male | Female |\n",
       "|---|---|---|\n",
       "| Admitted | 0.4451877 | 0.3035422 |\n",
       "| Rejected | 0.5548123 | 0.6964578 |\n",
       "\n"
      ],
      "text/plain": [
       "          Gender\n",
       "Admit      Male      Female   \n",
       "  Admitted 0.4451877 0.3035422\n",
       "  Rejected 0.5548123 0.6964578"
      ]
     },
     "metadata": {},
     "output_type": "display_data"
    }
   ],
   "source": [
    "# Calculate the percent admitted and percent reject for each gender. Redundant, will only be using admissin rate.\n",
    "sweep(total, 2, t(colSums(total)), `/`)"
   ]
  },
  {
   "cell_type": "code",
   "execution_count": 5,
   "metadata": {},
   "outputs": [],
   "source": [
    "#Calculate admission and rejection rates for each gender for each department\n",
    "A<-sweep(Data[,,1], 2, t(colSums(Data[,,1])), `/`)\n",
    "B<-sweep(Data[,,2], 2, t(colSums(Data[,,2])), `/`)\n",
    "C<-sweep(Data[,,3], 2, t(colSums(Data[,,3])), `/`)\n",
    "D<-sweep(Data[,,4], 2, t(colSums(Data[,,4])), `/`)\n",
    "E<-sweep(Data[,,5], 2, t(colSums(Data[,,5])), `/`)\n",
    "F<-sweep(Data[,,6], 2, t(colSums(Data[,,6])), `/`)"
   ]
  },
  {
   "cell_type": "code",
   "execution_count": 6,
   "metadata": {},
   "outputs": [
    {
     "data": {
      "text/html": [
       "<strong>Male:</strong> 0.306577480490524"
      ],
      "text/latex": [
       "\\textbf{Male:} 0.306577480490524"
      ],
      "text/markdown": [
       "**Male:** 0.306577480490524"
      ],
      "text/plain": [
       "     Male \n",
       "0.3065775 "
      ]
     },
     "metadata": {},
     "output_type": "display_data"
    },
    {
     "data": {
      "text/html": [
       "<strong>Male:</strong> 0.208101077666295"
      ],
      "text/latex": [
       "\\textbf{Male:} 0.208101077666295"
      ],
      "text/markdown": [
       "**Male:** 0.208101077666295"
      ],
      "text/plain": [
       "     Male \n",
       "0.2081011 "
      ]
     },
     "metadata": {},
     "output_type": "display_data"
    },
    {
     "data": {
      "text/html": [
       "<strong>Male:</strong> 0.120772946859903"
      ],
      "text/latex": [
       "\\textbf{Male:} 0.120772946859903"
      ],
      "text/markdown": [
       "**Male:** 0.120772946859903"
      ],
      "text/plain": [
       "     Male \n",
       "0.1207729 "
      ]
     },
     "metadata": {},
     "output_type": "display_data"
    },
    {
     "data": {
      "text/html": [
       "<strong>Male:</strong> 0.154960981047938"
      ],
      "text/latex": [
       "\\textbf{Male:} 0.154960981047938"
      ],
      "text/markdown": [
       "**Male:** 0.154960981047938"
      ],
      "text/plain": [
       "    Male \n",
       "0.154961 "
      ]
     },
     "metadata": {},
     "output_type": "display_data"
    },
    {
     "data": {
      "text/html": [
       "<strong>Male:</strong> 0.0709773318468971"
      ],
      "text/latex": [
       "\\textbf{Male:} 0.0709773318468971"
      ],
      "text/markdown": [
       "**Male:** 0.0709773318468971"
      ],
      "text/plain": [
       "      Male \n",
       "0.07097733 "
      ]
     },
     "metadata": {},
     "output_type": "display_data"
    },
    {
     "data": {
      "text/html": [
       "<strong>Male:</strong> 0.138610182088443"
      ],
      "text/latex": [
       "\\textbf{Male:} 0.138610182088443"
      ],
      "text/markdown": [
       "**Male:** 0.138610182088443"
      ],
      "text/plain": [
       "     Male \n",
       "0.1386102 "
      ]
     },
     "metadata": {},
     "output_type": "display_data"
    }
   ],
   "source": [
    "# Calculate the percent of total males that applied to each department, this is a test for later\n",
    "colSums(Data[,,1])[1]/colSums(total)[1]\n",
    "colSums(Data[,,2])[1]/colSums(total)[1]\n",
    "colSums(Data[,,3])[1]/colSums(total)[1]\n",
    "colSums(Data[,,4])[1]/colSums(total)[1]\n",
    "colSums(Data[,,5])[1]/colSums(total)[1]\n",
    "colSums(Data[,,6])[1]/colSums(total)[1]"
   ]
  },
  {
   "cell_type": "code",
   "execution_count": 7,
   "metadata": {},
   "outputs": [
    {
     "data": {
      "text/html": [
       "<strong>png:</strong> 2"
      ],
      "text/latex": [
       "\\textbf{png:} 2"
      ],
      "text/markdown": [
       "**png:** 2"
      ],
      "text/plain": [
       "png \n",
       "  2 "
      ]
     },
     "metadata": {},
     "output_type": "display_data"
    }
   ],
   "source": [
    "# Create and save a bar plot detailing the admission rates of male and females for all deparments, to show where controversy comes in\n",
    "jpeg('Sumofall.jpg') # Title of jpeg file\n",
    "barplot(sweep(total, 2, t(colSums(total)), `/`)[1,], main=\"Admission Rates for All Departments\",\n",
    "   xlab=\"Gender\", ylab=\"Percent\", col=c(\"firebrick\",\"chocolate\"))\n",
    " # Create short tick marks at each bar\n",
    "dev.off()"
   ]
  },
  {
   "cell_type": "code",
   "execution_count": 8,
   "metadata": {},
   "outputs": [
    {
     "data": {
      "text/html": [
       "<strong>png:</strong> 2"
      ],
      "text/latex": [
       "\\textbf{png:} 2"
      ],
      "text/markdown": [
       "**png:** 2"
      ],
      "text/plain": [
       "png \n",
       "  2 "
      ]
     },
     "metadata": {},
     "output_type": "display_data"
    }
   ],
   "source": [
    "#Create a set of bar graphs for all departments comparing male and female admission rates and save to jpeg\n",
    "jpeg('Breakdown.jpg')\n",
    "par(mfrow=c(2,3))\n",
    "\n",
    "barplot(A[1,], main=\"Department A Admission Rate\",\n",
    "   xlab=\"Gender\", ylab=\"Percent\",col=c(\"firebrick\",\"chocolate\"))\n",
    "\n",
    "barplot(B[1,], main=\"Department B Admission Rate\",\n",
    "   xlab=\"Gender\", ylab=\"Percent\",col=c(\"firebrick\",\"chocolate\"))\n",
    "\n",
    "barplot(C[1,], main=\"Department C Admission Rate\",\n",
    "   xlab=\"Gender\", ylab=\"Percent\",col=c(\"firebrick\",\"chocolate\"))\n",
    "\n",
    "barplot(D[1,], main=\"Department D Admission Rate\",\n",
    "   xlab=\"Gender\", ylab=\"Percent\",col=c(\"firebrick\",\"chocolate\"))\n",
    "\n",
    "barplot(E[1,], main=\"Department E Admission Rate\",\n",
    "   xlab=\"Gender\", ylab=\"Percent\",col=c(\"firebrick\",\"chocolate\"))\n",
    "\n",
    "barplot(F[1,], main=\"Department F Admission Rate\",\n",
    "   xlab=\"Gender\", ylab=\"Percent\",col=c(\"firebrick\",\"chocolate\"))\n",
    "\n",
    "dev.off()"
   ]
  },
  {
   "cell_type": "code",
   "execution_count": 17,
   "metadata": {},
   "outputs": [
    {
     "data": {
      "text/html": [
       "<strong>png:</strong> 2"
      ],
      "text/latex": [
       "\\textbf{png:} 2"
      ],
      "text/markdown": [
       "**png:** 2"
      ],
      "text/plain": [
       "png \n",
       "  2 "
      ]
     },
     "metadata": {},
     "output_type": "display_data"
    }
   ],
   "source": [
    "#Same bar graph as above, but the percent of that gender that applied to that department is show on the bar that gives the admission rate\n",
    "jpeg('Breakdown_Numbers.jpg')\n",
    "par(mfrow=c(2,3))\n",
    "\n",
    "barplot(A[1,], main=\"Department A Admission Rate\",\n",
    "   xlab=\"Gender\", ylab=\"Percent\",col=c(\"firebrick\",\"chocolate\"))\n",
    "text(.67, .3,round(colSums(Data[,,1])[1]/colSums(total)[1],2),cex=2)\n",
    "text(1.89, .45,round(colSums(Data[,,1])[2]/colSums(total)[2],2),cex=2)\n",
    "\n",
    "barplot(B[1,], main=\"Department B Admission Rate\",\n",
    "   xlab=\"Gender\", ylab=\"Percent\",col=c(\"firebrick\",\"chocolate\"))\n",
    "text(.67, .33,round(colSums(Data[,,2])[1]/colSums(total)[1],2),cex=2)\n",
    "text(1.89, .35,round(colSums(Data[,,2])[2]/colSums(total)[2],2),cex=2)\n",
    "\n",
    "barplot(C[1,], main=\"Department C Admission Rate\",\n",
    "   xlab=\"Gender\", ylab=\"Percent\",col=c(\"firebrick\",\"chocolate\"))\n",
    "text(.67, .2,round(colSums(Data[,,3])[1]/colSums(total)[1],2),cex=2)\n",
    "text(1.89, .18,round(colSums(Data[,,3])[2]/colSums(total)[2],2),cex=2)\n",
    "\n",
    "barplot(D[1,], main=\"Department D Admission Rate\",\n",
    "   xlab=\"Gender\", ylab=\"Percent\",col=c(\"firebrick\",\"chocolate\"))\n",
    "text(.67, .16,round(colSums(Data[,,4])[1]/colSums(total)[1],2),cex=2)\n",
    "text(1.89, .18,round(colSums(Data[,,4])[2]/colSums(total)[2],2),cex=2)\n",
    "\n",
    "barplot(E[1,], main=\"Department E Admission Rate\",\n",
    "   xlab=\"Gender\", ylab=\"Percent\",col=c(\"firebrick\",\"chocolate\"))\n",
    "text(.67, .145,round(colSums(Data[,,5])[1]/colSums(total)[1],2),cex=2)\n",
    "text(1.89, .12,round(colSums(Data[,,5])[2]/colSums(total)[2],2),cex=2)\n",
    "\n",
    "barplot(F[1,], main=\"Department F Admission Rate\",\n",
    "   xlab=\"Gender\", ylab=\"Percent\",col=c(\"firebrick\",\"chocolate\"))\n",
    "text(.67, .03,round(colSums(Data[,,6])[1]/colSums(total)[1],2),cex=2)\n",
    "text(1.89, .035,round(colSums(Data[,,6])[2]/colSums(total)[2],2),cex=2)\n",
    "\n",
    "# Add Annotation to group to explain percents\n",
    "mtext('*Numbers on bars represent percent of respective population applying to department', side=3, line=-26, outer=TRUE, cex=.75)\n",
    "dev.off()"
   ]
  },
  {
   "cell_type": "code",
   "execution_count": 10,
   "metadata": {},
   "outputs": [],
   "source": [
    "# Calculate the percent difference in female admission rate compared to male for each department\n",
    "Percentdiff=matrix(c(((total[1,1]-total[1,2])/total[1,1])*100,((A[1,1]-A[1,2])/A[1,1])*100,((B[1,1]-B[1,2])/B[1,1])*100,((C[1,1]-C[1,2])/C[1,1])*100,((D[1,1]-D[1,2])/D[1,1])*100,((E[1,1]-E[1,2])/E[1,1])*100,((F[1,1]-F[1,2])/F[1,1])*100))"
   ]
  },
  {
   "cell_type": "code",
   "execution_count": 11,
   "metadata": {},
   "outputs": [
    {
     "data": {
      "text/html": [
       "<table>\n",
       "<tbody>\n",
       "\t<tr><td> 53.505843</td></tr>\n",
       "\t<tr><td>-32.785373</td></tr>\n",
       "\t<tr><td> -7.875354</td></tr>\n",
       "\t<tr><td>  7.743114</td></tr>\n",
       "\t<tr><td> -5.559420</td></tr>\n",
       "\t<tr><td> 13.802871</td></tr>\n",
       "\t<tr><td>-19.328179</td></tr>\n",
       "</tbody>\n",
       "</table>\n"
      ],
      "text/latex": [
       "\\begin{tabular}{l}\n",
       "\t  53.505843\\\\\n",
       "\t -32.785373\\\\\n",
       "\t  -7.875354\\\\\n",
       "\t   7.743114\\\\\n",
       "\t  -5.559420\\\\\n",
       "\t  13.802871\\\\\n",
       "\t -19.328179\\\\\n",
       "\\end{tabular}\n"
      ],
      "text/markdown": [
       "\n",
       "|  53.505843 |\n",
       "| -32.785373 |\n",
       "|  -7.875354 |\n",
       "|   7.743114 |\n",
       "|  -5.559420 |\n",
       "|  13.802871 |\n",
       "| -19.328179 |\n",
       "\n"
      ],
      "text/plain": [
       "     [,1]      \n",
       "[1,]  53.505843\n",
       "[2,] -32.785373\n",
       "[3,]  -7.875354\n",
       "[4,]   7.743114\n",
       "[5,]  -5.559420\n",
       "[6,]  13.802871\n",
       "[7,] -19.328179"
      ]
     },
     "metadata": {},
     "output_type": "display_data"
    }
   ],
   "source": [
    "#As I did not include an abosolute value, the percent difference will be positive if more males were accepted, and negative otherwise.\n",
    "Percentdiff\n",
    "# Now that I know which are greater, make a true percent difference\n",
    "truepercent<-t(abs(Percentdiff))"
   ]
  },
  {
   "cell_type": "code",
   "execution_count": 12,
   "metadata": {},
   "outputs": [],
   "source": [
    "#Too many decimals looks bad\n",
    "truepercent<-round(truepercent,2)"
   ]
  },
  {
   "cell_type": "code",
   "execution_count": 13,
   "metadata": {},
   "outputs": [],
   "source": [
    "# Give names to the columns for bar graphs\n",
    "colnames(truepercent) <- c(\"Total\", \"A\", \"B\", \"C\", \"D\", \"E\", \"F\")"
   ]
  },
  {
   "cell_type": "code",
   "execution_count": 14,
   "metadata": {},
   "outputs": [
    {
     "data": {
      "text/html": [
       "<table>\n",
       "<thead><tr><th scope=col>Total</th><th scope=col>A</th><th scope=col>B</th><th scope=col>C</th><th scope=col>D</th><th scope=col>E</th><th scope=col>F</th></tr></thead>\n",
       "<tbody>\n",
       "\t<tr><td>53.51</td><td>32.79</td><td>7.88 </td><td>7.74 </td><td>5.56 </td><td>13.8 </td><td>19.33</td></tr>\n",
       "</tbody>\n",
       "</table>\n"
      ],
      "text/latex": [
       "\\begin{tabular}{lllllll}\n",
       " Total & A & B & C & D & E & F\\\\\n",
       "\\hline\n",
       "\t 53.51 & 32.79 & 7.88  & 7.74  & 5.56  & 13.8  & 19.33\\\\\n",
       "\\end{tabular}\n"
      ],
      "text/markdown": [
       "\n",
       "| Total | A | B | C | D | E | F |\n",
       "|---|---|---|---|---|---|---|\n",
       "| 53.51 | 32.79 | 7.88  | 7.74  | 5.56  | 13.8  | 19.33 |\n",
       "\n"
      ],
      "text/plain": [
       "     Total A     B    C    D    E    F    \n",
       "[1,] 53.51 32.79 7.88 7.74 5.56 13.8 19.33"
      ]
     },
     "metadata": {},
     "output_type": "display_data"
    }
   ],
   "source": [
    "truepercent"
   ]
  },
  {
   "cell_type": "code",
   "execution_count": 15,
   "metadata": {},
   "outputs": [
    {
     "data": {
      "text/html": [
       "<strong>png:</strong> 2"
      ],
      "text/latex": [
       "\\textbf{png:} 2"
      ],
      "text/markdown": [
       "**png:** 2"
      ],
      "text/plain": [
       "png \n",
       "  2 "
      ]
     },
     "metadata": {},
     "output_type": "display_data"
    }
   ],
   "source": [
    "#Create bar chart of percents\n",
    "jpeg(\"Percent Difference Comparison.jpg\")\n",
    "barplot(truepercent[1,], main=\"Admission Rate Percent Difference Per Department\",        \n",
    "   xlab=\"Dapartment\", ylab=\"Percent Difference\",col=c(\"firebrick\",\"chocolate\",\"chocolate\",\"firebrick\",\"chocolate\",\"firebrick\",\"chocolate\"))\n",
    "legend(\"topright\", fill= c(\"firebrick\",\"chocolate\"), c(\"Male Rate Higher\", \"Female Rate Higher\"));\n",
    "dev.off()"
   ]
  },
  {
   "cell_type": "code",
   "execution_count": 2,
   "metadata": {},
   "outputs": [
    {
     "ename": "ERROR",
     "evalue": "Error in nrow(X_train): object 'X_train' not found\n",
     "output_type": "error",
     "traceback": [
      "Error in nrow(X_train): object 'X_train' not found\nTraceback:\n",
      "1. nrow(X_train)"
     ]
    }
   ],
   "source": [
    "c(rep(1,nrow(X_train),X_train))"
   ]
  },
  {
   "cell_type": "code",
   "execution_count": null,
   "metadata": {},
   "outputs": [],
   "source": []
  }
 ],
 "metadata": {
  "kernelspec": {
   "display_name": "R",
   "language": "R",
   "name": "ir"
  },
  "language_info": {
   "codemirror_mode": "r",
   "file_extension": ".r",
   "mimetype": "text/x-r-source",
   "name": "R",
   "pygments_lexer": "r",
   "version": "3.5.2"
  }
 },
 "nbformat": 4,
 "nbformat_minor": 2
}
