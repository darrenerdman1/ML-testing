{
 "cells": [
  {
   "cell_type": "code",
   "execution_count": 21,
   "metadata": {},
   "outputs": [],
   "source": [
    "import numpy as np\n",
    "import matplotlib.pyplot as plt\n",
    "from mpl_toolkits.mplot3d import Axes3D\n",
    "\n",
    "N=3000\n",
    "epochs=200\n",
    "\n",
    "X=np.random.randn(N,1)\n",
    "X.shape=(N,1)\n",
    "\n",
    "phi=np.hstack((np.ones((N,1)),X))\n",
    "\n",
    "b=np.array([[0.1],[0.2]])\n",
    "b=b.reshape((2,1))\n",
    "\n",
    "y= phi@b+0.25*np.random.randn(N,1)"
   ]
  },
  {
   "cell_type": "code",
   "execution_count": 22,
   "metadata": {},
   "outputs": [],
   "source": [
    "w=np.random.randn(2,1)\n",
    "eta=.0001\n",
    "y_hat=phi@w\n",
    "Error=[((y_hat-y).T@(y_hat-y))[0,0]]"
   ]
  },
  {
   "cell_type": "code",
   "execution_count": 23,
   "metadata": {},
   "outputs": [],
   "source": [
    "epoch=[0]\n",
    "for i in range(epochs):\n",
    "    w=w-eta*(phi.T@(y_hat-y))\n",
    "    y_hat=phi@w\n",
    "    Error.append(((y_hat-y).T@(y_hat-y))[0,0])\n",
    "    epoch.append(i+1)"
   ]
  },
  {
   "cell_type": "code",
   "execution_count": 25,
   "metadata": {},
   "outputs": [],
   "source": [
    "Rsquared=1-((y-y_hat).T@(y-y_hat))/((y-y.mean()).T@(y-y.mean()))"
   ]
  },
  {
   "cell_type": "code",
   "execution_count": 26,
   "metadata": {},
   "outputs": [
    {
     "data": {
      "text/plain": [
       "array([[0.39177142]])"
      ]
     },
     "execution_count": 26,
     "metadata": {},
     "output_type": "execute_result"
    }
   ],
   "source": [
    "Rsquared"
   ]
  },
  {
   "cell_type": "code",
   "execution_count": 28,
   "metadata": {},
   "outputs": [],
   "source": [
    "phi=np.hstack((phi,np.random.randn(N,100)))\n",
    "w=np.random.randn(102,1)\n",
    "eta=.0001\n",
    "y_hat=phi@w\n",
    "Error=[((y_hat-y).T@(y_hat-y))[0,0]]"
   ]
  },
  {
   "cell_type": "code",
   "execution_count": 29,
   "metadata": {},
   "outputs": [],
   "source": [
    "epoch=[0]\n",
    "for i in range(epochs):\n",
    "    w=w-eta*(phi.T@(y_hat-y))\n",
    "    y_hat=phi@w\n",
    "    Error.append(((y_hat-y).T@(y_hat-y))[0,0])\n",
    "    epoch.append(i+1)"
   ]
  },
  {
   "cell_type": "code",
   "execution_count": 30,
   "metadata": {},
   "outputs": [],
   "source": [
    "Rsquared=1-((y-y_hat).T@(y-y_hat))/((y-y.mean()).T@(y-y.mean()))"
   ]
  },
  {
   "cell_type": "code",
   "execution_count": 31,
   "metadata": {},
   "outputs": [
    {
     "data": {
      "text/plain": [
       "array([[0.40840708]])"
      ]
     },
     "execution_count": 31,
     "metadata": {},
     "output_type": "execute_result"
    }
   ],
   "source": [
    "Rsquared"
   ]
  },
  {
   "cell_type": "code",
   "execution_count": 37,
   "metadata": {},
   "outputs": [
    {
     "data": {
      "text/plain": [
       "(array([ 1.,  6., 10., 21., 13., 21., 12., 12.,  3.,  0.,  1.,  0.,  0.,\n",
       "         0.,  0.,  0.,  0.,  0.,  0.,  0.,  0.,  0.,  0.,  0.,  0.,  0.,\n",
       "         0.,  0.,  0.,  0.,  0.,  0.,  0.,  0.,  0.,  0.,  0.,  0.,  0.,\n",
       "         0.,  0.,  0.,  0.,  0.,  0.,  0.,  0.,  0.,  0.,  0.,  0.,  1.,\n",
       "         0.,  0.,  0.,  0.,  0.,  0.,  0.,  0.,  0.,  0.,  0.,  0.,  0.,\n",
       "         0.,  0.,  0.,  0.,  0.,  0.,  0.,  0.,  0.,  0.,  0.,  0.,  0.,\n",
       "         0.,  0.,  0.,  0.,  0.,  0.,  0.,  0.,  0.,  0.,  0.,  0.,  0.,\n",
       "         0.,  0.,  0.,  0.,  0.,  0.,  0.,  0.,  1.]),\n",
       " array([-1.03701069e-02, -8.27749276e-03, -6.18487859e-03, -4.09226443e-03,\n",
       "        -1.99965027e-03,  9.29638924e-05,  2.18557805e-03,  4.27819222e-03,\n",
       "         6.37080638e-03,  8.46342054e-03,  1.05560347e-02,  1.26486489e-02,\n",
       "         1.47412630e-02,  1.68338772e-02,  1.89264913e-02,  2.10191055e-02,\n",
       "         2.31117197e-02,  2.52043338e-02,  2.72969480e-02,  2.93895622e-02,\n",
       "         3.14821763e-02,  3.35747905e-02,  3.56674046e-02,  3.77600188e-02,\n",
       "         3.98526330e-02,  4.19452471e-02,  4.40378613e-02,  4.61304755e-02,\n",
       "         4.82230896e-02,  5.03157038e-02,  5.24083179e-02,  5.45009321e-02,\n",
       "         5.65935463e-02,  5.86861604e-02,  6.07787746e-02,  6.28713887e-02,\n",
       "         6.49640029e-02,  6.70566171e-02,  6.91492312e-02,  7.12418454e-02,\n",
       "         7.33344596e-02,  7.54270737e-02,  7.75196879e-02,  7.96123020e-02,\n",
       "         8.17049162e-02,  8.37975304e-02,  8.58901445e-02,  8.79827587e-02,\n",
       "         9.00753729e-02,  9.21679870e-02,  9.42606012e-02,  9.63532153e-02,\n",
       "         9.84458295e-02,  1.00538444e-01,  1.02631058e-01,  1.04723672e-01,\n",
       "         1.06816286e-01,  1.08908900e-01,  1.11001514e-01,  1.13094129e-01,\n",
       "         1.15186743e-01,  1.17279357e-01,  1.19371971e-01,  1.21464585e-01,\n",
       "         1.23557199e-01,  1.25649814e-01,  1.27742428e-01,  1.29835042e-01,\n",
       "         1.31927656e-01,  1.34020270e-01,  1.36112884e-01,  1.38205499e-01,\n",
       "         1.40298113e-01,  1.42390727e-01,  1.44483341e-01,  1.46575955e-01,\n",
       "         1.48668569e-01,  1.50761184e-01,  1.52853798e-01,  1.54946412e-01,\n",
       "         1.57039026e-01,  1.59131640e-01,  1.61224254e-01,  1.63316869e-01,\n",
       "         1.65409483e-01,  1.67502097e-01,  1.69594711e-01,  1.71687325e-01,\n",
       "         1.73779939e-01,  1.75872553e-01,  1.77965168e-01,  1.80057782e-01,\n",
       "         1.82150396e-01,  1.84243010e-01,  1.86335624e-01,  1.88428238e-01,\n",
       "         1.90520853e-01,  1.92613467e-01,  1.94706081e-01,  1.96798695e-01,\n",
       "         1.98891309e-01]),\n",
       " <a list of 100 Patch objects>)"
      ]
     },
     "execution_count": 37,
     "metadata": {},
     "output_type": "execute_result"
    },
    {
     "data": {
      "image/png": "[encoded data removed]",
      "text/plain": [
       "<Figure size 432x288 with 1 Axes>"
      ]
     },
     "metadata": {
      "needs_background": "light"
     },
     "output_type": "display_data"
    }
   ],
   "source": [
    "plt.hist(w, bins=100)"
   ]
  },
  {
   "cell_type": "code",
   "execution_count": 47,
   "metadata": {},
   "outputs": [],
   "source": [
    "N=3000\n",
    "epochs=200\n",
    "\n",
    "X=np.random.randn(N,500)\n",
    "X.shape=(N,500)\n",
    "\n",
    "phi=np.hstack((np.ones((N,1)),X))\n",
    "\n",
    "b=np.array([[0.1],[0.2],[0.3],[0.4]]+[[0]]*497)\n",
    "b=b.reshape((501,1))\n",
    "\n",
    "y= phi@b+0.25*np.random.randn(N,1)"
   ]
  },
  {
   "cell_type": "code",
   "execution_count": 48,
   "metadata": {},
   "outputs": [],
   "source": [
    "w=np.random.randn(501,1)\n",
    "\n",
    "eta=.0001\n",
    "\n",
    "y_hat=phi@w\n",
    "\n",
    "Error=[((y_hat-y).T@(y_hat-y))[0,0]]\n"
   ]
  },
  {
   "cell_type": "code",
   "execution_count": 49,
   "metadata": {},
   "outputs": [],
   "source": [
    "epoch=[0]\n",
    "for i in range(epochs):\n",
    "    w=w-eta*(phi.T@(y_hat-y))\n",
    "    y_hat=phi@w\n",
    "    Error.append(((y_hat-y).T@(y_hat-y))[0,0])\n",
    "    epoch.append(i+1)"
   ]
  },
  {
   "cell_type": "code",
   "execution_count": 54,
   "metadata": {},
   "outputs": [
    {
     "data": {
      "image/png": "[encoded data removed]",
      "text/plain": [
       "<Figure size 432x288 with 1 Axes>"
      ]
     },
     "metadata": {
      "needs_background": "light"
     },
     "output_type": "display_data"
    }
   ],
   "source": [
    "plt.hist(w, bins=500)\n",
    "plt.show()"
   ]
  },
  {
   "cell_type": "code",
   "execution_count": 99,
   "metadata": {},
   "outputs": [],
   "source": [
    "w=np.random.randn(501,1)\n",
    "eta=.0001\n",
    "y_hat=phi@w\n",
    "Error=[((y_hat-y).T@(y_hat-y))[0,0]]\n",
    "lam=.001"
   ]
  },
  {
   "cell_type": "code",
   "execution_count": 100,
   "metadata": {},
   "outputs": [],
   "source": [
    "epoch=[0]\n",
    "for i in range(epochs):\n",
    "    w=w-eta*(phi.T@(y_hat-y))-lam*np.sign(w)\n",
    "    y_hat=phi@w\n",
    "    Error.append(((y_hat-y).T@(y_hat-y))[0,0])\n",
    "    epoch.append(i+1)\n"
   ]
  },
  {
   "cell_type": "code",
   "execution_count": 101,
   "metadata": {},
   "outputs": [
    {
     "data": {
      "image/png": "[encoded data removed]",
      "text/plain": [
       "<Figure size 432x288 with 1 Axes>"
      ]
     },
     "metadata": {
      "needs_background": "light"
     },
     "output_type": "display_data"
    }
   ],
   "source": [
    "plt.hist(w, bins=500)\n",
    "plt.show()"
   ]
  },
  {
   "cell_type": "code",
   "execution_count": 121,
   "metadata": {},
   "outputs": [],
   "source": [
    "w=np.random.randn(501,1)\n",
    "eta=.0001\n",
    "y_hat=phi@w\n",
    "Error=[((y_hat-y).T@(y_hat-y))[0,0]]\n",
    "lam=.05"
   ]
  },
  {
   "cell_type": "code",
   "execution_count": 122,
   "metadata": {},
   "outputs": [],
   "source": [
    "epoch=[0]\n",
    "for i in range(epochs):\n",
    "    w=w-eta*(phi.T@(y_hat-y))-lam*w\n",
    "    y_hat=phi@w\n",
    "    Error.append(((y_hat-y).T@(y_hat-y))[0,0])\n",
    "    epoch.append(i+1)"
   ]
  },
  {
   "cell_type": "code",
   "execution_count": 123,
   "metadata": {},
   "outputs": [
    {
     "data": {
      "image/png": "[encoded data removed]",
      "text/plain": [
       "<Figure size 432x288 with 1 Axes>"
      ]
     },
     "metadata": {
      "needs_background": "light"
     },
     "output_type": "display_data"
    }
   ],
   "source": [
    "plt.hist(w, bins=500)\n",
    "plt.show()"
   ]
  },
  {
   "cell_type": "code",
   "execution_count": null,
   "metadata": {},
   "outputs": [],
   "source": []
  }
 ],
 "metadata": {
  "kernelspec": {
   "display_name": "Python 3",
   "language": "python",
   "name": "python3"
  },
  "language_info": {
   "codemirror_mode": {
    "name": "ipython",
    "version": 3
   },
   "file_extension": ".py",
   "mimetype": "text/x-python",
   "name": "python",
   "nbconvert_exporter": "python",
   "pygments_lexer": "ipython3",
   "version": "3.7.1"
  }
 },
 "nbformat": 4,
 "nbformat_minor": 2
}
