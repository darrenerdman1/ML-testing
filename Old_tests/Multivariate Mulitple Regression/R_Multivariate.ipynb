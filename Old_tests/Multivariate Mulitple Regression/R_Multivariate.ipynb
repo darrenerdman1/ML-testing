{
 "cells": [
  {
   "cell_type": "code",
   "execution_count": 4,
   "metadata": {},
   "outputs": [],
   "source": [
    "data<-read.csv(\"Forces3.csv\")"
   ]
  },
  {
   "cell_type": "code",
   "execution_count": 4,
   "metadata": {},
   "outputs": [
    {
     "data": {
      "text/html": [
       "<table>\n",
       "<thead><tr><th scope=col>predictor</th><th scope=col>predictor.1</th><th scope=col>predictor.2</th><th scope=col>predictor.3</th><th scope=col>predictor.4</th></tr></thead>\n",
       "<tbody>\n",
       "\t<tr><td>3.0990676</td><td>30.31381 </td><td>174.9512 </td><td> 8       </td><td>301.3000 </td></tr>\n",
       "\t<tr><td>1.6074460</td><td>17.83223 </td><td>212.2065 </td><td>99       </td><td>375.8420 </td></tr>\n",
       "\t<tr><td>4.8223026</td><td>39.69040 </td><td>199.9276 </td><td>15       </td><td>151.1736 </td></tr>\n",
       "\t<tr><td>0.6624255</td><td>65.08108 </td><td>175.8600 </td><td> 8       </td><td>242.8898 </td></tr>\n",
       "\t<tr><td>1.5118722</td><td>78.65205 </td><td>131.7224 </td><td> 9       </td><td>250.1637 </td></tr>\n",
       "</tbody>\n",
       "</table>\n"
      ],
      "text/latex": [
       "\\begin{tabular}{r|lllll}\n",
       " predictor & predictor.1 & predictor.2 & predictor.3 & predictor.4\\\\\n",
       "\\hline\n",
       "\t 3.0990676 & 30.31381  & 174.9512  &  8        & 301.3000 \\\\\n",
       "\t 1.6074460 & 17.83223  & 212.2065  & 99        & 375.8420 \\\\\n",
       "\t 4.8223026 & 39.69040  & 199.9276  & 15        & 151.1736 \\\\\n",
       "\t 0.6624255 & 65.08108  & 175.8600  &  8        & 242.8898 \\\\\n",
       "\t 1.5118722 & 78.65205  & 131.7224  &  9        & 250.1637 \\\\\n",
       "\\end{tabular}\n"
      ],
      "text/markdown": [
       "\n",
       "| predictor | predictor.1 | predictor.2 | predictor.3 | predictor.4 |\n",
       "|---|---|---|---|---|\n",
       "| 3.0990676 | 30.31381  | 174.9512  |  8        | 301.3000  |\n",
       "| 1.6074460 | 17.83223  | 212.2065  | 99        | 375.8420  |\n",
       "| 4.8223026 | 39.69040  | 199.9276  | 15        | 151.1736  |\n",
       "| 0.6624255 | 65.08108  | 175.8600  |  8        | 242.8898  |\n",
       "| 1.5118722 | 78.65205  | 131.7224  |  9        | 250.1637  |\n",
       "\n"
      ],
      "text/plain": [
       "  predictor predictor.1 predictor.2 predictor.3 predictor.4\n",
       "1 3.0990676 30.31381    174.9512     8          301.3000   \n",
       "2 1.6074460 17.83223    212.2065    99          375.8420   \n",
       "3 4.8223026 39.69040    199.9276    15          151.1736   \n",
       "4 0.6624255 65.08108    175.8600     8          242.8898   \n",
       "5 1.5118722 78.65205    131.7224     9          250.1637   "
      ]
     },
     "metadata": {},
     "output_type": "display_data"
    }
   ],
   "source": [
    "#Check for categorical data. The 3th and 96th columns are categorical\n",
    "data[1:5,1:5]"
   ]
  },
  {
   "cell_type": "code",
   "execution_count": 675,
   "metadata": {},
   "outputs": [
    {
     "data": {
      "text/html": [
       "<strong>png:</strong> 2"
      ],
      "text/latex": [
       "\\textbf{png:} 2"
      ],
      "text/markdown": [
       "**png:** 2"
      ],
      "text/plain": [
       "png \n",
       "  2 "
      ]
     },
     "metadata": {},
     "output_type": "display_data"
    }
   ],
   "source": [
    "#Graphing the data, it looks like they are linear or quadratic, with large standard deviation\n",
    "jpeg(\"all_data.jpg\", width=900, height=30000, res=120)\n",
    "par(mfrow=c(96,3),mar = rep(2, 4))\n",
    "for (i in (1:3)){\n",
    "    for (j in (1:96)){\n",
    "        plot(data[,j],data[,96+i])\n",
    "    }\n",
    "}\n",
    "dev.off()"
   ]
  },
  {
   "cell_type": "code",
   "execution_count": 28,
   "metadata": {},
   "outputs": [],
   "source": [
    "#Shuffle rows before separation into x and y\n",
    "data<- data[sample(nrow(data)),]"
   ]
  },
  {
   "cell_type": "code",
   "execution_count": 29,
   "metadata": {},
   "outputs": [],
   "source": [
    "#Seperate\n",
    "X_data=data[-c(97:99)]\n",
    "y_data=data[c(97:99)]"
   ]
  },
  {
   "cell_type": "code",
   "execution_count": 30,
   "metadata": {},
   "outputs": [],
   "source": [
    "#A little bit of stack overflow borrowing, the model.moatrix \n",
    "#line returns on hot encoded columns for things that are factors\n",
    "ohe_cols<-function(x){\n",
    "     xf=factor(x)\n",
    "     return(model.matrix(~xf+0))\n",
    "}"
   ]
  },
  {
   "cell_type": "code",
   "execution_count": 31,
   "metadata": {},
   "outputs": [],
   "source": [
    "#One hot encodes specified columns of data, using above function\n",
    "ohe_matrix<-function(X,cols){\n",
    "    X<-cbind(X,lapply(X[cols], ohe_cols))\n",
    "    X<-X[-cols]\n",
    "    return(X)\n",
    "}"
   ]
  },
  {
   "cell_type": "code",
   "execution_count": 32,
   "metadata": {},
   "outputs": [],
   "source": [
    "#Apply oh encoder to the data \n",
    "cols=c(4,96)\n",
    "X_data<-ohe_matrix(X_data, cols)"
   ]
  },
  {
   "cell_type": "code",
   "execution_count": 33,
   "metadata": {},
   "outputs": [],
   "source": [
    "X_train<-X_data[1:(nrow(X_data)/100*70),]\n",
    "y_train<-y_data[1:(nrow(y_data)/100*70),]"
   ]
  },
  {
   "cell_type": "code",
   "execution_count": 34,
   "metadata": {},
   "outputs": [
    {
     "data": {
      "text/html": [
       "19401"
      ],
      "text/latex": [
       "19401"
      ],
      "text/markdown": [
       "19401"
      ],
      "text/plain": [
       "[1] 19401"
      ]
     },
     "metadata": {},
     "output_type": "display_data"
    }
   ],
   "source": [
    "nrow(y_data)/100*85-nrow(X_data)/100*70"
   ]
  },
  {
   "cell_type": "code",
   "execution_count": 35,
   "metadata": {},
   "outputs": [],
   "source": [
    "X_val<-X_data[(nrow(X_data)/100*70):(nrow(X_data)/100*85),]\n",
    "y_val<-y_data[(nrow(y_data)/100*70):(nrow(X_data)/100*85),]\n",
    "X_test<-X_data[(nrow(X_data)/100*85):(nrow(X_data)),]\n",
    "y_test<-y_data[(nrow(y_data)/100*85):(nrow(X_data)),]"
   ]
  },
  {
   "cell_type": "code",
   "execution_count": 36,
   "metadata": {},
   "outputs": [],
   "source": [
    "#Clear some unused variables\n",
    "rm(X_data)\n",
    "rm(y_data)"
   ]
  },
  {
   "cell_type": "code",
   "execution_count": 37,
   "metadata": {},
   "outputs": [],
   "source": [
    "#Calculate values for normalization\n",
    "# X_tr_mean<-lapply(X_train,mean)\n",
    "# X_tr_std<-lapply(X_train, sd)\n",
    "# y_tr_mean<-lapply(y_train,mean)\n",
    "# y_tr_std<-lapply(y_train, sd)"
   ]
  },
  {
   "cell_type": "code",
   "execution_count": 38,
   "metadata": {},
   "outputs": [],
   "source": [
    "#Normalize X\n",
    "# X_tr_norm<-(X_train-X_tr_mean)/X_tr_std\n",
    "# X_val_norm<-(X_val-X_tr_mean)/X_tr_std\n",
    "# X_test_norm<-(X_test-X_tr_mean)/X_tr_std"
   ]
  },
  {
   "cell_type": "code",
   "execution_count": 39,
   "metadata": {},
   "outputs": [],
   "source": [
    "#Normalize y\n",
    "# y_tr_norm<-(y_train-y_tr_mean)/y_tr_std\n",
    "# y_val_norm<-(y_val-y_tr_mean)/y_tr_std\n",
    "# y_test_norm<-(y_test-y_tr_mean)/y_tr_std"
   ]
  },
  {
   "cell_type": "code",
   "execution_count": 40,
   "metadata": {},
   "outputs": [],
   "source": [
    "#Min max normalize\n",
    "norm<-function(X,X_tr){\n",
    "    for(i in 1:ncol(X)){\n",
    "        X[,i]<-(X[,i] - min(X_tr[,i]))/(\n",
    "        max(X_tr[,i]) - min(X_tr[,i]))\n",
    "    }\n",
    "    return(X)\n",
    "}"
   ]
  },
  {
   "cell_type": "code",
   "execution_count": 41,
   "metadata": {},
   "outputs": [],
   "source": [
    "X_tr_norm<-norm(X_train,X_train)\n",
    "X_val_norm<-norm(X_val,X_train)\n",
    "X_test_norm<-norm(X_test,X_train)\n",
    "\n",
    "y_tr_norm<-norm(y_train,y_train)\n",
    "y_val_norm<-norm(y_val,y_train)\n",
    "y_test_norm<-norm(y_test,y_train)"
   ]
  },
  {
   "cell_type": "code",
   "execution_count": 599,
   "metadata": {},
   "outputs": [
    {
     "data": {
      "text/html": [
       "<table>\n",
       "<thead><tr><th></th><th scope=col>response</th><th scope=col>response.1</th><th scope=col>response.2</th></tr></thead>\n",
       "<tbody>\n",
       "\t<tr><th scope=row>118403</th><td>0.6036853</td><td>0.5568676</td><td>0.4806422</td></tr>\n",
       "\t<tr><th scope=row>92666</th><td>0.6406169</td><td>0.7058998</td><td>0.7467189</td></tr>\n",
       "\t<tr><th scope=row>65216</th><td>0.5619569</td><td>0.4436591</td><td>0.4224803</td></tr>\n",
       "\t<tr><th scope=row>84384</th><td>0.7388923</td><td>0.5129699</td><td>0.7289530</td></tr>\n",
       "\t<tr><th scope=row>45378</th><td>0.3224972</td><td>0.4131426</td><td>0.2542345</td></tr>\n",
       "</tbody>\n",
       "</table>\n"
      ],
      "text/latex": [
       "\\begin{tabular}{r|lll}\n",
       "  & response & response.1 & response.2\\\\\n",
       "\\hline\n",
       "\t118403 & 0.6036853 & 0.5568676 & 0.4806422\\\\\n",
       "\t92666 & 0.6406169 & 0.7058998 & 0.7467189\\\\\n",
       "\t65216 & 0.5619569 & 0.4436591 & 0.4224803\\\\\n",
       "\t84384 & 0.7388923 & 0.5129699 & 0.7289530\\\\\n",
       "\t45378 & 0.3224972 & 0.4131426 & 0.2542345\\\\\n",
       "\\end{tabular}\n"
      ],
      "text/markdown": [
       "\n",
       "| <!--/--> | response | response.1 | response.2 |\n",
       "|---|---|---|---|\n",
       "| 118403 | 0.6036853 | 0.5568676 | 0.4806422 |\n",
       "| 92666 | 0.6406169 | 0.7058998 | 0.7467189 |\n",
       "| 65216 | 0.5619569 | 0.4436591 | 0.4224803 |\n",
       "| 84384 | 0.7388923 | 0.5129699 | 0.7289530 |\n",
       "| 45378 | 0.3224972 | 0.4131426 | 0.2542345 |\n",
       "\n"
      ],
      "text/plain": [
       "       response  response.1 response.2\n",
       "118403 0.6036853 0.5568676  0.4806422 \n",
       "92666  0.6406169 0.7058998  0.7467189 \n",
       "65216  0.5619569 0.4436591  0.4224803 \n",
       "84384  0.7388923 0.5129699  0.7289530 \n",
       "45378  0.3224972 0.4131426  0.2542345 "
      ]
     },
     "metadata": {},
     "output_type": "display_data"
    }
   ],
   "source": [
    "y_test_norm[1:5,]"
   ]
  },
  {
   "cell_type": "code",
   "execution_count": 600,
   "metadata": {},
   "outputs": [
    {
     "data": {
      "text/html": [
       "<table>\n",
       "<thead><tr><th></th><th scope=col>response</th><th scope=col>response.1</th><th scope=col>response.2</th></tr></thead>\n",
       "<tbody>\n",
       "\t<tr><th scope=row>115139</th><td>0.4208987</td><td>0.4213394</td><td>0.4376924</td></tr>\n",
       "\t<tr><th scope=row>124073</th><td>0.3329612</td><td>0.4139647</td><td>0.3457655</td></tr>\n",
       "\t<tr><th scope=row>391</th><td>0.5814604</td><td>0.6142003</td><td>0.4809413</td></tr>\n",
       "\t<tr><th scope=row>118582</th><td>0.5601739</td><td>0.4667882</td><td>0.6768027</td></tr>\n",
       "\t<tr><th scope=row>103396</th><td>0.6301235</td><td>0.7124208</td><td>0.7679458</td></tr>\n",
       "</tbody>\n",
       "</table>\n"
      ],
      "text/latex": [
       "\\begin{tabular}{r|lll}\n",
       "  & response & response.1 & response.2\\\\\n",
       "\\hline\n",
       "\t115139 & 0.4208987 & 0.4213394 & 0.4376924\\\\\n",
       "\t124073 & 0.3329612 & 0.4139647 & 0.3457655\\\\\n",
       "\t391 & 0.5814604 & 0.6142003 & 0.4809413\\\\\n",
       "\t118582 & 0.5601739 & 0.4667882 & 0.6768027\\\\\n",
       "\t103396 & 0.6301235 & 0.7124208 & 0.7679458\\\\\n",
       "\\end{tabular}\n"
      ],
      "text/markdown": [
       "\n",
       "| <!--/--> | response | response.1 | response.2 |\n",
       "|---|---|---|---|\n",
       "| 115139 | 0.4208987 | 0.4213394 | 0.4376924 |\n",
       "| 124073 | 0.3329612 | 0.4139647 | 0.3457655 |\n",
       "| 391 | 0.5814604 | 0.6142003 | 0.4809413 |\n",
       "| 118582 | 0.5601739 | 0.4667882 | 0.6768027 |\n",
       "| 103396 | 0.6301235 | 0.7124208 | 0.7679458 |\n",
       "\n"
      ],
      "text/plain": [
       "       response  response.1 response.2\n",
       "115139 0.4208987 0.4213394  0.4376924 \n",
       "124073 0.3329612 0.4139647  0.3457655 \n",
       "391    0.5814604 0.6142003  0.4809413 \n",
       "118582 0.5601739 0.4667882  0.6768027 \n",
       "103396 0.6301235 0.7124208  0.7679458 "
      ]
     },
     "metadata": {},
     "output_type": "display_data"
    }
   ],
   "source": [
    "y_val_norm[1:5,]"
   ]
  },
  {
   "cell_type": "code",
   "execution_count": 42,
   "metadata": {},
   "outputs": [],
   "source": [
    "#Make phi\n",
    "phi_transform<-function(X){\n",
    "    phi<-cbind(bias=rep(1,nrow(X)),X)\n",
    "    return(phi)\n",
    "}"
   ]
  },
  {
   "cell_type": "code",
   "execution_count": 43,
   "metadata": {},
   "outputs": [],
   "source": [
    "#Clean out unused variables again. Probably not necessary, but the data set is reasonably large\n",
    "rm(X_train)\n",
    "rm(y_train)\n",
    "rm(X_val)\n",
    "rm(y_val)\n",
    "rm(X_test)\n",
    "rm(y_test)"
   ]
  },
  {
   "cell_type": "code",
   "execution_count": 44,
   "metadata": {},
   "outputs": [],
   "source": [
    "X_tr_norm<-as.matrix(X_tr_norm)\n",
    "X_val_norm<-as.matrix(X_val_norm)\n",
    "X_test_norm<-as.matrix(X_test_norm)\n",
    "y_tr_norm<-as.matrix(y_tr_norm)\n",
    "y_val_norm<-as.matrix(y_val_norm)\n",
    "y_test_norm<-as.matrix(y_test_norm)"
   ]
  },
  {
   "cell_type": "code",
   "execution_count": 45,
   "metadata": {},
   "outputs": [],
   "source": [
    "#Create phis for test train validate\n",
    "phi_tr<-phi_transform(X_tr_norm)\n",
    "phi_val<-phi_transform(X_val_norm)\n",
    "phi_test<-phi_transform(X_test_norm)"
   ]
  },
  {
   "cell_type": "code",
   "execution_count": 309,
   "metadata": {},
   "outputs": [],
   "source": [
    "errbest<-10000000"
   ]
  },
  {
   "cell_type": "code",
   "execution_count": 310,
   "metadata": {},
   "outputs": [],
   "source": [
    "w<-matrix(rnorm(ncol(y_tr_norm)*ncol(phi_tr)),ncol(phi_tr),ncol(y_tr_norm))\n",
    "w_best<-w"
   ]
  },
  {
   "cell_type": "code",
   "execution_count": 613,
   "metadata": {},
   "outputs": [],
   "source": [
    "#Set the number of epochs\n",
    "epochs<-20"
   ]
  },
  {
   "cell_type": "code",
   "execution_count": 644,
   "metadata": {},
   "outputs": [],
   "source": [
    "#Initialize w and set hyper parameters\n",
    "error<-c()\n",
    "epoch<-c()\n",
    "eta<-0.0000004\n",
    "lam1<-.00001\n",
    "lam2<-.001\n",
    "w<-w_best\n",
    "for (i in 1:epochs){\n",
    "    #calculate error on validation set\n",
    "    y_hat_val<-phi_val%*%w\n",
    "    error<-c(error,sum(diag(t(y_val_norm-y_hat_val)%*%(y_val_norm-y_hat_val))))\n",
    "    epoch<-c(epoch,i)\n",
    "    if (error[i]<errbest){\n",
    "        errbest<-error[i]\n",
    "#        print(\"Best Error Updated\")\n",
    "        w_best<-w\n",
    "        }\n",
    "    #Calculate new w using training set\n",
    "    y_hat_tr<-phi_tr%*%w\n",
    "    w<-w-eta*(t(phi_tr)%*%(y_hat_tr-y_tr_norm))-lam1*sign(w)-lam2*w\n",
    "    }"
   ]
  },
  {
   "cell_type": "code",
   "execution_count": 583,
   "metadata": {},
   "outputs": [],
   "source": [
    "write.csv(w_best,\"Xw_best.csv\")"
   ]
  },
  {
   "cell_type": "code",
   "execution_count": 26,
   "metadata": {},
   "outputs": [],
   "source": [
    "w_best<-as.matrix(read.csv(\"Xw_best.csv\", header = TRUE))[,2:4]\n",
    "w_best<-apply(w_best, 2, as.numeric)"
   ]
  },
  {
   "cell_type": "code",
   "execution_count": 46,
   "metadata": {},
   "outputs": [
    {
     "data": {
      "text/html": [
       "50.2762089067382"
      ],
      "text/latex": [
       "50.2762089067382"
      ],
      "text/markdown": [
       "50.2762089067382"
      ],
      "text/plain": [
       "[1] 50.27621"
      ]
     },
     "metadata": {},
     "output_type": "display_data"
    }
   ],
   "source": [
    "y_hat_test<-phi_test%*%w_best\n",
    "sum(diag(t(y_test_norm-y_hat_test)%*%(y_test_norm-y_hat_test)))"
   ]
  },
  {
   "cell_type": "code",
   "execution_count": 57,
   "metadata": {},
   "outputs": [
    {
     "data": {
      "text/html": [
       "<strong>png:</strong> 2"
      ],
      "text/latex": [
       "\\textbf{png:} 2"
      ],
      "text/markdown": [
       "**png:** 2"
      ],
      "text/plain": [
       "png \n",
       "  2 "
      ]
     },
     "metadata": {},
     "output_type": "display_data"
    }
   ],
   "source": [
    "jpeg(\"Categorical_Example.jpg\")\n",
    "par(mfrow=c(2,1))\n",
    "plot(data[,4],data[,97], xlab=\"predictor.3\", ylab=\"response\", col=\"blue\", cex.axis=2,cex.lab=2)\n",
    "plot(data[,96],data[,97], xlab=\"predictor.95\", ylab=\"response\", col=\"blue\",cex.axis=2,cex.lab=2)\n",
    "dev.off()"
   ]
  },
  {
   "cell_type": "code",
   "execution_count": 22,
   "metadata": {},
   "outputs": [
    {
     "data": {
      "text/html": [
       "<strong>png:</strong> 2"
      ],
      "text/latex": [
       "\\textbf{png:} 2"
      ],
      "text/markdown": [
       "**png:** 2"
      ],
      "text/plain": [
       "png \n",
       "  2 "
      ]
     },
     "metadata": {},
     "output_type": "display_data"
    }
   ],
   "source": [
    "jpeg(\"Linear_response.jpg\")\n",
    "plot(data[,3],data[,97], xlab=\"predictor.3\", ylab=\"response\", col=\"blue\", cex.axis=2,cex.lab=2)\n",
    "lines(data[,3], rep(2650000, length(data[,3])), col=\"red\", lwd=5)\n",
    "dev.off()"
   ]
  },
  {
   "cell_type": "code",
   "execution_count": 5,
   "metadata": {},
   "outputs": [],
   "source": [
    "x_sq<-data[,18]**2"
   ]
  },
  {
   "cell_type": "code",
   "execution_count": 23,
   "metadata": {},
   "outputs": [
    {
     "data": {
      "text/html": [
       "<strong>png:</strong> 2"
      ],
      "text/latex": [
       "\\textbf{png:} 2"
      ],
      "text/markdown": [
       "**png:** 2"
      ],
      "text/plain": [
       "png \n",
       "  2 "
      ]
     },
     "metadata": {},
     "output_type": "display_data"
    }
   ],
   "source": [
    "jpeg(\"Quadratic_esponse.jpg\")\n",
    "plot(data[,18],data[,97],xlab=\"predictor.17\",ylab=\"response\", col=\"blue\", cex.axis=2,cex.lab=2)\n",
    "lines(data[,18],2600000+ x_sq, col=\"red\", lwd=4)\n",
    "dev.off()"
   ]
  },
  {
   "cell_type": "code",
   "execution_count": null,
   "metadata": {},
   "outputs": [],
   "source": []
  },
  {
   "cell_type": "code",
   "execution_count": 56,
   "metadata": {},
   "outputs": [
    {
     "data": {
      "text/html": [
       "<strong>png:</strong> 2"
      ],
      "text/latex": [
       "\\textbf{png:} 2"
      ],
      "text/markdown": [
       "**png:** 2"
      ],
      "text/plain": [
       "png \n",
       "  2 "
      ]
     },
     "metadata": {},
     "output_type": "display_data"
    }
   ],
   "source": [
    "jpeg(\"results.jpg\")\n",
    "par(mar=c(5,5,5,5))\n",
    "plot(y_test_norm[,1],y_hat_test[,1], xlab=\"Actual response\", ylab=\"Predicted response\", col=\"blue\", cex.axis=2,cex.lab=2)\n",
    "lines(y_test_norm[,1],y_test_norm[,1], col=\"red\", lwd=4)\n",
    "dev.off()"
   ]
  },
  {
   "cell_type": "code",
   "execution_count": null,
   "metadata": {},
   "outputs": [],
   "source": []
  }
 ],
 "metadata": {
  "kernelspec": {
   "display_name": "R",
   "language": "R",
   "name": "ir"
  },
  "language_info": {
   "codemirror_mode": "r",
   "file_extension": ".r",
   "mimetype": "text/x-r-source",
   "name": "R",
   "pygments_lexer": "r",
   "version": "3.5.2"
  }
 },
 "nbformat": 4,
 "nbformat_minor": 2
}
