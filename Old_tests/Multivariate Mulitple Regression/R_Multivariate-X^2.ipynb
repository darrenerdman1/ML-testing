{
 "cells": [
  {
   "cell_type": "code",
   "execution_count": 1,
   "metadata": {},
   "outputs": [],
   "source": [
    "data<-read.csv(\"Forces3.csv\")"
   ]
  },
  {
   "cell_type": "code",
   "execution_count": 2,
   "metadata": {},
   "outputs": [
    {
     "data": {
      "text/html": [
       "<table>\n",
       "<thead><tr><th scope=col>predictor</th><th scope=col>predictor.1</th><th scope=col>predictor.2</th><th scope=col>predictor.3</th><th scope=col>predictor.4</th></tr></thead>\n",
       "<tbody>\n",
       "\t<tr><td>3.0990676</td><td>30.31381 </td><td>174.9512 </td><td> 8       </td><td>301.3000 </td></tr>\n",
       "\t<tr><td>1.6074460</td><td>17.83223 </td><td>212.2065 </td><td>99       </td><td>375.8420 </td></tr>\n",
       "\t<tr><td>4.8223026</td><td>39.69040 </td><td>199.9276 </td><td>15       </td><td>151.1736 </td></tr>\n",
       "\t<tr><td>0.6624255</td><td>65.08108 </td><td>175.8600 </td><td> 8       </td><td>242.8898 </td></tr>\n",
       "\t<tr><td>1.5118722</td><td>78.65205 </td><td>131.7224 </td><td> 9       </td><td>250.1637 </td></tr>\n",
       "</tbody>\n",
       "</table>\n"
      ],
      "text/latex": [
       "\\begin{tabular}{r|lllll}\n",
       " predictor & predictor.1 & predictor.2 & predictor.3 & predictor.4\\\\\n",
       "\\hline\n",
       "\t 3.0990676 & 30.31381  & 174.9512  &  8        & 301.3000 \\\\\n",
       "\t 1.6074460 & 17.83223  & 212.2065  & 99        & 375.8420 \\\\\n",
       "\t 4.8223026 & 39.69040  & 199.9276  & 15        & 151.1736 \\\\\n",
       "\t 0.6624255 & 65.08108  & 175.8600  &  8        & 242.8898 \\\\\n",
       "\t 1.5118722 & 78.65205  & 131.7224  &  9        & 250.1637 \\\\\n",
       "\\end{tabular}\n"
      ],
      "text/markdown": [
       "\n",
       "| predictor | predictor.1 | predictor.2 | predictor.3 | predictor.4 |\n",
       "|---|---|---|---|---|\n",
       "| 3.0990676 | 30.31381  | 174.9512  |  8        | 301.3000  |\n",
       "| 1.6074460 | 17.83223  | 212.2065  | 99        | 375.8420  |\n",
       "| 4.8223026 | 39.69040  | 199.9276  | 15        | 151.1736  |\n",
       "| 0.6624255 | 65.08108  | 175.8600  |  8        | 242.8898  |\n",
       "| 1.5118722 | 78.65205  | 131.7224  |  9        | 250.1637  |\n",
       "\n"
      ],
      "text/plain": [
       "  predictor predictor.1 predictor.2 predictor.3 predictor.4\n",
       "1 3.0990676 30.31381    174.9512     8          301.3000   \n",
       "2 1.6074460 17.83223    212.2065    99          375.8420   \n",
       "3 4.8223026 39.69040    199.9276    15          151.1736   \n",
       "4 0.6624255 65.08108    175.8600     8          242.8898   \n",
       "5 1.5118722 78.65205    131.7224     9          250.1637   "
      ]
     },
     "metadata": {},
     "output_type": "display_data"
    }
   ],
   "source": [
    "#Check for categorical data. The 3th and 96th columns are categorical\n",
    "data[1:5,1:5]"
   ]
  },
  {
   "cell_type": "code",
   "execution_count": 3,
   "metadata": {},
   "outputs": [],
   "source": [
    "#Graphing the data, it looks like they are linear or quadratic, with large standard deviation\n",
    "# jpeg(\"all_data.jpg\", width=900, height=30000, res=120)\n",
    "# par(mfrow=c(96,3),mar = rep(2, 4))\n",
    "# for (i in (1:3)){\n",
    "#     for (j in (1:96)){\n",
    "#         plot(data[,j],data[,96+i])\n",
    "#     }\n",
    "# }\n",
    "# dev.off()"
   ]
  },
  {
   "cell_type": "code",
   "execution_count": 4,
   "metadata": {},
   "outputs": [],
   "source": [
    "#Shuffle rows before separation into x and y\n",
    "data<- data[sample(nrow(data)),]"
   ]
  },
  {
   "cell_type": "code",
   "execution_count": 5,
   "metadata": {},
   "outputs": [],
   "source": [
    "#Seperate\n",
    "X_data=data[-c(97:99)]\n",
    "y_data=data[c(97:99)]"
   ]
  },
  {
   "cell_type": "code",
   "execution_count": 6,
   "metadata": {},
   "outputs": [],
   "source": [
    "#A little bit of stack overflow borrowing, the model.moatrix \n",
    "#line returns on hot encoded columns for things that are factors\n",
    "ohe_cols<-function(x){\n",
    "     xf=factor(x)\n",
    "     return(model.matrix(~xf+0))\n",
    "}"
   ]
  },
  {
   "cell_type": "code",
   "execution_count": 7,
   "metadata": {},
   "outputs": [],
   "source": [
    "#One hot encodes specified columns of data, using above function\n",
    "ohe_matrix<-function(X,cols){\n",
    "    X<-cbind(X,lapply(X[cols], ohe_cols))\n",
    "    X<-X[-cols]\n",
    "    return(X)\n",
    "}"
   ]
  },
  {
   "cell_type": "code",
   "execution_count": 8,
   "metadata": {},
   "outputs": [],
   "source": [
    "#Apply oh encoder to the data \n",
    "cols=c(4,96)\n",
    "X_data<-ohe_matrix(X_data, cols)"
   ]
  },
  {
   "cell_type": "code",
   "execution_count": 9,
   "metadata": {},
   "outputs": [],
   "source": [
    "X_train<-X_data[1:(nrow(X_data)/100*70),]\n",
    "y_train<-y_data[1:(nrow(y_data)/100*70),]"
   ]
  },
  {
   "cell_type": "code",
   "execution_count": 10,
   "metadata": {},
   "outputs": [
    {
     "data": {
      "text/html": [
       "19401"
      ],
      "text/latex": [
       "19401"
      ],
      "text/markdown": [
       "19401"
      ],
      "text/plain": [
       "[1] 19401"
      ]
     },
     "metadata": {},
     "output_type": "display_data"
    }
   ],
   "source": [
    "nrow(y_data)/100*85-nrow(X_data)/100*70"
   ]
  },
  {
   "cell_type": "code",
   "execution_count": 11,
   "metadata": {},
   "outputs": [],
   "source": [
    "X_val<-X_data[(nrow(X_data)/100*70):(nrow(X_data)/100*85),]\n",
    "y_val<-y_data[(nrow(y_data)/100*70):(nrow(X_data)/100*85),]\n",
    "X_test<-X_data[(nrow(X_data)/100*85):(nrow(X_data)),]\n",
    "y_test<-y_data[(nrow(y_data)/100*85):(nrow(X_data)),]"
   ]
  },
  {
   "cell_type": "code",
   "execution_count": 12,
   "metadata": {},
   "outputs": [],
   "source": [
    "#Clear some unused variables\n",
    "rm(X_data)\n",
    "rm(y_data)"
   ]
  },
  {
   "cell_type": "code",
   "execution_count": 13,
   "metadata": {},
   "outputs": [],
   "source": [
    "#Calculate values for normalization\n",
    "# X_tr_mean<-lapply(X_train,mean)\n",
    "# X_tr_std<-lapply(X_train, sd)\n",
    "# y_tr_mean<-lapply(y_train,mean)\n",
    "# y_tr_std<-lapply(y_train, sd)"
   ]
  },
  {
   "cell_type": "code",
   "execution_count": 14,
   "metadata": {},
   "outputs": [],
   "source": [
    "#Normalize X\n",
    "# X_tr_norm<-(X_train-X_tr_mean)/X_tr_std\n",
    "# X_val_norm<-(X_val-X_tr_mean)/X_tr_std\n",
    "# X_test_norm<-(X_test-X_tr_mean)/X_tr_std"
   ]
  },
  {
   "cell_type": "code",
   "execution_count": 15,
   "metadata": {},
   "outputs": [],
   "source": [
    "#Normalize y\n",
    "# y_tr_norm<-(y_train-y_tr_mean)/y_tr_std\n",
    "# y_val_norm<-(y_val-y_tr_mean)/y_tr_std\n",
    "# y_test_norm<-(y_test-y_tr_mean)/y_tr_std"
   ]
  },
  {
   "cell_type": "code",
   "execution_count": 16,
   "metadata": {},
   "outputs": [],
   "source": [
    "norm<-function(X,X_tr){\n",
    "    for(i in 1:ncol(X)){\n",
    "        X[,i]<-(X[,i] - min(X_tr[,i]))/(\n",
    "        max(X_tr[,i]) - min(X_tr[,i]))\n",
    "    }\n",
    "    return(X)\n",
    "}"
   ]
  },
  {
   "cell_type": "code",
   "execution_count": 17,
   "metadata": {},
   "outputs": [],
   "source": [
    "X_tr_norm<-norm(X_train,X_train)\n",
    "X_val_norm<-norm(X_val,X_train)\n",
    "X_test_norm<-norm(X_test,X_train)\n",
    "\n",
    "y_tr_norm<-norm(y_train,y_train)\n",
    "y_val_norm<-norm(y_val,y_train)\n",
    "y_test_norm<-norm(y_test,y_train)"
   ]
  },
  {
   "cell_type": "code",
   "execution_count": 155,
   "metadata": {},
   "outputs": [],
   "source": [
    "#Make phi\n",
    "phi_transform<-function(X){\n",
    "    phi<-cbind(bias=rep(1,nrow(X)),X,X**2)\n",
    "    return(phi)\n",
    "}"
   ]
  },
  {
   "cell_type": "code",
   "execution_count": 19,
   "metadata": {},
   "outputs": [],
   "source": [
    "#Clean out unused variables again. Probably not necessary, but the data set is reasonably large\n",
    "rm(X_train)\n",
    "rm(y_train)\n",
    "rm(X_val)\n",
    "rm(y_val)\n",
    "rm(X_test)\n",
    "rm(y_test)"
   ]
  },
  {
   "cell_type": "code",
   "execution_count": 20,
   "metadata": {},
   "outputs": [],
   "source": [
    "X_tr_norm<-as.matrix(X_tr_norm)\n",
    "X_val_norm<-as.matrix(X_val_norm)\n",
    "X_test_norm<-as.matrix(X_test_norm)\n",
    "y_tr_norm<-as.matrix(y_tr_norm)\n",
    "y_val_norm<-as.matrix(y_val_norm)\n",
    "y_test_norm<-as.matrix(y_test_norm)"
   ]
  },
  {
   "cell_type": "code",
   "execution_count": 156,
   "metadata": {},
   "outputs": [],
   "source": [
    "#Create phis for test train validate\n",
    "phi_tr<-phi_transform(X_tr_norm)\n",
    "phi_val<-phi_transform(X_val_norm)\n",
    "phi_test<-phi_transform(X_test_norm)"
   ]
  },
  {
   "cell_type": "code",
   "execution_count": 166,
   "metadata": {},
   "outputs": [],
   "source": [
    "errbest<-10000000"
   ]
  },
  {
   "cell_type": "code",
   "execution_count": 203,
   "metadata": {},
   "outputs": [],
   "source": [
    "w<-matrix(rnorm(ncol(y_tr_norm)*ncol(phi_tr)),ncol(phi_tr),ncol(y_tr_norm))\n",
    "w_best<-w"
   ]
  },
  {
   "cell_type": "code",
   "execution_count": 204,
   "metadata": {},
   "outputs": [],
   "source": [
    "#Set the number of epochs\n",
    "epochs<-2000"
   ]
  },
  {
   "cell_type": "code",
   "execution_count": 205,
   "metadata": {},
   "outputs": [],
   "source": [
    "#Initialize w and set hyper parameters\n",
    "error<-c()\n",
    "epoch<-c()\n",
    "eta<-0.0000005\n",
    "lam1<-.0001\n",
    "lam2<-.001\n",
    "for (i in 1:epochs){\n",
    "    w<-w_best\n",
    "    for (j in 1:50){\n",
    "        #calculate error on validation set\n",
    "        y_hat_val<-phi_val%*%w\n",
    "        error<-c(error,sum(diag(t(y_val_norm-y_hat_val)%*%(y_val_norm-y_hat_val))))\n",
    "        epoch<-c(epoch,50*(i-1)+j)\n",
    "        if (error[(i-1)*50+j]<errbest){\n",
    "            errbest<-error[(i-1)*50+j]\n",
    "    #        print(\"Best Error Updated\")\n",
    "            w_best<-w\n",
    "            }\n",
    "        #Calculate new w using training set\n",
    "        y_hat_tr<-phi_tr%*%w\n",
    "        w<-w-eta*(t(phi_tr)%*%(y_hat_tr-y_tr_norm))-lam1*sign(w)-lam2*w\n",
    "    }\n",
    "    if (errbest!=error[(i-1)*50+j]){\n",
    "        eta<-eta/5\n",
    "    }\n",
    "}"
   ]
  },
  {
   "cell_type": "code",
   "execution_count": 206,
   "metadata": {},
   "outputs": [
    {
     "data": {
      "text/html": [
       "12359.9206959616"
      ],
      "text/latex": [
       "12359.9206959616"
      ],
      "text/markdown": [
       "12359.9206959616"
      ],
      "text/plain": [
       "[1] 12359.92"
      ]
     },
     "metadata": {},
     "output_type": "display_data"
    }
   ],
   "source": [
    "errbest"
   ]
  },
  {
   "cell_type": "code",
   "execution_count": 207,
   "metadata": {},
   "outputs": [
    {
     "data": {
      "text/html": [
       "1e+05"
      ],
      "text/latex": [
       "1e+05"
      ],
      "text/markdown": [
       "1e+05"
      ],
      "text/plain": [
       "[1] 1e+05"
      ]
     },
     "metadata": {},
     "output_type": "display_data"
    }
   ],
   "source": [
    "(i-1)*50+j"
   ]
  },
  {
   "cell_type": "code",
   "execution_count": 202,
   "metadata": {},
   "outputs": [
    {
     "data": {
      "text/html": [
       "100000"
      ],
      "text/latex": [
       "100000"
      ],
      "text/markdown": [
       "100000"
      ],
      "text/plain": [
       "[1] 100000"
      ]
     },
     "metadata": {},
     "output_type": "display_data"
    }
   ],
   "source": [
    "length(error)"
   ]
  },
  {
   "cell_type": "code",
   "execution_count": 190,
   "metadata": {},
   "outputs": [
    {
     "data": {
      "text/html": [
       "12359.9206959616"
      ],
      "text/latex": [
       "12359.9206959616"
      ],
      "text/markdown": [
       "12359.9206959616"
      ],
      "text/plain": [
       "[1] 12359.92"
      ]
     },
     "metadata": {},
     "output_type": "display_data"
    }
   ],
   "source": [
    "errbest"
   ]
  },
  {
   "cell_type": "code",
   "execution_count": 144,
   "metadata": {},
   "outputs": [],
   "source": [
    "write.csv(w_best,\"XX^2w_best.csv\")"
   ]
  },
  {
   "cell_type": "code",
   "execution_count": 120,
   "metadata": {},
   "outputs": [],
   "source": [
    "w<-as.matrix(read.csv(\"x2wreg\", header = TRUE))[,2:4]\n",
    "w<-apply(w, 2, as.numeric)"
   ]
  },
  {
   "cell_type": "code",
   "execution_count": 124,
   "metadata": {},
   "outputs": [
    {
     "data": {
      "text/html": [
       "217"
      ],
      "text/latex": [
       "217"
      ],
      "text/markdown": [
       "217"
      ],
      "text/plain": [
       "[1] 217"
      ]
     },
     "metadata": {},
     "output_type": "display_data"
    }
   ],
   "source": [
    "nrow(w)"
   ]
  },
  {
   "cell_type": "code",
   "execution_count": 125,
   "metadata": {},
   "outputs": [],
   "source": [
    "w<-w[c(1:95,102,96,99,104,98,103,100,101,105,97,106,109,108,107,110:203,210,204,207,212,206,211,208,209,213,205,214,217,216,215),]"
   ]
  },
  {
   "cell_type": "code",
   "execution_count": 126,
   "metadata": {},
   "outputs": [
    {
     "data": {
      "text/html": [
       "1.5728929311907"
      ],
      "text/latex": [
       "1.5728929311907"
      ],
      "text/markdown": [
       "1.5728929311907"
      ],
      "text/plain": [
       "[1] 1.572893"
      ]
     },
     "metadata": {},
     "output_type": "display_data"
    }
   ],
   "source": [
    "y_hat_val<-phi_val%*%w\n",
    "sum(diag(t(y_val_norm-y_hat_val)%*%(y_val_norm-y_hat_val)))"
   ]
  },
  {
   "cell_type": "code",
   "execution_count": 104,
   "metadata": {},
   "outputs": [
    {
     "data": {
      "text/html": [
       "122.087686031378"
      ],
      "text/latex": [
       "122.087686031378"
      ],
      "text/markdown": [
       "122.087686031378"
      ],
      "text/plain": [
       "[1] 122.0877"
      ]
     },
     "metadata": {},
     "output_type": "display_data"
    }
   ],
   "source": [
    "sum(diag(t(w_best-w)%*%(w_best-w)))"
   ]
  },
  {
   "cell_type": "code",
   "execution_count": 114,
   "metadata": {},
   "outputs": [
    {
     "data": {
      "text/html": [
       "<table>\n",
       "<tbody>\n",
       "\t<tr><th scope=row>bias</th><td> 0.300302459</td><td>-0.133149848</td><td> 0.28729438 </td></tr>\n",
       "\t<tr><th scope=row>predictor</th><td>-0.081139017</td><td>-0.099713004</td><td> 0.03502481 </td></tr>\n",
       "\t<tr><th scope=row>predictor.1</th><td>-0.054257500</td><td> 0.032412832</td><td> 0.04073031 </td></tr>\n",
       "\t<tr><th scope=row>predictor.2</th><td>-0.036053909</td><td> 0.017001319</td><td>-0.09858752 </td></tr>\n",
       "\t<tr><th scope=row>predictor.4</th><td> 0.042133692</td><td>-0.115627749</td><td>-0.17756457 </td></tr>\n",
       "\t<tr><th scope=row>predictor.5</th><td>-0.180639420</td><td> 0.022149719</td><td>-0.08884081 </td></tr>\n",
       "\t<tr><th scope=row>predictor.6</th><td> 0.124487240</td><td> 0.061663044</td><td>-0.12985277 </td></tr>\n",
       "\t<tr><th scope=row>predictor.7</th><td>-0.032616703</td><td> 0.026939266</td><td> 0.05804812 </td></tr>\n",
       "\t<tr><th scope=row>predictor.8</th><td> 0.073514777</td><td>-0.080724115</td><td> 0.10389279 </td></tr>\n",
       "\t<tr><th scope=row>predictor.9</th><td> 0.030370601</td><td> 0.147903818</td><td> 0.11934110 </td></tr>\n",
       "\t<tr><th scope=row>predictor.10</th><td> 0.118784363</td><td> 0.051369188</td><td>-0.10070211 </td></tr>\n",
       "\t<tr><th scope=row>predictor.11</th><td>-0.018967735</td><td>-0.134379675</td><td> 0.07357376 </td></tr>\n",
       "\t<tr><th scope=row>predictor.12</th><td> 0.095621904</td><td>-0.020163754</td><td>-0.04770580 </td></tr>\n",
       "\t<tr><th scope=row>predictor.13</th><td>-0.090313177</td><td>-0.048389873</td><td>-0.02319026 </td></tr>\n",
       "\t<tr><th scope=row>predictor.14</th><td> 0.057336979</td><td> 0.107729775</td><td>-0.12021706 </td></tr>\n",
       "\t<tr><th scope=row>predictor.15</th><td> 0.132264140</td><td> 0.035501865</td><td> 0.14473399 </td></tr>\n",
       "\t<tr><th scope=row>predictor.16</th><td>-0.006501173</td><td>-0.066636120</td><td>-0.02934687 </td></tr>\n",
       "\t<tr><th scope=row>predictor.17</th><td> 0.149474261</td><td> 0.134639669</td><td>-0.08167202 </td></tr>\n",
       "\t<tr><th scope=row>predictor.18</th><td> 0.092589542</td><td> 0.218841972</td><td>-0.01205934 </td></tr>\n",
       "\t<tr><th scope=row>predictor.19</th><td> 0.013137084</td><td>-0.075261374</td><td> 0.16704220 </td></tr>\n",
       "\t<tr><th scope=row>predictor.20</th><td>-0.088262334</td><td> 0.031534473</td><td> 0.07349171 </td></tr>\n",
       "\t<tr><th scope=row>predictor.21</th><td>-0.082201806</td><td>-0.030612590</td><td>-0.01109777 </td></tr>\n",
       "\t<tr><th scope=row>predictor.22</th><td>-0.092764984</td><td> 0.043544863</td><td>-0.27993866 </td></tr>\n",
       "\t<tr><th scope=row>predictor.23</th><td> 0.245221422</td><td>-0.068637157</td><td>-0.14375063 </td></tr>\n",
       "\t<tr><th scope=row>predictor.24</th><td>-0.032263933</td><td>-0.001648273</td><td> 0.07740112 </td></tr>\n",
       "\t<tr><th scope=row>predictor.25</th><td>-0.055678086</td><td> 0.010673599</td><td>-0.08598243 </td></tr>\n",
       "\t<tr><th scope=row>predictor.26</th><td> 0.089360567</td><td>-0.196662258</td><td>-0.08917057 </td></tr>\n",
       "\t<tr><th scope=row>predictor.27</th><td> 0.268908438</td><td>-0.131217424</td><td> 0.13853224 </td></tr>\n",
       "\t<tr><th scope=row>predictor.28</th><td> 0.071348998</td><td>-0.084013359</td><td> 0.03338510 </td></tr>\n",
       "\t<tr><th scope=row>predictor.29</th><td> 0.022096555</td><td>-0.001024848</td><td> 0.10738430 </td></tr>\n",
       "\t<tr><th scope=row>⋮</th><td>⋮</td><td>⋮</td><td>⋮</td></tr>\n",
       "\t<tr><th scope=row>predictor.79</th><td>-0.003768994</td><td> 0.23011945 </td><td> 0.133740320</td></tr>\n",
       "\t<tr><th scope=row>predictor.80</th><td> 0.071542286</td><td>-0.06882492 </td><td> 0.075167981</td></tr>\n",
       "\t<tr><th scope=row>predictor.81</th><td>-0.085077646</td><td> 0.02264874 </td><td> 0.105620989</td></tr>\n",
       "\t<tr><th scope=row>predictor.82</th><td>-0.040454746</td><td> 0.01792574 </td><td> 0.028203867</td></tr>\n",
       "\t<tr><th scope=row>predictor.83</th><td> 0.132037177</td><td>-0.05289271 </td><td> 0.049915244</td></tr>\n",
       "\t<tr><th scope=row>predictor.84</th><td> 0.073253074</td><td>-0.04681661 </td><td> 0.087994747</td></tr>\n",
       "\t<tr><th scope=row>predictor.85</th><td> 0.159772509</td><td>-0.04961027 </td><td> 0.238980388</td></tr>\n",
       "\t<tr><th scope=row>predictor.86</th><td> 0.106013779</td><td> 0.01690814 </td><td>-0.026295611</td></tr>\n",
       "\t<tr><th scope=row>predictor.87</th><td>-0.059671647</td><td> 0.06387422 </td><td> 0.071580898</td></tr>\n",
       "\t<tr><th scope=row>predictor.88</th><td>-0.034909439</td><td> 0.19930407 </td><td> 0.266635792</td></tr>\n",
       "\t<tr><th scope=row>predictor.89</th><td> 0.114112174</td><td> 0.05676933 </td><td> 0.195104172</td></tr>\n",
       "\t<tr><th scope=row>predictor.90</th><td> 0.087956304</td><td> 0.01197185 </td><td>-0.041025152</td></tr>\n",
       "\t<tr><th scope=row>predictor.91</th><td> 0.075707192</td><td> 0.13573863 </td><td> 0.061088899</td></tr>\n",
       "\t<tr><th scope=row>predictor.92</th><td>-0.018108185</td><td> 0.01959576 </td><td> 0.211514848</td></tr>\n",
       "\t<tr><th scope=row>predictor.93</th><td> 0.053934950</td><td> 0.17806255 </td><td>-0.006648479</td></tr>\n",
       "\t<tr><th scope=row>predictor.94</th><td> 0.045784627</td><td> 0.12228332 </td><td> 0.037661160</td></tr>\n",
       "\t<tr><th scope=row>predictor.3.xf2</th><td> 0.995023693</td><td>-0.07229002 </td><td>-0.062279180</td></tr>\n",
       "\t<tr><th scope=row>predictor.3.xf8</th><td> 1.283238978</td><td>-0.11616968 </td><td> 1.366650824</td></tr>\n",
       "\t<tr><th scope=row>predictor.3.xf9</th><td>-0.079672384</td><td>-1.25398271 </td><td> 0.348393352</td></tr>\n",
       "\t<tr><th scope=row>predictor.3.xf12</th><td> 0.291815122</td><td> 0.12278340 </td><td>-0.976947957</td></tr>\n",
       "\t<tr><th scope=row>predictor.3.xf15</th><td>-0.286687022</td><td>-1.30670717 </td><td>-0.209303679</td></tr>\n",
       "\t<tr><th scope=row>predictor.3.xf18</th><td>-1.840330851</td><td>-1.50014259 </td><td>-0.012491237</td></tr>\n",
       "\t<tr><th scope=row>predictor.3.xf25</th><td>-0.743056056</td><td>-0.21114775 </td><td>-0.448103107</td></tr>\n",
       "\t<tr><th scope=row>predictor.3.xf44</th><td>-0.686073880</td><td>-0.16577616 </td><td>-0.201141771</td></tr>\n",
       "\t<tr><th scope=row>predictor.3.xf77</th><td>-0.253770147</td><td> 0.42245454 </td><td> 0.392636379</td></tr>\n",
       "\t<tr><th scope=row>predictor.3.xf99</th><td>-0.701867015</td><td> 0.11725511 </td><td>-1.085085104</td></tr>\n",
       "\t<tr><th scope=row>predictor.95.xf1</th><td>-0.923299627</td><td> 0.76038034 </td><td>-0.775111214</td></tr>\n",
       "\t<tr><th scope=row>predictor.95.xf2</th><td> 0.120290571</td><td>-1.22994252 </td><td> 0.048673368</td></tr>\n",
       "\t<tr><th scope=row>predictor.95.xf3</th><td>-2.445811812</td><td>-0.78410790 </td><td>-1.053796798</td></tr>\n",
       "\t<tr><th scope=row>predictor.95.xf4</th><td>-0.237080757</td><td> 0.09327879 </td><td>-0.537294007</td></tr>\n",
       "</tbody>\n",
       "</table>\n"
      ],
      "text/latex": [
       "\\begin{tabular}{r|lll}\n",
       "\tbias &  0.300302459 & -0.133149848 &  0.28729438 \\\\\n",
       "\tpredictor & -0.081139017 & -0.099713004 &  0.03502481 \\\\\n",
       "\tpredictor.1 & -0.054257500 &  0.032412832 &  0.04073031 \\\\\n",
       "\tpredictor.2 & -0.036053909 &  0.017001319 & -0.09858752 \\\\\n",
       "\tpredictor.4 &  0.042133692 & -0.115627749 & -0.17756457 \\\\\n",
       "\tpredictor.5 & -0.180639420 &  0.022149719 & -0.08884081 \\\\\n",
       "\tpredictor.6 &  0.124487240 &  0.061663044 & -0.12985277 \\\\\n",
       "\tpredictor.7 & -0.032616703 &  0.026939266 &  0.05804812 \\\\\n",
       "\tpredictor.8 &  0.073514777 & -0.080724115 &  0.10389279 \\\\\n",
       "\tpredictor.9 &  0.030370601 &  0.147903818 &  0.11934110 \\\\\n",
       "\tpredictor.10 &  0.118784363 &  0.051369188 & -0.10070211 \\\\\n",
       "\tpredictor.11 & -0.018967735 & -0.134379675 &  0.07357376 \\\\\n",
       "\tpredictor.12 &  0.095621904 & -0.020163754 & -0.04770580 \\\\\n",
       "\tpredictor.13 & -0.090313177 & -0.048389873 & -0.02319026 \\\\\n",
       "\tpredictor.14 &  0.057336979 &  0.107729775 & -0.12021706 \\\\\n",
       "\tpredictor.15 &  0.132264140 &  0.035501865 &  0.14473399 \\\\\n",
       "\tpredictor.16 & -0.006501173 & -0.066636120 & -0.02934687 \\\\\n",
       "\tpredictor.17 &  0.149474261 &  0.134639669 & -0.08167202 \\\\\n",
       "\tpredictor.18 &  0.092589542 &  0.218841972 & -0.01205934 \\\\\n",
       "\tpredictor.19 &  0.013137084 & -0.075261374 &  0.16704220 \\\\\n",
       "\tpredictor.20 & -0.088262334 &  0.031534473 &  0.07349171 \\\\\n",
       "\tpredictor.21 & -0.082201806 & -0.030612590 & -0.01109777 \\\\\n",
       "\tpredictor.22 & -0.092764984 &  0.043544863 & -0.27993866 \\\\\n",
       "\tpredictor.23 &  0.245221422 & -0.068637157 & -0.14375063 \\\\\n",
       "\tpredictor.24 & -0.032263933 & -0.001648273 &  0.07740112 \\\\\n",
       "\tpredictor.25 & -0.055678086 &  0.010673599 & -0.08598243 \\\\\n",
       "\tpredictor.26 &  0.089360567 & -0.196662258 & -0.08917057 \\\\\n",
       "\tpredictor.27 &  0.268908438 & -0.131217424 &  0.13853224 \\\\\n",
       "\tpredictor.28 &  0.071348998 & -0.084013359 &  0.03338510 \\\\\n",
       "\tpredictor.29 &  0.022096555 & -0.001024848 &  0.10738430 \\\\\n",
       "\t⋮ & ⋮ & ⋮ & ⋮\\\\\n",
       "\tpredictor.79 & -0.003768994 &  0.23011945  &  0.133740320\\\\\n",
       "\tpredictor.80 &  0.071542286 & -0.06882492  &  0.075167981\\\\\n",
       "\tpredictor.81 & -0.085077646 &  0.02264874  &  0.105620989\\\\\n",
       "\tpredictor.82 & -0.040454746 &  0.01792574  &  0.028203867\\\\\n",
       "\tpredictor.83 &  0.132037177 & -0.05289271  &  0.049915244\\\\\n",
       "\tpredictor.84 &  0.073253074 & -0.04681661  &  0.087994747\\\\\n",
       "\tpredictor.85 &  0.159772509 & -0.04961027  &  0.238980388\\\\\n",
       "\tpredictor.86 &  0.106013779 &  0.01690814  & -0.026295611\\\\\n",
       "\tpredictor.87 & -0.059671647 &  0.06387422  &  0.071580898\\\\\n",
       "\tpredictor.88 & -0.034909439 &  0.19930407  &  0.266635792\\\\\n",
       "\tpredictor.89 &  0.114112174 &  0.05676933  &  0.195104172\\\\\n",
       "\tpredictor.90 &  0.087956304 &  0.01197185  & -0.041025152\\\\\n",
       "\tpredictor.91 &  0.075707192 &  0.13573863  &  0.061088899\\\\\n",
       "\tpredictor.92 & -0.018108185 &  0.01959576  &  0.211514848\\\\\n",
       "\tpredictor.93 &  0.053934950 &  0.17806255  & -0.006648479\\\\\n",
       "\tpredictor.94 &  0.045784627 &  0.12228332  &  0.037661160\\\\\n",
       "\tpredictor.3.xf2 &  0.995023693 & -0.07229002  & -0.062279180\\\\\n",
       "\tpredictor.3.xf8 &  1.283238978 & -0.11616968  &  1.366650824\\\\\n",
       "\tpredictor.3.xf9 & -0.079672384 & -1.25398271  &  0.348393352\\\\\n",
       "\tpredictor.3.xf12 &  0.291815122 &  0.12278340  & -0.976947957\\\\\n",
       "\tpredictor.3.xf15 & -0.286687022 & -1.30670717  & -0.209303679\\\\\n",
       "\tpredictor.3.xf18 & -1.840330851 & -1.50014259  & -0.012491237\\\\\n",
       "\tpredictor.3.xf25 & -0.743056056 & -0.21114775  & -0.448103107\\\\\n",
       "\tpredictor.3.xf44 & -0.686073880 & -0.16577616  & -0.201141771\\\\\n",
       "\tpredictor.3.xf77 & -0.253770147 &  0.42245454  &  0.392636379\\\\\n",
       "\tpredictor.3.xf99 & -0.701867015 &  0.11725511  & -1.085085104\\\\\n",
       "\tpredictor.95.xf1 & -0.923299627 &  0.76038034  & -0.775111214\\\\\n",
       "\tpredictor.95.xf2 &  0.120290571 & -1.22994252  &  0.048673368\\\\\n",
       "\tpredictor.95.xf3 & -2.445811812 & -0.78410790  & -1.053796798\\\\\n",
       "\tpredictor.95.xf4 & -0.237080757 &  0.09327879  & -0.537294007\\\\\n",
       "\\end{tabular}\n"
      ],
      "text/markdown": [
       "\n",
       "| bias |  0.300302459 | -0.133149848 |  0.28729438  |\n",
       "| predictor | -0.081139017 | -0.099713004 |  0.03502481  |\n",
       "| predictor.1 | -0.054257500 |  0.032412832 |  0.04073031  |\n",
       "| predictor.2 | -0.036053909 |  0.017001319 | -0.09858752  |\n",
       "| predictor.4 |  0.042133692 | -0.115627749 | -0.17756457  |\n",
       "| predictor.5 | -0.180639420 |  0.022149719 | -0.08884081  |\n",
       "| predictor.6 |  0.124487240 |  0.061663044 | -0.12985277  |\n",
       "| predictor.7 | -0.032616703 |  0.026939266 |  0.05804812  |\n",
       "| predictor.8 |  0.073514777 | -0.080724115 |  0.10389279  |\n",
       "| predictor.9 |  0.030370601 |  0.147903818 |  0.11934110  |\n",
       "| predictor.10 |  0.118784363 |  0.051369188 | -0.10070211  |\n",
       "| predictor.11 | -0.018967735 | -0.134379675 |  0.07357376  |\n",
       "| predictor.12 |  0.095621904 | -0.020163754 | -0.04770580  |\n",
       "| predictor.13 | -0.090313177 | -0.048389873 | -0.02319026  |\n",
       "| predictor.14 |  0.057336979 |  0.107729775 | -0.12021706  |\n",
       "| predictor.15 |  0.132264140 |  0.035501865 |  0.14473399  |\n",
       "| predictor.16 | -0.006501173 | -0.066636120 | -0.02934687  |\n",
       "| predictor.17 |  0.149474261 |  0.134639669 | -0.08167202  |\n",
       "| predictor.18 |  0.092589542 |  0.218841972 | -0.01205934  |\n",
       "| predictor.19 |  0.013137084 | -0.075261374 |  0.16704220  |\n",
       "| predictor.20 | -0.088262334 |  0.031534473 |  0.07349171  |\n",
       "| predictor.21 | -0.082201806 | -0.030612590 | -0.01109777  |\n",
       "| predictor.22 | -0.092764984 |  0.043544863 | -0.27993866  |\n",
       "| predictor.23 |  0.245221422 | -0.068637157 | -0.14375063  |\n",
       "| predictor.24 | -0.032263933 | -0.001648273 |  0.07740112  |\n",
       "| predictor.25 | -0.055678086 |  0.010673599 | -0.08598243  |\n",
       "| predictor.26 |  0.089360567 | -0.196662258 | -0.08917057  |\n",
       "| predictor.27 |  0.268908438 | -0.131217424 |  0.13853224  |\n",
       "| predictor.28 |  0.071348998 | -0.084013359 |  0.03338510  |\n",
       "| predictor.29 |  0.022096555 | -0.001024848 |  0.10738430  |\n",
       "| ⋮ | ⋮ | ⋮ | ⋮ |\n",
       "| predictor.79 | -0.003768994 |  0.23011945  |  0.133740320 |\n",
       "| predictor.80 |  0.071542286 | -0.06882492  |  0.075167981 |\n",
       "| predictor.81 | -0.085077646 |  0.02264874  |  0.105620989 |\n",
       "| predictor.82 | -0.040454746 |  0.01792574  |  0.028203867 |\n",
       "| predictor.83 |  0.132037177 | -0.05289271  |  0.049915244 |\n",
       "| predictor.84 |  0.073253074 | -0.04681661  |  0.087994747 |\n",
       "| predictor.85 |  0.159772509 | -0.04961027  |  0.238980388 |\n",
       "| predictor.86 |  0.106013779 |  0.01690814  | -0.026295611 |\n",
       "| predictor.87 | -0.059671647 |  0.06387422  |  0.071580898 |\n",
       "| predictor.88 | -0.034909439 |  0.19930407  |  0.266635792 |\n",
       "| predictor.89 |  0.114112174 |  0.05676933  |  0.195104172 |\n",
       "| predictor.90 |  0.087956304 |  0.01197185  | -0.041025152 |\n",
       "| predictor.91 |  0.075707192 |  0.13573863  |  0.061088899 |\n",
       "| predictor.92 | -0.018108185 |  0.01959576  |  0.211514848 |\n",
       "| predictor.93 |  0.053934950 |  0.17806255  | -0.006648479 |\n",
       "| predictor.94 |  0.045784627 |  0.12228332  |  0.037661160 |\n",
       "| predictor.3.xf2 |  0.995023693 | -0.07229002  | -0.062279180 |\n",
       "| predictor.3.xf8 |  1.283238978 | -0.11616968  |  1.366650824 |\n",
       "| predictor.3.xf9 | -0.079672384 | -1.25398271  |  0.348393352 |\n",
       "| predictor.3.xf12 |  0.291815122 |  0.12278340  | -0.976947957 |\n",
       "| predictor.3.xf15 | -0.286687022 | -1.30670717  | -0.209303679 |\n",
       "| predictor.3.xf18 | -1.840330851 | -1.50014259  | -0.012491237 |\n",
       "| predictor.3.xf25 | -0.743056056 | -0.21114775  | -0.448103107 |\n",
       "| predictor.3.xf44 | -0.686073880 | -0.16577616  | -0.201141771 |\n",
       "| predictor.3.xf77 | -0.253770147 |  0.42245454  |  0.392636379 |\n",
       "| predictor.3.xf99 | -0.701867015 |  0.11725511  | -1.085085104 |\n",
       "| predictor.95.xf1 | -0.923299627 |  0.76038034  | -0.775111214 |\n",
       "| predictor.95.xf2 |  0.120290571 | -1.22994252  |  0.048673368 |\n",
       "| predictor.95.xf3 | -2.445811812 | -0.78410790  | -1.053796798 |\n",
       "| predictor.95.xf4 | -0.237080757 |  0.09327879  | -0.537294007 |\n",
       "\n"
      ],
      "text/plain": [
       "                 [,1]         [,2]         [,3]        \n",
       "bias              0.300302459 -0.133149848  0.28729438 \n",
       "predictor        -0.081139017 -0.099713004  0.03502481 \n",
       "predictor.1      -0.054257500  0.032412832  0.04073031 \n",
       "predictor.2      -0.036053909  0.017001319 -0.09858752 \n",
       "predictor.4       0.042133692 -0.115627749 -0.17756457 \n",
       "predictor.5      -0.180639420  0.022149719 -0.08884081 \n",
       "predictor.6       0.124487240  0.061663044 -0.12985277 \n",
       "predictor.7      -0.032616703  0.026939266  0.05804812 \n",
       "predictor.8       0.073514777 -0.080724115  0.10389279 \n",
       "predictor.9       0.030370601  0.147903818  0.11934110 \n",
       "predictor.10      0.118784363  0.051369188 -0.10070211 \n",
       "predictor.11     -0.018967735 -0.134379675  0.07357376 \n",
       "predictor.12      0.095621904 -0.020163754 -0.04770580 \n",
       "predictor.13     -0.090313177 -0.048389873 -0.02319026 \n",
       "predictor.14      0.057336979  0.107729775 -0.12021706 \n",
       "predictor.15      0.132264140  0.035501865  0.14473399 \n",
       "predictor.16     -0.006501173 -0.066636120 -0.02934687 \n",
       "predictor.17      0.149474261  0.134639669 -0.08167202 \n",
       "predictor.18      0.092589542  0.218841972 -0.01205934 \n",
       "predictor.19      0.013137084 -0.075261374  0.16704220 \n",
       "predictor.20     -0.088262334  0.031534473  0.07349171 \n",
       "predictor.21     -0.082201806 -0.030612590 -0.01109777 \n",
       "predictor.22     -0.092764984  0.043544863 -0.27993866 \n",
       "predictor.23      0.245221422 -0.068637157 -0.14375063 \n",
       "predictor.24     -0.032263933 -0.001648273  0.07740112 \n",
       "predictor.25     -0.055678086  0.010673599 -0.08598243 \n",
       "predictor.26      0.089360567 -0.196662258 -0.08917057 \n",
       "predictor.27      0.268908438 -0.131217424  0.13853224 \n",
       "predictor.28      0.071348998 -0.084013359  0.03338510 \n",
       "predictor.29      0.022096555 -0.001024848  0.10738430 \n",
       "⋮                ⋮            ⋮            ⋮           \n",
       "predictor.79     -0.003768994  0.23011945   0.133740320\n",
       "predictor.80      0.071542286 -0.06882492   0.075167981\n",
       "predictor.81     -0.085077646  0.02264874   0.105620989\n",
       "predictor.82     -0.040454746  0.01792574   0.028203867\n",
       "predictor.83      0.132037177 -0.05289271   0.049915244\n",
       "predictor.84      0.073253074 -0.04681661   0.087994747\n",
       "predictor.85      0.159772509 -0.04961027   0.238980388\n",
       "predictor.86      0.106013779  0.01690814  -0.026295611\n",
       "predictor.87     -0.059671647  0.06387422   0.071580898\n",
       "predictor.88     -0.034909439  0.19930407   0.266635792\n",
       "predictor.89      0.114112174  0.05676933   0.195104172\n",
       "predictor.90      0.087956304  0.01197185  -0.041025152\n",
       "predictor.91      0.075707192  0.13573863   0.061088899\n",
       "predictor.92     -0.018108185  0.01959576   0.211514848\n",
       "predictor.93      0.053934950  0.17806255  -0.006648479\n",
       "predictor.94      0.045784627  0.12228332   0.037661160\n",
       "predictor.3.xf2   0.995023693 -0.07229002  -0.062279180\n",
       "predictor.3.xf8   1.283238978 -0.11616968   1.366650824\n",
       "predictor.3.xf9  -0.079672384 -1.25398271   0.348393352\n",
       "predictor.3.xf12  0.291815122  0.12278340  -0.976947957\n",
       "predictor.3.xf15 -0.286687022 -1.30670717  -0.209303679\n",
       "predictor.3.xf18 -1.840330851 -1.50014259  -0.012491237\n",
       "predictor.3.xf25 -0.743056056 -0.21114775  -0.448103107\n",
       "predictor.3.xf44 -0.686073880 -0.16577616  -0.201141771\n",
       "predictor.3.xf77 -0.253770147  0.42245454   0.392636379\n",
       "predictor.3.xf99 -0.701867015  0.11725511  -1.085085104\n",
       "predictor.95.xf1 -0.923299627  0.76038034  -0.775111214\n",
       "predictor.95.xf2  0.120290571 -1.22994252   0.048673368\n",
       "predictor.95.xf3 -2.445811812 -0.78410790  -1.053796798\n",
       "predictor.95.xf4 -0.237080757  0.09327879  -0.537294007"
      ]
     },
     "metadata": {},
     "output_type": "display_data"
    }
   ],
   "source": [
    "w"
   ]
  }
 ],
 "metadata": {
  "kernelspec": {
   "display_name": "R",
   "language": "R",
   "name": "ir"
  },
  "language_info": {
   "codemirror_mode": "r",
   "file_extension": ".r",
   "mimetype": "text/x-r-source",
   "name": "R",
   "pygments_lexer": "r",
   "version": "3.5.2"
  }
 },
 "nbformat": 4,
 "nbformat_minor": 2
}
