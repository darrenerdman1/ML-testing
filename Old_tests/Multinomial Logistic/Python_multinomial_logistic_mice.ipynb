{
 "cells": [
  {
   "cell_type": "code",
   "execution_count": 77,
   "metadata": {},
   "outputs": [],
   "source": [
    "import numpy as np\n",
    "import pandas as pd\n",
    "import matplotlib.pyplot as plt"
   ]
  },
  {
   "cell_type": "code",
   "execution_count": 630,
   "metadata": {},
   "outputs": [],
   "source": [
    "prot_list=list(pd.read_excel(\"Proteins.xls\"))"
   ]
  },
  {
   "cell_type": "code",
   "execution_count": 614,
   "metadata": {},
   "outputs": [],
   "source": [
    "data=np.matrix(pd.read_excel(\"Proteins.xls\"))"
   ]
  },
  {
   "cell_type": "code",
   "execution_count": 615,
   "metadata": {},
   "outputs": [],
   "source": [
    "#The basics of this code is stack overflow, which I generalized\n",
    "def get_one_hot(targets):\n",
    "    #Need the matrix column as a row np array for the following\n",
    "    targets=np.asarray(targets).reshape(-1)\n",
    "    print(np.unique(targets))\n",
    "    #Total number of categories in column\n",
    "    num_classes=len(np.unique(targets))\n",
    "    #Create an arry the same length as the column, with the entries correspond to where\n",
    "    #they appear in the np.unique output, which sorts them.\n",
    "    indices=np.searchsorted(np.unique(targets),targets)\n",
    "    #For each index, take the corresponding column out of the identity matrix of size=number of catgories. \n",
    "    #So the third entry of the uniques array will make this return [0,0,1,0]. Does so for every index in the indices list\n",
    "    res = np.eye(num_classes)[indices]\n",
    "    #return as a column vector\n",
    "    return res.reshape(len(targets),num_classes)"
   ]
  },
  {
   "cell_type": "code",
   "execution_count": 616,
   "metadata": {},
   "outputs": [],
   "source": [
    "def mat_ohe(data,cols_to_ohe):\n",
    "    #Actual data in the column passed to one hot encoder, then returned as array of arrays\n",
    "    ohe_cols=np.apply_along_axis(get_one_hot,0,data[:,cols])[:,:,0]\n",
    "    #add the ohe columns to the orifinal matrix\n",
    "    data=np.hstack((data,ohe_cols))\n",
    "    #Wait to remove the origianl columns until all columns need have been oh=ne hot ecode, to avoid column numberinf issues\n",
    "    data=np.delete(data,cols_to_ohe,1)\n",
    "    #return the data as a number, now that any strings have been removed\n",
    "    return data.astype(float)\n",
    "    "
   ]
  },
  {
   "cell_type": "code",
   "execution_count": 617,
   "metadata": {},
   "outputs": [],
   "source": [
    "cols=[77]"
   ]
  },
  {
   "cell_type": "code",
   "execution_count": 618,
   "metadata": {},
   "outputs": [
    {
     "name": "stdout",
     "output_type": "stream",
     "text": [
      "['c-CS-m' 'c-CS-s' 'c-SC-m' 'c-SC-s' 't-CS-m' 't-CS-s' 't-SC-m' 't-SC-s']\n"
     ]
    }
   ],
   "source": [
    "#Print out what columns correspond to each class for each column\n",
    "data=mat_ohe(data,cols)"
   ]
  },
  {
   "cell_type": "code",
   "execution_count": 84,
   "metadata": {},
   "outputs": [
    {
     "data": {
      "text/plain": [
       "(1080, 85)"
      ]
     },
     "execution_count": 84,
     "metadata": {},
     "output_type": "execute_result"
    }
   ],
   "source": [
    "data.shape"
   ]
  },
  {
   "cell_type": "code",
   "execution_count": 741,
   "metadata": {},
   "outputs": [
    {
     "data": {
      "text/plain": [
       "matrix([[  3,   3,   3,   3,   3,   3,   3,   3,   3,   3,   3,   3,   3,\n",
       "           3,   3,   3,   3,   3,   3,   3,   3,   3,   3,  18,   3,   3,\n",
       "           3,   7,   3,   3,   3,  18,   3,   3,   3,   3,   3,   3,   3,\n",
       "           3,   3,   3,   3,   0,   0,   0,   0,   0,   0,   0,   0,   0,\n",
       "           0,   0,   0,   0,   0,   0,   0,   0,   0,   0,   0,   0,   0,\n",
       "           0,   0,   0, 213, 285,   0,  75,   0, 180, 210, 270,   0,   0,\n",
       "           0,   0,   0,   0,   0,   0,   0]])"
      ]
     },
     "execution_count": 741,
     "metadata": {},
     "output_type": "execute_result"
    }
   ],
   "source": [
    "sum(np.isnan(data.astype(float)))"
   ]
  },
  {
   "cell_type": "code",
   "execution_count": 91,
   "metadata": {},
   "outputs": [],
   "source": [
    "np.random.shuffle(data)"
   ]
  },
  {
   "cell_type": "code",
   "execution_count": 97,
   "metadata": {},
   "outputs": [],
   "source": [
    "X_train=data[:int(data.shape[0]*70/100),:77]\n",
    "X_val=data[int(data.shape[0]*70/100):int(data.shape[0]*85/100),:77]\n",
    "X_test=data[int(data.shape[0]*85/100):,:77]\n",
    "\n",
    "y_train=data[:int(data.shape[0]*70/100),77:]\n",
    "y_val=data[int(data.shape[0]*70/100):int(data.shape[0]*85/100),77:]\n",
    "y_test=data[int(data.shape[0]*85/100):,77:]"
   ]
  },
  {
   "cell_type": "code",
   "execution_count": 99,
   "metadata": {},
   "outputs": [
    {
     "data": {
      "text/plain": [
       "1080"
      ]
     },
     "execution_count": 99,
     "metadata": {},
     "output_type": "execute_result"
    }
   ],
   "source": [
    "X_train.shape[0]+X_test.shape[0]+X_val.shape[0]"
   ]
  },
  {
   "cell_type": "code",
   "execution_count": 101,
   "metadata": {},
   "outputs": [
    {
     "name": "stdout",
     "output_type": "stream",
     "text": [
      "(756, 77)\n",
      "(756, 8)\n"
     ]
    }
   ],
   "source": [
    "print(X_train.shape)\n",
    "print(y_train.shape)"
   ]
  },
  {
   "cell_type": "code",
   "execution_count": 103,
   "metadata": {},
   "outputs": [],
   "source": [
    "#Replace the NaNs with the means of X_train (masked array is just X_train with \n",
    "#no NaNs, so techinically only necesary the first time)\n",
    "X_train=np.where(np.isnan(X_train), np.ma.array(X_train, mask=np.isnan(X_train)).mean(axis=0), X_train) \n",
    "X_val=np.where(np.isnan(X_val), np.ma.array(X_train, mask=np.isnan(X_train)).mean(axis=0), X_val) \n",
    "X_test=np.where(np.isnan(X_test), np.ma.array(X_train, mask=np.isnan(X_train)).mean(axis=0), X_test) "
   ]
  },
  {
   "cell_type": "code",
   "execution_count": 105,
   "metadata": {},
   "outputs": [
    {
     "data": {
      "text/plain": [
       "array([0, 0, 0, 0, 0, 0, 0, 0, 0, 0, 0, 0, 0, 0, 0, 0, 0, 0, 0, 0, 0, 0,\n",
       "       0, 0, 0, 0, 0, 0, 0, 0, 0, 0, 0, 0, 0, 0, 0, 0, 0, 0, 0, 0, 0, 0,\n",
       "       0, 0, 0, 0, 0, 0, 0, 0, 0, 0, 0, 0, 0, 0, 0, 0, 0, 0, 0, 0, 0, 0,\n",
       "       0, 0, 0, 0, 0, 0, 0, 0, 0, 0, 0])"
      ]
     },
     "execution_count": 105,
     "metadata": {},
     "output_type": "execute_result"
    }
   ],
   "source": [
    "#Look, ma, no NaNs!\n",
    "sum(np.isnan(X_train))+sum(np.isnan(X_val))+sum(np.isnan(X_test))"
   ]
  },
  {
   "cell_type": "code",
   "execution_count": 106,
   "metadata": {},
   "outputs": [],
   "source": [
    "#Pass the matrix to normalize, and the matrix to normalize based on. Min max is the norm of choice\n",
    "def norm(X,X_tr):\n",
    "    X_tr_min=X_tr.min(0)\n",
    "    X_tr_max=X_tr.max(0)\n",
    "    X=(X-X_tr_min)/(X_tr_max-X_tr_min)\n",
    "    return(X)"
   ]
  },
  {
   "cell_type": "code",
   "execution_count": 107,
   "metadata": {},
   "outputs": [],
   "source": [
    "#y's are normalized, since they are one hot encoded\n",
    "#Must be done with X_train normalized last\n",
    "X_test=norm(X_test,X_train)\n",
    "X_val=norm(X_val,X_train)\n",
    "X_train=norm(X_train,X_train)"
   ]
  },
  {
   "cell_type": "code",
   "execution_count": 108,
   "metadata": {},
   "outputs": [],
   "source": [
    "#Add bias column\n",
    "X_train=np.hstack((np.ones((X_train.shape[0],1)),X_train))\n",
    "X_val=np.hstack((np.ones((X_val.shape[0],1)),X_val))\n",
    "X_test=np.hstack((np.ones((X_test.shape[0],1)),X_test))"
   ]
  },
  {
   "cell_type": "code",
   "execution_count": 122,
   "metadata": {},
   "outputs": [],
   "source": [
    "def cost(y,p):\n",
    "    return -1*np.sum(np.multiply(y,np.log(p)))"
   ]
  },
  {
   "cell_type": "code",
   "execution_count": 123,
   "metadata": {},
   "outputs": [],
   "source": [
    "def softmax(X,w):\n",
    "    p=np.exp(X@w)\n",
    "    return(p/(p.sum(1).reshape(X.shape[0],1)))"
   ]
  },
  {
   "cell_type": "code",
   "execution_count": null,
   "metadata": {},
   "outputs": [],
   "source": [
    "w=np.random.randn(X_train.shape[1],y_train.shape[1])"
   ]
  },
  {
   "cell_type": "code",
   "execution_count": 162,
   "metadata": {},
   "outputs": [],
   "source": [
    "errbest=100000\n",
    "w_best=w"
   ]
  },
  {
   "cell_type": "code",
   "execution_count": 660,
   "metadata": {},
   "outputs": [],
   "source": [
    "w=w_best\n",
    "epochs=20000\n",
    "eta=.001\n",
    "Error=[]\n",
    "epoch=[]\n",
    "for i in range(epochs):\n",
    "    P_train=softmax(X_train,w)\n",
    "    w=w-eta*X_train.T@(P_train-y_train)\n",
    "    P_val=softmax(X_val,w)\n",
    "    Error.append(cost(y_val,P_val))\n",
    "    epoch.append(i)\n",
    "    if Error[i]<errbest:\n",
    "        errbest=Error[i]\n",
    "        w_best=w"
   ]
  },
  {
   "cell_type": "code",
   "execution_count": 661,
   "metadata": {},
   "outputs": [
    {
     "data": {
      "text/plain": [
       "<matplotlib.collections.PathCollection at 0x7f7d73617780>"
      ]
     },
     "execution_count": 661,
     "metadata": {},
     "output_type": "execute_result"
    },
    {
     "data": {
      "image/png": "[encoded data removed]",
      "text/plain": [
       "<Figure size 432x288 with 1 Axes>"
      ]
     },
     "metadata": {
      "needs_background": "light"
     },
     "output_type": "display_data"
    }
   ],
   "source": [
    "plt.scatter(epoch,Error)"
   ]
  },
  {
   "cell_type": "code",
   "execution_count": 662,
   "metadata": {},
   "outputs": [
    {
     "data": {
      "text/plain": [
       "23.183330017603456"
      ]
     },
     "execution_count": 662,
     "metadata": {},
     "output_type": "execute_result"
    }
   ],
   "source": [
    "np.max(w_best)"
   ]
  },
  {
   "cell_type": "code",
   "execution_count": 663,
   "metadata": {},
   "outputs": [],
   "source": [
    "p_val=softmax(X_val,w_best)\n",
    "y_pred=np.rint(p_val)"
   ]
  },
  {
   "cell_type": "code",
   "execution_count": 664,
   "metadata": {},
   "outputs": [
    {
     "data": {
      "text/plain": [
       "(162, 8)"
      ]
     },
     "execution_count": 664,
     "metadata": {},
     "output_type": "execute_result"
    }
   ],
   "source": [
    "y_pred.shape"
   ]
  },
  {
   "cell_type": "code",
   "execution_count": 665,
   "metadata": {},
   "outputs": [
    {
     "data": {
      "text/plain": [
       "100.0"
      ]
     },
     "execution_count": 665,
     "metadata": {},
     "output_type": "execute_result"
    }
   ],
   "source": [
    "((y_pred == y_val).mean()*100)"
   ]
  },
  {
   "cell_type": "code",
   "execution_count": 666,
   "metadata": {},
   "outputs": [
    {
     "data": {
      "text/plain": [
       "100.0"
      ]
     },
     "execution_count": 666,
     "metadata": {},
     "output_type": "execute_result"
    }
   ],
   "source": [
    "((y_pred[(y_pred==y_val) & (y_pred==1)].shape[1]/y_val[y_val==1].shape[1]))*100"
   ]
  },
  {
   "cell_type": "code",
   "execution_count": 667,
   "metadata": {},
   "outputs": [],
   "source": [
    "p_test=softmax(X_test,w_best)\n",
    "y_pred=np.rint(p_test)"
   ]
  },
  {
   "cell_type": "code",
   "execution_count": 709,
   "metadata": {},
   "outputs": [],
   "source": [
    "acc=((y_pred == y_test).mean(0)*100)"
   ]
  },
  {
   "cell_type": "code",
   "execution_count": 701,
   "metadata": {},
   "outputs": [
    {
     "data": {
      "text/plain": [
       "98.76543209876543"
      ]
     },
     "execution_count": 701,
     "metadata": {},
     "output_type": "execute_result"
    }
   ],
   "source": [
    "((y_pred[(y_pred==y_test) & (y_pred==1)].shape[1]/y_test[y_test==1].shape[1]))*100"
   ]
  },
  {
   "cell_type": "code",
   "execution_count": 670,
   "metadata": {},
   "outputs": [],
   "source": [
    "mi_prot=np.argpartition(w, -5, axis=0)[-5:,:]"
   ]
  },
  {
   "cell_type": "code",
   "execution_count": 671,
   "metadata": {},
   "outputs": [],
   "source": [
    "#Order of columns. c is control, \n",
    "col_order=['c-CS-m','c-CS-s','c-SC-m','c-SC-s','t-CS-m','t-CS-s','t-SC-m','t-SC-s']\n"
   ]
  },
  {
   "cell_type": "code",
   "execution_count": 672,
   "metadata": {},
   "outputs": [
    {
     "name": "stdout",
     "output_type": "stream",
     "text": [
      "c-CS-m c-CS-s c-SC-m c-SC-s t-CS-m t-CS-s t-SC-m t-SC-s\n",
      "[[67 77 35 35 64 12 33 32]\n",
      " [59 22 61 33 70 18 42 33]\n",
      " [25 63 73 73 31 49 55 46]\n",
      " [56 40  8 34  2 31 63 47]\n",
      " [12 18 16 20 77 44 31 42]]\n"
     ]
    }
   ],
   "source": [
    "print('c-CS-m','c-CS-s','c-SC-m','c-SC-s','t-CS-m','t-CS-s','t-SC-m','t-SC-s')\n",
    "print(mi_prot)"
   ]
  },
  {
   "cell_type": "code",
   "execution_count": 673,
   "metadata": {},
   "outputs": [
    {
     "data": {
      "text/plain": [
       "'H3AcK18_N'"
      ]
     },
     "execution_count": 673,
     "metadata": {},
     "output_type": "execute_result"
    }
   ],
   "source": [
    "prot_list[73]"
   ]
  },
  {
   "cell_type": "code",
   "execution_count": 674,
   "metadata": {},
   "outputs": [
    {
     "data": {
      "text/plain": [
       "'Bcatenin_N'"
      ]
     },
     "execution_count": 674,
     "metadata": {},
     "output_type": "execute_result"
    }
   ],
   "source": [
    "prot_list[31]"
   ]
  },
  {
   "cell_type": "code",
   "execution_count": 675,
   "metadata": {},
   "outputs": [
    {
     "data": {
      "text/plain": [
       "'MTOR_N'"
      ]
     },
     "execution_count": 675,
     "metadata": {},
     "output_type": "execute_result"
    }
   ],
   "source": [
    "prot_list[33]"
   ]
  },
  {
   "cell_type": "code",
   "execution_count": 676,
   "metadata": {},
   "outputs": [
    {
     "data": {
      "text/plain": [
       "'pP70S6_N'"
      ]
     },
     "execution_count": 676,
     "metadata": {},
     "output_type": "execute_result"
    }
   ],
   "source": [
    "prot_list[42]"
   ]
  },
  {
   "cell_type": "code",
   "execution_count": 680,
   "metadata": {},
   "outputs": [],
   "source": [
    "prot_ranks=np.array(prot_list)[mi_prot.T-1]"
   ]
  },
  {
   "cell_type": "code",
   "execution_count": 681,
   "metadata": {},
   "outputs": [],
   "source": [
    "#Subtract on to reflect that there is a bisa column in X,  ut not in the headers of the array. \n",
    "#Fortunately bias is not in mi_prot, otherwise I would need a different solution\n",
    "prot_dict = {a : b for a,b in zip(col_order,prot_ranks.tolist())}"
   ]
  },
  {
   "cell_type": "code",
   "execution_count": 687,
   "metadata": {},
   "outputs": [
    {
     "data": {
      "text/plain": [
       "{'c-CS-m': ['pGSK3B_Tyr216_N', 'GluR3_N', 'ERK_N', 'nNOS_N', 'pJNK_N'],\n",
       " 'c-CS-s': ['CaNA_N', 'CAMKII_N', 'pCASP9_N', 'pNUMB_N', 'pPKCAB_N'],\n",
       " 'c-SC-m': ['P38_N', 'IL1B_N', 'SYP_N', 'pCAMKII_N', 'pNR2A_N'],\n",
       " 'c-SC-s': ['P38_N', 'SOD1_N', 'SYP_N', 'MTOR_N', 'AKT_N'],\n",
       " 't-CS-m': ['PSD95_N', 'BCL2_N', 'APP_N', 'ITSN1_N', 'CaNA_N'],\n",
       " 't-CS-s': ['pJNK_N', 'pPKCAB_N', 'S6_N', 'APP_N', 'NUMB_N'],\n",
       " 't-SC-m': ['SOD1_N', 'TIAM1_N', 'ERBB4_N', 'pCASP9_N', 'APP_N'],\n",
       " 't-SC-s': ['Bcatenin_N', 'SOD1_N', 'pGSK3B_N', 'pPKCG_N', 'TIAM1_N']}"
      ]
     },
     "execution_count": 687,
     "metadata": {},
     "output_type": "execute_result"
    }
   ],
   "source": [
    "prot_dict"
   ]
  },
  {
   "cell_type": "code",
   "execution_count": 722,
   "metadata": {},
   "outputs": [],
   "source": [
    "recalls=np.where(((y_pred==y_test) & (y_pred==1)), y_pred,0).sum(0)/y_test.sum(0)*100"
   ]
  },
  {
   "cell_type": "code",
   "execution_count": 723,
   "metadata": {},
   "outputs": [],
   "source": [
    "acc_dict = {a : b for a,b in zip(col_order,np.hstack((acc.T,recalls.T)).tolist())}"
   ]
  },
  {
   "cell_type": "code",
   "execution_count": 724,
   "metadata": {},
   "outputs": [
    {
     "data": {
      "text/plain": [
       "{'c-CS-m': [99.38271604938271, 93.75],\n",
       " 'c-CS-s': [99.38271604938271, 100.0],\n",
       " 'c-SC-m': [100.0, 100.0],\n",
       " 'c-SC-s': [100.0, 100.0],\n",
       " 't-CS-m': [98.76543209876543, 94.44444444444444],\n",
       " 't-CS-s': [100.0, 100.0],\n",
       " 't-SC-m': [100.0, 100.0],\n",
       " 't-SC-s': [100.0, 100.0]}"
      ]
     },
     "execution_count": 724,
     "metadata": {},
     "output_type": "execute_result"
    }
   ],
   "source": [
    "acc_dict"
   ]
  },
  {
   "cell_type": "code",
   "execution_count": 726,
   "metadata": {},
   "outputs": [
    {
     "data": {
      "text/plain": [
       "150.0"
      ]
     },
     "execution_count": 726,
     "metadata": {},
     "output_type": "execute_result"
    }
   ],
   "source": [
    "np.sum(data[:,77])"
   ]
  },
  {
   "cell_type": "code",
   "execution_count": 728,
   "metadata": {},
   "outputs": [
    {
     "data": {
      "text/plain": [
       "135.0"
      ]
     },
     "execution_count": 728,
     "metadata": {},
     "output_type": "execute_result"
    }
   ],
   "source": [
    "np.sum(data[:,78])"
   ]
  },
  {
   "cell_type": "code",
   "execution_count": 729,
   "metadata": {},
   "outputs": [
    {
     "data": {
      "text/plain": [
       "150.0"
      ]
     },
     "execution_count": 729,
     "metadata": {},
     "output_type": "execute_result"
    }
   ],
   "source": [
    "np.sum(data[:,79])"
   ]
  },
  {
   "cell_type": "code",
   "execution_count": 730,
   "metadata": {},
   "outputs": [
    {
     "data": {
      "text/plain": [
       "135.0"
      ]
     },
     "execution_count": 730,
     "metadata": {},
     "output_type": "execute_result"
    }
   ],
   "source": [
    "np.sum(data[:,80])"
   ]
  },
  {
   "cell_type": "code",
   "execution_count": 727,
   "metadata": {},
   "outputs": [
    {
     "data": {
      "text/plain": [
       "135.0"
      ]
     },
     "execution_count": 727,
     "metadata": {},
     "output_type": "execute_result"
    }
   ],
   "source": [
    "np.sum(data[:,81])"
   ]
  },
  {
   "cell_type": "code",
   "execution_count": 731,
   "metadata": {},
   "outputs": [
    {
     "data": {
      "text/plain": [
       "105.0"
      ]
     },
     "execution_count": 731,
     "metadata": {},
     "output_type": "execute_result"
    }
   ],
   "source": [
    "np.sum(data[:,82])"
   ]
  },
  {
   "cell_type": "code",
   "execution_count": 732,
   "metadata": {},
   "outputs": [
    {
     "data": {
      "text/plain": [
       "135.0"
      ]
     },
     "execution_count": 732,
     "metadata": {},
     "output_type": "execute_result"
    }
   ],
   "source": [
    "np.sum(data[:,83])"
   ]
  },
  {
   "cell_type": "code",
   "execution_count": 733,
   "metadata": {},
   "outputs": [
    {
     "data": {
      "text/plain": [
       "135.0"
      ]
     },
     "execution_count": 733,
     "metadata": {},
     "output_type": "execute_result"
    }
   ],
   "source": [
    "np.sum(data[:,84])"
   ]
  },
  {
   "cell_type": "code",
   "execution_count": null,
   "metadata": {},
   "outputs": [],
   "source": []
  }
 ],
 "metadata": {
  "kernelspec": {
   "display_name": "Python 3",
   "language": "python",
   "name": "python3"
  },
  "language_info": {
   "codemirror_mode": {
    "name": "ipython",
    "version": 3
   },
   "file_extension": ".py",
   "mimetype": "text/x-python",
   "name": "python",
   "nbconvert_exporter": "python",
   "pygments_lexer": "ipython3",
   "version": "3.7.1"
  }
 },
 "nbformat": 4,
 "nbformat_minor": 2
}
