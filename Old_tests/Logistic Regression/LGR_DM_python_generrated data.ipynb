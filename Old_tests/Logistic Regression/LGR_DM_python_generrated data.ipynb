{
 "cells": [
  {
   "cell_type": "code",
   "execution_count": 226,
   "metadata": {},
   "outputs": [],
   "source": [
    "import numpy as np\n",
    "import matplotlib.pyplot as plt\n",
    "data=np.random.randn(15000,2)"
   ]
  },
  {
   "cell_type": "code",
   "execution_count": 227,
   "metadata": {},
   "outputs": [],
   "source": [
    "data2=(25./100.)*np.random.randn(45000,2)"
   ]
  },
  {
   "cell_type": "code",
   "execution_count": 228,
   "metadata": {},
   "outputs": [],
   "source": [
    "circle=np.matrix([[x[0],x[1]] for x in data if (np.sqrt(x[0]**2+x[1]**2)>1.50)])"
   ]
  },
  {
   "cell_type": "code",
   "execution_count": 229,
   "metadata": {},
   "outputs": [],
   "source": [
    "circle2=np.matrix(data2)"
   ]
  },
  {
   "cell_type": "code",
   "execution_count": 230,
   "metadata": {},
   "outputs": [
    {
     "data": {
      "text/plain": [
       "<matplotlib.collections.PathCollection at 0x7efdb21bde48>"
      ]
     },
     "execution_count": 230,
     "metadata": {},
     "output_type": "execute_result"
    },
    {
     "data": {
      "image/png": "[encoded data removed]",
      "text/plain": [
       "<Figure size 432x288 with 1 Axes>"
      ]
     },
     "metadata": {
      "needs_background": "light"
     },
     "output_type": "display_data"
    }
   ],
   "source": [
    "plt.scatter([circle[:,0]], [circle[:,1]], s=5, color=\"red\")\n",
    "plt.scatter([circle2[:,0]], [circle2[:,1]], s=5, color=\"green\")"
   ]
  },
  {
   "cell_type": "code",
   "execution_count": 231,
   "metadata": {},
   "outputs": [],
   "source": [
    "data2=np.hstack((data2,np.zeros((data2.shape[0],1))))\n",
    "data=np.hstack((data,np.ones((data.shape[0],1))))"
   ]
  },
  {
   "cell_type": "code",
   "execution_count": 232,
   "metadata": {},
   "outputs": [
    {
     "data": {
      "text/plain": [
       "(15000, 3)"
      ]
     },
     "execution_count": 232,
     "metadata": {},
     "output_type": "execute_result"
    }
   ],
   "source": [
    "data.shape"
   ]
  },
  {
   "cell_type": "code",
   "execution_count": 233,
   "metadata": {},
   "outputs": [],
   "source": [
    "all_data=np.vstack((data,data2))"
   ]
  },
  {
   "cell_type": "code",
   "execution_count": 234,
   "metadata": {},
   "outputs": [
    {
     "data": {
      "text/plain": [
       "matrix([[0.]])"
      ]
     },
     "execution_count": 234,
     "metadata": {},
     "output_type": "execute_result"
    }
   ],
   "source": [
    "min(y_train)"
   ]
  },
  {
   "cell_type": "code",
   "execution_count": 235,
   "metadata": {},
   "outputs": [],
   "source": [
    "np.random.shuffle(all_data)"
   ]
  },
  {
   "cell_type": "code",
   "execution_count": 236,
   "metadata": {},
   "outputs": [],
   "source": [
    "X_train=all_data[:,:-1]\n",
    "y_train=np.matrix(all_data[:,-1]).reshape((X_train.shape[0],1))"
   ]
  },
  {
   "cell_type": "code",
   "execution_count": 237,
   "metadata": {},
   "outputs": [],
   "source": [
    "def norm(X,X_tr):\n",
    "    X_tr_min=X_tr.min(0)\n",
    "    X_tr_max=X_tr.max(0)\n",
    "    X=(X-X_tr_min)/(X_tr_max-X_tr_min)\n",
    "    return(X)"
   ]
  },
  {
   "cell_type": "code",
   "execution_count": 238,
   "metadata": {},
   "outputs": [],
   "source": [
    "X0=X_train\n"
   ]
  },
  {
   "cell_type": "code",
   "execution_count": 239,
   "metadata": {},
   "outputs": [],
   "source": [
    "# x_val=all_data[27000:30000,:-1]\n",
    "# y_val=all_data[27000:30000,-1]\n",
    "# x_test=all_data[27000:30000,:-1]\n",
    "# y_test=all_data[27000:30000,-1]"
   ]
  },
  {
   "cell_type": "code",
   "execution_count": 240,
   "metadata": {},
   "outputs": [],
   "source": [
    "def phi(X):\n",
    "    X_phi=np.hstack((np.ones((X.shape[0],1)),np.sqrt(X[:,0]**2+X[:,1]**2).reshape(X.shape[0],1)))\n",
    "    return X_phi"
   ]
  },
  {
   "cell_type": "code",
   "execution_count": 241,
   "metadata": {},
   "outputs": [
    {
     "data": {
      "text/plain": [
       "array([[1.        , 0.68520498],\n",
       "       [1.        , 0.59459396],\n",
       "       [1.        , 0.70719619],\n",
       "       ...,\n",
       "       [1.        , 0.68803596],\n",
       "       [1.        , 0.87671126],\n",
       "       [1.        , 0.65948222]])"
      ]
     },
     "execution_count": 241,
     "metadata": {},
     "output_type": "execute_result"
    }
   ],
   "source": [
    "DM"
   ]
  },
  {
   "cell_type": "code",
   "execution_count": 242,
   "metadata": {},
   "outputs": [],
   "source": [
    "DM=phi(X_train)"
   ]
  },
  {
   "cell_type": "code",
   "execution_count": 243,
   "metadata": {},
   "outputs": [],
   "source": [
    "def cost(y,p):\n",
    "    for j in range(y.shape[0]):\n",
    "        Err=[]\n",
    "        if y[j,0]==1:\n",
    "            Err.append(-np.log(p[j]))\n",
    "        else:\n",
    "            Err.append(-np.log(1-p[j]))\n",
    "    return np.sum(Err)"
   ]
  },
  {
   "cell_type": "code",
   "execution_count": 244,
   "metadata": {},
   "outputs": [],
   "source": [
    "w=np.random.randn(X_train.shape[1],1)\n",
    "epochs=50\n",
    "eta=.00001\n",
    "Error=[]\n",
    "epoch=[]\n",
    "err_min=1000000"
   ]
  },
  {
   "cell_type": "code",
   "execution_count": 245,
   "metadata": {},
   "outputs": [],
   "source": [
    "#Has a hight tendency to overshoot the min\n",
    "for i in range(epochs):\n",
    "    p=1/(1+np.exp(-DM@w))\n",
    "    err=cost(y_train,p)    \n",
    "    Error.append(err)\n",
    "    epoch.append(i)\n",
    "    w=w-eta*DM.T@(p-y_train)\n",
    "\n",
    "    if err<err_min:\n",
    "        err_min=err\n",
    "        w_best=w"
   ]
  },
  {
   "cell_type": "code",
   "execution_count": null,
   "metadata": {},
   "outputs": [],
   "source": []
  },
  {
   "cell_type": "code",
   "execution_count": null,
   "metadata": {},
   "outputs": [],
   "source": []
  },
  {
   "cell_type": "code",
   "execution_count": 246,
   "metadata": {},
   "outputs": [],
   "source": [
    "y_pred=np.rint(p)"
   ]
  },
  {
   "cell_type": "code",
   "execution_count": 247,
   "metadata": {},
   "outputs": [
    {
     "data": {
      "text/plain": [
       "0.90185"
      ]
     },
     "execution_count": 247,
     "metadata": {},
     "output_type": "execute_result"
    }
   ],
   "source": [
    "np.mean(y_train==y_pred)"
   ]
  },
  {
   "cell_type": "code",
   "execution_count": 248,
   "metadata": {},
   "outputs": [
    {
     "data": {
      "text/plain": [
       "<matplotlib.collections.PathCollection at 0x7efdb21ecb38>"
      ]
     },
     "execution_count": 248,
     "metadata": {},
     "output_type": "execute_result"
    },
    {
     "data": {
      "image/png": "[encoded data removed]",
      "text/plain": [
       "<Figure size 432x288 with 1 Axes>"
      ]
     },
     "metadata": {
      "needs_background": "light"
     },
     "output_type": "display_data"
    }
   ],
   "source": [
    "plt.scatter(np.array(epoch[1:]).reshape(epochs-1,1),Error[1:])"
   ]
  },
  {
   "cell_type": "code",
   "execution_count": 265,
   "metadata": {},
   "outputs": [],
   "source": [
    "X1=np.linspace(-1,1,2000).reshape(-1,1).T"
   ]
  },
  {
   "cell_type": "code",
   "execution_count": 266,
   "metadata": {},
   "outputs": [
    {
     "data": {
      "text/plain": [
       "matrix([[-2.32947741],\n",
       "        [ 2.31895614]])"
      ]
     },
     "execution_count": 266,
     "metadata": {},
     "output_type": "execute_result"
    }
   ],
   "source": [
    "w_best"
   ]
  },
  {
   "cell_type": "code",
   "execution_count": 267,
   "metadata": {},
   "outputs": [],
   "source": [
    "#Solve for decision boundary. Only non-imaginary if x1,x2 both on decision boundary in real space (should be circular)\n",
    "a=1"
   ]
  },
  {
   "cell_type": "code",
   "execution_count": 268,
   "metadata": {},
   "outputs": [],
   "source": [
    "b=0"
   ]
  },
  {
   "cell_type": "code",
   "execution_count": 269,
   "metadata": {},
   "outputs": [],
   "source": [
    "c=((w[0]/w[1])**2-X1**2)"
   ]
  },
  {
   "cell_type": "code",
   "execution_count": 270,
   "metadata": {},
   "outputs": [],
   "source": [
    "sqrt_term=np.power(b,2)-4*a*c"
   ]
  },
  {
   "cell_type": "code",
   "execution_count": 271,
   "metadata": {},
   "outputs": [],
   "source": [
    "X2_1=c\n",
    "X2_2=-c"
   ]
  },
  {
   "cell_type": "code",
   "execution_count": 272,
   "metadata": {},
   "outputs": [],
   "source": [
    "def unnorm(X,X_tr):\n",
    "    X_tr_min=X_tr.min(0)\n",
    "    X_tr_max=X_tr.max(0)\n",
    "    X=X*(X_tr_max-X_tr_min)+X_tr_min\n",
    "    return(X)"
   ]
  },
  {
   "cell_type": "code",
   "execution_count": 273,
   "metadata": {},
   "outputs": [],
   "source": [
    "X1_unnorm=unnorm(X1.T,X0[:,0]).T\n",
    "X2_1_unnorm=unnorm(X2_1.T,X0[:,1]).T\n",
    "X2_2_unnorm=unnorm(X2_2.T,X0[:,1]).T"
   ]
  },
  {
   "cell_type": "code",
   "execution_count": 274,
   "metadata": {},
   "outputs": [],
   "source": [
    "rows, cols=np.where(y_train[:,0]==0)\n",
    "rows2,cols2=np.where(y_train[:,0]==1)\n",
    "X_zeros=X_train[rows,:]\n",
    "X_ones=X_train[rows2,:]"
   ]
  },
  {
   "cell_type": "code",
   "execution_count": 275,
   "metadata": {},
   "outputs": [
    {
     "data": {
      "text/plain": [
       "<matplotlib.collections.PathCollection at 0x7efdb2075390>"
      ]
     },
     "execution_count": 275,
     "metadata": {},
     "output_type": "execute_result"
    },
    {
     "data": {
      "image/png": "[encoded data removed]",
      "text/plain": [
       "<Figure size 432x288 with 1 Axes>"
      ]
     },
     "metadata": {
      "needs_background": "light"
     },
     "output_type": "display_data"
    }
   ],
   "source": [
    "#Circle is actually smaller, but looks terrible, as it bisects the green section\n",
    "plt.scatter([circle[:,0]], [circle[:,1]], s=5, color=\"red\")\n",
    "plt.scatter([circle2[:,0]], [circle2[:,1]], s=5, color=\"green\")\n",
    "plt.scatter([X1[0,:]],[X2_1[0,:]], s=2, color=\"black\")\n",
    "plt.scatter([X1[0,:]],[X2_2[0,:]], s=2, color=\"black\")"
   ]
  },
  {
   "cell_type": "code",
   "execution_count": 276,
   "metadata": {},
   "outputs": [
    {
     "data": {
      "text/plain": [
       "45000"
      ]
     },
     "execution_count": 276,
     "metadata": {},
     "output_type": "execute_result"
    }
   ],
   "source": [
    "len(X_zeros)"
   ]
  },
  {
   "cell_type": "code",
   "execution_count": null,
   "metadata": {},
   "outputs": [],
   "source": [
    "len(X_ones)"
   ]
  },
  {
   "cell_type": "code",
   "execution_count": 149,
   "metadata": {},
   "outputs": [
    {
     "data": {
      "text/plain": [
       "matrix([[-1.14950504],\n",
       "        [-1.81296061],\n",
       "        [-2.10673166],\n",
       "        [ 3.60715829]])"
      ]
     },
     "execution_count": 149,
     "metadata": {},
     "output_type": "execute_result"
    }
   ],
   "source": [
    "w"
   ]
  },
  {
   "cell_type": "raw",
   "metadata": {},
   "source": []
  }
 ],
 "metadata": {
  "kernelspec": {
   "display_name": "Python 3",
   "language": "python",
   "name": "python3"
  },
  "language_info": {
   "codemirror_mode": {
    "name": "ipython",
    "version": 3
   },
   "file_extension": ".py",
   "mimetype": "text/x-python",
   "name": "python",
   "nbconvert_exporter": "python",
   "pygments_lexer": "ipython3",
   "version": "3.7.2"
  }
 },
 "nbformat": 4,
 "nbformat_minor": 2
}
