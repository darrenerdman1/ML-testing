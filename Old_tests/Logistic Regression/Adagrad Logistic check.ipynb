{
 "cells": [
  {
   "cell_type": "code",
   "execution_count": 186,
   "metadata": {},
   "outputs": [],
   "source": [
    "import numpy as np\n",
    "import matplotlib.pyplot as plt\n",
    "import time"
   ]
  },
  {
   "cell_type": "code",
   "execution_count": 418,
   "metadata": {},
   "outputs": [],
   "source": [
    "X1=np.random.randn(1000,2)\n",
    "X2=np.random.randn(1000,2)+3"
   ]
  },
  {
   "cell_type": "code",
   "execution_count": 419,
   "metadata": {},
   "outputs": [],
   "source": [
    "X1=np.hstack((np.ones((1000,1)),X1))\n",
    "X2=np.hstack((np.zeros((1000,1)),X2))"
   ]
  },
  {
   "cell_type": "code",
   "execution_count": 420,
   "metadata": {},
   "outputs": [],
   "source": [
    "X=np.vstack((X1,X2))"
   ]
  },
  {
   "cell_type": "code",
   "execution_count": 421,
   "metadata": {},
   "outputs": [],
   "source": [
    "np.random.shuffle(X)\n",
    "y=X[:,:1]\n",
    "X=X[:,1:]"
   ]
  },
  {
   "cell_type": "code",
   "execution_count": 422,
   "metadata": {},
   "outputs": [],
   "source": [
    "def sig(h):\n",
    "    return 1/(1+np.exp(-h))"
   ]
  },
  {
   "cell_type": "code",
   "execution_count": 423,
   "metadata": {},
   "outputs": [],
   "source": [
    "def cost(y,p):\n",
    "    Err=[]\n",
    "    zeros=np.where(y==0)\n",
    "    ones=np.where(y==1)\n",
    "    Err=np.hstack((-y[ones]*np.log(p[ones]),-(1-y[zeros])*np.log(1-p[zeros])))\n",
    "    return np.mean(Err)"
   ]
  },
  {
   "cell_type": "code",
   "execution_count": 424,
   "metadata": {},
   "outputs": [],
   "source": [
    "def norm(X):\n",
    "    return (X-X.min(0))/(X.max(0)-X.min(0))"
   ]
  },
  {
   "cell_type": "code",
   "execution_count": 425,
   "metadata": {},
   "outputs": [],
   "source": [
    "X=norm(X)\n",
    "X=np.hstack((np.ones((2000,1)),X))"
   ]
  },
  {
   "cell_type": "code",
   "execution_count": 426,
   "metadata": {},
   "outputs": [],
   "source": [
    "epochs=5000\n",
    "eta=.002\n",
    "Error=[]\n",
    "epoch=[]\n",
    "G=1\n",
    "w=np.random.randn(3,1)\n",
    "start=time.time()\n",
    "for i in range(epochs):\n",
    "    p=sig(X@w)\n",
    "    Error.append(cost(y,p))\n",
    "    epoch.append(i)\n",
    "#     G=G+(X.T@(p-y))**2\n",
    "#     eta=eta/np.sqrt(G+1e-9)\n",
    "    acc=(np.rint(p)==y).mean()\n",
    "    if acc==1.0:\n",
    "        print(i)\n",
    "        break\n",
    "    w=w-eta*X.T@(p-y)\n",
    "end=time.time()"
   ]
  },
  {
   "cell_type": "code",
   "execution_count": 427,
   "metadata": {},
   "outputs": [
    {
     "data": {
      "text/plain": [
       "0.04516544992373165"
      ]
     },
     "execution_count": 427,
     "metadata": {},
     "output_type": "execute_result"
    }
   ],
   "source": [
    "Error[-1]"
   ]
  },
  {
   "cell_type": "code",
   "execution_count": 428,
   "metadata": {},
   "outputs": [],
   "source": [
    "epochs=500\n",
    "eta0=12\n",
    "Error=[]\n",
    "epoch=[]\n",
    "G=1\n",
    "np.random.seed(200)\n",
    "w=np.random.randn(3,1)\n",
    "start=time.time()\n",
    "for i in range(epochs):\n",
    "    p=sig(X@w)\n",
    "    Error.append(cost(y,p))\n",
    "    epoch.append(i)\n",
    "    acc=(np.rint(p)==y).mean()\n",
    "    if acc==1.0:\n",
    "        print(i)\n",
    "        break\n",
    "    G=G+(X.T@(p-y))**2\n",
    "    eta=eta0/np.sqrt(G+1e-9)\n",
    "    w=w-eta*X.T@(p-y)\n",
    "end=time.time()"
   ]
  },
  {
   "cell_type": "code",
   "execution_count": 429,
   "metadata": {},
   "outputs": [],
   "source": [
    "Error_ADA=Error"
   ]
  },
  {
   "cell_type": "code",
   "execution_count": 430,
   "metadata": {},
   "outputs": [
    {
     "name": "stdout",
     "output_type": "stream",
     "text": [
      "0.2067403793334961\n"
     ]
    },
    {
     "data": {
      "text/plain": [
       "[<matplotlib.lines.Line2D at 0x7f6bf0ec0748>]"
      ]
     },
     "execution_count": 430,
     "metadata": {},
     "output_type": "execute_result"
    },
    {
     "data": {
      "image/png": "[encoded data removed]",
      "text/plain": [
       "<Figure size 432x288 with 1 Axes>"
      ]
     },
     "metadata": {
      "needs_background": "light"
     },
     "output_type": "display_data"
    }
   ],
   "source": [
    "print(end-start)\n",
    "plt.plot(epoch,Error)"
   ]
  },
  {
   "cell_type": "code",
   "execution_count": 431,
   "metadata": {},
   "outputs": [
    {
     "data": {
      "text/plain": [
       "0.9835"
      ]
     },
     "execution_count": 431,
     "metadata": {},
     "output_type": "execute_result"
    }
   ],
   "source": [
    "(np.rint(1/(1+np.exp(-X@w)))==y).mean()"
   ]
  },
  {
   "cell_type": "code",
   "execution_count": 432,
   "metadata": {},
   "outputs": [
    {
     "data": {
      "text/plain": [
       "0.0472651725678075"
      ]
     },
     "execution_count": 432,
     "metadata": {},
     "output_type": "execute_result"
    }
   ],
   "source": [
    "Error[-1]"
   ]
  },
  {
   "cell_type": "code",
   "execution_count": 433,
   "metadata": {},
   "outputs": [],
   "source": [
    "colors=np.array(['red','blue'])"
   ]
  },
  {
   "cell_type": "code",
   "execution_count": 434,
   "metadata": {},
   "outputs": [
    {
     "data": {
      "text/plain": [
       "<matplotlib.collections.PathCollection at 0x7f6bf0e1cb00>"
      ]
     },
     "execution_count": 434,
     "metadata": {},
     "output_type": "execute_result"
    },
    {
     "data": {
      "image/png": "[encoded data removed]",
      "text/plain": [
       "<Figure size 432x288 with 1 Axes>"
      ]
     },
     "metadata": {
      "needs_background": "light"
     },
     "output_type": "display_data"
    }
   ],
   "source": [
    "plt.scatter(X[:,1],X[:,2],color=colors[np.rint(1/(1+np.exp(-X@w))).astype(int).reshape(-1)])"
   ]
  },
  {
   "cell_type": "code",
   "execution_count": 435,
   "metadata": {},
   "outputs": [],
   "source": [
    "epochs=500\n",
    "eta0=12\n",
    "Error=[]\n",
    "epoch=[]\n",
    "G=1\n",
    "np.random.seed(200)\n",
    "w=np.random.randn(3,1)\n",
    "start=time.time()\n",
    "for i in range(epochs):\n",
    "    p=sig(X@w)\n",
    "    Error.append(cost(y,p))\n",
    "    epoch.append(i)\n",
    "    acc=(np.rint(p)==y).mean()\n",
    "    if acc==1.0:\n",
    "        print(i)\n",
    "        break\n",
    "    G=G*.9+.9*(X.T@(p-y))**2\n",
    "    eta=eta0/np.sqrt(G+1e-9)\n",
    "    w=w-eta*X.T@(p-y)\n",
    "end=time.time()"
   ]
  },
  {
   "cell_type": "code",
   "execution_count": 436,
   "metadata": {},
   "outputs": [
    {
     "data": {
      "text/plain": [
       "<matplotlib.legend.Legend at 0x7f6bf0e4bc18>"
      ]
     },
     "execution_count": 436,
     "metadata": {},
     "output_type": "execute_result"
    },
    {
     "data": {
      "image/png": "[encoded data removed]",
      "text/plain": [
       "<Figure size 432x288 with 1 Axes>"
      ]
     },
     "metadata": {
      "needs_background": "light"
     },
     "output_type": "display_data"
    }
   ],
   "source": [
    "plt.plot(Error_ADA, label='ADA')\n",
    "plt.plot(Error, label='RMSP')\n",
    "plt.legend()"
   ]
  },
  {
   "cell_type": "code",
   "execution_count": null,
   "metadata": {},
   "outputs": [],
   "source": []
  },
  {
   "cell_type": "code",
   "execution_count": null,
   "metadata": {},
   "outputs": [],
   "source": []
  }
 ],
 "metadata": {
  "kernelspec": {
   "display_name": "Python 3",
   "language": "python",
   "name": "python3"
  },
  "language_info": {
   "codemirror_mode": {
    "name": "ipython",
    "version": 3
   },
   "file_extension": ".py",
   "mimetype": "text/x-python",
   "name": "python",
   "nbconvert_exporter": "python",
   "pygments_lexer": "ipython3",
   "version": "3.7.2"
  }
 },
 "nbformat": 4,
 "nbformat_minor": 2
}
