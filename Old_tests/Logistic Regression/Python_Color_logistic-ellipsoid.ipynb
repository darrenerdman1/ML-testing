{
 "cells": [
  {
   "cell_type": "code",
   "execution_count": 2,
   "metadata": {},
   "outputs": [],
   "source": [
    "import numpy as np\n",
    "import matplotlib.pyplot as plt\n",
    "import pandas as pd\n",
    "from mpl_toolkits.mplot3d import Axes3D"
   ]
  },
  {
   "cell_type": "code",
   "execution_count": 3,
   "metadata": {},
   "outputs": [],
   "source": [
    "data=pd.read_csv(\"Color.txt\", sep=\"\\t\")"
   ]
  },
  {
   "cell_type": "code",
   "execution_count": 4,
   "metadata": {},
   "outputs": [
    {
     "data": {
      "text/plain": [
       "X1    0\n",
       "X2    0\n",
       "X3    0\n",
       "Y     0\n",
       "dtype: int64"
      ]
     },
     "execution_count": 4,
     "metadata": {},
     "output_type": "execute_result"
    }
   ],
   "source": [
    "data.isnull().sum(axis=0)"
   ]
  },
  {
   "cell_type": "code",
   "execution_count": 5,
   "metadata": {},
   "outputs": [],
   "source": [
    "data=np.matrix(data)"
   ]
  },
  {
   "cell_type": "code",
   "execution_count": 6,
   "metadata": {},
   "outputs": [],
   "source": [
    "#Min max normalize\n",
    "#X is data set to normalize, X_tr is data set to normalize based on\n",
    "# def norm(X,X_tr):\n",
    "#     X_tr_mean=X_tr.mean(0)\n",
    "#     X_tr_std=X_tr.std(0)\n",
    "#     X=(X-X_tr_mean)/X_tr_std\n",
    "#     return(X)\n",
    "def norm(X,X_tr):\n",
    "    X_tr_min=X_tr.min(0)\n",
    "    X_tr_max=X_tr.max(0)\n",
    "    X=(X-X_tr_min)/(X_tr_max-X_tr_min)\n",
    "    return(X)"
   ]
  },
  {
   "cell_type": "code",
   "execution_count": 7,
   "metadata": {},
   "outputs": [
    {
     "data": {
      "text/plain": [
       "matrix([[0.29019608, 0.33333333, 0.48235294, 0.        ],\n",
       "        [0.28627451, 0.32941176, 0.47843137, 0.        ],\n",
       "        [0.28235294, 0.3254902 , 0.4745098 , 0.        ],\n",
       "        ...,\n",
       "        [0.63921569, 0.63529412, 0.43921569, 1.        ],\n",
       "        [0.63921569, 0.63529412, 0.43921569, 1.        ],\n",
       "        [1.        , 1.        , 1.        , 1.        ]])"
      ]
     },
     "execution_count": 7,
     "metadata": {},
     "output_type": "execute_result"
    }
   ],
   "source": [
    "#Just a test of normalizer, doing min max\n",
    "norm(data,data)"
   ]
  },
  {
   "cell_type": "code",
   "execution_count": 8,
   "metadata": {},
   "outputs": [],
   "source": [
    "#Shuffle data\n",
    "np.random.shuffle(data)"
   ]
  },
  {
   "cell_type": "code",
   "execution_count": 9,
   "metadata": {},
   "outputs": [
    {
     "data": {
      "text/plain": [
       "245057"
      ]
     },
     "execution_count": 9,
     "metadata": {},
     "output_type": "execute_result"
    }
   ],
   "source": [
    "k=10\n",
    "data.shape[0]"
   ]
  },
  {
   "cell_type": "code",
   "execution_count": 10,
   "metadata": {},
   "outputs": [],
   "source": [
    "test=data[:(int(data.shape[0]/15)),:]\n",
    "train=data[(int(data.shape[0]/15)):,:]"
   ]
  },
  {
   "cell_type": "code",
   "execution_count": 11,
   "metadata": {},
   "outputs": [
    {
     "data": {
      "text/plain": [
       "7"
      ]
     },
     "execution_count": 11,
     "metadata": {},
     "output_type": "execute_result"
    }
   ],
   "source": [
    "import gc\n",
    "del data\n",
    "gc.collect()"
   ]
  },
  {
   "cell_type": "code",
   "execution_count": 12,
   "metadata": {},
   "outputs": [
    {
     "data": {
      "text/plain": [
       "245057"
      ]
     },
     "execution_count": 12,
     "metadata": {},
     "output_type": "execute_result"
    }
   ],
   "source": [
    "test.shape[0]+train.shape[0]"
   ]
  },
  {
   "cell_type": "code",
   "execution_count": 13,
   "metadata": {},
   "outputs": [],
   "source": [
    "data_sets=np.array_split(train,k)"
   ]
  },
  {
   "cell_type": "code",
   "execution_count": 14,
   "metadata": {},
   "outputs": [],
   "source": [
    "def phi(X,y):\n",
    "    rows, cols=np.where(y[:,0]==1)\n",
    "    ones=X[rows,:]\n",
    "    center=ones.mean(0)\n",
    "\n",
    "\n",
    "    #Using the covariance matrix inverse to find the \n",
    "    #approximate dimensions of the ellipsoid\n",
    "    A=np.matrix(np.linalg.inv(np.cov(X.T)))\n",
    "    #Do the transformation\n",
    "    phi_x=np.multiply((X-center),(A@(X-center).T).T)\n",
    "    phi_x=np.sum(phi_x,axis=1)-1\n",
    "    phi_x=np.hstack((np.ones((X.shape[0],1)),phi_x))\n",
    "    return phi_x"
   ]
  },
  {
   "cell_type": "code",
   "execution_count": 21,
   "metadata": {},
   "outputs": [],
   "source": [
    "epochs=2000\n",
    "eta=.00001\n",
    "lam=0.001\n",
    "accuracy=[]\n",
    "recall=[]\n",
    "for j in range(k):\n",
    "    val=data_sets[j]\n",
    "    train=np.vstack(data_sets[:j]+data_sets[(j+1):])\n",
    "\n",
    "    X_val=norm(val[:,:-1],train[:,:-1])\n",
    "    y_val=val[:,-1]\n",
    "    #want skin as positive, currently not skin is, so change it\n",
    "    y_val=(y_val-2)*-1\n",
    "    phi_val=phi(X_val,y_val)\n",
    "\n",
    "    #normalize train and add bias column\n",
    "    X_train=norm(train[:,:-1],train[:,:-1])\n",
    "    y_train=train[:,-1]\n",
    "    y_train=(y_train-2)*-1\n",
    "    phi_tr=phi(X_train,y_train)\n",
    "    #initialize weights for each fold\n",
    "    w=np.random.randn(phi_tr.shape[1],1)\n",
    "    for i in range(epochs):\n",
    "        p=1/(1+np.exp(-phi_tr@w))\n",
    "        w=w-eta*phi_tr.T@(p-y_train)-lam*w\n",
    "    \n",
    "    p_val=1/(1+np.exp(-phi_val@w))\n",
    "    y_pred=np.rint(p_val)\n",
    "    accuracy.append((y_pred == y_val).mean()*100)\n",
    "\n",
    "    recall.append((y_pred[(y_pred==y_val) & (y_pred==1)].shape[1]/y_val[y_val==1].shape[1]))\n",
    "    "
   ]
  },
  {
   "cell_type": "code",
   "execution_count": 22,
   "metadata": {},
   "outputs": [
    {
     "data": {
      "text/plain": [
       "98.24720181881776"
      ]
     },
     "execution_count": 22,
     "metadata": {},
     "output_type": "execute_result"
    }
   ],
   "source": [
    "np.mean(accuracy)"
   ]
  },
  {
   "cell_type": "code",
   "execution_count": 23,
   "metadata": {},
   "outputs": [
    {
     "data": {
      "text/plain": [
       "0.9691270757098904"
      ]
     },
     "execution_count": 23,
     "metadata": {},
     "output_type": "execute_result"
    }
   ],
   "source": [
    "np.mean(recall)"
   ]
  },
  {
   "cell_type": "code",
   "execution_count": 18,
   "metadata": {},
   "outputs": [],
   "source": [
    "train=np.vstack(data_sets)\n",
    "\n",
    "X_test=norm(test[:,:-1],train[:,:-1])\n",
    "y_test=test[:,-1]\n",
    "#want skin as positive, currently not skin is, so change it\n",
    "y_test=(y_test-2)*-1\n",
    "phi_test=phi(X_test,y_test)\n",
    "\n",
    "#normalize train and add bias column\n",
    "X_train=norm(train[:,:-1],train[:,:-1])\n",
    "y_train=train[:,-1]\n",
    "y_train=(y_train-2)*-1\n",
    "phi_tr=phi(X_train,y_train)\n",
    "#initialize weights for each fold\n",
    "w=np.random.randn(phi_tr.shape[1],1)\n",
    "for i in range(epochs):\n",
    "    p=1/(1+np.exp(-phi_tr@w))\n",
    "    w=w-eta*phi_tr.T@(p-y_train)-lam*w\n",
    "p_test=1/(1+np.exp(-phi_test@w))\n",
    "y_pred=np.rint(p_test)\n",
    "accuracy=(y_pred == y_test).mean()*100\n",
    "recall=y_pred[(y_pred==y_test) & (y_pred==1)].shape[1]/y_test[y_test==1].shape[1]"
   ]
  },
  {
   "cell_type": "code",
   "execution_count": 19,
   "metadata": {},
   "outputs": [
    {
     "data": {
      "text/plain": [
       "98.37179408704169"
      ]
     },
     "execution_count": 19,
     "metadata": {},
     "output_type": "execute_result"
    }
   ],
   "source": [
    "accuracy"
   ]
  },
  {
   "cell_type": "code",
   "execution_count": 20,
   "metadata": {},
   "outputs": [
    {
     "data": {
      "text/plain": [
       "0.9660666863381528"
      ]
     },
     "execution_count": 20,
     "metadata": {},
     "output_type": "execute_result"
    }
   ],
   "source": [
    "recall"
   ]
  },
  {
   "cell_type": "code",
   "execution_count": null,
   "metadata": {},
   "outputs": [],
   "source": []
  },
  {
   "cell_type": "code",
   "execution_count": null,
   "metadata": {},
   "outputs": [],
   "source": []
  }
 ],
 "metadata": {
  "kernelspec": {
   "display_name": "Python 3",
   "language": "python",
   "name": "python3"
  },
  "language_info": {
   "codemirror_mode": {
    "name": "ipython",
    "version": 3
   },
   "file_extension": ".py",
   "mimetype": "text/x-python",
   "name": "python",
   "nbconvert_exporter": "python",
   "pygments_lexer": "ipython3",
   "version": "3.7.1"
  }
 },
 "nbformat": 4,
 "nbformat_minor": 2
}
