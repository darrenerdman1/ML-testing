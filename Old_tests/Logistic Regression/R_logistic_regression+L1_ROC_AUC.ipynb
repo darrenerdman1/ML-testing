{
 "cells": [
  {
   "cell_type": "code",
   "execution_count": 8,
   "metadata": {},
   "outputs": [],
   "source": [
    "options(stringsAsFactors = FALSE)\n",
    "data<-read.csv(\"APSfailure.csv\")"
   ]
  },
  {
   "cell_type": "code",
   "execution_count": 9,
   "metadata": {},
   "outputs": [
    {
     "data": {
      "text/html": [
       "<ol class=list-inline>\n",
       "\t<li>75999</li>\n",
       "\t<li>341</li>\n",
       "</ol>\n"
      ],
      "text/latex": [
       "\\begin{enumerate*}\n",
       "\\item 75999\n",
       "\\item 341\n",
       "\\end{enumerate*}\n"
      ],
      "text/markdown": [
       "1. 75999\n",
       "2. 341\n",
       "\n",
       "\n"
      ],
      "text/plain": [
       "[1] 75999   341"
      ]
     },
     "metadata": {},
     "output_type": "display_data"
    }
   ],
   "source": [
    "dim(data)"
   ]
  },
  {
   "cell_type": "code",
   "execution_count": 10,
   "metadata": {},
   "outputs": [
    {
     "data": {
      "text/html": [
       "<table>\n",
       "<thead><tr><th scope=col>class</th><th scope=col>aa_000</th><th scope=col>ab_000</th><th scope=col>ac_000</th><th scope=col>ad_000</th><th scope=col>ae_000</th><th scope=col>af_000</th><th scope=col>ag_000</th><th scope=col>ag_001</th><th scope=col>ag_002</th><th scope=col>⋯</th><th scope=col>X.160</th><th scope=col>X.161</th><th scope=col>X.162</th><th scope=col>X.163</th><th scope=col>X.164</th><th scope=col>X.165</th><th scope=col>X.166</th><th scope=col>X.167</th><th scope=col>X.168</th><th scope=col>X.169</th></tr></thead>\n",
       "<tbody>\n",
       "\t<tr><td>neg       </td><td>76698     </td><td>na        </td><td>2130706438</td><td>280       </td><td>0         </td><td>0         </td><td>0         </td><td>0         </td><td>0         </td><td>⋯         </td><td>NA        </td><td>NA        </td><td>NA        </td><td>NA        </td><td>NA        </td><td>NA        </td><td>NA        </td><td>NA        </td><td>NA        </td><td>NA        </td></tr>\n",
       "\t<tr><td>neg       </td><td>33058     </td><td>na        </td><td>0         </td><td>na        </td><td>0         </td><td>0         </td><td>0         </td><td>0         </td><td>0         </td><td>⋯         </td><td>NA        </td><td>NA        </td><td>NA        </td><td>NA        </td><td>NA        </td><td>NA        </td><td>NA        </td><td>NA        </td><td>NA        </td><td>NA        </td></tr>\n",
       "\t<tr><td>neg       </td><td>41040     </td><td>na        </td><td>228       </td><td>100       </td><td>0         </td><td>0         </td><td>0         </td><td>0         </td><td>0         </td><td>⋯         </td><td>NA        </td><td>NA        </td><td>NA        </td><td>NA        </td><td>NA        </td><td>NA        </td><td>NA        </td><td>NA        </td><td>NA        </td><td>NA        </td></tr>\n",
       "\t<tr><td>neg       </td><td>   12     </td><td>0         </td><td>70        </td><td>66        </td><td>0         </td><td>10        </td><td>0         </td><td>0         </td><td>0         </td><td>⋯         </td><td>NA        </td><td>NA        </td><td>NA        </td><td>NA        </td><td>NA        </td><td>NA        </td><td>NA        </td><td>NA        </td><td>NA        </td><td>NA        </td></tr>\n",
       "\t<tr><td>neg       </td><td>60874     </td><td>na        </td><td>1368      </td><td>458       </td><td>0         </td><td>0         </td><td>0         </td><td>0         </td><td>0         </td><td>⋯         </td><td>NA        </td><td>NA        </td><td>NA        </td><td>NA        </td><td>NA        </td><td>NA        </td><td>NA        </td><td>NA        </td><td>NA        </td><td>NA        </td></tr>\n",
       "</tbody>\n",
       "</table>\n"
      ],
      "text/latex": [
       "\\begin{tabular}{r|lllllllllllllllllllllllllllllllllllllllllllllllllllllllllllllllllllllllllllllllllllllllllllllllllllllllllllllllllllllllllllllllllllllllllllllllllllllllllllllllllllllllllllllllllllllllllllllllllllllllllllllllllllllllllllllllllllllllllllllllllllllllllllllllllllllllllllllllllllllllllllllllllllllllllllllllllllllllllllllllllllllllllllllllllllll}\n",
       " class & aa\\_000 & ab\\_000 & ac\\_000 & ad\\_000 & ae\\_000 & af\\_000 & ag\\_000 & ag\\_001 & ag\\_002 & ⋯ & X.160 & X.161 & X.162 & X.163 & X.164 & X.165 & X.166 & X.167 & X.168 & X.169\\\\\n",
       "\\hline\n",
       "\t neg        & 76698      & na         & 2130706438 & 280        & 0          & 0          & 0          & 0          & 0          & ⋯          & NA         & NA         & NA         & NA         & NA         & NA         & NA         & NA         & NA         & NA        \\\\\n",
       "\t neg        & 33058      & na         & 0          & na         & 0          & 0          & 0          & 0          & 0          & ⋯          & NA         & NA         & NA         & NA         & NA         & NA         & NA         & NA         & NA         & NA        \\\\\n",
       "\t neg        & 41040      & na         & 228        & 100        & 0          & 0          & 0          & 0          & 0          & ⋯          & NA         & NA         & NA         & NA         & NA         & NA         & NA         & NA         & NA         & NA        \\\\\n",
       "\t neg        &    12      & 0          & 70         & 66         & 0          & 10         & 0          & 0          & 0          & ⋯          & NA         & NA         & NA         & NA         & NA         & NA         & NA         & NA         & NA         & NA        \\\\\n",
       "\t neg        & 60874      & na         & 1368       & 458        & 0          & 0          & 0          & 0          & 0          & ⋯          & NA         & NA         & NA         & NA         & NA         & NA         & NA         & NA         & NA         & NA        \\\\\n",
       "\\end{tabular}\n"
      ],
      "text/markdown": [
       "\n",
       "| class | aa_000 | ab_000 | ac_000 | ad_000 | ae_000 | af_000 | ag_000 | ag_001 | ag_002 | ⋯ | X.160 | X.161 | X.162 | X.163 | X.164 | X.165 | X.166 | X.167 | X.168 | X.169 |\n",
       "|---|---|---|---|---|---|---|---|---|---|---|---|---|---|---|---|---|---|---|---|---|\n",
       "| neg        | 76698      | na         | 2130706438 | 280        | 0          | 0          | 0          | 0          | 0          | ⋯          | NA         | NA         | NA         | NA         | NA         | NA         | NA         | NA         | NA         | NA         |\n",
       "| neg        | 33058      | na         | 0          | na         | 0          | 0          | 0          | 0          | 0          | ⋯          | NA         | NA         | NA         | NA         | NA         | NA         | NA         | NA         | NA         | NA         |\n",
       "| neg        | 41040      | na         | 228        | 100        | 0          | 0          | 0          | 0          | 0          | ⋯          | NA         | NA         | NA         | NA         | NA         | NA         | NA         | NA         | NA         | NA         |\n",
       "| neg        |    12      | 0          | 70         | 66         | 0          | 10         | 0          | 0          | 0          | ⋯          | NA         | NA         | NA         | NA         | NA         | NA         | NA         | NA         | NA         | NA         |\n",
       "| neg        | 60874      | na         | 1368       | 458        | 0          | 0          | 0          | 0          | 0          | ⋯          | NA         | NA         | NA         | NA         | NA         | NA         | NA         | NA         | NA         | NA         |\n",
       "\n"
      ],
      "text/plain": [
       "  class aa_000 ab_000 ac_000     ad_000 ae_000 af_000 ag_000 ag_001 ag_002 ⋯\n",
       "1 neg   76698  na     2130706438 280    0      0      0      0      0      ⋯\n",
       "2 neg   33058  na     0          na     0      0      0      0      0      ⋯\n",
       "3 neg   41040  na     228        100    0      0      0      0      0      ⋯\n",
       "4 neg      12  0      70         66     0      10     0      0      0      ⋯\n",
       "5 neg   60874  na     1368       458    0      0      0      0      0      ⋯\n",
       "  X.160 X.161 X.162 X.163 X.164 X.165 X.166 X.167 X.168 X.169\n",
       "1 NA    NA    NA    NA    NA    NA    NA    NA    NA    NA   \n",
       "2 NA    NA    NA    NA    NA    NA    NA    NA    NA    NA   \n",
       "3 NA    NA    NA    NA    NA    NA    NA    NA    NA    NA   \n",
       "4 NA    NA    NA    NA    NA    NA    NA    NA    NA    NA   \n",
       "5 NA    NA    NA    NA    NA    NA    NA    NA    NA    NA   "
      ]
     },
     "metadata": {},
     "output_type": "display_data"
    }
   ],
   "source": [
    "head(data,5)"
   ]
  },
  {
   "cell_type": "code",
   "execution_count": 11,
   "metadata": {},
   "outputs": [],
   "source": [
    "#check individual values to see if one hot encoding is needed\n",
    "# All of the X columns contain only two unique entries, and one is NA from above\n",
    "#based on the column labels, these are the last 170 columns\n",
    "unique_counts<-as.data.frame(t(apply(data, 2, function(x) length(unique(x)))))"
   ]
  },
  {
   "cell_type": "code",
   "execution_count": 12,
   "metadata": {},
   "outputs": [],
   "source": [
    "#They are all in the same row.\n",
    "nonzero<-subset(data, (!is.na(data[\"X\"])))"
   ]
  },
  {
   "cell_type": "code",
   "execution_count": 13,
   "metadata": {},
   "outputs": [
    {
     "data": {
      "text/html": [
       "<table>\n",
       "<thead><tr><th></th><th scope=col>eg_000</th><th scope=col>X</th><th scope=col>X.1</th><th scope=col>X.2</th><th scope=col>X.3</th><th scope=col>X.4</th><th scope=col>X.5</th><th scope=col>X.6</th><th scope=col>X.7</th><th scope=col>X.8</th><th scope=col>⋯</th><th scope=col>X.160</th><th scope=col>X.161</th><th scope=col>X.162</th><th scope=col>X.163</th><th scope=col>X.164</th><th scope=col>X.165</th><th scope=col>X.166</th><th scope=col>X.167</th><th scope=col>X.168</th><th scope=col>X.169</th></tr></thead>\n",
       "<tbody>\n",
       "\t<tr><th scope=row>60000</th><td>0neg</td><td>60  </td><td>0   </td><td>20  </td><td>12  </td><td>0   </td><td>0   </td><td>0   </td><td>0   </td><td>0   </td><td>⋯   </td><td>1098</td><td>138 </td><td>412 </td><td>654 </td><td>78  </td><td>88  </td><td>0   </td><td>0   </td><td>0   </td><td>0   </td></tr>\n",
       "</tbody>\n",
       "</table>\n"
      ],
      "text/latex": [
       "\\begin{tabular}{r|lllllllllllllllllllllllllllllllllllllllllllllllllllllllllllllllllllllllllllllllllllllllllllllllllllllllllllllllllllllllllllllllllllllllllllllllllllllllllllllllllllllllllll}\n",
       "  & eg\\_000 & X & X.1 & X.2 & X.3 & X.4 & X.5 & X.6 & X.7 & X.8 & ⋯ & X.160 & X.161 & X.162 & X.163 & X.164 & X.165 & X.166 & X.167 & X.168 & X.169\\\\\n",
       "\\hline\n",
       "\t60000 & 0neg & 60   & 0    & 20   & 12   & 0    & 0    & 0    & 0    & 0    & ⋯    & 1098 & 138  & 412  & 654  & 78   & 88   & 0    & 0    & 0    & 0   \\\\\n",
       "\\end{tabular}\n"
      ],
      "text/markdown": [
       "\n",
       "| <!--/--> | eg_000 | X | X.1 | X.2 | X.3 | X.4 | X.5 | X.6 | X.7 | X.8 | ⋯ | X.160 | X.161 | X.162 | X.163 | X.164 | X.165 | X.166 | X.167 | X.168 | X.169 |\n",
       "|---|---|---|---|---|---|---|---|---|---|---|---|---|---|---|---|---|---|---|---|---|---|\n",
       "| 60000 | 0neg | 60   | 0    | 20   | 12   | 0    | 0    | 0    | 0    | 0    | ⋯    | 1098 | 138  | 412  | 654  | 78   | 88   | 0    | 0    | 0    | 0    |\n",
       "\n"
      ],
      "text/plain": [
       "      eg_000 X  X.1 X.2 X.3 X.4 X.5 X.6 X.7 X.8 ⋯ X.160 X.161 X.162 X.163 X.164\n",
       "60000 0neg   60 0   20  12  0   0   0   0   0   ⋯ 1098  138   412   654   78   \n",
       "      X.165 X.166 X.167 X.168 X.169\n",
       "60000 88    0     0     0     0    "
      ]
     },
     "metadata": {},
     "output_type": "display_data"
    }
   ],
   "source": [
    "#Checking the offending columns, it seems like there is an extra row appended to new columns\n",
    "nonzero[,(ncol(data)-170):ncol(data)]"
   ]
  },
  {
   "cell_type": "code",
   "execution_count": 14,
   "metadata": {},
   "outputs": [
    {
     "data": {
      "text/html": [
       "<table>\n",
       "<thead><tr><th></th><th scope=col>class</th><th scope=col>aa_000</th><th scope=col>ab_000</th><th scope=col>ac_000</th><th scope=col>ad_000</th><th scope=col>ae_000</th><th scope=col>af_000</th><th scope=col>ag_000</th><th scope=col>ag_001</th><th scope=col>ag_002</th><th scope=col>⋯</th><th scope=col>X.160</th><th scope=col>X.161</th><th scope=col>X.162</th><th scope=col>X.163</th><th scope=col>X.164</th><th scope=col>X.165</th><th scope=col>X.166</th><th scope=col>X.167</th><th scope=col>X.168</th><th scope=col>X.169</th></tr></thead>\n",
       "<tbody>\n",
       "\t<tr><th scope=row>60000</th><td>neg  </td><td>40222</td><td>na   </td><td>698  </td><td>628  </td><td>0    </td><td>0    </td><td>0    </td><td>0    </td><td>0    </td><td>⋯    </td><td>1098 </td><td>138  </td><td>412  </td><td>654  </td><td>78   </td><td>88   </td><td>0    </td><td>0    </td><td>0    </td><td>0    </td></tr>\n",
       "</tbody>\n",
       "</table>\n"
      ],
      "text/latex": [
       "\\begin{tabular}{r|lllllllllllllllllllllllllllllllllllllllllllllllllllllllllllllllllllllllllllllllllllllllllllllllllllllllllllllllllllllllllllllllllllllllllllllllllllllllllllllllllllllllllllllllllllllllllllllllllllllllllllllllllllllllllllllllllllllllllllllllllllllllllllllllllllllllllllllllllllllllllllllllllllllllllllllllllllllllllllllllllllllllllllllllllllll}\n",
       "  & class & aa\\_000 & ab\\_000 & ac\\_000 & ad\\_000 & ae\\_000 & af\\_000 & ag\\_000 & ag\\_001 & ag\\_002 & ⋯ & X.160 & X.161 & X.162 & X.163 & X.164 & X.165 & X.166 & X.167 & X.168 & X.169\\\\\n",
       "\\hline\n",
       "\t60000 & neg   & 40222 & na    & 698   & 628   & 0     & 0     & 0     & 0     & 0     & ⋯     & 1098  & 138   & 412   & 654   & 78    & 88    & 0     & 0     & 0     & 0    \\\\\n",
       "\\end{tabular}\n"
      ],
      "text/markdown": [
       "\n",
       "| <!--/--> | class | aa_000 | ab_000 | ac_000 | ad_000 | ae_000 | af_000 | ag_000 | ag_001 | ag_002 | ⋯ | X.160 | X.161 | X.162 | X.163 | X.164 | X.165 | X.166 | X.167 | X.168 | X.169 |\n",
       "|---|---|---|---|---|---|---|---|---|---|---|---|---|---|---|---|---|---|---|---|---|---|\n",
       "| 60000 | neg   | 40222 | na    | 698   | 628   | 0     | 0     | 0     | 0     | 0     | ⋯     | 1098  | 138   | 412   | 654   | 78    | 88    | 0     | 0     | 0     | 0     |\n",
       "\n"
      ],
      "text/plain": [
       "      class aa_000 ab_000 ac_000 ad_000 ae_000 af_000 ag_000 ag_001 ag_002 ⋯\n",
       "60000 neg   40222  na     698    628    0      0      0      0      0      ⋯\n",
       "      X.160 X.161 X.162 X.163 X.164 X.165 X.166 X.167 X.168 X.169\n",
       "60000 1098  138   412   654   78    88    0     0     0     0    "
      ]
     },
     "metadata": {},
     "output_type": "display_data"
    }
   ],
   "source": [
    "#And it is different than the row it was appended to\n",
    "nonzero"
   ]
  },
  {
   "cell_type": "code",
   "execution_count": 15,
   "metadata": {},
   "outputs": [],
   "source": [
    "#Just separate out the two columns, and re-append them\n",
    "nonzero1<-nonzero[,1:(ncol(data)-170)]\n",
    "nonzero2<-nonzero[,(ncol(data)-170):ncol(data)]"
   ]
  },
  {
   "cell_type": "code",
   "execution_count": 16,
   "metadata": {},
   "outputs": [
    {
     "data": {
      "text/html": [
       "<ol class=list-inline>\n",
       "\t<li>1</li>\n",
       "\t<li>171</li>\n",
       "</ol>\n"
      ],
      "text/latex": [
       "\\begin{enumerate*}\n",
       "\\item 1\n",
       "\\item 171\n",
       "\\end{enumerate*}\n"
      ],
      "text/markdown": [
       "1. 1\n",
       "2. 171\n",
       "\n",
       "\n"
      ],
      "text/plain": [
       "[1]   1 171"
      ]
     },
     "metadata": {},
     "output_type": "display_data"
    }
   ],
   "source": [
    "dim(nonzero1)"
   ]
  },
  {
   "cell_type": "code",
   "execution_count": 17,
   "metadata": {},
   "outputs": [
    {
     "data": {
      "text/html": [
       "<ol class=list-inline>\n",
       "\t<li>1</li>\n",
       "\t<li>171</li>\n",
       "</ol>\n"
      ],
      "text/latex": [
       "\\begin{enumerate*}\n",
       "\\item 1\n",
       "\\item 171\n",
       "\\end{enumerate*}\n"
      ],
      "text/markdown": [
       "1. 1\n",
       "2. 171\n",
       "\n",
       "\n"
      ],
      "text/plain": [
       "[1]   1 171"
      ]
     },
     "metadata": {},
     "output_type": "display_data"
    }
   ],
   "source": [
    "dim(nonzero2)"
   ]
  },
  {
   "cell_type": "code",
   "execution_count": 18,
   "metadata": {},
   "outputs": [],
   "source": [
    "#Get rid of the useless columns. Comment out after so I do not run it again by accident\n",
    "data=data[-c((ncol(data)-169):ncol(data))]"
   ]
  },
  {
   "cell_type": "code",
   "execution_count": 19,
   "metadata": {},
   "outputs": [],
   "source": [
    "data<-droplevels(data)"
   ]
  },
  {
   "cell_type": "code",
   "execution_count": 20,
   "metadata": {},
   "outputs": [
    {
     "data": {
      "text/html": [
       "<table>\n",
       "<thead><tr><th></th><th scope=col>class</th><th scope=col>aa_000</th><th scope=col>ab_000</th><th scope=col>ac_000</th><th scope=col>ad_000</th><th scope=col>ae_000</th><th scope=col>af_000</th><th scope=col>ag_000</th><th scope=col>ag_001</th><th scope=col>ag_002</th><th scope=col>⋯</th><th scope=col>ee_002</th><th scope=col>ee_003</th><th scope=col>ee_004</th><th scope=col>ee_005</th><th scope=col>ee_006</th><th scope=col>ee_007</th><th scope=col>ee_008</th><th scope=col>ee_009</th><th scope=col>ef_000</th><th scope=col>eg_000</th></tr></thead>\n",
       "<tbody>\n",
       "\t<tr><th scope=row>60000</th><td>neg   </td><td>40222 </td><td>na    </td><td>698   </td><td>628   </td><td>0     </td><td>0     </td><td>0     </td><td>0     </td><td>0     </td><td>⋯     </td><td>440066</td><td>183200</td><td>344546</td><td>254068</td><td>225148</td><td>158304</td><td>170384</td><td>158   </td><td>0     </td><td>0neg  </td></tr>\n",
       "</tbody>\n",
       "</table>\n"
      ],
      "text/latex": [
       "\\begin{tabular}{r|lllllllllllllllllllllllllllllllllllllllllllllllllllllllllllllllllllllllllllllllllllllllllllllllllllllllllllllllllllllllllllllllllllllllllllllllllllllllllllllllllllllllllll}\n",
       "  & class & aa\\_000 & ab\\_000 & ac\\_000 & ad\\_000 & ae\\_000 & af\\_000 & ag\\_000 & ag\\_001 & ag\\_002 & ⋯ & ee\\_002 & ee\\_003 & ee\\_004 & ee\\_005 & ee\\_006 & ee\\_007 & ee\\_008 & ee\\_009 & ef\\_000 & eg\\_000\\\\\n",
       "\\hline\n",
       "\t60000 & neg    & 40222  & na     & 698    & 628    & 0      & 0      & 0      & 0      & 0      & ⋯      & 440066 & 183200 & 344546 & 254068 & 225148 & 158304 & 170384 & 158    & 0      & 0neg  \\\\\n",
       "\\end{tabular}\n"
      ],
      "text/markdown": [
       "\n",
       "| <!--/--> | class | aa_000 | ab_000 | ac_000 | ad_000 | ae_000 | af_000 | ag_000 | ag_001 | ag_002 | ⋯ | ee_002 | ee_003 | ee_004 | ee_005 | ee_006 | ee_007 | ee_008 | ee_009 | ef_000 | eg_000 |\n",
       "|---|---|---|---|---|---|---|---|---|---|---|---|---|---|---|---|---|---|---|---|---|---|\n",
       "| 60000 | neg    | 40222  | na     | 698    | 628    | 0      | 0      | 0      | 0      | 0      | ⋯      | 440066 | 183200 | 344546 | 254068 | 225148 | 158304 | 170384 | 158    | 0      | 0neg   |\n",
       "\n"
      ],
      "text/plain": [
       "      class aa_000 ab_000 ac_000 ad_000 ae_000 af_000 ag_000 ag_001 ag_002 ⋯\n",
       "60000 neg   40222  na     698    628    0      0      0      0      0      ⋯\n",
       "      ee_002 ee_003 ee_004 ee_005 ee_006 ee_007 ee_008 ee_009 ef_000 eg_000\n",
       "60000 440066 183200 344546 254068 225148 158304 170384 158    0      0neg  "
      ]
     },
     "metadata": {},
     "output_type": "display_data"
    }
   ],
   "source": [
    "nonzero1"
   ]
  },
  {
   "cell_type": "code",
   "execution_count": 21,
   "metadata": {},
   "outputs": [],
   "source": [
    "nonzero1[,171]<-0"
   ]
  },
  {
   "cell_type": "code",
   "execution_count": 22,
   "metadata": {},
   "outputs": [],
   "source": [
    "nonzero2[,1]<-\"neg\""
   ]
  },
  {
   "cell_type": "code",
   "execution_count": 23,
   "metadata": {},
   "outputs": [
    {
     "data": {
      "text/html": [
       "<table>\n",
       "<thead><tr><th></th><th scope=col>eg_000</th><th scope=col>X</th><th scope=col>X.1</th><th scope=col>X.2</th><th scope=col>X.3</th><th scope=col>X.4</th><th scope=col>X.5</th><th scope=col>X.6</th><th scope=col>X.7</th><th scope=col>X.8</th><th scope=col>⋯</th><th scope=col>X.160</th><th scope=col>X.161</th><th scope=col>X.162</th><th scope=col>X.163</th><th scope=col>X.164</th><th scope=col>X.165</th><th scope=col>X.166</th><th scope=col>X.167</th><th scope=col>X.168</th><th scope=col>X.169</th></tr></thead>\n",
       "<tbody>\n",
       "\t<tr><th scope=row>60000</th><td>neg </td><td>60  </td><td>0   </td><td>20  </td><td>12  </td><td>0   </td><td>0   </td><td>0   </td><td>0   </td><td>0   </td><td>⋯   </td><td>1098</td><td>138 </td><td>412 </td><td>654 </td><td>78  </td><td>88  </td><td>0   </td><td>0   </td><td>0   </td><td>0   </td></tr>\n",
       "</tbody>\n",
       "</table>\n"
      ],
      "text/latex": [
       "\\begin{tabular}{r|lllllllllllllllllllllllllllllllllllllllllllllllllllllllllllllllllllllllllllllllllllllllllllllllllllllllllllllllllllllllllllllllllllllllllllllllllllllllllllllllllllllllllll}\n",
       "  & eg\\_000 & X & X.1 & X.2 & X.3 & X.4 & X.5 & X.6 & X.7 & X.8 & ⋯ & X.160 & X.161 & X.162 & X.163 & X.164 & X.165 & X.166 & X.167 & X.168 & X.169\\\\\n",
       "\\hline\n",
       "\t60000 & neg  & 60   & 0    & 20   & 12   & 0    & 0    & 0    & 0    & 0    & ⋯    & 1098 & 138  & 412  & 654  & 78   & 88   & 0    & 0    & 0    & 0   \\\\\n",
       "\\end{tabular}\n"
      ],
      "text/markdown": [
       "\n",
       "| <!--/--> | eg_000 | X | X.1 | X.2 | X.3 | X.4 | X.5 | X.6 | X.7 | X.8 | ⋯ | X.160 | X.161 | X.162 | X.163 | X.164 | X.165 | X.166 | X.167 | X.168 | X.169 |\n",
       "|---|---|---|---|---|---|---|---|---|---|---|---|---|---|---|---|---|---|---|---|---|---|\n",
       "| 60000 | neg  | 60   | 0    | 20   | 12   | 0    | 0    | 0    | 0    | 0    | ⋯    | 1098 | 138  | 412  | 654  | 78   | 88   | 0    | 0    | 0    | 0    |\n",
       "\n"
      ],
      "text/plain": [
       "      eg_000 X  X.1 X.2 X.3 X.4 X.5 X.6 X.7 X.8 ⋯ X.160 X.161 X.162 X.163 X.164\n",
       "60000 neg    60 0   20  12  0   0   0   0   0   ⋯ 1098  138   412   654   78   \n",
       "      X.165 X.166 X.167 X.168 X.169\n",
       "60000 88    0     0     0     0    "
      ]
     },
     "metadata": {},
     "output_type": "display_data"
    }
   ],
   "source": [
    "nonzero2"
   ]
  },
  {
   "cell_type": "code",
   "execution_count": 24,
   "metadata": {},
   "outputs": [],
   "source": [
    "names(nonzero2)<-names(nonzero1)"
   ]
  },
  {
   "cell_type": "code",
   "execution_count": 25,
   "metadata": {},
   "outputs": [],
   "source": [
    "data[\"600001\",]<-nonzero1"
   ]
  },
  {
   "cell_type": "code",
   "execution_count": null,
   "metadata": {},
   "outputs": [],
   "source": []
  },
  {
   "cell_type": "code",
   "execution_count": 26,
   "metadata": {},
   "outputs": [
    {
     "data": {
      "text/html": [
       "171"
      ],
      "text/latex": [
       "171"
      ],
      "text/markdown": [
       "171"
      ],
      "text/plain": [
       "[1] 171"
      ]
     },
     "metadata": {},
     "output_type": "display_data"
    }
   ],
   "source": [
    "length(factor(data[\"600001\",]))"
   ]
  },
  {
   "cell_type": "code",
   "execution_count": 27,
   "metadata": {},
   "outputs": [
    {
     "data": {
      "text/html": [
       "171"
      ],
      "text/latex": [
       "171"
      ],
      "text/markdown": [
       "171"
      ],
      "text/plain": [
       "[1] 171"
      ]
     },
     "metadata": {},
     "output_type": "display_data"
    }
   ],
   "source": [
    "length(factor(data[\"600002\",]))"
   ]
  },
  {
   "cell_type": "code",
   "execution_count": 28,
   "metadata": {},
   "outputs": [],
   "source": [
    "data[\"600001\",]<-nonzero1"
   ]
  },
  {
   "cell_type": "code",
   "execution_count": 29,
   "metadata": {},
   "outputs": [],
   "source": [
    "data[\"600002\",]<-nonzero2"
   ]
  },
  {
   "cell_type": "code",
   "execution_count": 30,
   "metadata": {},
   "outputs": [],
   "source": [
    "data[,1]<-ifelse(data[,1]==\"pos\",1,0)"
   ]
  },
  {
   "cell_type": "code",
   "execution_count": 31,
   "metadata": {},
   "outputs": [
    {
     "name": "stdout",
     "output_type": "stream",
     "text": [
      "[1] 1\n",
      "[1] 0\n",
      "[1] 2\n",
      "[1] 0\n",
      "[1] 3\n",
      "[1] 58693\n",
      "[1] 4\n",
      "[1] 4261\n",
      "[1] 5\n",
      "[1] 18842\n",
      "[1] 6\n",
      "[1] 3190\n",
      "[1] 7\n",
      "[1] 3190\n",
      "[1] 8\n",
      "[1] 860\n",
      "[1] 9\n",
      "[1] 860\n",
      "[1] 10\n",
      "[1] 860\n",
      "[1] 11\n",
      "[1] 860\n",
      "[1] 12\n",
      "[1] 860\n",
      "[1] 13\n",
      "[1] 860\n",
      "[1] 14\n",
      "[1] 860\n",
      "[1] 15\n",
      "[1] 860\n",
      "[1] 16\n",
      "[1] 860\n",
      "[1] 17\n",
      "[1] 860\n",
      "[1] 18\n",
      "[1] 820\n",
      "[1] 19\n",
      "[1] 792\n",
      "[1] 20\n",
      "[1] 792\n",
      "[1] 21\n",
      "[1] 5598\n",
      "[1] 22\n",
      "[1] 811\n",
      "[1] 23\n",
      "[1] 792\n",
      "[1] 24\n",
      "[1] 811\n",
      "[1] 25\n",
      "[1] 751\n",
      "[1] 26\n",
      "[1] 811\n",
      "[1] 27\n",
      "[1] 751\n",
      "[1] 28\n",
      "[1] 3487\n",
      "[1] 29\n",
      "[1] 792\n",
      "[1] 30\n",
      "[1] 792\n",
      "[1] 31\n",
      "[1] 792\n",
      "[1] 32\n",
      "[1] 3188\n",
      "[1] 33\n",
      "[1] 3189\n",
      "[1] 34\n",
      "[1] 863\n",
      "[1] 35\n",
      "[1] 863\n",
      "[1] 36\n",
      "[1] 863\n",
      "[1] 37\n",
      "[1] 863\n",
      "[1] 38\n",
      "[1] 863\n",
      "[1] 39\n",
      "[1] 863\n",
      "[1] 40\n",
      "[1] 863\n",
      "[1] 41\n",
      "[1] 863\n",
      "[1] 42\n",
      "[1] 863\n",
      "[1] 43\n",
      "[1] 863\n",
      "[1] 44\n",
      "[1] 863\n",
      "[1] 45\n",
      "[1] 863\n",
      "[1] 46\n",
      "[1] 863\n",
      "[1] 47\n",
      "[1] 863\n",
      "[1] 48\n",
      "[1] 863\n",
      "[1] 49\n",
      "[1] 863\n",
      "[1] 50\n",
      "[1] 863\n",
      "[1] 51\n",
      "[1] 863\n",
      "[1] 52\n",
      "[1] 863\n",
      "[1] 53\n",
      "[1] 863\n",
      "[1] 54\n",
      "[1] 881\n",
      "[1] 55\n",
      "[1] 881\n",
      "[1] 56\n",
      "[1] 881\n",
      "[1] 57\n",
      "[1] 881\n",
      "[1] 58\n",
      "[1] 881\n",
      "[1] 59\n",
      "[1] 881\n",
      "[1] 60\n",
      "[1] 881\n",
      "[1] 61\n",
      "[1] 881\n",
      "[1] 62\n",
      "[1] 881\n",
      "[1] 63\n",
      "[1] 881\n",
      "[1] 64\n",
      "[1] 820\n",
      "[1] 65\n",
      "[1] 3489\n",
      "[1] 66\n",
      "[1] 3491\n",
      "[1] 67\n",
      "[1] 3193\n",
      "[1] 68\n",
      "[1] 3189\n",
      "[1] 69\n",
      "[1] 811\n",
      "[1] 70\n",
      "[1] 811\n",
      "[1] 71\n",
      "[1] 751\n",
      "[1] 72\n",
      "[1] 751\n",
      "[1] 73\n",
      "[1] 29128\n",
      "[1] 74\n",
      "[1] 34503\n",
      "[1] 75\n",
      "[1] 50096\n",
      "[1] 76\n",
      "[1] 55723\n",
      "[1] 77\n",
      "[1] 58710\n",
      "[1] 78\n",
      "[1] 60462\n",
      "[1] 79\n",
      "[1] 61704\n",
      "[1] 80\n",
      "[1] 62394\n",
      "[1] 81\n",
      "[1] 928\n",
      "[1] 82\n",
      "[1] 195\n",
      "[1] 83\n",
      "[1] 881\n",
      "[1] 84\n",
      "[1] 881\n",
      "[1] 85\n",
      "[1] 4123\n",
      "[1] 86\n",
      "[1] 580\n",
      "[1] 87\n",
      "[1] 3486\n",
      "[1] 88\n",
      "[1] 5562\n",
      "[1] 89\n",
      "[1] 928\n",
      "[1] 90\n",
      "[1] 4120\n",
      "[1] 91\n",
      "[1] 861\n",
      "[1] 92\n",
      "[1] 3190\n",
      "[1] 93\n",
      "[1] 18842\n",
      "[1] 94\n",
      "[1] 18842\n",
      "[1] 95\n",
      "[1] 18842\n",
      "[1] 96\n",
      "[1] 424\n",
      "[1] 97\n",
      "[1] 424\n",
      "[1] 98\n",
      "[1] 424\n",
      "[1] 99\n",
      "[1] 12012\n",
      "[1] 100\n",
      "[1] 12455\n",
      "[1] 101\n",
      "[1] 881\n",
      "[1] 102\n",
      "[1] 881\n",
      "[1] 103\n",
      "[1] 881\n",
      "[1] 104\n",
      "[1] 881\n",
      "[1] 105\n",
      "[1] 881\n",
      "[1] 106\n",
      "[1] 881\n",
      "[1] 107\n",
      "[1] 881\n",
      "[1] 108\n",
      "[1] 881\n",
      "[1] 109\n",
      "[1] 881\n",
      "[1] 110\n",
      "[1] 881\n",
      "[1] 111\n",
      "[1] 18842\n",
      "[1] 112\n",
      "[1] 3487\n",
      "[1] 113\n",
      "[1] 881\n",
      "[1] 114\n",
      "[1] 58693\n",
      "[1] 115\n",
      "[1] 858\n",
      "[1] 116\n",
      "[1] 858\n",
      "[1] 117\n",
      "[1] 858\n",
      "[1] 118\n",
      "[1] 858\n",
      "[1] 119\n",
      "[1] 858\n",
      "[1] 120\n",
      "[1] 858\n",
      "[1] 121\n",
      "[1] 858\n",
      "[1] 122\n",
      "[1] 858\n",
      "[1] 123\n",
      "[1] 858\n",
      "[1] 124\n",
      "[1] 858\n",
      "[1] 125\n",
      "[1] 17526\n",
      "[1] 126\n",
      "[1] 17526\n",
      "[1] 127\n",
      "[1] 17526\n",
      "[1] 128\n",
      "[1] 17526\n",
      "[1] 129\n",
      "[1] 17526\n",
      "[1] 130\n",
      "[1] 17526\n",
      "[1] 131\n",
      "[1] 17526\n",
      "[1] 132\n",
      "[1] 17526\n",
      "[1] 133\n",
      "[1] 17526\n",
      "[1] 134\n",
      "[1] 3191\n",
      "[1] 135\n",
      "[1] 3488\n",
      "[1] 136\n",
      "[1] 5102\n",
      "[1] 137\n",
      "[1] 5102\n",
      "[1] 138\n",
      "[1] 5102\n",
      "[1] 139\n",
      "[1] 5100\n",
      "[1] 140\n",
      "[1] 5101\n",
      "[1] 141\n",
      "[1] 5101\n",
      "[1] 142\n",
      "[1] 5102\n",
      "[1] 143\n",
      "[1] 5103\n",
      "[1] 144\n",
      "[1] 881\n",
      "[1] 145\n",
      "[1] 3488\n",
      "[1] 146\n",
      "[1] 3490\n",
      "[1] 147\n",
      "[1] 3490\n",
      "[1] 148\n",
      "[1] 3490\n",
      "[1] 149\n",
      "[1] 3491\n",
      "[1] 150\n",
      "[1] 3491\n",
      "[1] 151\n",
      "[1] 3490\n",
      "[1] 152\n",
      "[1] 3490\n",
      "[1] 153\n",
      "[1] 3487\n",
      "[1] 154\n",
      "[1] 3488\n",
      "[1] 155\n",
      "[1] 3485\n",
      "[1] 156\n",
      "[1] 3485\n",
      "[1] 157\n",
      "[1] 5101\n",
      "[1] 158\n",
      "[1] 12883\n",
      "[1] 159\n",
      "[1] 12012\n",
      "[1] 160\n",
      "[1] 863\n",
      "[1] 161\n",
      "[1] 863\n",
      "[1] 162\n",
      "[1] 863\n",
      "[1] 163\n",
      "[1] 863\n",
      "[1] 164\n",
      "[1] 863\n",
      "[1] 165\n",
      "[1] 863\n",
      "[1] 166\n",
      "[1] 863\n",
      "[1] 167\n",
      "[1] 863\n",
      "[1] 168\n",
      "[1] 863\n",
      "[1] 169\n",
      "[1] 863\n",
      "[1] 170\n",
      "[1] 3486\n",
      "[1] 171\n",
      "[1] 3485\n"
     ]
    }
   ],
   "source": [
    "#Every column except 1 and 2 have rows with na, some mostly na\n",
    "for (i in (1:ncol(data))){\n",
    "    print(i)\n",
    "    print(nrow(subset(data, (data[,i]==\"na\"))))\n",
    "}"
   ]
  },
  {
   "cell_type": "code",
   "execution_count": 32,
   "metadata": {},
   "outputs": [],
   "source": [
    "#Define a mode function for categorical variables\n",
    "Mode <- function(x) {\n",
    "  ux <- unique(x)\n",
    "  ux[which.max(tabulate(match(x, ux)))]\n",
    "}"
   ]
  },
  {
   "cell_type": "code",
   "execution_count": 33,
   "metadata": {},
   "outputs": [],
   "source": [
    "#need to redo, as I removed columns\n",
    "unique_counts<-as.data.frame(t(apply(data, 2, function(x) length(unique(x)))))"
   ]
  },
  {
   "cell_type": "code",
   "execution_count": 34,
   "metadata": {},
   "outputs": [],
   "source": [
    "#Before replacing na's, need to ohe the columns with only a few different entry type,\n",
    "#less than ten in this case\n",
    "cols_to_ohe<-apply(unique_counts[2:ncol(unique_counts)], 1, function(x) names(which(x <=10)))"
   ]
  },
  {
   "cell_type": "code",
   "execution_count": 35,
   "metadata": {},
   "outputs": [
    {
     "data": {
      "text/html": [
       "<table>\n",
       "<tbody>\n",
       "\t<tr><td>cd_000</td></tr>\n",
       "\t<tr><td>ch_000</td></tr>\n",
       "</tbody>\n",
       "</table>\n"
      ],
      "text/latex": [
       "\\begin{tabular}{l}\n",
       "\t cd\\_000\\\\\n",
       "\t ch\\_000\\\\\n",
       "\\end{tabular}\n"
      ],
      "text/markdown": [
       "\n",
       "| cd_000 |\n",
       "| ch_000 |\n",
       "\n"
      ],
      "text/plain": [
       "     [,1]  \n",
       "[1,] cd_000\n",
       "[2,] ch_000"
      ]
     },
     "metadata": {},
     "output_type": "display_data"
    }
   ],
   "source": [
    "cols_to_ohe"
   ]
  },
  {
   "cell_type": "code",
   "execution_count": 36,
   "metadata": {},
   "outputs": [],
   "source": [
    "#A little bit of stack overflow borrowing, the model.moatrix \n",
    "#line returns on hot encoded columns for things that are factors\n",
    "ohe_cols<-function(x){\n",
    "     xf=factor(x)\n",
    "     return(model.matrix(~xf+0))\n",
    "}"
   ]
  },
  {
   "cell_type": "code",
   "execution_count": 37,
   "metadata": {},
   "outputs": [],
   "source": [
    "#One hot encodes specified columns of data, using above function\n",
    "ohe_matrix<-function(X,cols){\n",
    "    X<-cbind(X,lapply(X[cols], ohe_cols))\n",
    "    X<-X[,!names(X) %in% cols]\n",
    "    return(X)\n",
    "}"
   ]
  },
  {
   "cell_type": "code",
   "execution_count": 38,
   "metadata": {},
   "outputs": [],
   "source": [
    "#Go ahead and one hot encode all rows data set. If a given set of data to run it\n",
    "#on had less categories in the ohe cols, would need to add columns of zeros.\n",
    "data<-ohe_matrix(data,c(t(cols_to_ohe)))"
   ]
  },
  {
   "cell_type": "code",
   "execution_count": 39,
   "metadata": {},
   "outputs": [
    {
     "data": {
      "text/html": [
       "<ol class=list-inline>\n",
       "\t<li>76001</li>\n",
       "\t<li>174</li>\n",
       "</ol>\n"
      ],
      "text/latex": [
       "\\begin{enumerate*}\n",
       "\\item 76001\n",
       "\\item 174\n",
       "\\end{enumerate*}\n"
      ],
      "text/markdown": [
       "1. 76001\n",
       "2. 174\n",
       "\n",
       "\n"
      ],
      "text/plain": [
       "[1] 76001   174"
      ]
     },
     "metadata": {},
     "output_type": "display_data"
    }
   ],
   "source": [
    "dim(data)"
   ]
  },
  {
   "cell_type": "code",
   "execution_count": 40,
   "metadata": {},
   "outputs": [],
   "source": [
    "#Shuffle data \n",
    "data<-data[sample(nrow(data)),]"
   ]
  },
  {
   "cell_type": "code",
   "execution_count": 41,
   "metadata": {},
   "outputs": [],
   "source": [
    "#Seperate out classes\n",
    "X_data<-data[,-c(1)]\n",
    "y_data<-as.data.frame(data[,1])"
   ]
  },
  {
   "cell_type": "code",
   "execution_count": 42,
   "metadata": {},
   "outputs": [],
   "source": [
    "#Aggain, after ohe function\n",
    "unique_counts<-as.data.frame(t(apply(data, 2, function(x) length(unique(x)))))"
   ]
  },
  {
   "cell_type": "code",
   "execution_count": 43,
   "metadata": {},
   "outputs": [],
   "source": [
    "X_train<-X_data[1:(as.integer(nrow(X_data)/100*70)),]\n",
    "y_train<-y_data[1:(as.integer(nrow(X_data)/100*70)),1]"
   ]
  },
  {
   "cell_type": "code",
   "execution_count": 44,
   "metadata": {},
   "outputs": [],
   "source": [
    "X_val<-X_data[(as.integer(nrow(X_data)/100*70)+1):(as.integer(nrow(X_data)/100*85)),]\n",
    "y_val<-y_data[(as.integer(nrow(X_data)/100*70)+1):(as.integer(nrow(X_data)/100*85)),1]"
   ]
  },
  {
   "cell_type": "code",
   "execution_count": 45,
   "metadata": {},
   "outputs": [],
   "source": [
    "X_test<-X_data[(as.integer(nrow(X_data)/100*85)+1):(as.integer(nrow(X_data))),]\n",
    "y_test<-y_data[(as.integer(nrow(X_data)/100*85)+1):(as.integer(nrow(X_data))),1]"
   ]
  },
  {
   "cell_type": "code",
   "execution_count": 46,
   "metadata": {},
   "outputs": [
    {
     "data": {
      "text/html": [
       "76001"
      ],
      "text/latex": [
       "76001"
      ],
      "text/markdown": [
       "76001"
      ],
      "text/plain": [
       "[1] 76001"
      ]
     },
     "metadata": {},
     "output_type": "display_data"
    }
   ],
   "source": [
    "#Make sure that there was no overloap or missing rows\n",
    "nrow(X_train)+nrow(X_val)+nrow(X_test)"
   ]
  },
  {
   "cell_type": "code",
   "execution_count": 47,
   "metadata": {},
   "outputs": [],
   "source": [
    "#Replace the \"na\" with numbers, using mode for a small number of uniques values in column,\n",
    "#and median otherwise \n",
    "for (i in (1:ncol(X_train))){\n",
    "    med<-median(as.numeric(X_train[,i][X_train[,i]!=\"na\"]))\n",
    "    X_test[,i][X_test[,i]==\"na\"]<-med\n",
    "    X_val[,i][X_val[,i]==\"na\"]<-med\n",
    "    X_train[,i][X_train[,i]==\"na\"]<-med\n",
    "\n",
    "}"
   ]
  },
  {
   "cell_type": "code",
   "execution_count": 48,
   "metadata": {},
   "outputs": [
    {
     "data": {
      "text/html": [
       "154"
      ],
      "text/latex": [
       "154"
      ],
      "text/markdown": [
       "154"
      ],
      "text/plain": [
       "[1] 154"
      ]
     },
     "metadata": {},
     "output_type": "display_data"
    }
   ],
   "source": [
    "median(as.numeric(X_train[,3][X_train[,3]!=\"na\"]))"
   ]
  },
  {
   "cell_type": "code",
   "execution_count": 49,
   "metadata": {},
   "outputs": [
    {
     "name": "stderr",
     "output_type": "stream",
     "text": [
      "Warning message in eval(expr, envir, enclos):\n",
      "“NAs introduced by coercion”"
     ]
    }
   ],
   "source": [
    "#Introduce NA's, remove them now\n",
    "for (i in (1:ncol(X_train))){\n",
    "    X_test[,i]<-as.numeric(X_test[,i])\n",
    "    X_val[,i]<-as.numeric(X_val[,i])\n",
    "    X_train[,i]<-as.numeric(X_train[,i])\n",
    "\n",
    "    med<-median(as.numeric(X_train[,i][!is.na(X_train[,i])]))\n",
    "    X_test[,i][is.na(X_test[,i])]<-med\n",
    "    X_val[,i][is.na(X_val[,i])]<-med\n",
    "    X_train[,i][is.na(X_train[,i])]<-med\n",
    "\n",
    "}"
   ]
  },
  {
   "cell_type": "code",
   "execution_count": null,
   "metadata": {},
   "outputs": [],
   "source": []
  },
  {
   "cell_type": "code",
   "execution_count": 50,
   "metadata": {},
   "outputs": [
    {
     "data": {
      "text/html": [
       "0"
      ],
      "text/latex": [
       "0"
      ],
      "text/markdown": [
       "0"
      ],
      "text/plain": [
       "[1] 0"
      ]
     },
     "metadata": {},
     "output_type": "display_data"
    }
   ],
   "source": [
    "length(X_train[is.na(X_train)])"
   ]
  },
  {
   "cell_type": "code",
   "execution_count": 51,
   "metadata": {},
   "outputs": [
    {
     "data": {
      "text/html": [
       "<ol class=list-inline>\n",
       "\t<li>76001</li>\n",
       "\t<li>174</li>\n",
       "</ol>\n"
      ],
      "text/latex": [
       "\\begin{enumerate*}\n",
       "\\item 76001\n",
       "\\item 174\n",
       "\\end{enumerate*}\n"
      ],
      "text/markdown": [
       "1. 76001\n",
       "2. 174\n",
       "\n",
       "\n"
      ],
      "text/plain": [
       "[1] 76001   174"
      ]
     },
     "metadata": {},
     "output_type": "display_data"
    }
   ],
   "source": [
    "dim(data)"
   ]
  },
  {
   "cell_type": "code",
   "execution_count": 52,
   "metadata": {},
   "outputs": [],
   "source": [
    "X_train<-X_train[,-c(261)]\n",
    "X_val<-X_val[,-c(261)]\n",
    "X_test<-X_test[,-c(261)]"
   ]
  },
  {
   "cell_type": "code",
   "execution_count": 53,
   "metadata": {},
   "outputs": [],
   "source": [
    "#Min max normalize\n",
    "norm<-function(X,X_tr){\n",
    "    for(i in 1:ncol(X)){\n",
    "        X[,i]<-(X[,i] - mean(X_tr[,i]))/sd(X_tr[,i])\n",
    "    }\n",
    "    return(X)\n",
    "}"
   ]
  },
  {
   "cell_type": "code",
   "execution_count": 54,
   "metadata": {},
   "outputs": [],
   "source": [
    "X_tr_norm<-norm(X_train,X_train)\n",
    "X_val_norm<-norm(X_val,X_train)\n",
    "X_test_norm<-norm(X_test,X_train)"
   ]
  },
  {
   "cell_type": "code",
   "execution_count": 55,
   "metadata": {},
   "outputs": [],
   "source": [
    "X_tr_norm<-as.matrix(X_tr_norm)\n",
    "X_val_norm<-as.matrix(X_val_norm)\n",
    "X_test_norm<-as.matrix(X_test_norm)\n",
    "y_train<-as.matrix(y_train)\n",
    "y_val<-as.matrix(y_val)\n",
    "y_test<-as.matrix(y_test)"
   ]
  },
  {
   "cell_type": "code",
   "execution_count": 56,
   "metadata": {},
   "outputs": [],
   "source": [
    "#Make phi\n",
    "phi_transform<-function(X){\n",
    "    phi<-cbind(bias=rep(1,nrow(X)),X)\n",
    "    return(phi)\n",
    "}"
   ]
  },
  {
   "cell_type": "code",
   "execution_count": 57,
   "metadata": {},
   "outputs": [],
   "source": [
    "#Clean out unused variables again. Probably not necessary, but the data set is reasonably large\n",
    "rm(X_train)\n",
    "rm(X_val)\n",
    "rm(X_test)"
   ]
  },
  {
   "cell_type": "code",
   "execution_count": 58,
   "metadata": {},
   "outputs": [],
   "source": [
    "#Create phis for test train validate\n",
    "phi_tr<-phi_transform(X_tr_norm)\n",
    "phi_val<-phi_transform(X_val_norm)\n",
    "phi_test<-phi_transform(X_test_norm)"
   ]
  },
  {
   "cell_type": "code",
   "execution_count": 371,
   "metadata": {},
   "outputs": [],
   "source": [
    "# #Graphing the data, it looks like they are linear or quadratic, with large standard deviation\n",
    "# jpeg(\"all_data1.jpg\", width=900, height=20000, res=120)\n",
    "# par(mfrow=c(57,3),mar = rep(2, 4))\n",
    "# for (j in (1:169)){\n",
    "#     plot(X_tr_norm[,3][y_train==1],X_tr_norm[,j][y_train==1], col=\"red\")\n",
    "#     points(X_tr_norm[,3][y_train==0],X_tr_norm[,j][y_train==0], col=\"blue\")\n",
    "# }\n",
    "\n",
    "# dev.off()"
   ]
  },
  {
   "cell_type": "code",
   "execution_count": 5,
   "metadata": {},
   "outputs": [],
   "source": [
    "sig<-function(h){\n",
    "    1/(1+exp(-h))\n",
    "}"
   ]
  },
  {
   "cell_type": "code",
   "execution_count": 6,
   "metadata": {},
   "outputs": [],
   "source": [
    "cost<-function(p,y){\n",
    "    -1*(sum(log(p_val[y_val==1]))+sum(log(p_val[y_val==0])))\n",
    "}"
   ]
  },
  {
   "cell_type": "code",
   "execution_count": 666,
   "metadata": {},
   "outputs": [],
   "source": [
    "#Arbitrary, large number to beat\n",
    "errbest<-10000000\n",
    "\n",
    "w<-matrix(rnorm(ncol(y_train)*ncol(phi_tr)),ncol(phi_tr),ncol(y_train))\n",
    "w_best<-w\n",
    "#Set hyperparameters and intitalize vectors for graphing\n"
   ]
  },
  {
   "cell_type": "code",
   "execution_count": 692,
   "metadata": {},
   "outputs": [],
   "source": [
    "#Set the number of epochs\n",
    "epochs<-200\n",
    "error<-c()\n",
    "epoch<-c()\n",
    "eta<-0.0000001\n",
    "lam1<-0.009\n",
    "#w<-w_best\n",
    "for (i in 1:epochs){\n",
    "    #calculate error on validation set\n",
    "    p_val=sig(phi_val%*%w)\n",
    "    error<-c(error,cost(p_val,y_val))\n",
    "    epoch<-c(epoch,i)\n",
    "    if (error[i]<errbest){\n",
    "        errbest<-error[i]\n",
    "        w_best<-w\n",
    "        }\n",
    "    #Calculate new w using training set\n",
    "    p_train=sig(phi_tr%*%w)\n",
    "    w<-w-eta*(t(phi_tr)%*%(p_train-y_train))-lam1*sign(w)\n",
    "}"
   ]
  },
  {
   "cell_type": "code",
   "execution_count": 693,
   "metadata": {},
   "outputs": [
    {
     "data": {
      "image/png": "[encoded data removed]",
      "text/plain": [
       "plot without title"
      ]
     },
     "metadata": {},
     "output_type": "display_data"
    }
   ],
   "source": [
    "plot(epoch,error)"
   ]
  },
  {
   "cell_type": "code",
   "execution_count": 694,
   "metadata": {},
   "outputs": [],
   "source": [
    "w_best_low_r<-w_best"
   ]
  },
  {
   "cell_type": "code",
   "execution_count": 695,
   "metadata": {},
   "outputs": [],
   "source": [
    "p_val=sig(phi_val%*%w)"
   ]
  },
  {
   "cell_type": "code",
   "execution_count": 696,
   "metadata": {},
   "outputs": [],
   "source": [
    "y_pred=round(p_val)"
   ]
  },
  {
   "cell_type": "code",
   "execution_count": 697,
   "metadata": {},
   "outputs": [
    {
     "data": {
      "text/html": [
       "0.841628959276018"
      ],
      "text/latex": [
       "0.841628959276018"
      ],
      "text/markdown": [
       "0.841628959276018"
      ],
      "text/plain": [
       "[1] 0.841629"
      ]
     },
     "metadata": {},
     "output_type": "display_data"
    }
   ],
   "source": [
    "length(y_pred[y_pred==y_val & y_val==1])/length(y_val[y_val==1])"
   ]
  },
  {
   "cell_type": "code",
   "execution_count": 698,
   "metadata": {},
   "outputs": [
    {
     "data": {
      "text/html": [
       "0.631491228070175"
      ],
      "text/latex": [
       "0.631491228070175"
      ],
      "text/markdown": [
       "0.631491228070175"
      ],
      "text/plain": [
       "[1] 0.6314912"
      ]
     },
     "metadata": {},
     "output_type": "display_data"
    }
   ],
   "source": [
    "length(y_pred[y_pred==y_val ])/length(y_pred)"
   ]
  },
  {
   "cell_type": "code",
   "execution_count": 462,
   "metadata": {},
   "outputs": [],
   "source": [
    "#High accuracy, 80 recall\n",
    "#write.csv(w_best,\"w_best1.csv\")"
   ]
  },
  {
   "cell_type": "code",
   "execution_count": 688,
   "metadata": {},
   "outputs": [],
   "source": [
    "#Low accuracy, high recall\n",
    "write.csv(w,\"w_best2.csv\")"
   ]
  },
  {
   "cell_type": "code",
   "execution_count": 196,
   "metadata": {},
   "outputs": [],
   "source": [
    "w<-read.csv(\"w_best2.csv\", header = TRUE)"
   ]
  },
  {
   "cell_type": "code",
   "execution_count": 197,
   "metadata": {
    "scrolled": true
   },
   "outputs": [
    {
     "data": {
      "text/html": [
       "<table>\n",
       "<thead><tr><th></th><th scope=col>X</th><th scope=col>V1</th></tr></thead>\n",
       "<tbody>\n",
       "\t<tr><th scope=row>35</th><td>ay_001      </td><td> 1.078573214</td></tr>\n",
       "\t<tr><th scope=row>95</th><td>cj_000      </td><td> 1.066790182</td></tr>\n",
       "\t<tr><th scope=row>11</th><td>ag_003      </td><td> 0.639165055</td></tr>\n",
       "\t<tr><th scope=row>159</th><td>ee_001      </td><td> 0.455658926</td></tr>\n",
       "\t<tr><th scope=row>99</th><td>cn_000      </td><td> 0.447853652</td></tr>\n",
       "\t<tr><th scope=row>42</th><td>ay_008      </td><td>-0.358648394</td></tr>\n",
       "\t<tr><th scope=row>119</th><td>cs_006      </td><td> 0.335000108</td></tr>\n",
       "\t<tr><th scope=row>96</th><td>ck_000      </td><td> 0.314824155</td></tr>\n",
       "\t<tr><th scope=row>115</th><td>cs_002      </td><td>-0.305680712</td></tr>\n",
       "\t<tr><th scope=row>167</th><td>ee_009      </td><td> 0.212274756</td></tr>\n",
       "\t<tr><th scope=row>3</th><td>ab_000      </td><td>-0.163707676</td></tr>\n",
       "\t<tr><th scope=row>92</th><td>cf_000      </td><td>-0.146727917</td></tr>\n",
       "\t<tr><th scope=row>89</th><td>cb_000      </td><td>-0.105566542</td></tr>\n",
       "\t<tr><th scope=row>12</th><td>ag_004      </td><td> 0.060797196</td></tr>\n",
       "\t<tr><th scope=row>87</th><td>bz_000      </td><td>-0.047882640</td></tr>\n",
       "\t<tr><th scope=row>51</th><td>az_007      </td><td> 0.008849928</td></tr>\n",
       "\t<tr><th scope=row>83</th><td>bu_000      </td><td>-0.008835311</td></tr>\n",
       "\t<tr><th scope=row>122</th><td>cs_009      </td><td> 0.008727920</td></tr>\n",
       "\t<tr><th scope=row>80</th><td>br_000      </td><td>-0.008705906</td></tr>\n",
       "\t<tr><th scope=row>111</th><td>cq_000      </td><td> 0.008683958</td></tr>\n",
       "\t<tr><th scope=row>107</th><td>cn_008      </td><td> 0.008653887</td></tr>\n",
       "\t<tr><th scope=row>110</th><td>cp_000      </td><td>-0.008570122</td></tr>\n",
       "\t<tr><th scope=row>79</th><td>bq_000      </td><td> 0.008568101</td></tr>\n",
       "\t<tr><th scope=row>90</th><td>cc_000      </td><td> 0.008340459</td></tr>\n",
       "\t<tr><th scope=row>28</th><td>ar_000      </td><td> 0.008270436</td></tr>\n",
       "\t<tr><th scope=row>59</th><td>ba_005      </td><td> 0.008189258</td></tr>\n",
       "\t<tr><th scope=row>37</th><td>ay_003      </td><td>-0.008156439</td></tr>\n",
       "\t<tr><th scope=row>25</th><td>ao_000      </td><td> 0.008127864</td></tr>\n",
       "\t<tr><th scope=row>27</th><td>aq_000      </td><td> 0.008079751</td></tr>\n",
       "\t<tr><th scope=row>30</th><td>at_000      </td><td> 0.008076710</td></tr>\n",
       "\t<tr><th scope=row>⋮</th><td>⋮</td><td>⋮</td></tr>\n",
       "\t<tr><th scope=row>65</th><td>bc_000       </td><td> 1.645217e-03</td></tr>\n",
       "\t<tr><th scope=row>172</th><td>ch_000.xf0   </td><td> 1.627011e-03</td></tr>\n",
       "\t<tr><th scope=row>84</th><td>bv_000       </td><td> 1.489682e-03</td></tr>\n",
       "\t<tr><th scope=row>120</th><td>cs_007       </td><td>-1.487535e-03</td></tr>\n",
       "\t<tr><th scope=row>81</th><td>bs_000       </td><td>-1.486453e-03</td></tr>\n",
       "\t<tr><th scope=row>162</th><td>ee_004       </td><td>-1.388206e-03</td></tr>\n",
       "\t<tr><th scope=row>134</th><td>df_000       </td><td>-1.292334e-03</td></tr>\n",
       "\t<tr><th scope=row>39</th><td>ay_005       </td><td> 1.287237e-03</td></tr>\n",
       "\t<tr><th scope=row>148</th><td>dt_000       </td><td> 1.152900e-03</td></tr>\n",
       "\t<tr><th scope=row>49</th><td>az_005       </td><td>-1.059744e-03</td></tr>\n",
       "\t<tr><th scope=row>166</th><td>ee_008       </td><td> 1.037499e-03</td></tr>\n",
       "\t<tr><th scope=row>147</th><td>ds_000       </td><td> 9.978601e-04</td></tr>\n",
       "\t<tr><th scope=row>141</th><td>dm_000       </td><td>-9.293016e-04</td></tr>\n",
       "\t<tr><th scope=row>129</th><td>da_000       </td><td>-8.464521e-04</td></tr>\n",
       "\t<tr><th scope=row>40</th><td>ay_006       </td><td>-8.267944e-04</td></tr>\n",
       "\t<tr><th scope=row>94</th><td>ci_000       </td><td> 7.226016e-04</td></tr>\n",
       "\t<tr><th scope=row>97</th><td>cl_000       </td><td>-6.871911e-04</td></tr>\n",
       "\t<tr><th scope=row>160</th><td>ee_002       </td><td>-6.585066e-04</td></tr>\n",
       "\t<tr><th scope=row>102</th><td>cn_003       </td><td>-6.395978e-04</td></tr>\n",
       "\t<tr><th scope=row>139</th><td>dk_000       </td><td>-6.041629e-04</td></tr>\n",
       "\t<tr><th scope=row>101</th><td>cn_002       </td><td>-5.594048e-04</td></tr>\n",
       "\t<tr><th scope=row>64</th><td>bb_000       </td><td> 5.542259e-04</td></tr>\n",
       "\t<tr><th scope=row>100</th><td>cn_001       </td><td>-5.012078e-04</td></tr>\n",
       "\t<tr><th scope=row>85</th><td>bx_000       </td><td> 3.140468e-04</td></tr>\n",
       "\t<tr><th scope=row>5</th><td>ad_000       </td><td>-2.615337e-04</td></tr>\n",
       "\t<tr><th scope=row>52</th><td>az_008       </td><td> 1.817424e-04</td></tr>\n",
       "\t<tr><th scope=row>169</th><td>eg_000       </td><td>-1.187028e-04</td></tr>\n",
       "\t<tr><th scope=row>144</th><td>dp_000       </td><td>-9.194894e-05</td></tr>\n",
       "\t<tr><th scope=row>62</th><td>ba_008       </td><td> 7.705808e-05</td></tr>\n",
       "\t<tr><th scope=row>124</th><td>cu_000       </td><td> 5.529391e-05</td></tr>\n",
       "</tbody>\n",
       "</table>\n"
      ],
      "text/latex": [
       "\\begin{tabular}{r|ll}\n",
       "  & X & V1\\\\\n",
       "\\hline\n",
       "\t35 & ay\\_001     &  1.078573214\\\\\n",
       "\t95 & cj\\_000     &  1.066790182\\\\\n",
       "\t11 & ag\\_003     &  0.639165055\\\\\n",
       "\t159 & ee\\_001     &  0.455658926\\\\\n",
       "\t99 & cn\\_000     &  0.447853652\\\\\n",
       "\t42 & ay\\_008     & -0.358648394\\\\\n",
       "\t119 & cs\\_006     &  0.335000108\\\\\n",
       "\t96 & ck\\_000     &  0.314824155\\\\\n",
       "\t115 & cs\\_002     & -0.305680712\\\\\n",
       "\t167 & ee\\_009     &  0.212274756\\\\\n",
       "\t3 & ab\\_000     & -0.163707676\\\\\n",
       "\t92 & cf\\_000     & -0.146727917\\\\\n",
       "\t89 & cb\\_000     & -0.105566542\\\\\n",
       "\t12 & ag\\_004     &  0.060797196\\\\\n",
       "\t87 & bz\\_000     & -0.047882640\\\\\n",
       "\t51 & az\\_007     &  0.008849928\\\\\n",
       "\t83 & bu\\_000     & -0.008835311\\\\\n",
       "\t122 & cs\\_009     &  0.008727920\\\\\n",
       "\t80 & br\\_000     & -0.008705906\\\\\n",
       "\t111 & cq\\_000     &  0.008683958\\\\\n",
       "\t107 & cn\\_008     &  0.008653887\\\\\n",
       "\t110 & cp\\_000     & -0.008570122\\\\\n",
       "\t79 & bq\\_000     &  0.008568101\\\\\n",
       "\t90 & cc\\_000     &  0.008340459\\\\\n",
       "\t28 & ar\\_000     &  0.008270436\\\\\n",
       "\t59 & ba\\_005     &  0.008189258\\\\\n",
       "\t37 & ay\\_003     & -0.008156439\\\\\n",
       "\t25 & ao\\_000     &  0.008127864\\\\\n",
       "\t27 & aq\\_000     &  0.008079751\\\\\n",
       "\t30 & at\\_000     &  0.008076710\\\\\n",
       "\t⋮ & ⋮ & ⋮\\\\\n",
       "\t65 & bc\\_000      &  1.645217e-03\\\\\n",
       "\t172 & ch\\_000.xf0  &  1.627011e-03\\\\\n",
       "\t84 & bv\\_000      &  1.489682e-03\\\\\n",
       "\t120 & cs\\_007      & -1.487535e-03\\\\\n",
       "\t81 & bs\\_000      & -1.486453e-03\\\\\n",
       "\t162 & ee\\_004      & -1.388206e-03\\\\\n",
       "\t134 & df\\_000      & -1.292334e-03\\\\\n",
       "\t39 & ay\\_005      &  1.287237e-03\\\\\n",
       "\t148 & dt\\_000      &  1.152900e-03\\\\\n",
       "\t49 & az\\_005      & -1.059744e-03\\\\\n",
       "\t166 & ee\\_008      &  1.037499e-03\\\\\n",
       "\t147 & ds\\_000      &  9.978601e-04\\\\\n",
       "\t141 & dm\\_000      & -9.293016e-04\\\\\n",
       "\t129 & da\\_000      & -8.464521e-04\\\\\n",
       "\t40 & ay\\_006      & -8.267944e-04\\\\\n",
       "\t94 & ci\\_000      &  7.226016e-04\\\\\n",
       "\t97 & cl\\_000      & -6.871911e-04\\\\\n",
       "\t160 & ee\\_002      & -6.585066e-04\\\\\n",
       "\t102 & cn\\_003      & -6.395978e-04\\\\\n",
       "\t139 & dk\\_000      & -6.041629e-04\\\\\n",
       "\t101 & cn\\_002      & -5.594048e-04\\\\\n",
       "\t64 & bb\\_000      &  5.542259e-04\\\\\n",
       "\t100 & cn\\_001      & -5.012078e-04\\\\\n",
       "\t85 & bx\\_000      &  3.140468e-04\\\\\n",
       "\t5 & ad\\_000      & -2.615337e-04\\\\\n",
       "\t52 & az\\_008      &  1.817424e-04\\\\\n",
       "\t169 & eg\\_000      & -1.187028e-04\\\\\n",
       "\t144 & dp\\_000      & -9.194894e-05\\\\\n",
       "\t62 & ba\\_008      &  7.705808e-05\\\\\n",
       "\t124 & cu\\_000      &  5.529391e-05\\\\\n",
       "\\end{tabular}\n"
      ],
      "text/markdown": [
       "\n",
       "| <!--/--> | X | V1 |\n",
       "|---|---|---|\n",
       "| 35 | ay_001       |  1.078573214 |\n",
       "| 95 | cj_000       |  1.066790182 |\n",
       "| 11 | ag_003       |  0.639165055 |\n",
       "| 159 | ee_001       |  0.455658926 |\n",
       "| 99 | cn_000       |  0.447853652 |\n",
       "| 42 | ay_008       | -0.358648394 |\n",
       "| 119 | cs_006       |  0.335000108 |\n",
       "| 96 | ck_000       |  0.314824155 |\n",
       "| 115 | cs_002       | -0.305680712 |\n",
       "| 167 | ee_009       |  0.212274756 |\n",
       "| 3 | ab_000       | -0.163707676 |\n",
       "| 92 | cf_000       | -0.146727917 |\n",
       "| 89 | cb_000       | -0.105566542 |\n",
       "| 12 | ag_004       |  0.060797196 |\n",
       "| 87 | bz_000       | -0.047882640 |\n",
       "| 51 | az_007       |  0.008849928 |\n",
       "| 83 | bu_000       | -0.008835311 |\n",
       "| 122 | cs_009       |  0.008727920 |\n",
       "| 80 | br_000       | -0.008705906 |\n",
       "| 111 | cq_000       |  0.008683958 |\n",
       "| 107 | cn_008       |  0.008653887 |\n",
       "| 110 | cp_000       | -0.008570122 |\n",
       "| 79 | bq_000       |  0.008568101 |\n",
       "| 90 | cc_000       |  0.008340459 |\n",
       "| 28 | ar_000       |  0.008270436 |\n",
       "| 59 | ba_005       |  0.008189258 |\n",
       "| 37 | ay_003       | -0.008156439 |\n",
       "| 25 | ao_000       |  0.008127864 |\n",
       "| 27 | aq_000       |  0.008079751 |\n",
       "| 30 | at_000       |  0.008076710 |\n",
       "| ⋮ | ⋮ | ⋮ |\n",
       "| 65 | bc_000        |  1.645217e-03 |\n",
       "| 172 | ch_000.xf0    |  1.627011e-03 |\n",
       "| 84 | bv_000        |  1.489682e-03 |\n",
       "| 120 | cs_007        | -1.487535e-03 |\n",
       "| 81 | bs_000        | -1.486453e-03 |\n",
       "| 162 | ee_004        | -1.388206e-03 |\n",
       "| 134 | df_000        | -1.292334e-03 |\n",
       "| 39 | ay_005        |  1.287237e-03 |\n",
       "| 148 | dt_000        |  1.152900e-03 |\n",
       "| 49 | az_005        | -1.059744e-03 |\n",
       "| 166 | ee_008        |  1.037499e-03 |\n",
       "| 147 | ds_000        |  9.978601e-04 |\n",
       "| 141 | dm_000        | -9.293016e-04 |\n",
       "| 129 | da_000        | -8.464521e-04 |\n",
       "| 40 | ay_006        | -8.267944e-04 |\n",
       "| 94 | ci_000        |  7.226016e-04 |\n",
       "| 97 | cl_000        | -6.871911e-04 |\n",
       "| 160 | ee_002        | -6.585066e-04 |\n",
       "| 102 | cn_003        | -6.395978e-04 |\n",
       "| 139 | dk_000        | -6.041629e-04 |\n",
       "| 101 | cn_002        | -5.594048e-04 |\n",
       "| 64 | bb_000        |  5.542259e-04 |\n",
       "| 100 | cn_001        | -5.012078e-04 |\n",
       "| 85 | bx_000        |  3.140468e-04 |\n",
       "| 5 | ad_000        | -2.615337e-04 |\n",
       "| 52 | az_008        |  1.817424e-04 |\n",
       "| 169 | eg_000        | -1.187028e-04 |\n",
       "| 144 | dp_000        | -9.194894e-05 |\n",
       "| 62 | ba_008        |  7.705808e-05 |\n",
       "| 124 | cu_000        |  5.529391e-05 |\n",
       "\n"
      ],
      "text/plain": [
       "    X          V1           \n",
       "35  ay_001      1.078573214 \n",
       "95  cj_000      1.066790182 \n",
       "11  ag_003      0.639165055 \n",
       "159 ee_001      0.455658926 \n",
       "99  cn_000      0.447853652 \n",
       "42  ay_008     -0.358648394 \n",
       "119 cs_006      0.335000108 \n",
       "96  ck_000      0.314824155 \n",
       "115 cs_002     -0.305680712 \n",
       "167 ee_009      0.212274756 \n",
       "3   ab_000     -0.163707676 \n",
       "92  cf_000     -0.146727917 \n",
       "89  cb_000     -0.105566542 \n",
       "12  ag_004      0.060797196 \n",
       "87  bz_000     -0.047882640 \n",
       "51  az_007      0.008849928 \n",
       "83  bu_000     -0.008835311 \n",
       "122 cs_009      0.008727920 \n",
       "80  br_000     -0.008705906 \n",
       "111 cq_000      0.008683958 \n",
       "107 cn_008      0.008653887 \n",
       "110 cp_000     -0.008570122 \n",
       "79  bq_000      0.008568101 \n",
       "90  cc_000      0.008340459 \n",
       "28  ar_000      0.008270436 \n",
       "59  ba_005      0.008189258 \n",
       "37  ay_003     -0.008156439 \n",
       "25  ao_000      0.008127864 \n",
       "27  aq_000      0.008079751 \n",
       "30  at_000      0.008076710 \n",
       "⋮   ⋮          ⋮            \n",
       "65  bc_000      1.645217e-03\n",
       "172 ch_000.xf0  1.627011e-03\n",
       "84  bv_000      1.489682e-03\n",
       "120 cs_007     -1.487535e-03\n",
       "81  bs_000     -1.486453e-03\n",
       "162 ee_004     -1.388206e-03\n",
       "134 df_000     -1.292334e-03\n",
       "39  ay_005      1.287237e-03\n",
       "148 dt_000      1.152900e-03\n",
       "49  az_005     -1.059744e-03\n",
       "166 ee_008      1.037499e-03\n",
       "147 ds_000      9.978601e-04\n",
       "141 dm_000     -9.293016e-04\n",
       "129 da_000     -8.464521e-04\n",
       "40  ay_006     -8.267944e-04\n",
       "94  ci_000      7.226016e-04\n",
       "97  cl_000     -6.871911e-04\n",
       "160 ee_002     -6.585066e-04\n",
       "102 cn_003     -6.395978e-04\n",
       "139 dk_000     -6.041629e-04\n",
       "101 cn_002     -5.594048e-04\n",
       "64  bb_000      5.542259e-04\n",
       "100 cn_001     -5.012078e-04\n",
       "85  bx_000      3.140468e-04\n",
       "5   ad_000     -2.615337e-04\n",
       "52  az_008      1.817424e-04\n",
       "169 eg_000     -1.187028e-04\n",
       "144 dp_000     -9.194894e-05\n",
       "62  ba_008      7.705808e-05\n",
       "124 cu_000      5.529391e-05"
      ]
     },
     "metadata": {},
     "output_type": "display_data"
    }
   ],
   "source": [
    "w[order(-abs(w[\"V1\"])),]"
   ]
  },
  {
   "cell_type": "code",
   "execution_count": 198,
   "metadata": {},
   "outputs": [],
   "source": [
    "w<-as.matrix(w[,2])"
   ]
  },
  {
   "cell_type": "code",
   "execution_count": 199,
   "metadata": {},
   "outputs": [
    {
     "data": {
      "text/html": [
       "<strong>png:</strong> 2"
      ],
      "text/latex": [
       "\\textbf{png:} 2"
      ],
      "text/markdown": [
       "**png:** 2"
      ],
      "text/plain": [
       "png \n",
       "  2 "
      ]
     },
     "metadata": {},
     "output_type": "display_data"
    }
   ],
   "source": [
    "jpeg(\"w_hist.jpg\")\n",
    "hist(w, ,col=\"chocolate\")\n",
    "dev.off()"
   ]
  },
  {
   "cell_type": "code",
   "execution_count": 200,
   "metadata": {},
   "outputs": [],
   "source": [
    "p_test=sig(phi_test%*%w)\n",
    "\n",
    "y_pred=round(p_test)"
   ]
  },
  {
   "cell_type": "code",
   "execution_count": 201,
   "metadata": {},
   "outputs": [
    {
     "data": {
      "text/html": [
       "0.934883720930233"
      ],
      "text/latex": [
       "0.934883720930233"
      ],
      "text/markdown": [
       "0.934883720930233"
      ],
      "text/plain": [
       "[1] 0.9348837"
      ]
     },
     "metadata": {},
     "output_type": "display_data"
    },
    {
     "data": {
      "text/html": [
       "0.830190334181212"
      ],
      "text/latex": [
       "0.830190334181212"
      ],
      "text/markdown": [
       "0.830190334181212"
      ],
      "text/plain": [
       "[1] 0.8301903"
      ]
     },
     "metadata": {},
     "output_type": "display_data"
    }
   ],
   "source": [
    "length(y_pred[y_pred==y_test & y_test==1])/length(y_test[y_test==1])\n",
    "\n",
    "length(y_pred[y_pred==y_test ])/length(y_pred)"
   ]
  },
  {
   "cell_type": "code",
   "execution_count": 211,
   "metadata": {},
   "outputs": [],
   "source": [
    "thresholds<-as.matrix(seq(1.0, 0.0, by = -0.001))"
   ]
  },
  {
   "cell_type": "code",
   "execution_count": null,
   "metadata": {},
   "outputs": [],
   "source": []
  },
  {
   "cell_type": "code",
   "execution_count": 212,
   "metadata": {},
   "outputs": [],
   "source": [
    "p_return<-function(X,Y){\n",
    "    if (X>Y){\n",
    "        return(1)\n",
    "    } else {\n",
    "        return(0)\n",
    "    }\n",
    "}"
   ]
  },
  {
   "cell_type": "code",
   "execution_count": 213,
   "metadata": {},
   "outputs": [],
   "source": [
    "TPR<-function(thr,p,y){\n",
    "    y_pred<-apply(p,1,p_return, Y=thr)\n",
    "    return(length(y_pred[y_pred==y & y==1])/length(y[y==1]))\n",
    "}"
   ]
  },
  {
   "cell_type": "code",
   "execution_count": 214,
   "metadata": {},
   "outputs": [],
   "source": [
    "FPR<-function(thr,p,y){\n",
    "    y_pred<-apply(p,1,p_return, Y=thr)\n",
    "    return(length(y_pred[y_pred==1 & y==0])/length(y[y==0]))\n",
    "}"
   ]
  },
  {
   "cell_type": "code",
   "execution_count": 215,
   "metadata": {},
   "outputs": [],
   "source": [
    "truepos<-apply(thresholds,1,TPR, p=p_test, y=y_test)"
   ]
  },
  {
   "cell_type": "code",
   "execution_count": 216,
   "metadata": {},
   "outputs": [],
   "source": [
    "falsepos<-apply(thresholds,1,FPR, p=p_test, y=y_test)"
   ]
  },
  {
   "cell_type": "code",
   "execution_count": 217,
   "metadata": {},
   "outputs": [
    {
     "data": {
      "image/png": "[encoded data removed]",
      "text/plain": [
       "plot without title"
      ]
     },
     "metadata": {},
     "output_type": "display_data"
    }
   ],
   "source": [
    "plot(falsepos,truepos, type=\"n\")\n",
    "lines(falsepos,truepos)"
   ]
  },
  {
   "cell_type": "code",
   "execution_count": 218,
   "metadata": {},
   "outputs": [],
   "source": [
    "auc<-0.5*(sum(diff(falsepos)*(truepos[1:1000]))+sum(diff(falsepos)*(truepos[2:1001])))"
   ]
  },
  {
   "cell_type": "code",
   "execution_count": 219,
   "metadata": {},
   "outputs": [
    {
     "data": {
      "text/html": [
       "0.955514575944183"
      ],
      "text/latex": [
       "0.955514575944183"
      ],
      "text/markdown": [
       "0.955514575944183"
      ],
      "text/plain": [
       "[1] 0.9555146"
      ]
     },
     "metadata": {},
     "output_type": "display_data"
    }
   ],
   "source": [
    "auc"
   ]
  },
  {
   "cell_type": "code",
   "execution_count": null,
   "metadata": {},
   "outputs": [],
   "source": []
  }
 ],
 "metadata": {
  "kernelspec": {
   "display_name": "R",
   "language": "R",
   "name": "ir"
  },
  "language_info": {
   "codemirror_mode": "r",
   "file_extension": ".r",
   "mimetype": "text/x-r-source",
   "name": "R",
   "pygments_lexer": "r",
   "version": "3.5.2"
  }
 },
 "nbformat": 4,
 "nbformat_minor": 2
}
