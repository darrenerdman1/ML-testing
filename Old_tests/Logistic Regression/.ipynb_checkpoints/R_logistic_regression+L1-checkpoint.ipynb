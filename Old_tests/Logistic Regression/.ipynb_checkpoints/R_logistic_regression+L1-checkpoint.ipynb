{
 "cells": [
  {
   "cell_type": "code",
   "execution_count": 1,
   "metadata": {},
   "outputs": [],
   "source": [
    "options(stringsAsFactors = FALSE)\n",
    "data<-read.csv(\"APSfailure.csv\")"
   ]
  },
  {
   "cell_type": "code",
   "execution_count": 2,
   "metadata": {},
   "outputs": [
    {
     "data": {
      "text/html": [
       "<ol class=list-inline>\n",
       "\t<li>75999</li>\n",
       "\t<li>341</li>\n",
       "</ol>\n"
      ],
      "text/latex": [
       "\\begin{enumerate*}\n",
       "\\item 75999\n",
       "\\item 341\n",
       "\\end{enumerate*}\n"
      ],
      "text/markdown": [
       "1. 75999\n",
       "2. 341\n",
       "\n",
       "\n"
      ],
      "text/plain": [
       "[1] 75999   341"
      ]
     },
     "metadata": {},
     "output_type": "display_data"
    }
   ],
   "source": [
    "dim(data)"
   ]
  },
  {
   "cell_type": "code",
   "execution_count": 3,
   "metadata": {},
   "outputs": [
    {
     "data": {
      "text/html": [
       "<table>\n",
       "<thead><tr><th scope=col>class</th><th scope=col>aa_000</th><th scope=col>ab_000</th><th scope=col>ac_000</th><th scope=col>ad_000</th><th scope=col>ae_000</th><th scope=col>af_000</th><th scope=col>ag_000</th><th scope=col>ag_001</th><th scope=col>ag_002</th><th scope=col>⋯</th><th scope=col>X.160</th><th scope=col>X.161</th><th scope=col>X.162</th><th scope=col>X.163</th><th scope=col>X.164</th><th scope=col>X.165</th><th scope=col>X.166</th><th scope=col>X.167</th><th scope=col>X.168</th><th scope=col>X.169</th></tr></thead>\n",
       "<tbody>\n",
       "\t<tr><td>neg       </td><td>76698     </td><td>na        </td><td>2130706438</td><td>280       </td><td>0         </td><td>0         </td><td>0         </td><td>0         </td><td>0         </td><td>⋯         </td><td>NA        </td><td>NA        </td><td>NA        </td><td>NA        </td><td>NA        </td><td>NA        </td><td>NA        </td><td>NA        </td><td>NA        </td><td>NA        </td></tr>\n",
       "\t<tr><td>neg       </td><td>33058     </td><td>na        </td><td>0         </td><td>na        </td><td>0         </td><td>0         </td><td>0         </td><td>0         </td><td>0         </td><td>⋯         </td><td>NA        </td><td>NA        </td><td>NA        </td><td>NA        </td><td>NA        </td><td>NA        </td><td>NA        </td><td>NA        </td><td>NA        </td><td>NA        </td></tr>\n",
       "\t<tr><td>neg       </td><td>41040     </td><td>na        </td><td>228       </td><td>100       </td><td>0         </td><td>0         </td><td>0         </td><td>0         </td><td>0         </td><td>⋯         </td><td>NA        </td><td>NA        </td><td>NA        </td><td>NA        </td><td>NA        </td><td>NA        </td><td>NA        </td><td>NA        </td><td>NA        </td><td>NA        </td></tr>\n",
       "\t<tr><td>neg       </td><td>   12     </td><td>0         </td><td>70        </td><td>66        </td><td>0         </td><td>10        </td><td>0         </td><td>0         </td><td>0         </td><td>⋯         </td><td>NA        </td><td>NA        </td><td>NA        </td><td>NA        </td><td>NA        </td><td>NA        </td><td>NA        </td><td>NA        </td><td>NA        </td><td>NA        </td></tr>\n",
       "\t<tr><td>neg       </td><td>60874     </td><td>na        </td><td>1368      </td><td>458       </td><td>0         </td><td>0         </td><td>0         </td><td>0         </td><td>0         </td><td>⋯         </td><td>NA        </td><td>NA        </td><td>NA        </td><td>NA        </td><td>NA        </td><td>NA        </td><td>NA        </td><td>NA        </td><td>NA        </td><td>NA        </td></tr>\n",
       "</tbody>\n",
       "</table>\n"
      ],
      "text/latex": [
       "\\begin{tabular}{r|lllllllllllllllllllllllllllllllllllllllllllllllllllllllllllllllllllllllllllllllllllllllllllllllllllllllllllllllllllllllllllllllllllllllllllllllllllllllllllllllllllllllllllllllllllllllllllllllllllllllllllllllllllllllllllllllllllllllllllllllllllllllllllllllllllllllllllllllllllllllllllllllllllllllllllllllllllllllllllllllllllllllllllllllllllll}\n",
       " class & aa\\_000 & ab\\_000 & ac\\_000 & ad\\_000 & ae\\_000 & af\\_000 & ag\\_000 & ag\\_001 & ag\\_002 & ⋯ & X.160 & X.161 & X.162 & X.163 & X.164 & X.165 & X.166 & X.167 & X.168 & X.169\\\\\n",
       "\\hline\n",
       "\t neg        & 76698      & na         & 2130706438 & 280        & 0          & 0          & 0          & 0          & 0          & ⋯          & NA         & NA         & NA         & NA         & NA         & NA         & NA         & NA         & NA         & NA        \\\\\n",
       "\t neg        & 33058      & na         & 0          & na         & 0          & 0          & 0          & 0          & 0          & ⋯          & NA         & NA         & NA         & NA         & NA         & NA         & NA         & NA         & NA         & NA        \\\\\n",
       "\t neg        & 41040      & na         & 228        & 100        & 0          & 0          & 0          & 0          & 0          & ⋯          & NA         & NA         & NA         & NA         & NA         & NA         & NA         & NA         & NA         & NA        \\\\\n",
       "\t neg        &    12      & 0          & 70         & 66         & 0          & 10         & 0          & 0          & 0          & ⋯          & NA         & NA         & NA         & NA         & NA         & NA         & NA         & NA         & NA         & NA        \\\\\n",
       "\t neg        & 60874      & na         & 1368       & 458        & 0          & 0          & 0          & 0          & 0          & ⋯          & NA         & NA         & NA         & NA         & NA         & NA         & NA         & NA         & NA         & NA        \\\\\n",
       "\\end{tabular}\n"
      ],
      "text/markdown": [
       "\n",
       "| class | aa_000 | ab_000 | ac_000 | ad_000 | ae_000 | af_000 | ag_000 | ag_001 | ag_002 | ⋯ | X.160 | X.161 | X.162 | X.163 | X.164 | X.165 | X.166 | X.167 | X.168 | X.169 |\n",
       "|---|---|---|---|---|---|---|---|---|---|---|---|---|---|---|---|---|---|---|---|---|\n",
       "| neg        | 76698      | na         | 2130706438 | 280        | 0          | 0          | 0          | 0          | 0          | ⋯          | NA         | NA         | NA         | NA         | NA         | NA         | NA         | NA         | NA         | NA         |\n",
       "| neg        | 33058      | na         | 0          | na         | 0          | 0          | 0          | 0          | 0          | ⋯          | NA         | NA         | NA         | NA         | NA         | NA         | NA         | NA         | NA         | NA         |\n",
       "| neg        | 41040      | na         | 228        | 100        | 0          | 0          | 0          | 0          | 0          | ⋯          | NA         | NA         | NA         | NA         | NA         | NA         | NA         | NA         | NA         | NA         |\n",
       "| neg        |    12      | 0          | 70         | 66         | 0          | 10         | 0          | 0          | 0          | ⋯          | NA         | NA         | NA         | NA         | NA         | NA         | NA         | NA         | NA         | NA         |\n",
       "| neg        | 60874      | na         | 1368       | 458        | 0          | 0          | 0          | 0          | 0          | ⋯          | NA         | NA         | NA         | NA         | NA         | NA         | NA         | NA         | NA         | NA         |\n",
       "\n"
      ],
      "text/plain": [
       "  class aa_000 ab_000 ac_000     ad_000 ae_000 af_000 ag_000 ag_001 ag_002 ⋯\n",
       "1 neg   76698  na     2130706438 280    0      0      0      0      0      ⋯\n",
       "2 neg   33058  na     0          na     0      0      0      0      0      ⋯\n",
       "3 neg   41040  na     228        100    0      0      0      0      0      ⋯\n",
       "4 neg      12  0      70         66     0      10     0      0      0      ⋯\n",
       "5 neg   60874  na     1368       458    0      0      0      0      0      ⋯\n",
       "  X.160 X.161 X.162 X.163 X.164 X.165 X.166 X.167 X.168 X.169\n",
       "1 NA    NA    NA    NA    NA    NA    NA    NA    NA    NA   \n",
       "2 NA    NA    NA    NA    NA    NA    NA    NA    NA    NA   \n",
       "3 NA    NA    NA    NA    NA    NA    NA    NA    NA    NA   \n",
       "4 NA    NA    NA    NA    NA    NA    NA    NA    NA    NA   \n",
       "5 NA    NA    NA    NA    NA    NA    NA    NA    NA    NA   "
      ]
     },
     "metadata": {},
     "output_type": "display_data"
    }
   ],
   "source": [
    "head(data,5)"
   ]
  },
  {
   "cell_type": "code",
   "execution_count": 4,
   "metadata": {},
   "outputs": [],
   "source": [
    "#check individual values to see if one hot encoding is needed\n",
    "# All of the X columns contain only two unique entries, and one is NA from above\n",
    "#based on the column labels, these are the last 170 columns\n",
    "unique_counts<-as.data.frame(t(apply(data, 2, function(x) length(unique(x)))))"
   ]
  },
  {
   "cell_type": "code",
   "execution_count": 5,
   "metadata": {},
   "outputs": [],
   "source": [
    "#They are all in the same row.\n",
    "nonzero<-subset(data, (!is.na(data[\"X\"])))"
   ]
  },
  {
   "cell_type": "code",
   "execution_count": 6,
   "metadata": {},
   "outputs": [
    {
     "data": {
      "text/html": [
       "<table>\n",
       "<thead><tr><th></th><th scope=col>eg_000</th><th scope=col>X</th><th scope=col>X.1</th><th scope=col>X.2</th><th scope=col>X.3</th><th scope=col>X.4</th><th scope=col>X.5</th><th scope=col>X.6</th><th scope=col>X.7</th><th scope=col>X.8</th><th scope=col>⋯</th><th scope=col>X.160</th><th scope=col>X.161</th><th scope=col>X.162</th><th scope=col>X.163</th><th scope=col>X.164</th><th scope=col>X.165</th><th scope=col>X.166</th><th scope=col>X.167</th><th scope=col>X.168</th><th scope=col>X.169</th></tr></thead>\n",
       "<tbody>\n",
       "\t<tr><th scope=row>60000</th><td>0neg</td><td>60  </td><td>0   </td><td>20  </td><td>12  </td><td>0   </td><td>0   </td><td>0   </td><td>0   </td><td>0   </td><td>⋯   </td><td>1098</td><td>138 </td><td>412 </td><td>654 </td><td>78  </td><td>88  </td><td>0   </td><td>0   </td><td>0   </td><td>0   </td></tr>\n",
       "</tbody>\n",
       "</table>\n"
      ],
      "text/latex": [
       "\\begin{tabular}{r|lllllllllllllllllllllllllllllllllllllllllllllllllllllllllllllllllllllllllllllllllllllllllllllllllllllllllllllllllllllllllllllllllllllllllllllllllllllllllllllllllllllllllll}\n",
       "  & eg\\_000 & X & X.1 & X.2 & X.3 & X.4 & X.5 & X.6 & X.7 & X.8 & ⋯ & X.160 & X.161 & X.162 & X.163 & X.164 & X.165 & X.166 & X.167 & X.168 & X.169\\\\\n",
       "\\hline\n",
       "\t60000 & 0neg & 60   & 0    & 20   & 12   & 0    & 0    & 0    & 0    & 0    & ⋯    & 1098 & 138  & 412  & 654  & 78   & 88   & 0    & 0    & 0    & 0   \\\\\n",
       "\\end{tabular}\n"
      ],
      "text/markdown": [
       "\n",
       "| <!--/--> | eg_000 | X | X.1 | X.2 | X.3 | X.4 | X.5 | X.6 | X.7 | X.8 | ⋯ | X.160 | X.161 | X.162 | X.163 | X.164 | X.165 | X.166 | X.167 | X.168 | X.169 |\n",
       "|---|---|---|---|---|---|---|---|---|---|---|---|---|---|---|---|---|---|---|---|---|---|\n",
       "| 60000 | 0neg | 60   | 0    | 20   | 12   | 0    | 0    | 0    | 0    | 0    | ⋯    | 1098 | 138  | 412  | 654  | 78   | 88   | 0    | 0    | 0    | 0    |\n",
       "\n"
      ],
      "text/plain": [
       "      eg_000 X  X.1 X.2 X.3 X.4 X.5 X.6 X.7 X.8 ⋯ X.160 X.161 X.162 X.163 X.164\n",
       "60000 0neg   60 0   20  12  0   0   0   0   0   ⋯ 1098  138   412   654   78   \n",
       "      X.165 X.166 X.167 X.168 X.169\n",
       "60000 88    0     0     0     0    "
      ]
     },
     "metadata": {},
     "output_type": "display_data"
    }
   ],
   "source": [
    "#Checking the offending columns, it seems like there is an extra row appended to new columns\n",
    "nonzero[,(ncol(data)-170):ncol(data)]"
   ]
  },
  {
   "cell_type": "code",
   "execution_count": 7,
   "metadata": {},
   "outputs": [
    {
     "data": {
      "text/html": [
       "<table>\n",
       "<thead><tr><th></th><th scope=col>class</th><th scope=col>aa_000</th><th scope=col>ab_000</th><th scope=col>ac_000</th><th scope=col>ad_000</th><th scope=col>ae_000</th><th scope=col>af_000</th><th scope=col>ag_000</th><th scope=col>ag_001</th><th scope=col>ag_002</th><th scope=col>⋯</th><th scope=col>X.160</th><th scope=col>X.161</th><th scope=col>X.162</th><th scope=col>X.163</th><th scope=col>X.164</th><th scope=col>X.165</th><th scope=col>X.166</th><th scope=col>X.167</th><th scope=col>X.168</th><th scope=col>X.169</th></tr></thead>\n",
       "<tbody>\n",
       "\t<tr><th scope=row>60000</th><td>neg  </td><td>40222</td><td>na   </td><td>698  </td><td>628  </td><td>0    </td><td>0    </td><td>0    </td><td>0    </td><td>0    </td><td>⋯    </td><td>1098 </td><td>138  </td><td>412  </td><td>654  </td><td>78   </td><td>88   </td><td>0    </td><td>0    </td><td>0    </td><td>0    </td></tr>\n",
       "</tbody>\n",
       "</table>\n"
      ],
      "text/latex": [
       "\\begin{tabular}{r|lllllllllllllllllllllllllllllllllllllllllllllllllllllllllllllllllllllllllllllllllllllllllllllllllllllllllllllllllllllllllllllllllllllllllllllllllllllllllllllllllllllllllllllllllllllllllllllllllllllllllllllllllllllllllllllllllllllllllllllllllllllllllllllllllllllllllllllllllllllllllllllllllllllllllllllllllllllllllllllllllllllllllllllllllllll}\n",
       "  & class & aa\\_000 & ab\\_000 & ac\\_000 & ad\\_000 & ae\\_000 & af\\_000 & ag\\_000 & ag\\_001 & ag\\_002 & ⋯ & X.160 & X.161 & X.162 & X.163 & X.164 & X.165 & X.166 & X.167 & X.168 & X.169\\\\\n",
       "\\hline\n",
       "\t60000 & neg   & 40222 & na    & 698   & 628   & 0     & 0     & 0     & 0     & 0     & ⋯     & 1098  & 138   & 412   & 654   & 78    & 88    & 0     & 0     & 0     & 0    \\\\\n",
       "\\end{tabular}\n"
      ],
      "text/markdown": [
       "\n",
       "| <!--/--> | class | aa_000 | ab_000 | ac_000 | ad_000 | ae_000 | af_000 | ag_000 | ag_001 | ag_002 | ⋯ | X.160 | X.161 | X.162 | X.163 | X.164 | X.165 | X.166 | X.167 | X.168 | X.169 |\n",
       "|---|---|---|---|---|---|---|---|---|---|---|---|---|---|---|---|---|---|---|---|---|---|\n",
       "| 60000 | neg   | 40222 | na    | 698   | 628   | 0     | 0     | 0     | 0     | 0     | ⋯     | 1098  | 138   | 412   | 654   | 78    | 88    | 0     | 0     | 0     | 0     |\n",
       "\n"
      ],
      "text/plain": [
       "      class aa_000 ab_000 ac_000 ad_000 ae_000 af_000 ag_000 ag_001 ag_002 ⋯\n",
       "60000 neg   40222  na     698    628    0      0      0      0      0      ⋯\n",
       "      X.160 X.161 X.162 X.163 X.164 X.165 X.166 X.167 X.168 X.169\n",
       "60000 1098  138   412   654   78    88    0     0     0     0    "
      ]
     },
     "metadata": {},
     "output_type": "display_data"
    }
   ],
   "source": [
    "#And it is different than the row it was appended to\n",
    "nonzero"
   ]
  },
  {
   "cell_type": "code",
   "execution_count": 8,
   "metadata": {},
   "outputs": [],
   "source": [
    "#Just separate out the two columns, and re-append them\n",
    "nonzero1<-nonzero[,1:(ncol(data)-170)]\n",
    "nonzero2<-nonzero[,(ncol(data)-170):ncol(data)]"
   ]
  },
  {
   "cell_type": "code",
   "execution_count": 9,
   "metadata": {},
   "outputs": [
    {
     "data": {
      "text/html": [
       "<ol class=list-inline>\n",
       "\t<li>1</li>\n",
       "\t<li>171</li>\n",
       "</ol>\n"
      ],
      "text/latex": [
       "\\begin{enumerate*}\n",
       "\\item 1\n",
       "\\item 171\n",
       "\\end{enumerate*}\n"
      ],
      "text/markdown": [
       "1. 1\n",
       "2. 171\n",
       "\n",
       "\n"
      ],
      "text/plain": [
       "[1]   1 171"
      ]
     },
     "metadata": {},
     "output_type": "display_data"
    }
   ],
   "source": [
    "dim(nonzero1)"
   ]
  },
  {
   "cell_type": "code",
   "execution_count": 10,
   "metadata": {},
   "outputs": [
    {
     "data": {
      "text/html": [
       "<ol class=list-inline>\n",
       "\t<li>1</li>\n",
       "\t<li>171</li>\n",
       "</ol>\n"
      ],
      "text/latex": [
       "\\begin{enumerate*}\n",
       "\\item 1\n",
       "\\item 171\n",
       "\\end{enumerate*}\n"
      ],
      "text/markdown": [
       "1. 1\n",
       "2. 171\n",
       "\n",
       "\n"
      ],
      "text/plain": [
       "[1]   1 171"
      ]
     },
     "metadata": {},
     "output_type": "display_data"
    }
   ],
   "source": [
    "dim(nonzero2)"
   ]
  },
  {
   "cell_type": "code",
   "execution_count": 11,
   "metadata": {},
   "outputs": [],
   "source": [
    "#Get rid of the useless columns. Comment out after so I do not run it again by accident\n",
    "data=data[-c((ncol(data)-169):ncol(data))]"
   ]
  },
  {
   "cell_type": "code",
   "execution_count": 12,
   "metadata": {},
   "outputs": [],
   "source": [
    "data<-droplevels(data)"
   ]
  },
  {
   "cell_type": "code",
   "execution_count": 13,
   "metadata": {},
   "outputs": [
    {
     "data": {
      "text/html": [
       "<table>\n",
       "<thead><tr><th></th><th scope=col>class</th><th scope=col>aa_000</th><th scope=col>ab_000</th><th scope=col>ac_000</th><th scope=col>ad_000</th><th scope=col>ae_000</th><th scope=col>af_000</th><th scope=col>ag_000</th><th scope=col>ag_001</th><th scope=col>ag_002</th><th scope=col>⋯</th><th scope=col>ee_002</th><th scope=col>ee_003</th><th scope=col>ee_004</th><th scope=col>ee_005</th><th scope=col>ee_006</th><th scope=col>ee_007</th><th scope=col>ee_008</th><th scope=col>ee_009</th><th scope=col>ef_000</th><th scope=col>eg_000</th></tr></thead>\n",
       "<tbody>\n",
       "\t<tr><th scope=row>60000</th><td>neg   </td><td>40222 </td><td>na    </td><td>698   </td><td>628   </td><td>0     </td><td>0     </td><td>0     </td><td>0     </td><td>0     </td><td>⋯     </td><td>440066</td><td>183200</td><td>344546</td><td>254068</td><td>225148</td><td>158304</td><td>170384</td><td>158   </td><td>0     </td><td>0neg  </td></tr>\n",
       "</tbody>\n",
       "</table>\n"
      ],
      "text/latex": [
       "\\begin{tabular}{r|lllllllllllllllllllllllllllllllllllllllllllllllllllllllllllllllllllllllllllllllllllllllllllllllllllllllllllllllllllllllllllllllllllllllllllllllllllllllllllllllllllllllllll}\n",
       "  & class & aa\\_000 & ab\\_000 & ac\\_000 & ad\\_000 & ae\\_000 & af\\_000 & ag\\_000 & ag\\_001 & ag\\_002 & ⋯ & ee\\_002 & ee\\_003 & ee\\_004 & ee\\_005 & ee\\_006 & ee\\_007 & ee\\_008 & ee\\_009 & ef\\_000 & eg\\_000\\\\\n",
       "\\hline\n",
       "\t60000 & neg    & 40222  & na     & 698    & 628    & 0      & 0      & 0      & 0      & 0      & ⋯      & 440066 & 183200 & 344546 & 254068 & 225148 & 158304 & 170384 & 158    & 0      & 0neg  \\\\\n",
       "\\end{tabular}\n"
      ],
      "text/markdown": [
       "\n",
       "| <!--/--> | class | aa_000 | ab_000 | ac_000 | ad_000 | ae_000 | af_000 | ag_000 | ag_001 | ag_002 | ⋯ | ee_002 | ee_003 | ee_004 | ee_005 | ee_006 | ee_007 | ee_008 | ee_009 | ef_000 | eg_000 |\n",
       "|---|---|---|---|---|---|---|---|---|---|---|---|---|---|---|---|---|---|---|---|---|---|\n",
       "| 60000 | neg    | 40222  | na     | 698    | 628    | 0      | 0      | 0      | 0      | 0      | ⋯      | 440066 | 183200 | 344546 | 254068 | 225148 | 158304 | 170384 | 158    | 0      | 0neg   |\n",
       "\n"
      ],
      "text/plain": [
       "      class aa_000 ab_000 ac_000 ad_000 ae_000 af_000 ag_000 ag_001 ag_002 ⋯\n",
       "60000 neg   40222  na     698    628    0      0      0      0      0      ⋯\n",
       "      ee_002 ee_003 ee_004 ee_005 ee_006 ee_007 ee_008 ee_009 ef_000 eg_000\n",
       "60000 440066 183200 344546 254068 225148 158304 170384 158    0      0neg  "
      ]
     },
     "metadata": {},
     "output_type": "display_data"
    }
   ],
   "source": [
    "nonzero1"
   ]
  },
  {
   "cell_type": "code",
   "execution_count": 14,
   "metadata": {},
   "outputs": [],
   "source": [
    "nonzero1[,171]<-0"
   ]
  },
  {
   "cell_type": "code",
   "execution_count": 15,
   "metadata": {},
   "outputs": [],
   "source": [
    "nonzero2[,1]<-\"neg\""
   ]
  },
  {
   "cell_type": "code",
   "execution_count": 16,
   "metadata": {},
   "outputs": [
    {
     "data": {
      "text/html": [
       "<table>\n",
       "<thead><tr><th></th><th scope=col>eg_000</th><th scope=col>X</th><th scope=col>X.1</th><th scope=col>X.2</th><th scope=col>X.3</th><th scope=col>X.4</th><th scope=col>X.5</th><th scope=col>X.6</th><th scope=col>X.7</th><th scope=col>X.8</th><th scope=col>⋯</th><th scope=col>X.160</th><th scope=col>X.161</th><th scope=col>X.162</th><th scope=col>X.163</th><th scope=col>X.164</th><th scope=col>X.165</th><th scope=col>X.166</th><th scope=col>X.167</th><th scope=col>X.168</th><th scope=col>X.169</th></tr></thead>\n",
       "<tbody>\n",
       "\t<tr><th scope=row>60000</th><td>neg </td><td>60  </td><td>0   </td><td>20  </td><td>12  </td><td>0   </td><td>0   </td><td>0   </td><td>0   </td><td>0   </td><td>⋯   </td><td>1098</td><td>138 </td><td>412 </td><td>654 </td><td>78  </td><td>88  </td><td>0   </td><td>0   </td><td>0   </td><td>0   </td></tr>\n",
       "</tbody>\n",
       "</table>\n"
      ],
      "text/latex": [
       "\\begin{tabular}{r|lllllllllllllllllllllllllllllllllllllllllllllllllllllllllllllllllllllllllllllllllllllllllllllllllllllllllllllllllllllllllllllllllllllllllllllllllllllllllllllllllllllllllll}\n",
       "  & eg\\_000 & X & X.1 & X.2 & X.3 & X.4 & X.5 & X.6 & X.7 & X.8 & ⋯ & X.160 & X.161 & X.162 & X.163 & X.164 & X.165 & X.166 & X.167 & X.168 & X.169\\\\\n",
       "\\hline\n",
       "\t60000 & neg  & 60   & 0    & 20   & 12   & 0    & 0    & 0    & 0    & 0    & ⋯    & 1098 & 138  & 412  & 654  & 78   & 88   & 0    & 0    & 0    & 0   \\\\\n",
       "\\end{tabular}\n"
      ],
      "text/markdown": [
       "\n",
       "| <!--/--> | eg_000 | X | X.1 | X.2 | X.3 | X.4 | X.5 | X.6 | X.7 | X.8 | ⋯ | X.160 | X.161 | X.162 | X.163 | X.164 | X.165 | X.166 | X.167 | X.168 | X.169 |\n",
       "|---|---|---|---|---|---|---|---|---|---|---|---|---|---|---|---|---|---|---|---|---|---|\n",
       "| 60000 | neg  | 60   | 0    | 20   | 12   | 0    | 0    | 0    | 0    | 0    | ⋯    | 1098 | 138  | 412  | 654  | 78   | 88   | 0    | 0    | 0    | 0    |\n",
       "\n"
      ],
      "text/plain": [
       "      eg_000 X  X.1 X.2 X.3 X.4 X.5 X.6 X.7 X.8 ⋯ X.160 X.161 X.162 X.163 X.164\n",
       "60000 neg    60 0   20  12  0   0   0   0   0   ⋯ 1098  138   412   654   78   \n",
       "      X.165 X.166 X.167 X.168 X.169\n",
       "60000 88    0     0     0     0    "
      ]
     },
     "metadata": {},
     "output_type": "display_data"
    }
   ],
   "source": [
    "nonzero2"
   ]
  },
  {
   "cell_type": "code",
   "execution_count": 17,
   "metadata": {},
   "outputs": [],
   "source": [
    "names(nonzero2)<-names(nonzero1)"
   ]
  },
  {
   "cell_type": "code",
   "execution_count": 18,
   "metadata": {},
   "outputs": [],
   "source": [
    "data[\"600001\",]<-nonzero1"
   ]
  },
  {
   "cell_type": "code",
   "execution_count": null,
   "metadata": {},
   "outputs": [],
   "source": []
  },
  {
   "cell_type": "code",
   "execution_count": 19,
   "metadata": {},
   "outputs": [
    {
     "data": {
      "text/html": [
       "171"
      ],
      "text/latex": [
       "171"
      ],
      "text/markdown": [
       "171"
      ],
      "text/plain": [
       "[1] 171"
      ]
     },
     "metadata": {},
     "output_type": "display_data"
    }
   ],
   "source": [
    "length(factor(data[\"600001\",]))"
   ]
  },
  {
   "cell_type": "code",
   "execution_count": 20,
   "metadata": {},
   "outputs": [
    {
     "data": {
      "text/html": [
       "171"
      ],
      "text/latex": [
       "171"
      ],
      "text/markdown": [
       "171"
      ],
      "text/plain": [
       "[1] 171"
      ]
     },
     "metadata": {},
     "output_type": "display_data"
    }
   ],
   "source": [
    "length(factor(data[\"600002\",]))"
   ]
  },
  {
   "cell_type": "code",
   "execution_count": 21,
   "metadata": {},
   "outputs": [],
   "source": [
    "data[\"600001\",]<-nonzero1"
   ]
  },
  {
   "cell_type": "code",
   "execution_count": 22,
   "metadata": {},
   "outputs": [],
   "source": [
    "data[\"600002\",]<-nonzero2"
   ]
  },
  {
   "cell_type": "code",
   "execution_count": 23,
   "metadata": {},
   "outputs": [],
   "source": [
    "data[,1]<-ifelse(data[,1]==\"pos\",1,0)"
   ]
  },
  {
   "cell_type": "code",
   "execution_count": 24,
   "metadata": {},
   "outputs": [
    {
     "name": "stdout",
     "output_type": "stream",
     "text": [
      "[1] 1\n",
      "[1] 0\n",
      "[1] 2\n",
      "[1] 0\n",
      "[1] 3\n",
      "[1] 58693\n",
      "[1] 4\n",
      "[1] 4261\n",
      "[1] 5\n",
      "[1] 18842\n",
      "[1] 6\n",
      "[1] 3190\n",
      "[1] 7\n",
      "[1] 3190\n",
      "[1] 8\n",
      "[1] 860\n",
      "[1] 9\n",
      "[1] 860\n",
      "[1] 10\n",
      "[1] 860\n",
      "[1] 11\n",
      "[1] 860\n",
      "[1] 12\n",
      "[1] 860\n",
      "[1] 13\n",
      "[1] 860\n",
      "[1] 14\n",
      "[1] 860\n",
      "[1] 15\n",
      "[1] 860\n",
      "[1] 16\n",
      "[1] 860\n",
      "[1] 17\n",
      "[1] 860\n",
      "[1] 18\n",
      "[1] 820\n",
      "[1] 19\n",
      "[1] 792\n",
      "[1] 20\n",
      "[1] 792\n",
      "[1] 21\n",
      "[1] 5598\n",
      "[1] 22\n",
      "[1] 811\n",
      "[1] 23\n",
      "[1] 792\n",
      "[1] 24\n",
      "[1] 811\n",
      "[1] 25\n",
      "[1] 751\n",
      "[1] 26\n",
      "[1] 811\n",
      "[1] 27\n",
      "[1] 751\n",
      "[1] 28\n",
      "[1] 3487\n",
      "[1] 29\n",
      "[1] 792\n",
      "[1] 30\n",
      "[1] 792\n",
      "[1] 31\n",
      "[1] 792\n",
      "[1] 32\n",
      "[1] 3188\n",
      "[1] 33\n",
      "[1] 3189\n",
      "[1] 34\n",
      "[1] 863\n",
      "[1] 35\n",
      "[1] 863\n",
      "[1] 36\n",
      "[1] 863\n",
      "[1] 37\n",
      "[1] 863\n",
      "[1] 38\n",
      "[1] 863\n",
      "[1] 39\n",
      "[1] 863\n",
      "[1] 40\n",
      "[1] 863\n",
      "[1] 41\n",
      "[1] 863\n",
      "[1] 42\n",
      "[1] 863\n",
      "[1] 43\n",
      "[1] 863\n",
      "[1] 44\n",
      "[1] 863\n",
      "[1] 45\n",
      "[1] 863\n",
      "[1] 46\n",
      "[1] 863\n",
      "[1] 47\n",
      "[1] 863\n",
      "[1] 48\n",
      "[1] 863\n",
      "[1] 49\n",
      "[1] 863\n",
      "[1] 50\n",
      "[1] 863\n",
      "[1] 51\n",
      "[1] 863\n",
      "[1] 52\n",
      "[1] 863\n",
      "[1] 53\n",
      "[1] 863\n",
      "[1] 54\n",
      "[1] 881\n",
      "[1] 55\n",
      "[1] 881\n",
      "[1] 56\n",
      "[1] 881\n",
      "[1] 57\n",
      "[1] 881\n",
      "[1] 58\n",
      "[1] 881\n",
      "[1] 59\n",
      "[1] 881\n",
      "[1] 60\n",
      "[1] 881\n",
      "[1] 61\n",
      "[1] 881\n",
      "[1] 62\n",
      "[1] 881\n",
      "[1] 63\n",
      "[1] 881\n",
      "[1] 64\n",
      "[1] 820\n",
      "[1] 65\n",
      "[1] 3489\n",
      "[1] 66\n",
      "[1] 3491\n",
      "[1] 67\n",
      "[1] 3193\n",
      "[1] 68\n",
      "[1] 3189\n",
      "[1] 69\n",
      "[1] 811\n",
      "[1] 70\n",
      "[1] 811\n",
      "[1] 71\n",
      "[1] 751\n",
      "[1] 72\n",
      "[1] 751\n",
      "[1] 73\n",
      "[1] 29128\n",
      "[1] 74\n",
      "[1] 34503\n",
      "[1] 75\n",
      "[1] 50096\n",
      "[1] 76\n",
      "[1] 55723\n",
      "[1] 77\n",
      "[1] 58710\n",
      "[1] 78\n",
      "[1] 60462\n",
      "[1] 79\n",
      "[1] 61704\n",
      "[1] 80\n",
      "[1] 62394\n",
      "[1] 81\n",
      "[1] 928\n",
      "[1] 82\n",
      "[1] 195\n",
      "[1] 83\n",
      "[1] 881\n",
      "[1] 84\n",
      "[1] 881\n",
      "[1] 85\n",
      "[1] 4123\n",
      "[1] 86\n",
      "[1] 580\n",
      "[1] 87\n",
      "[1] 3486\n",
      "[1] 88\n",
      "[1] 5562\n",
      "[1] 89\n",
      "[1] 928\n",
      "[1] 90\n",
      "[1] 4120\n",
      "[1] 91\n",
      "[1] 861\n",
      "[1] 92\n",
      "[1] 3190\n",
      "[1] 93\n",
      "[1] 18842\n",
      "[1] 94\n",
      "[1] 18842\n",
      "[1] 95\n",
      "[1] 18842\n",
      "[1] 96\n",
      "[1] 424\n",
      "[1] 97\n",
      "[1] 424\n",
      "[1] 98\n",
      "[1] 424\n",
      "[1] 99\n",
      "[1] 12012\n",
      "[1] 100\n",
      "[1] 12455\n",
      "[1] 101\n",
      "[1] 881\n",
      "[1] 102\n",
      "[1] 881\n",
      "[1] 103\n",
      "[1] 881\n",
      "[1] 104\n",
      "[1] 881\n",
      "[1] 105\n",
      "[1] 881\n",
      "[1] 106\n",
      "[1] 881\n",
      "[1] 107\n",
      "[1] 881\n",
      "[1] 108\n",
      "[1] 881\n",
      "[1] 109\n",
      "[1] 881\n",
      "[1] 110\n",
      "[1] 881\n",
      "[1] 111\n",
      "[1] 18842\n",
      "[1] 112\n",
      "[1] 3487\n",
      "[1] 113\n",
      "[1] 881\n",
      "[1] 114\n",
      "[1] 58693\n",
      "[1] 115\n",
      "[1] 858\n",
      "[1] 116\n",
      "[1] 858\n",
      "[1] 117\n",
      "[1] 858\n",
      "[1] 118\n",
      "[1] 858\n",
      "[1] 119\n",
      "[1] 858\n",
      "[1] 120\n",
      "[1] 858\n",
      "[1] 121\n",
      "[1] 858\n",
      "[1] 122\n",
      "[1] 858\n",
      "[1] 123\n",
      "[1] 858\n",
      "[1] 124\n",
      "[1] 858\n",
      "[1] 125\n",
      "[1] 17526\n",
      "[1] 126\n",
      "[1] 17526\n",
      "[1] 127\n",
      "[1] 17526\n",
      "[1] 128\n",
      "[1] 17526\n",
      "[1] 129\n",
      "[1] 17526\n",
      "[1] 130\n",
      "[1] 17526\n",
      "[1] 131\n",
      "[1] 17526\n",
      "[1] 132\n",
      "[1] 17526\n",
      "[1] 133\n",
      "[1] 17526\n",
      "[1] 134\n",
      "[1] 3191\n",
      "[1] 135\n",
      "[1] 3488\n",
      "[1] 136\n",
      "[1] 5102\n",
      "[1] 137\n",
      "[1] 5102\n",
      "[1] 138\n",
      "[1] 5102\n",
      "[1] 139\n",
      "[1] 5100\n",
      "[1] 140\n",
      "[1] 5101\n",
      "[1] 141\n",
      "[1] 5101\n",
      "[1] 142\n",
      "[1] 5102\n",
      "[1] 143\n",
      "[1] 5103\n",
      "[1] 144\n",
      "[1] 881\n",
      "[1] 145\n",
      "[1] 3488\n",
      "[1] 146\n",
      "[1] 3490\n",
      "[1] 147\n",
      "[1] 3490\n",
      "[1] 148\n",
      "[1] 3490\n",
      "[1] 149\n",
      "[1] 3491\n",
      "[1] 150\n",
      "[1] 3491\n",
      "[1] 151\n",
      "[1] 3490\n",
      "[1] 152\n",
      "[1] 3490\n",
      "[1] 153\n",
      "[1] 3487\n",
      "[1] 154\n",
      "[1] 3488\n",
      "[1] 155\n",
      "[1] 3485\n",
      "[1] 156\n",
      "[1] 3485\n",
      "[1] 157\n",
      "[1] 5101\n",
      "[1] 158\n",
      "[1] 12883\n",
      "[1] 159\n",
      "[1] 12012\n",
      "[1] 160\n",
      "[1] 863\n",
      "[1] 161\n",
      "[1] 863\n",
      "[1] 162\n",
      "[1] 863\n",
      "[1] 163\n",
      "[1] 863\n",
      "[1] 164\n",
      "[1] 863\n",
      "[1] 165\n",
      "[1] 863\n",
      "[1] 166\n",
      "[1] 863\n",
      "[1] 167\n",
      "[1] 863\n",
      "[1] 168\n",
      "[1] 863\n",
      "[1] 169\n",
      "[1] 863\n",
      "[1] 170\n",
      "[1] 3486\n",
      "[1] 171\n",
      "[1] 3485\n"
     ]
    }
   ],
   "source": [
    "#Every column except 1 and 2 have rows with na, some mostly na\n",
    "for (i in (1:ncol(data))){\n",
    "    print(i)\n",
    "    print(nrow(subset(data, (data[,i]==\"na\"))))\n",
    "}"
   ]
  },
  {
   "cell_type": "code",
   "execution_count": 25,
   "metadata": {},
   "outputs": [],
   "source": [
    "#Define a mode function for categorical variables\n",
    "Mode <- function(x) {\n",
    "  ux <- unique(x)\n",
    "  ux[which.max(tabulate(match(x, ux)))]\n",
    "}"
   ]
  },
  {
   "cell_type": "code",
   "execution_count": 26,
   "metadata": {},
   "outputs": [],
   "source": [
    "#need to redo, as I removed columns\n",
    "unique_counts<-as.data.frame(t(apply(data, 2, function(x) length(unique(x)))))"
   ]
  },
  {
   "cell_type": "code",
   "execution_count": 27,
   "metadata": {},
   "outputs": [],
   "source": [
    "#Before replacing na's, need to ohe the columns with only a few different entry type,\n",
    "#less than ten in this case\n",
    "cols_to_ohe<-apply(unique_counts[2:ncol(unique_counts)], 1, function(x) names(which(x <=10)))"
   ]
  },
  {
   "cell_type": "code",
   "execution_count": 28,
   "metadata": {},
   "outputs": [
    {
     "data": {
      "text/html": [
       "<table>\n",
       "<tbody>\n",
       "\t<tr><td>cd_000</td></tr>\n",
       "\t<tr><td>ch_000</td></tr>\n",
       "</tbody>\n",
       "</table>\n"
      ],
      "text/latex": [
       "\\begin{tabular}{l}\n",
       "\t cd\\_000\\\\\n",
       "\t ch\\_000\\\\\n",
       "\\end{tabular}\n"
      ],
      "text/markdown": [
       "\n",
       "| cd_000 |\n",
       "| ch_000 |\n",
       "\n"
      ],
      "text/plain": [
       "     [,1]  \n",
       "[1,] cd_000\n",
       "[2,] ch_000"
      ]
     },
     "metadata": {},
     "output_type": "display_data"
    }
   ],
   "source": [
    "cols_to_ohe"
   ]
  },
  {
   "cell_type": "code",
   "execution_count": 29,
   "metadata": {},
   "outputs": [],
   "source": [
    "#A little bit of stack overflow borrowing, the model.moatrix \n",
    "#line returns on hot encoded columns for things that are factors\n",
    "ohe_cols<-function(x){\n",
    "     xf=factor(x)\n",
    "     return(model.matrix(~xf+0))\n",
    "}"
   ]
  },
  {
   "cell_type": "code",
   "execution_count": 30,
   "metadata": {},
   "outputs": [],
   "source": [
    "#One hot encodes specified columns of data, using above function\n",
    "ohe_matrix<-function(X,cols){\n",
    "    X<-cbind(X,lapply(X[cols], ohe_cols))\n",
    "    X<-X[,!names(X) %in% cols]\n",
    "    return(X)\n",
    "}"
   ]
  },
  {
   "cell_type": "code",
   "execution_count": 31,
   "metadata": {},
   "outputs": [],
   "source": [
    "#Go ahead and one hot encode all rows data set. If a given set of data to run it\n",
    "#on had less categories in the ohe cols, would need to add columns of zeros.\n",
    "data<-ohe_matrix(data,c(t(cols_to_ohe)))"
   ]
  },
  {
   "cell_type": "code",
   "execution_count": 32,
   "metadata": {},
   "outputs": [
    {
     "data": {
      "text/html": [
       "<ol class=list-inline>\n",
       "\t<li>76001</li>\n",
       "\t<li>174</li>\n",
       "</ol>\n"
      ],
      "text/latex": [
       "\\begin{enumerate*}\n",
       "\\item 76001\n",
       "\\item 174\n",
       "\\end{enumerate*}\n"
      ],
      "text/markdown": [
       "1. 76001\n",
       "2. 174\n",
       "\n",
       "\n"
      ],
      "text/plain": [
       "[1] 76001   174"
      ]
     },
     "metadata": {},
     "output_type": "display_data"
    }
   ],
   "source": [
    "dim(data)"
   ]
  },
  {
   "cell_type": "code",
   "execution_count": 33,
   "metadata": {},
   "outputs": [],
   "source": [
    "#Shuffle data \n",
    "data<-data[sample(nrow(data)),]"
   ]
  },
  {
   "cell_type": "code",
   "execution_count": 34,
   "metadata": {},
   "outputs": [],
   "source": [
    "#Seperate out classes\n",
    "X_data<-data[,-c(1)]\n",
    "y_data<-as.data.frame(data[,1])"
   ]
  },
  {
   "cell_type": "code",
   "execution_count": 35,
   "metadata": {},
   "outputs": [],
   "source": [
    "#Aggain, after ohe function\n",
    "unique_counts<-as.data.frame(t(apply(data, 2, function(x) length(unique(x)))))"
   ]
  },
  {
   "cell_type": "code",
   "execution_count": 103,
   "metadata": {},
   "outputs": [],
   "source": [
    "X_train<-X_data[1:(as.integer(nrow(X_data)/100*70)),]\n",
    "y_train<-y_data[1:(as.integer(nrow(X_data)/100*70)),1]"
   ]
  },
  {
   "cell_type": "code",
   "execution_count": 104,
   "metadata": {},
   "outputs": [],
   "source": [
    "X_val<-X_data[(as.integer(nrow(X_data)/100*70)+1):(as.integer(nrow(X_data)/100*85)),]\n",
    "y_val<-y_data[(as.integer(nrow(X_data)/100*70)+1):(as.integer(nrow(X_data)/100*85)),1]"
   ]
  },
  {
   "cell_type": "code",
   "execution_count": 105,
   "metadata": {},
   "outputs": [],
   "source": [
    "X_test<-X_data[(as.integer(nrow(X_data)/100*85)+1):(as.integer(nrow(X_data))),]\n",
    "y_test<-y_data[(as.integer(nrow(X_data)/100*85)+1):(as.integer(nrow(X_data))),1]"
   ]
  },
  {
   "cell_type": "code",
   "execution_count": 106,
   "metadata": {},
   "outputs": [
    {
     "data": {
      "text/html": [
       "76001"
      ],
      "text/latex": [
       "76001"
      ],
      "text/markdown": [
       "76001"
      ],
      "text/plain": [
       "[1] 76001"
      ]
     },
     "metadata": {},
     "output_type": "display_data"
    }
   ],
   "source": [
    "#Make sure that there was no overloap or missing rows\n",
    "nrow(X_train)+nrow(X_val)+nrow(X_test)"
   ]
  },
  {
   "cell_type": "code",
   "execution_count": 107,
   "metadata": {},
   "outputs": [
    {
     "name": "stderr",
     "output_type": "stream",
     "text": [
      "Warning message in median(as.numeric(X_train[, i][X_train[, i] != \"na\"])):\n",
      "“NAs introduced by coercion”"
     ]
    }
   ],
   "source": [
    "#Replace the \"na\" with numbers, using mode for a small number of uniques values in column,\n",
    "#and median otherwise \n",
    "for (i in (1:ncol(X_train))){\n",
    "    med<-median(as.numeric(X_train[,i][X_train[,i]!=\"na\"]))\n",
    "    X_test[,i][X_test[,i]==\"na\"]<-med\n",
    "    X_val[,i][X_val[,i]==\"na\"]<-med\n",
    "    X_train[,i][X_train[,i]==\"na\"]<-med\n",
    "\n",
    "}"
   ]
  },
  {
   "cell_type": "code",
   "execution_count": 108,
   "metadata": {},
   "outputs": [
    {
     "data": {
      "text/html": [
       "154"
      ],
      "text/latex": [
       "154"
      ],
      "text/markdown": [
       "154"
      ],
      "text/plain": [
       "[1] 154"
      ]
     },
     "metadata": {},
     "output_type": "display_data"
    }
   ],
   "source": [
    "median(as.numeric(X_train[,3][X_train[,3]!=\"na\"]))"
   ]
  },
  {
   "cell_type": "code",
   "execution_count": 109,
   "metadata": {},
   "outputs": [
    {
     "name": "stderr",
     "output_type": "stream",
     "text": [
      "Warning message in eval(expr, envir, enclos):\n",
      "“NAs introduced by coercion”"
     ]
    }
   ],
   "source": [
    "#Introduce NA's, remove them now\n",
    "for (i in (1:ncol(X_train))){\n",
    "    X_test[,i]<-as.numeric(X_test[,i])\n",
    "    X_val[,i]<-as.numeric(X_val[,i])\n",
    "    X_train[,i]<-as.numeric(X_train[,i])\n",
    "\n",
    "    med<-median(as.numeric(X_train[,i][!is.na(X_train[,i])]))\n",
    "    X_test[,i][is.na(X_test[,i])]<-med\n",
    "    X_val[,i][is.na(X_val[,i])]<-med\n",
    "    X_train[,i][is.na(X_train[,i])]<-med\n",
    "\n",
    "}"
   ]
  },
  {
   "cell_type": "code",
   "execution_count": null,
   "metadata": {},
   "outputs": [],
   "source": []
  },
  {
   "cell_type": "code",
   "execution_count": 112,
   "metadata": {},
   "outputs": [
    {
     "data": {
      "text/html": [
       "0"
      ],
      "text/latex": [
       "0"
      ],
      "text/markdown": [
       "0"
      ],
      "text/plain": [
       "[1] 0"
      ]
     },
     "metadata": {},
     "output_type": "display_data"
    }
   ],
   "source": [
    "length(X_train[is.na(X_train)])"
   ]
  },
  {
   "cell_type": "code",
   "execution_count": 113,
   "metadata": {},
   "outputs": [
    {
     "data": {
      "text/html": [
       "<ol class=list-inline>\n",
       "\t<li>76001</li>\n",
       "\t<li>174</li>\n",
       "</ol>\n"
      ],
      "text/latex": [
       "\\begin{enumerate*}\n",
       "\\item 76001\n",
       "\\item 174\n",
       "\\end{enumerate*}\n"
      ],
      "text/markdown": [
       "1. 76001\n",
       "2. 174\n",
       "\n",
       "\n"
      ],
      "text/plain": [
       "[1] 76001   174"
      ]
     },
     "metadata": {},
     "output_type": "display_data"
    }
   ],
   "source": [
    "dim(data)"
   ]
  },
  {
   "cell_type": "code",
   "execution_count": 114,
   "metadata": {},
   "outputs": [],
   "source": [
    "X_train<-X_train[,-c(261)]\n",
    "X_val<-X_val[,-c(261)]\n",
    "X_test<-X_test[,-c(261)]"
   ]
  },
  {
   "cell_type": "code",
   "execution_count": 115,
   "metadata": {},
   "outputs": [],
   "source": [
    "#Min max normalize\n",
    "norm<-function(X,X_tr){\n",
    "    for(i in 1:ncol(X)){\n",
    "        X[,i]<-(X[,i] - mean(X_tr[,i]))/sd(X_tr[,i])\n",
    "    }\n",
    "    return(X)\n",
    "}"
   ]
  },
  {
   "cell_type": "code",
   "execution_count": 116,
   "metadata": {},
   "outputs": [],
   "source": [
    "X_tr_norm<-norm(X_train,X_train)\n",
    "X_val_norm<-norm(X_val,X_train)\n",
    "X_test_norm<-norm(X_test,X_train)"
   ]
  },
  {
   "cell_type": "code",
   "execution_count": 117,
   "metadata": {},
   "outputs": [],
   "source": [
    "X_tr_norm<-as.matrix(X_tr_norm)\n",
    "X_val_norm<-as.matrix(X_val_norm)\n",
    "X_test_norm<-as.matrix(X_test_norm)\n",
    "y_train<-as.matrix(y_train)\n",
    "y_val<-as.matrix(y_val)\n",
    "y_test<-as.matrix(y_test)"
   ]
  },
  {
   "cell_type": "code",
   "execution_count": 118,
   "metadata": {},
   "outputs": [],
   "source": [
    "#Make phi\n",
    "phi_transform<-function(X){\n",
    "    phi<-cbind(bias=rep(1,nrow(X)),X)\n",
    "    return(phi)\n",
    "}"
   ]
  },
  {
   "cell_type": "code",
   "execution_count": 119,
   "metadata": {},
   "outputs": [],
   "source": [
    "#Clean out unused variables again. Probably not necessary, but the data set is reasonably large\n",
    "rm(X_train)\n",
    "rm(X_val)\n",
    "rm(X_test)"
   ]
  },
  {
   "cell_type": "code",
   "execution_count": 120,
   "metadata": {},
   "outputs": [],
   "source": [
    "#Create phis for test train validate\n",
    "phi_tr<-phi_transform(X_tr_norm)\n",
    "phi_val<-phi_transform(X_val_norm)\n",
    "phi_test<-phi_transform(X_test_norm)"
   ]
  },
  {
   "cell_type": "code",
   "execution_count": 371,
   "metadata": {},
   "outputs": [],
   "source": [
    "# #Graphing the data, it looks like they are linear or quadratic, with large standard deviation\n",
    "# jpeg(\"all_data1.jpg\", width=900, height=20000, res=120)\n",
    "# par(mfrow=c(57,3),mar = rep(2, 4))\n",
    "# for (j in (1:169)){\n",
    "#     plot(X_tr_norm[,3][y_train==1],X_tr_norm[,j][y_train==1], col=\"red\")\n",
    "#     points(X_tr_norm[,3][y_train==0],X_tr_norm[,j][y_train==0], col=\"blue\")\n",
    "# }\n",
    "\n",
    "# dev.off()"
   ]
  },
  {
   "cell_type": "code",
   "execution_count": 372,
   "metadata": {},
   "outputs": [],
   "source": [
    "sig<-function(h){\n",
    "    1/(1+exp(-h))\n",
    "}"
   ]
  },
  {
   "cell_type": "code",
   "execution_count": 373,
   "metadata": {},
   "outputs": [],
   "source": [
    "cost<-function(p,y){\n",
    "    -1*(sum(log(p_val[y_val==1]))+sum(log(p_val[y_val==0])))\n",
    "}"
   ]
  },
  {
   "cell_type": "code",
   "execution_count": 666,
   "metadata": {},
   "outputs": [],
   "source": [
    "#Arbitrary, large number to beat\n",
    "errbest<-10000000\n",
    "\n",
    "w<-matrix(rnorm(ncol(y_train)*ncol(phi_tr)),ncol(phi_tr),ncol(y_train))\n",
    "w_best<-w\n",
    "#Set hyperparameters and intitalize vectors for graphing\n"
   ]
  },
  {
   "cell_type": "code",
   "execution_count": 692,
   "metadata": {},
   "outputs": [],
   "source": [
    "#Set the number of epochs\n",
    "epochs<-200\n",
    "error<-c()\n",
    "epoch<-c()\n",
    "eta<-0.0000001\n",
    "lam1<-0.009\n",
    "#w<-w_best\n",
    "for (i in 1:epochs){\n",
    "    #calculate error on validation set\n",
    "    p_val=sig(phi_val%*%w)\n",
    "    error<-c(error,cost(p_val,y_val))\n",
    "    epoch<-c(epoch,i)\n",
    "    if (error[i]<errbest){\n",
    "        errbest<-error[i]\n",
    "        w_best<-w\n",
    "        }\n",
    "    #Calculate new w using training set\n",
    "    p_train=sig(phi_tr%*%w)\n",
    "    w<-w-eta*(t(phi_tr)%*%(p_train-y_train))-lam1*sign(w)\n",
    "}"
   ]
  },
  {
   "cell_type": "code",
   "execution_count": 693,
   "metadata": {},
   "outputs": [
    {
     "data": {
      "image/png": "[encoded data removed]",
      "text/plain": [
       "plot without title"
      ]
     },
     "metadata": {},
     "output_type": "display_data"
    }
   ],
   "source": [
    "plot(epoch,error)"
   ]
  },
  {
   "cell_type": "code",
   "execution_count": 694,
   "metadata": {},
   "outputs": [],
   "source": [
    "w_best_low_r<-w_best"
   ]
  },
  {
   "cell_type": "code",
   "execution_count": 695,
   "metadata": {},
   "outputs": [],
   "source": [
    "p_val=sig(phi_val%*%w)"
   ]
  },
  {
   "cell_type": "code",
   "execution_count": 696,
   "metadata": {},
   "outputs": [],
   "source": [
    "y_pred=round(p_val)"
   ]
  },
  {
   "cell_type": "code",
   "execution_count": 697,
   "metadata": {},
   "outputs": [
    {
     "data": {
      "text/html": [
       "0.841628959276018"
      ],
      "text/latex": [
       "0.841628959276018"
      ],
      "text/markdown": [
       "0.841628959276018"
      ],
      "text/plain": [
       "[1] 0.841629"
      ]
     },
     "metadata": {},
     "output_type": "display_data"
    }
   ],
   "source": [
    "length(y_pred[y_pred==y_val & y_val==1])/length(y_val[y_val==1])"
   ]
  },
  {
   "cell_type": "code",
   "execution_count": 698,
   "metadata": {},
   "outputs": [
    {
     "data": {
      "text/html": [
       "0.631491228070175"
      ],
      "text/latex": [
       "0.631491228070175"
      ],
      "text/markdown": [
       "0.631491228070175"
      ],
      "text/plain": [
       "[1] 0.6314912"
      ]
     },
     "metadata": {},
     "output_type": "display_data"
    }
   ],
   "source": [
    "length(y_pred[y_pred==y_val ])/length(y_pred)"
   ]
  },
  {
   "cell_type": "code",
   "execution_count": 462,
   "metadata": {},
   "outputs": [],
   "source": [
    "#High precision, 80 recall\n",
    "#write.csv(w_best,\"w_best1.csv\")"
   ]
  },
  {
   "cell_type": "code",
   "execution_count": 688,
   "metadata": {},
   "outputs": [],
   "source": [
    "#High precision, 80 recall\n",
    "write.csv(w,\"w_best2.csv\")"
   ]
  },
  {
   "cell_type": "code",
   "execution_count": 699,
   "metadata": {},
   "outputs": [],
   "source": [
    "w<-as.matrix(read.csv(\"w_best1.csv\", header = TRUE)[,2])"
   ]
  },
  {
   "cell_type": "code",
   "execution_count": 700,
   "metadata": {},
   "outputs": [],
   "source": [
    "p_test=sig(phi_test%*%w)\n",
    "\n",
    "y_pred=round(p_test)"
   ]
  },
  {
   "cell_type": "code",
   "execution_count": 701,
   "metadata": {},
   "outputs": [
    {
     "data": {
      "text/html": [
       "0.444976076555024"
      ],
      "text/latex": [
       "0.444976076555024"
      ],
      "text/markdown": [
       "0.444976076555024"
      ],
      "text/plain": [
       "[1] 0.4449761"
      ]
     },
     "metadata": {},
     "output_type": "display_data"
    },
    {
     "data": {
      "text/html": [
       "0.252609420226296"
      ],
      "text/latex": [
       "0.252609420226296"
      ],
      "text/markdown": [
       "0.252609420226296"
      ],
      "text/plain": [
       "[1] 0.2526094"
      ]
     },
     "metadata": {},
     "output_type": "display_data"
    }
   ],
   "source": [
    "length(y_pred[y_pred==y_test & y_test==1])/length(y_test[y_test==1])\n",
    "\n",
    "length(y_pred[y_pred==y_test ])/length(y_pred)"
   ]
  },
  {
   "cell_type": "code",
   "execution_count": 723,
   "metadata": {},
   "outputs": [],
   "source": [
    "w<-read.csv(\"w_best2.csv\", header = TRUE)"
   ]
  },
  {
   "cell_type": "code",
   "execution_count": 720,
   "metadata": {},
   "outputs": [],
   "source": [
    "w<-as.matrix(w[,2])"
   ]
  },
  {
   "cell_type": "code",
   "execution_count": 722,
   "metadata": {},
   "outputs": [
    {
     "data": {
      "image/png": "[encoded data removed]",
      "text/plain": [
       "Plot with title “Histogram of w”"
      ]
     },
     "metadata": {},
     "output_type": "display_data"
    }
   ],
   "source": [
    "hist(w)"
   ]
  },
  {
   "cell_type": "code",
   "execution_count": 704,
   "metadata": {},
   "outputs": [
    {
     "ename": "ERROR",
     "evalue": "Error in phi_test %*% w: requires numeric/complex matrix/vector arguments\n",
     "output_type": "error",
     "traceback": [
      "Error in phi_test %*% w: requires numeric/complex matrix/vector arguments\nTraceback:\n",
      "1. sig(phi_test %*% w)"
     ]
    }
   ],
   "source": [
    "p_test=sig(phi_test%*%w)\n",
    "\n",
    "y_pred=round(p_test)"
   ]
  },
  {
   "cell_type": "code",
   "execution_count": 691,
   "metadata": {},
   "outputs": [
    {
     "data": {
      "text/html": [
       "0.971291866028708"
      ],
      "text/latex": [
       "0.971291866028708"
      ],
      "text/markdown": [
       "0.971291866028708"
      ],
      "text/plain": [
       "[1] 0.9712919"
      ]
     },
     "metadata": {},
     "output_type": "display_data"
    },
    {
     "data": {
      "text/html": [
       "0.827822120866591"
      ],
      "text/latex": [
       "0.827822120866591"
      ],
      "text/markdown": [
       "0.827822120866591"
      ],
      "text/plain": [
       "[1] 0.8278221"
      ]
     },
     "metadata": {},
     "output_type": "display_data"
    }
   ],
   "source": [
    "length(y_pred[y_pred==y_test & y_test==1])/length(y_test[y_test==1])\n",
    "\n",
    "length(y_pred[y_pred==y_test ])/length(y_pred)"
   ]
  },
  {
   "cell_type": "code",
   "execution_count": 599,
   "metadata": {},
   "outputs": [
    {
     "data": {
      "text/html": [
       "<table>\n",
       "<tbody>\n",
       "\t<tr><th scope=row>bias</th><td> 0.009800946</td></tr>\n",
       "\t<tr><th scope=row>aa_000</th><td> 0.006049227</td></tr>\n",
       "\t<tr><th scope=row>ab_000</th><td>-0.003566311</td></tr>\n",
       "\t<tr><th scope=row>ac_000</th><td>-0.004775279</td></tr>\n",
       "\t<tr><th scope=row>ad_000</th><td> 0.003414775</td></tr>\n",
       "\t<tr><th scope=row>ae_000</th><td>-0.004473277</td></tr>\n",
       "\t<tr><th scope=row>af_000</th><td>-0.001742268</td></tr>\n",
       "\t<tr><th scope=row>ag_000</th><td> 0.005427213</td></tr>\n",
       "\t<tr><th scope=row>ag_001</th><td> 0.007374661</td></tr>\n",
       "\t<tr><th scope=row>ag_002</th><td> 0.008514832</td></tr>\n",
       "\t<tr><th scope=row>ag_003</th><td>-0.005631561</td></tr>\n",
       "\t<tr><th scope=row>ag_004</th><td> 0.004443139</td></tr>\n",
       "\t<tr><th scope=row>ag_005</th><td>-0.005420769</td></tr>\n",
       "\t<tr><th scope=row>ag_006</th><td> 0.005246783</td></tr>\n",
       "\t<tr><th scope=row>ag_007</th><td> 0.008033562</td></tr>\n",
       "\t<tr><th scope=row>ag_008</th><td> 0.006162725</td></tr>\n",
       "\t<tr><th scope=row>ag_009</th><td> 0.003221880</td></tr>\n",
       "\t<tr><th scope=row>ah_000</th><td> 0.006122813</td></tr>\n",
       "\t<tr><th scope=row>ai_000</th><td>-0.002714872</td></tr>\n",
       "\t<tr><th scope=row>aj_000</th><td> 0.005282865</td></tr>\n",
       "\t<tr><th scope=row>ak_000</th><td>-0.006481794</td></tr>\n",
       "\t<tr><th scope=row>al_000</th><td> 0.005734817</td></tr>\n",
       "\t<tr><th scope=row>am_0</th><td> 0.004373566</td></tr>\n",
       "\t<tr><th scope=row>an_000</th><td>-0.003630398</td></tr>\n",
       "\t<tr><th scope=row>ao_000</th><td>-0.009114373</td></tr>\n",
       "\t<tr><th scope=row>ap_000</th><td>-0.009623950</td></tr>\n",
       "\t<tr><th scope=row>aq_000</th><td>-0.007722322</td></tr>\n",
       "\t<tr><th scope=row>ar_000</th><td> 0.004206332</td></tr>\n",
       "\t<tr><th scope=row>as_000</th><td> 0.006212692</td></tr>\n",
       "\t<tr><th scope=row>at_000</th><td> 0.008935555</td></tr>\n",
       "\t<tr><th scope=row>⋮</th><td>⋮</td></tr>\n",
       "\t<tr><th scope=row>dq_000</th><td>-0.0031425500</td></tr>\n",
       "\t<tr><th scope=row>dr_000</th><td> 0.0004085501</td></tr>\n",
       "\t<tr><th scope=row>ds_000</th><td> 0.0087827977</td></tr>\n",
       "\t<tr><th scope=row>dt_000</th><td> 0.0049889746</td></tr>\n",
       "\t<tr><th scope=row>du_000</th><td> 0.0076481421</td></tr>\n",
       "\t<tr><th scope=row>dv_000</th><td> 0.0008375838</td></tr>\n",
       "\t<tr><th scope=row>dx_000</th><td> 0.0077614676</td></tr>\n",
       "\t<tr><th scope=row>dy_000</th><td> 0.0055654844</td></tr>\n",
       "\t<tr><th scope=row>dz_000</th><td>-0.0020199083</td></tr>\n",
       "\t<tr><th scope=row>ea_000</th><td> 0.0058557430</td></tr>\n",
       "\t<tr><th scope=row>eb_000</th><td> 0.0068108011</td></tr>\n",
       "\t<tr><th scope=row>ec_00</th><td> 0.0006497988</td></tr>\n",
       "\t<tr><th scope=row>ed_000</th><td> 0.0023882016</td></tr>\n",
       "\t<tr><th scope=row>ee_000</th><td> 0.0069492366</td></tr>\n",
       "\t<tr><th scope=row>ee_001</th><td>-0.0091278157</td></tr>\n",
       "\t<tr><th scope=row>ee_002</th><td> 0.0058389086</td></tr>\n",
       "\t<tr><th scope=row>ee_003</th><td>-0.0083208685</td></tr>\n",
       "\t<tr><th scope=row>ee_004</th><td>-0.0058024454</td></tr>\n",
       "\t<tr><th scope=row>ee_005</th><td>-0.0090608149</td></tr>\n",
       "\t<tr><th scope=row>ee_006</th><td> 0.0037876518</td></tr>\n",
       "\t<tr><th scope=row>ee_007</th><td>-0.0021897998</td></tr>\n",
       "\t<tr><th scope=row>ee_008</th><td> 0.0010950539</td></tr>\n",
       "\t<tr><th scope=row>ee_009</th><td> 0.0033758638</td></tr>\n",
       "\t<tr><th scope=row>ef_000</th><td>-0.0016593372</td></tr>\n",
       "\t<tr><th scope=row>eg_000</th><td>-0.0013790471</td></tr>\n",
       "\t<tr><th scope=row>cd_000.xf1209600</th><td> 0.0011349541</td></tr>\n",
       "\t<tr><th scope=row>cd_000.xfna</th><td>-0.0010715510</td></tr>\n",
       "\t<tr><th scope=row>ch_000.xf0</th><td>-0.0058427595</td></tr>\n",
       "\t<tr><th scope=row>ch_000.xf2</th><td>-0.0022374809</td></tr>\n",
       "\t<tr><th scope=row>ch_000.xfna</th><td>-0.0024996311</td></tr>\n",
       "</tbody>\n",
       "</table>\n"
      ],
      "text/latex": [
       "\\begin{tabular}{r|l}\n",
       "\tbias &  0.009800946\\\\\n",
       "\taa\\_000 &  0.006049227\\\\\n",
       "\tab\\_000 & -0.003566311\\\\\n",
       "\tac\\_000 & -0.004775279\\\\\n",
       "\tad\\_000 &  0.003414775\\\\\n",
       "\tae\\_000 & -0.004473277\\\\\n",
       "\taf\\_000 & -0.001742268\\\\\n",
       "\tag\\_000 &  0.005427213\\\\\n",
       "\tag\\_001 &  0.007374661\\\\\n",
       "\tag\\_002 &  0.008514832\\\\\n",
       "\tag\\_003 & -0.005631561\\\\\n",
       "\tag\\_004 &  0.004443139\\\\\n",
       "\tag\\_005 & -0.005420769\\\\\n",
       "\tag\\_006 &  0.005246783\\\\\n",
       "\tag\\_007 &  0.008033562\\\\\n",
       "\tag\\_008 &  0.006162725\\\\\n",
       "\tag\\_009 &  0.003221880\\\\\n",
       "\tah\\_000 &  0.006122813\\\\\n",
       "\tai\\_000 & -0.002714872\\\\\n",
       "\taj\\_000 &  0.005282865\\\\\n",
       "\tak\\_000 & -0.006481794\\\\\n",
       "\tal\\_000 &  0.005734817\\\\\n",
       "\tam\\_0 &  0.004373566\\\\\n",
       "\tan\\_000 & -0.003630398\\\\\n",
       "\tao\\_000 & -0.009114373\\\\\n",
       "\tap\\_000 & -0.009623950\\\\\n",
       "\taq\\_000 & -0.007722322\\\\\n",
       "\tar\\_000 &  0.004206332\\\\\n",
       "\tas\\_000 &  0.006212692\\\\\n",
       "\tat\\_000 &  0.008935555\\\\\n",
       "\t⋮ & ⋮\\\\\n",
       "\tdq\\_000 & -0.0031425500\\\\\n",
       "\tdr\\_000 &  0.0004085501\\\\\n",
       "\tds\\_000 &  0.0087827977\\\\\n",
       "\tdt\\_000 &  0.0049889746\\\\\n",
       "\tdu\\_000 &  0.0076481421\\\\\n",
       "\tdv\\_000 &  0.0008375838\\\\\n",
       "\tdx\\_000 &  0.0077614676\\\\\n",
       "\tdy\\_000 &  0.0055654844\\\\\n",
       "\tdz\\_000 & -0.0020199083\\\\\n",
       "\tea\\_000 &  0.0058557430\\\\\n",
       "\teb\\_000 &  0.0068108011\\\\\n",
       "\tec\\_00 &  0.0006497988\\\\\n",
       "\ted\\_000 &  0.0023882016\\\\\n",
       "\tee\\_000 &  0.0069492366\\\\\n",
       "\tee\\_001 & -0.0091278157\\\\\n",
       "\tee\\_002 &  0.0058389086\\\\\n",
       "\tee\\_003 & -0.0083208685\\\\\n",
       "\tee\\_004 & -0.0058024454\\\\\n",
       "\tee\\_005 & -0.0090608149\\\\\n",
       "\tee\\_006 &  0.0037876518\\\\\n",
       "\tee\\_007 & -0.0021897998\\\\\n",
       "\tee\\_008 &  0.0010950539\\\\\n",
       "\tee\\_009 &  0.0033758638\\\\\n",
       "\tef\\_000 & -0.0016593372\\\\\n",
       "\teg\\_000 & -0.0013790471\\\\\n",
       "\tcd\\_000.xf1209600 &  0.0011349541\\\\\n",
       "\tcd\\_000.xfna & -0.0010715510\\\\\n",
       "\tch\\_000.xf0 & -0.0058427595\\\\\n",
       "\tch\\_000.xf2 & -0.0022374809\\\\\n",
       "\tch\\_000.xfna & -0.0024996311\\\\\n",
       "\\end{tabular}\n"
      ],
      "text/markdown": [
       "\n",
       "| bias |  0.009800946 |\n",
       "| aa_000 |  0.006049227 |\n",
       "| ab_000 | -0.003566311 |\n",
       "| ac_000 | -0.004775279 |\n",
       "| ad_000 |  0.003414775 |\n",
       "| ae_000 | -0.004473277 |\n",
       "| af_000 | -0.001742268 |\n",
       "| ag_000 |  0.005427213 |\n",
       "| ag_001 |  0.007374661 |\n",
       "| ag_002 |  0.008514832 |\n",
       "| ag_003 | -0.005631561 |\n",
       "| ag_004 |  0.004443139 |\n",
       "| ag_005 | -0.005420769 |\n",
       "| ag_006 |  0.005246783 |\n",
       "| ag_007 |  0.008033562 |\n",
       "| ag_008 |  0.006162725 |\n",
       "| ag_009 |  0.003221880 |\n",
       "| ah_000 |  0.006122813 |\n",
       "| ai_000 | -0.002714872 |\n",
       "| aj_000 |  0.005282865 |\n",
       "| ak_000 | -0.006481794 |\n",
       "| al_000 |  0.005734817 |\n",
       "| am_0 |  0.004373566 |\n",
       "| an_000 | -0.003630398 |\n",
       "| ao_000 | -0.009114373 |\n",
       "| ap_000 | -0.009623950 |\n",
       "| aq_000 | -0.007722322 |\n",
       "| ar_000 |  0.004206332 |\n",
       "| as_000 |  0.006212692 |\n",
       "| at_000 |  0.008935555 |\n",
       "| ⋮ | ⋮ |\n",
       "| dq_000 | -0.0031425500 |\n",
       "| dr_000 |  0.0004085501 |\n",
       "| ds_000 |  0.0087827977 |\n",
       "| dt_000 |  0.0049889746 |\n",
       "| du_000 |  0.0076481421 |\n",
       "| dv_000 |  0.0008375838 |\n",
       "| dx_000 |  0.0077614676 |\n",
       "| dy_000 |  0.0055654844 |\n",
       "| dz_000 | -0.0020199083 |\n",
       "| ea_000 |  0.0058557430 |\n",
       "| eb_000 |  0.0068108011 |\n",
       "| ec_00 |  0.0006497988 |\n",
       "| ed_000 |  0.0023882016 |\n",
       "| ee_000 |  0.0069492366 |\n",
       "| ee_001 | -0.0091278157 |\n",
       "| ee_002 |  0.0058389086 |\n",
       "| ee_003 | -0.0083208685 |\n",
       "| ee_004 | -0.0058024454 |\n",
       "| ee_005 | -0.0090608149 |\n",
       "| ee_006 |  0.0037876518 |\n",
       "| ee_007 | -0.0021897998 |\n",
       "| ee_008 |  0.0010950539 |\n",
       "| ee_009 |  0.0033758638 |\n",
       "| ef_000 | -0.0016593372 |\n",
       "| eg_000 | -0.0013790471 |\n",
       "| cd_000.xf1209600 |  0.0011349541 |\n",
       "| cd_000.xfna | -0.0010715510 |\n",
       "| ch_000.xf0 | -0.0058427595 |\n",
       "| ch_000.xf2 | -0.0022374809 |\n",
       "| ch_000.xfna | -0.0024996311 |\n",
       "\n"
      ],
      "text/plain": [
       "                 [,1]         \n",
       "bias              0.009800946 \n",
       "aa_000            0.006049227 \n",
       "ab_000           -0.003566311 \n",
       "ac_000           -0.004775279 \n",
       "ad_000            0.003414775 \n",
       "ae_000           -0.004473277 \n",
       "af_000           -0.001742268 \n",
       "ag_000            0.005427213 \n",
       "ag_001            0.007374661 \n",
       "ag_002            0.008514832 \n",
       "ag_003           -0.005631561 \n",
       "ag_004            0.004443139 \n",
       "ag_005           -0.005420769 \n",
       "ag_006            0.005246783 \n",
       "ag_007            0.008033562 \n",
       "ag_008            0.006162725 \n",
       "ag_009            0.003221880 \n",
       "ah_000            0.006122813 \n",
       "ai_000           -0.002714872 \n",
       "aj_000            0.005282865 \n",
       "ak_000           -0.006481794 \n",
       "al_000            0.005734817 \n",
       "am_0              0.004373566 \n",
       "an_000           -0.003630398 \n",
       "ao_000           -0.009114373 \n",
       "ap_000           -0.009623950 \n",
       "aq_000           -0.007722322 \n",
       "ar_000            0.004206332 \n",
       "as_000            0.006212692 \n",
       "at_000            0.008935555 \n",
       "⋮                ⋮            \n",
       "dq_000           -0.0031425500\n",
       "dr_000            0.0004085501\n",
       "ds_000            0.0087827977\n",
       "dt_000            0.0049889746\n",
       "du_000            0.0076481421\n",
       "dv_000            0.0008375838\n",
       "dx_000            0.0077614676\n",
       "dy_000            0.0055654844\n",
       "dz_000           -0.0020199083\n",
       "ea_000            0.0058557430\n",
       "eb_000            0.0068108011\n",
       "ec_00             0.0006497988\n",
       "ed_000            0.0023882016\n",
       "ee_000            0.0069492366\n",
       "ee_001           -0.0091278157\n",
       "ee_002            0.0058389086\n",
       "ee_003           -0.0083208685\n",
       "ee_004           -0.0058024454\n",
       "ee_005           -0.0090608149\n",
       "ee_006            0.0037876518\n",
       "ee_007           -0.0021897998\n",
       "ee_008            0.0010950539\n",
       "ee_009            0.0033758638\n",
       "ef_000           -0.0016593372\n",
       "eg_000           -0.0013790471\n",
       "cd_000.xf1209600  0.0011349541\n",
       "cd_000.xfna      -0.0010715510\n",
       "ch_000.xf0       -0.0058427595\n",
       "ch_000.xf2       -0.0022374809\n",
       "ch_000.xfna      -0.0024996311"
      ]
     },
     "metadata": {},
     "output_type": "display_data"
    }
   ],
   "source": [
    "w_best"
   ]
  },
  {
   "cell_type": "code",
   "execution_count": null,
   "metadata": {},
   "outputs": [],
   "source": []
  }
 ],
 "metadata": {
  "kernelspec": {
   "display_name": "R",
   "language": "R",
   "name": "ir"
  },
  "language_info": {
   "codemirror_mode": "r",
   "file_extension": ".r",
   "mimetype": "text/x-r-source",
   "name": "R",
   "pygments_lexer": "r",
   "version": "3.5.2"
  }
 },
 "nbformat": 4,
 "nbformat_minor": 2
}
