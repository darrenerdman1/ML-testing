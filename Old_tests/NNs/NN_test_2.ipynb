{
 "cells": [
  {
   "cell_type": "code",
   "execution_count": 9,
   "metadata": {},
   "outputs": [],
   "source": [
    "import numpy as np\n",
    "import matplotlib.pyplot as plt"
   ]
  },
  {
   "cell_type": "code",
   "execution_count": null,
   "metadata": {},
   "outputs": [],
   "source": []
  },
  {
   "cell_type": "code",
   "execution_count": 134,
   "metadata": {},
   "outputs": [],
   "source": [
    "X=np.array([[0,0],\n",
    "[0.1,0.1],\n",
    "[0.1,0.2],\n",
    "[0.2,0.1],\n",
    "[0.3,0.4],\n",
    "[0.4,0.3],\n",
    "[0.8,0],\n",
    "[1.2,0],\n",
    "[0,0.8],\n",
    "[0,0.9],\n",
    "[1,1],\n",
    "[1.2,1.3]])"
   ]
  },
  {
   "cell_type": "code",
   "execution_count": 135,
   "metadata": {},
   "outputs": [],
   "source": [
    "y=np.array([[0],\n",
    "[0],\n",
    "[0],\n",
    "[0],\n",
    "[0],\n",
    "[0],\n",
    "[1],\n",
    "[1],\n",
    "[1],\n",
    "[1],\n",
    "[1],\n",
    "[1]])"
   ]
  },
  {
   "cell_type": "code",
   "execution_count": 6,
   "metadata": {},
   "outputs": [],
   "source": [
    "def tanh(X):\n",
    "    return (np.exp(X)-np.exp(-X))/(np.exp(X)+np.exp(-X))"
   ]
  },
  {
   "cell_type": "code",
   "execution_count": 7,
   "metadata": {},
   "outputs": [],
   "source": [
    "def sigmoid(X):\n",
    "    return 1/(1+np.exp(-X))"
   ]
  },
  {
   "cell_type": "code",
   "execution_count": 138,
   "metadata": {},
   "outputs": [],
   "source": [
    "i=0\n",
    "out=np.array([0]*y.shape[0]).reshape(-1,1)"
   ]
  },
  {
   "cell_type": "code",
   "execution_count": 139,
   "metadata": {},
   "outputs": [
    {
     "data": {
      "text/plain": [
       "array([-6.])"
      ]
     },
     "execution_count": 139,
     "metadata": {},
     "output_type": "execute_result"
    }
   ],
   "source": [
    "sum(np.rint(out)-y)"
   ]
  },
  {
   "cell_type": "code",
   "execution_count": 147,
   "metadata": {},
   "outputs": [],
   "source": [
    "while np.max(abs(np.rint(out)-y))!=0:\n",
    "    w1=3*np.random.randn(2,6)\n",
    "    w2=3*np.random.randn(6,1)\n",
    "    b1=3*np.random.randn(1,6)\n",
    "    b2=3*np.random.randn(1,1)\n",
    "    out=sigmoid(tanh(X@w1+b1)@w2+b2)\n",
    "    i=i+i"
   ]
  },
  {
   "cell_type": "code",
   "execution_count": 148,
   "metadata": {},
   "outputs": [
    {
     "data": {
      "text/plain": [
       "0.0"
      ]
     },
     "execution_count": 148,
     "metadata": {},
     "output_type": "execute_result"
    }
   ],
   "source": [
    "np.max(np.rint(out)-y)"
   ]
  },
  {
   "cell_type": "code",
   "execution_count": 253,
   "metadata": {},
   "outputs": [],
   "source": [
    "colors=[\"red\",\"blue\"]"
   ]
  },
  {
   "cell_type": "code",
   "execution_count": 254,
   "metadata": {},
   "outputs": [
    {
     "data": {
      "text/plain": [
       "<matplotlib.collections.PathCollection at 0x7f2808ccf5f8>"
      ]
     },
     "execution_count": 254,
     "metadata": {},
     "output_type": "execute_result"
    },
    {
     "data": {
      "image/png": "[encoded data removed]",
      "text/plain": [
       "<Figure size 432x288 with 1 Axes>"
      ]
     },
     "metadata": {
      "needs_background": "light"
     },
     "output_type": "display_data"
    }
   ],
   "source": [
    "plt.scatter(X[:,0],X[:,1], color=np.array(colors)[y.reshape(-1)])"
   ]
  },
  {
   "cell_type": "code",
   "execution_count": 255,
   "metadata": {},
   "outputs": [],
   "source": [
    "xs=(1.2*np.random.rand(1000000,2))"
   ]
  },
  {
   "cell_type": "code",
   "execution_count": 256,
   "metadata": {},
   "outputs": [],
   "source": [
    "boundary=xs[np.where(abs(tanh(xs@w1+b1)@w2+b2)<.001)[0],:]"
   ]
  },
  {
   "cell_type": "code",
   "execution_count": 257,
   "metadata": {},
   "outputs": [
    {
     "data": {
      "text/plain": [
       "(-0.1, 1.5)"
      ]
     },
     "execution_count": 257,
     "metadata": {},
     "output_type": "execute_result"
    },
    {
     "data": {
      "image/png": "[encoded data removed]",
      "text/plain": [
       "<Figure size 432x288 with 1 Axes>"
      ]
     },
     "metadata": {
      "needs_background": "light"
     },
     "output_type": "display_data"
    }
   ],
   "source": [
    "plt.scatter(X[:,0],X[:,1], color=np.array(colors)[y.reshape(-1)])\n",
    "plt.scatter(boundary[:,0],boundary[:,1], color=\"black\")\n",
    "plt.ylim(-.1, 1.5)\n",
    "plt.xlim(-0.1,1.5)"
   ]
  },
  {
   "cell_type": "code",
   "execution_count": 176,
   "metadata": {},
   "outputs": [],
   "source": [
    "#Sort y based on probabilities\n",
    "y_sort=y[np.argsort(out, axis=0)]"
   ]
  },
  {
   "cell_type": "code",
   "execution_count": 240,
   "metadata": {},
   "outputs": [],
   "source": [
    "#Number of 1s and 0s in y\n",
    "pos = sum(y_sort)\n",
    "neg = sum(1-y_sort)"
   ]
  },
  {
   "cell_type": "code",
   "execution_count": 230,
   "metadata": {},
   "outputs": [],
   "source": [
    "#Because y was sorted base on probabilities, the possible true negative counts \n",
    "#at each threshold are as follows\n",
    "tn = np.cumsum(1-y_sort)\n",
    "#Subtracting the true negatives from the total number of negatives give false positives\n",
    "fpr = 1-tn/neg"
   ]
  },
  {
   "cell_type": "code",
   "execution_count": 231,
   "metadata": {},
   "outputs": [],
   "source": [
    "#Total number of positives minus the number of positives at each threshold gives\n",
    "#true positives at each threshold\n",
    "tp = pos - np.cumsum(y_sort)\n",
    "\n",
    "tpr = tp/pos"
   ]
  },
  {
   "cell_type": "code",
   "execution_count": 232,
   "metadata": {},
   "outputs": [],
   "source": [
    "tpr=np.insert(tpr,0,1,axis=1)"
   ]
  },
  {
   "cell_type": "code",
   "execution_count": 233,
   "metadata": {},
   "outputs": [],
   "source": [
    "fpr=np.insert(fpr,0,1,axis=1)"
   ]
  },
  {
   "cell_type": "code",
   "execution_count": 273,
   "metadata": {},
   "outputs": [
    {
     "data": {
      "text/plain": [
       "[<matplotlib.lines.Line2D at 0x7f2803eacc18>]"
      ]
     },
     "execution_count": 273,
     "metadata": {},
     "output_type": "execute_result"
    },
    {
     "data": {
      "image/png": "[encoded data removed]",
      "text/plain": [
       "<Figure size 432x288 with 1 Axes>"
      ]
     },
     "metadata": {
      "needs_background": "light"
     },
     "output_type": "display_data"
    }
   ],
   "source": [
    "plt.plot(fpr[0,:],tpr[0,:])\n",
    "plt.xticks(fontsize=18)\n",
    "plt.xlabel(\"False Positive Rate\",fontsize=20)\n",
    "plt.yticks(fontsize=18)\n",
    "plt.ylabel(\"True Positive Rate\" ,fontsize=20)\n",
    "plt.title(\"ROC Curve with Guess Line\", fontsize=20)\n",
    "plt.plot([0,1],[0,1])"
   ]
  },
  {
   "cell_type": "code",
   "execution_count": 239,
   "metadata": {},
   "outputs": [],
   "source": [
    "auc=-.5*(np.sum(tpr[:,1:]*np.diff(fpr))+np.sum(tpr[:,:-1]*np.diff(fpr)))"
   ]
  },
  {
   "cell_type": "code",
   "execution_count": 266,
   "metadata": {},
   "outputs": [
    {
     "data": {
      "text/plain": [
       "1.0"
      ]
     },
     "execution_count": 266,
     "metadata": {},
     "output_type": "execute_result"
    }
   ],
   "source": [
    "auc"
   ]
  },
  {
   "cell_type": "code",
   "execution_count": null,
   "metadata": {},
   "outputs": [],
   "source": []
  }
 ],
 "metadata": {
  "kernelspec": {
   "display_name": "Python 3",
   "language": "python",
   "name": "python3"
  },
  "language_info": {
   "codemirror_mode": {
    "name": "ipython",
    "version": 3
   },
   "file_extension": ".py",
   "mimetype": "text/x-python",
   "name": "python",
   "nbconvert_exporter": "python",
   "pygments_lexer": "ipython3",
   "version": "3.7.1"
  }
 },
 "nbformat": 4,
 "nbformat_minor": 2
}
