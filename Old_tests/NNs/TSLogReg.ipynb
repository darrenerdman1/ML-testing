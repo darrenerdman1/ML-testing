{
 "cells": [
  {
   "cell_type": "code",
   "execution_count": 228,
   "metadata": {},
   "outputs": [],
   "source": [
    "import numpy as np"
   ]
  },
  {
   "cell_type": "code",
   "execution_count": 1,
   "metadata": {},
   "outputs": [],
   "source": [
    "class LogisticRegression:\n",
    "    def __init__(self,indims,outdims):\n",
    "        \n",
    "        self.indims=indims\n",
    "        self.outdims=outdims\n",
    "        self.weights=np.array([])\n",
    "        \n",
    "    def sigmoid(self,X):\n",
    "        return 1/(1+np.exp(-X))\n",
    "\n",
    "    def softmax(self,X):\n",
    "        p=np.exp(X)\n",
    "        return(p/(p.sum(1).reshape(X.shape[0],1)))\n",
    "            \n",
    "    def BCEC(self,y,p):\n",
    "        Err=[]\n",
    "        zeros=np.where(y==0)\n",
    "        ones=np.where(y==1)\n",
    "        Err=np.hstack((-np.log(p[ones]),-np.log(1-p[zeros])))\n",
    "        return np.mean(Err)\n",
    "\n",
    "    def GCEC(self,y,p):\n",
    "        return -1*np.sum(np.multiply(y,np.log(p)))/y.shape[0]\n",
    "\n",
    "    def weightinit(self):\n",
    "        self.weights=np.random.randn(self.indims+1,self.outdims)\n",
    "            \n",
    "    def predict(self, X):\n",
    "        if X.shape ==self.indims:\n",
    "            X=np.hstack((np.ones((X.shape[0],1)),X))\n",
    "        if not self.weights.size:\n",
    "            self.weightinit()\n",
    "        if self.outdims>1:\n",
    "            self.probabilities=self.softmax(X@self.weights)\n",
    "            self.predictions=np.eye(self.probabilities.shape[1])[np.argmax(self.probabilities, axis=1)]\n",
    "        else:\n",
    "            self.probabilities=self.sigmoid(X@self.weights)\n",
    "            self.predictions=np.rint(self.probabilities)\n",
    "            \n",
    "            \n",
    "    def train(self,X,y,epochs,eta,X_val=False,y_val=False,lam1=0,lam2=0):\n",
    "        self.valerror=[]\n",
    "        self.error=[]\n",
    "        d={}\n",
    "        X=np.hstack((np.ones((X.shape[0],1)),X))\n",
    "        \n",
    "        if (y.shape[1]<self.outdims):\n",
    "            y=self.mat_ohe(y)\n",
    "        \n",
    "\n",
    "        self.predict(X)\n",
    " \n",
    "        for i in range(epochs):\n",
    "            self.weights=self.weights-eta*(X.T@(self.predictions-y))-lam1*self.weights-lam2*np.sign(self.weights)\n",
    "\n",
    "            if X_val:\n",
    "                self.predict(X_val)\n",
    "                if outdims>1:\n",
    "                    self.valerror.append(self.GCEC(y_val,self.probabilities))\n",
    "                else:\n",
    "                    self.valerror.append(self.BCEC(y_val,self.probabilities))\n",
    "            self.predict(X)\n",
    "            if self.outdims>1:\n",
    "                self.error.append(self.GCEC(y,self.probabilities))\n",
    "            else:\n",
    "                self.error.append(self.BCEC(y,self.probabilities))\n",
    "            "
   ]
  },
  {
   "cell_type": "code",
   "execution_count": null,
   "metadata": {},
   "outputs": [],
   "source": []
  },
  {
   "cell_type": "code",
   "execution_count": null,
   "metadata": {},
   "outputs": [],
   "source": []
  },
  {
   "cell_type": "code",
   "execution_count": null,
   "metadata": {},
   "outputs": [],
   "source": []
  },
  {
   "cell_type": "code",
   "execution_count": null,
   "metadata": {},
   "outputs": [],
   "source": []
  }
 ],
 "metadata": {
  "kernelspec": {
   "display_name": "Python 3",
   "language": "python",
   "name": "python3"
  },
  "language_info": {
   "codemirror_mode": {
    "name": "ipython",
    "version": 3
   },
   "file_extension": ".py",
   "mimetype": "text/x-python",
   "name": "python",
   "nbconvert_exporter": "python",
   "pygments_lexer": "ipython3",
   "version": "3.7.1"
  }
 },
 "nbformat": 4,
 "nbformat_minor": 2
}
