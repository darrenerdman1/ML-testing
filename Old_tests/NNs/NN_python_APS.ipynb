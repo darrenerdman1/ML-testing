{
 "cells": [
  {
   "cell_type": "code",
   "execution_count": 1,
   "metadata": {},
   "outputs": [],
   "source": [
    "import numpy as np\n",
    "import matplotlib.pyplot as plt\n",
    "import pandas as pd"
   ]
  },
  {
   "cell_type": "code",
   "execution_count": 2,
   "metadata": {},
   "outputs": [
    {
     "name": "stderr",
     "output_type": "stream",
     "text": [
      "/home/derdman/anaconda3/lib/python3.7/site-packages/IPython/core/interactiveshell.py:3020: DtypeWarning: Columns (7,8,9,10,11,12,13,14,15,16,33,34,35,36,37,38,39,40,41,42,43,44,45,46,47,48,49,50,51,52,53,54,55,56,57,58,59,60,61,62,81,85,95,96,97,100,101,102,103,104,105,106,107,108,109,114,115,116,117,118,119,120,121,122,123,159,160,161,162,163,164,165,166,167,168,242,243,244,245,246,247,248,249) have mixed types. Specify dtype option on import or set low_memory=False.\n",
      "  interactivity=interactivity, compiler=compiler, result=result)\n"
     ]
    }
   ],
   "source": [
    "data=pd.read_csv(\"APSfailure.csv\")"
   ]
  },
  {
   "cell_type": "code",
   "execution_count": 3,
   "metadata": {},
   "outputs": [],
   "source": [
    "oddrow=data.iloc[59999,:]"
   ]
  },
  {
   "cell_type": "code",
   "execution_count": 4,
   "metadata": {},
   "outputs": [
    {
     "data": {
      "text/html": [
       "<div>\n",
       "<style scoped>\n",
       "    .dataframe tbody tr th:only-of-type {\n",
       "        vertical-align: middle;\n",
       "    }\n",
       "\n",
       "    .dataframe tbody tr th {\n",
       "        vertical-align: top;\n",
       "    }\n",
       "\n",
       "    .dataframe thead th {\n",
       "        text-align: right;\n",
       "    }\n",
       "</style>\n",
       "<table border=\"1\" class=\"dataframe\">\n",
       "  <thead>\n",
       "    <tr style=\"text-align: right;\">\n",
       "      <th></th>\n",
       "      <th>class</th>\n",
       "      <th>aa_000</th>\n",
       "      <th>ab_000</th>\n",
       "      <th>ac_000</th>\n",
       "      <th>ad_000</th>\n",
       "      <th>ae_000</th>\n",
       "      <th>af_000</th>\n",
       "      <th>ag_000</th>\n",
       "      <th>ag_001</th>\n",
       "      <th>ag_002</th>\n",
       "      <th>...</th>\n",
       "      <th>Unnamed: 331</th>\n",
       "      <th>Unnamed: 332</th>\n",
       "      <th>Unnamed: 333</th>\n",
       "      <th>Unnamed: 334</th>\n",
       "      <th>Unnamed: 335</th>\n",
       "      <th>Unnamed: 336</th>\n",
       "      <th>Unnamed: 337</th>\n",
       "      <th>Unnamed: 338</th>\n",
       "      <th>Unnamed: 339</th>\n",
       "      <th>Unnamed: 340</th>\n",
       "    </tr>\n",
       "  </thead>\n",
       "  <tbody>\n",
       "    <tr>\n",
       "      <th>59999</th>\n",
       "      <td>neg</td>\n",
       "      <td>40222</td>\n",
       "      <td>na</td>\n",
       "      <td>698</td>\n",
       "      <td>628</td>\n",
       "      <td>0</td>\n",
       "      <td>0</td>\n",
       "      <td>0</td>\n",
       "      <td>0</td>\n",
       "      <td>0</td>\n",
       "      <td>...</td>\n",
       "      <td>1098.0</td>\n",
       "      <td>138.0</td>\n",
       "      <td>412.0</td>\n",
       "      <td>654.0</td>\n",
       "      <td>78.0</td>\n",
       "      <td>88.0</td>\n",
       "      <td>0.0</td>\n",
       "      <td>0.0</td>\n",
       "      <td>0.0</td>\n",
       "      <td>0.0</td>\n",
       "    </tr>\n",
       "  </tbody>\n",
       "</table>\n",
       "<p>1 rows × 341 columns</p>\n",
       "</div>"
      ],
      "text/plain": [
       "      class  aa_000 ab_000 ac_000 ad_000 ae_000 af_000 ag_000 ag_001 ag_002  \\\n",
       "59999   neg   40222     na    698    628      0      0      0      0      0   \n",
       "\n",
       "          ...      Unnamed: 331 Unnamed: 332 Unnamed: 333 Unnamed: 334  \\\n",
       "59999     ...            1098.0        138.0        412.0        654.0   \n",
       "\n",
       "      Unnamed: 335 Unnamed: 336 Unnamed: 337 Unnamed: 338 Unnamed: 339  \\\n",
       "59999         78.0         88.0          0.0          0.0          0.0   \n",
       "\n",
       "      Unnamed: 340  \n",
       "59999          0.0  \n",
       "\n",
       "[1 rows x 341 columns]"
      ]
     },
     "execution_count": 4,
     "metadata": {},
     "output_type": "execute_result"
    }
   ],
   "source": [
    "data.dropna()"
   ]
  },
  {
   "cell_type": "code",
   "execution_count": 5,
   "metadata": {},
   "outputs": [],
   "source": [
    "oddrow1=oddrow.iloc[170:]"
   ]
  },
  {
   "cell_type": "code",
   "execution_count": 6,
   "metadata": {},
   "outputs": [],
   "source": [
    "oddrow2=oddrow.iloc[:171]"
   ]
  },
  {
   "cell_type": "code",
   "execution_count": 7,
   "metadata": {},
   "outputs": [],
   "source": [
    "data=data.drop(59999,axis=0)"
   ]
  },
  {
   "cell_type": "code",
   "execution_count": 8,
   "metadata": {},
   "outputs": [],
   "source": [
    "data=data.dropna(axis=1)"
   ]
  },
  {
   "cell_type": "code",
   "execution_count": 9,
   "metadata": {},
   "outputs": [],
   "source": [
    "oddrow1=oddrow1.to_frame().transpose()\n",
    "oddrow2=oddrow2.to_frame().transpose()"
   ]
  },
  {
   "cell_type": "code",
   "execution_count": 10,
   "metadata": {},
   "outputs": [],
   "source": [
    "oddrow1.columns=data.columns.tolist()[:171]"
   ]
  },
  {
   "cell_type": "code",
   "execution_count": 11,
   "metadata": {},
   "outputs": [],
   "source": [
    "oddrow2.columns=data.columns.tolist()[:171]"
   ]
  },
  {
   "cell_type": "code",
   "execution_count": 12,
   "metadata": {},
   "outputs": [],
   "source": [
    "oddrow1[\"eg_000\"]=0\n",
    "oddrow2[\"eg_000\"]=0"
   ]
  },
  {
   "cell_type": "code",
   "execution_count": 13,
   "metadata": {},
   "outputs": [],
   "source": [
    "oddrow1[\"class\"]=\"neg\""
   ]
  },
  {
   "cell_type": "code",
   "execution_count": 14,
   "metadata": {},
   "outputs": [
    {
     "data": {
      "text/html": [
       "<div>\n",
       "<style scoped>\n",
       "    .dataframe tbody tr th:only-of-type {\n",
       "        vertical-align: middle;\n",
       "    }\n",
       "\n",
       "    .dataframe tbody tr th {\n",
       "        vertical-align: top;\n",
       "    }\n",
       "\n",
       "    .dataframe thead th {\n",
       "        text-align: right;\n",
       "    }\n",
       "</style>\n",
       "<table border=\"1\" class=\"dataframe\">\n",
       "  <thead>\n",
       "    <tr style=\"text-align: right;\">\n",
       "      <th></th>\n",
       "      <th>class</th>\n",
       "      <th>aa_000</th>\n",
       "      <th>ab_000</th>\n",
       "      <th>ac_000</th>\n",
       "      <th>ad_000</th>\n",
       "      <th>ae_000</th>\n",
       "      <th>af_000</th>\n",
       "      <th>ag_000</th>\n",
       "      <th>ag_001</th>\n",
       "      <th>ag_002</th>\n",
       "      <th>...</th>\n",
       "      <th>ee_002</th>\n",
       "      <th>ee_003</th>\n",
       "      <th>ee_004</th>\n",
       "      <th>ee_005</th>\n",
       "      <th>ee_006</th>\n",
       "      <th>ee_007</th>\n",
       "      <th>ee_008</th>\n",
       "      <th>ee_009</th>\n",
       "      <th>ef_000</th>\n",
       "      <th>eg_000</th>\n",
       "    </tr>\n",
       "  </thead>\n",
       "  <tbody>\n",
       "    <tr>\n",
       "      <th>59999</th>\n",
       "      <td>neg</td>\n",
       "      <td>60</td>\n",
       "      <td>0</td>\n",
       "      <td>20</td>\n",
       "      <td>12</td>\n",
       "      <td>0</td>\n",
       "      <td>0</td>\n",
       "      <td>0</td>\n",
       "      <td>0</td>\n",
       "      <td>0</td>\n",
       "      <td>...</td>\n",
       "      <td>1098</td>\n",
       "      <td>138</td>\n",
       "      <td>412</td>\n",
       "      <td>654</td>\n",
       "      <td>78</td>\n",
       "      <td>88</td>\n",
       "      <td>0</td>\n",
       "      <td>0</td>\n",
       "      <td>0</td>\n",
       "      <td>0</td>\n",
       "    </tr>\n",
       "  </tbody>\n",
       "</table>\n",
       "<p>1 rows × 171 columns</p>\n",
       "</div>"
      ],
      "text/plain": [
       "      class aa_000 ab_000 ac_000 ad_000 ae_000 af_000 ag_000 ag_001 ag_002  \\\n",
       "59999   neg     60      0     20     12      0      0      0      0      0   \n",
       "\n",
       "       ...   ee_002 ee_003 ee_004 ee_005 ee_006 ee_007 ee_008 ee_009 ef_000  \\\n",
       "59999  ...     1098    138    412    654     78     88      0      0      0   \n",
       "\n",
       "      eg_000  \n",
       "59999      0  \n",
       "\n",
       "[1 rows x 171 columns]"
      ]
     },
     "execution_count": 14,
     "metadata": {},
     "output_type": "execute_result"
    }
   ],
   "source": [
    "oddrow1"
   ]
  },
  {
   "cell_type": "code",
   "execution_count": 15,
   "metadata": {},
   "outputs": [
    {
     "data": {
      "text/html": [
       "<div>\n",
       "<style scoped>\n",
       "    .dataframe tbody tr th:only-of-type {\n",
       "        vertical-align: middle;\n",
       "    }\n",
       "\n",
       "    .dataframe tbody tr th {\n",
       "        vertical-align: top;\n",
       "    }\n",
       "\n",
       "    .dataframe thead th {\n",
       "        text-align: right;\n",
       "    }\n",
       "</style>\n",
       "<table border=\"1\" class=\"dataframe\">\n",
       "  <thead>\n",
       "    <tr style=\"text-align: right;\">\n",
       "      <th></th>\n",
       "      <th>class</th>\n",
       "      <th>aa_000</th>\n",
       "      <th>ab_000</th>\n",
       "      <th>ac_000</th>\n",
       "      <th>ad_000</th>\n",
       "      <th>ae_000</th>\n",
       "      <th>af_000</th>\n",
       "      <th>ag_000</th>\n",
       "      <th>ag_001</th>\n",
       "      <th>ag_002</th>\n",
       "      <th>...</th>\n",
       "      <th>ee_002</th>\n",
       "      <th>ee_003</th>\n",
       "      <th>ee_004</th>\n",
       "      <th>ee_005</th>\n",
       "      <th>ee_006</th>\n",
       "      <th>ee_007</th>\n",
       "      <th>ee_008</th>\n",
       "      <th>ee_009</th>\n",
       "      <th>ef_000</th>\n",
       "      <th>eg_000</th>\n",
       "    </tr>\n",
       "  </thead>\n",
       "  <tbody>\n",
       "    <tr>\n",
       "      <th>59999</th>\n",
       "      <td>neg</td>\n",
       "      <td>40222</td>\n",
       "      <td>na</td>\n",
       "      <td>698</td>\n",
       "      <td>628</td>\n",
       "      <td>0</td>\n",
       "      <td>0</td>\n",
       "      <td>0</td>\n",
       "      <td>0</td>\n",
       "      <td>0</td>\n",
       "      <td>...</td>\n",
       "      <td>440066</td>\n",
       "      <td>183200</td>\n",
       "      <td>344546</td>\n",
       "      <td>254068</td>\n",
       "      <td>225148</td>\n",
       "      <td>158304</td>\n",
       "      <td>170384</td>\n",
       "      <td>158</td>\n",
       "      <td>0</td>\n",
       "      <td>0</td>\n",
       "    </tr>\n",
       "  </tbody>\n",
       "</table>\n",
       "<p>1 rows × 171 columns</p>\n",
       "</div>"
      ],
      "text/plain": [
       "      class aa_000 ab_000 ac_000 ad_000 ae_000 af_000 ag_000 ag_001 ag_002  \\\n",
       "59999   neg  40222     na    698    628      0      0      0      0      0   \n",
       "\n",
       "       ...    ee_002  ee_003  ee_004  ee_005  ee_006  ee_007  ee_008 ee_009  \\\n",
       "59999  ...    440066  183200  344546  254068  225148  158304  170384    158   \n",
       "\n",
       "      ef_000 eg_000  \n",
       "59999      0      0  \n",
       "\n",
       "[1 rows x 171 columns]"
      ]
     },
     "execution_count": 15,
     "metadata": {},
     "output_type": "execute_result"
    }
   ],
   "source": [
    "oddrow2"
   ]
  },
  {
   "cell_type": "code",
   "execution_count": 16,
   "metadata": {},
   "outputs": [],
   "source": [
    "data=data.append(oddrow1)\n",
    "data=data.append(oddrow2)"
   ]
  },
  {
   "cell_type": "code",
   "execution_count": 17,
   "metadata": {},
   "outputs": [],
   "source": [
    "data=data.replace(\"na\", -1)"
   ]
  },
  {
   "cell_type": "code",
   "execution_count": 18,
   "metadata": {},
   "outputs": [],
   "source": [
    "data=data.replace(\"pos\", 1)\n",
    "data=data.replace(\"neg\", 0)"
   ]
  },
  {
   "cell_type": "code",
   "execution_count": 19,
   "metadata": {},
   "outputs": [],
   "source": [
    "data=np.matrix(data)"
   ]
  },
  {
   "cell_type": "code",
   "execution_count": 20,
   "metadata": {},
   "outputs": [],
   "source": [
    "np.random.shuffle(data)"
   ]
  },
  {
   "cell_type": "code",
   "execution_count": 21,
   "metadata": {},
   "outputs": [],
   "source": [
    "X_train=data[:int(data.shape[0]*70/100),2:].astype(np.float)\n",
    "X_val=data[int(data.shape[0]*70/100):int(data.shape[0]*85/100),2:].astype(np.float)\n",
    "X_test=data[int(data.shape[0]*85/100):,2:].astype(np.float)\n",
    "\n",
    "y_train=data[:int(data.shape[0]*70/100),:1].astype(np.float)\n",
    "y_val=data[int(data.shape[0]*70/100):int(data.shape[0]*85/100),:1].astype(np.float)\n",
    "y_test=data[int(data.shape[0]*85/100):,:1].astype(np.float)"
   ]
  },
  {
   "cell_type": "code",
   "execution_count": 22,
   "metadata": {},
   "outputs": [
    {
     "data": {
      "text/plain": [
       "76000"
      ]
     },
     "execution_count": 22,
     "metadata": {},
     "output_type": "execute_result"
    }
   ],
   "source": [
    "X_train.shape[0]+X_test.shape[0]+X_val.shape[0]"
   ]
  },
  {
   "cell_type": "code",
   "execution_count": 23,
   "metadata": {},
   "outputs": [],
   "source": [
    "def norm(X,X_tr):\n",
    "    X_tr_min=X_tr.min(0)\n",
    "    X_tr_max=X_tr.max(0)\n",
    "    X=(X-X_tr_min)/(X_tr_max-X_tr_min)\n",
    "    return(X)"
   ]
  },
  {
   "cell_type": "code",
   "execution_count": 24,
   "metadata": {},
   "outputs": [],
   "source": [
    "X_test=norm(X_test,X_train)\n",
    "X_val=norm(X_val,X_train)\n",
    "X_train=norm(X_train,X_train)"
   ]
  },
  {
   "cell_type": "code",
   "execution_count": 25,
   "metadata": {},
   "outputs": [
    {
     "data": {
      "text/plain": [
       "(53200, 1)"
      ]
     },
     "execution_count": 25,
     "metadata": {},
     "output_type": "execute_result"
    }
   ],
   "source": [
    "y_train.shape"
   ]
  },
  {
   "cell_type": "code",
   "execution_count": 26,
   "metadata": {},
   "outputs": [
    {
     "data": {
      "text/plain": [
       "0.0"
      ]
     },
     "execution_count": 26,
     "metadata": {},
     "output_type": "execute_result"
    }
   ],
   "source": [
    "np.min(X_train)"
   ]
  },
  {
   "cell_type": "code",
   "execution_count": 27,
   "metadata": {},
   "outputs": [],
   "source": [
    "def cost(y,p):\n",
    "    Err=[]\n",
    "    for j in range(y.shape[1]):\n",
    "        if y[j]==1:\n",
    "            Err.append(-np.log(p[j]))\n",
    "        else:\n",
    "            Err.append(-np.log(1-p[j]))\n",
    "    return np.sum(Err)"
   ]
  },
  {
   "cell_type": "code",
   "execution_count": 28,
   "metadata": {},
   "outputs": [],
   "source": [
    "def sigmoid(X):\n",
    "    return 1/(1+np.exp(-X))"
   ]
  },
  {
   "cell_type": "code",
   "execution_count": 29,
   "metadata": {},
   "outputs": [],
   "source": [
    "def tanh(X):\n",
    "    return (np.exp(X)-np.exp(-X))/(np.exp(X)+np.exp(-X))"
   ]
  },
  {
   "cell_type": "code",
   "execution_count": 30,
   "metadata": {},
   "outputs": [],
   "source": [
    "epochs=1000\n",
    "nodes=30\n",
    "eta=0.00001"
   ]
  },
  {
   "cell_type": "code",
   "execution_count": 31,
   "metadata": {},
   "outputs": [],
   "source": [
    "w1=np.random.randn(X_train.shape[1],nodes)\n",
    "w2=np.random.randn(nodes,1)\n",
    "b1=np.random.randn(1,nodes)\n",
    "b2=np.random.randn(1,1)\n",
    "w1_best=w1\n",
    "w2_best=w2\n",
    "b1_best=b1\n",
    "b2_best=b2\n",
    "errbest=1000000"
   ]
  },
  {
   "cell_type": "code",
   "execution_count": 32,
   "metadata": {},
   "outputs": [],
   "source": [
    "w1=w1_best\n",
    "w2=w2_best\n",
    "b1=b1_best\n",
    "b2=b2_best\n",
    "\n",
    "Error=[]\n",
    "epoch=[]\n",
    "for i in range(epochs):\n",
    "    p=sigmoid(tanh(X_train@w1+b1)@w2+b2)    \n",
    "    w1=w1-eta*X_train.T@(np.multiply((p-y_train)@w2.T,1-np.power(tanh(X_train@w1+b1),2)))\n",
    "    b1=b1-eta*np.sum(np.multiply((p-y_train)@w2.T,1-np.power(tanh(X_train@w1+b1),2)))\n",
    "    w2=w2-eta*tanh(X_train@w1+b1).T@(p-y_train)\n",
    "    b2=b2-eta*np.sum(p-y_train)\n",
    "    p_val=sigmoid(tanh(X_val@w1+b1)@w2+b2)\n",
    "    Error.append(cost(y_val,p_val))\n",
    "    epoch.append(i)\n",
    "    if Error[i]<errbest:\n",
    "        errbest=Error[i]\n",
    "        w1_best=w1\n",
    "        w2_best=w2\n",
    "        b1_best=b1\n",
    "        b2_best=b2"
   ]
  },
  {
   "cell_type": "code",
   "execution_count": 33,
   "metadata": {},
   "outputs": [],
   "source": [
    "p_val=sigmoid(tanh(X_val@w1_best+b1_best)@w2_best+b2_best)"
   ]
  },
  {
   "cell_type": "code",
   "execution_count": 34,
   "metadata": {},
   "outputs": [],
   "source": [
    "#Sort y based on probabilities\n",
    "y_sort=np.array(y_val[np.argsort(p_val, axis=0)])\n",
    "\n",
    "#Number of 1s and 0s in y\n",
    "pos = np.sum(y_sort)\n",
    "neg = np.sum(1-y_sort)\n",
    "\n",
    "#Because y was sorted base on probabilities, the possible true negative counts \n",
    "#at each threshold are as follows\n",
    "tn = np.cumsum(1-y_sort)\n",
    "#Subtracting the true negatives from the total number of negatives give false positives\n",
    "fpr = 1-tn/neg\n",
    "\n",
    "#Total number of positives minus the number of positives at each threshold gives\n",
    "#true positives at each threshold\n",
    "tp = pos - np.cumsum(y_sort)\n",
    "\n",
    "tpr = tp/pos\n",
    "\n",
    "tpr=np.insert(tpr,0,1,axis=0)\n",
    "\n",
    "fpr=np.insert(fpr,0,1,axis=0)\n",
    "\n",
    "auc=-.5*(np.sum(tpr[1:]*np.diff(fpr))+np.sum(tpr[:-1]*np.diff(fpr)))\n",
    "\n"
   ]
  },
  {
   "cell_type": "code",
   "execution_count": 35,
   "metadata": {},
   "outputs": [
    {
     "data": {
      "text/plain": [
       "0.9740528763929891"
      ]
     },
     "execution_count": 35,
     "metadata": {},
     "output_type": "execute_result"
    }
   ],
   "source": [
    "auc"
   ]
  },
  {
   "cell_type": "code",
   "execution_count": 36,
   "metadata": {},
   "outputs": [],
   "source": [
    "p_test=sigmoid(tanh(X_test@w1_best+b1_best)@w2_best+b2_best)"
   ]
  },
  {
   "cell_type": "code",
   "execution_count": 37,
   "metadata": {},
   "outputs": [],
   "source": [
    "#Sort y based on probabilities\n",
    "y_sort=np.array(y_test[np.argsort(p_test, axis=0)])\n",
    "\n",
    "#Number of 1s and 0s in y\n",
    "pos = np.sum(y_sort)\n",
    "neg = np.sum(1-y_sort)\n",
    "\n",
    "#Because y was sorted base on probabilities, the possible true negative counts \n",
    "#at each threshold are as follows\n",
    "tn = np.cumsum(1-y_sort)\n",
    "#Subtracting the true negatives from the total number of negatives give false positives\n",
    "fpr = 1-tn/neg\n",
    "\n",
    "#Total number of positives minus the number of positives at each threshold gives\n",
    "#true positives at each threshold\n",
    "tp = pos - np.cumsum(y_sort)\n",
    "\n",
    "tpr = tp/pos\n",
    "\n",
    "tpr=np.insert(tpr,0,1,axis=0)\n",
    "\n",
    "fpr=np.insert(fpr,0,1,axis=0)\n",
    "\n",
    "auc=-.5*(np.sum(tpr[1:]*np.diff(fpr))+np.sum(tpr[:-1]*np.diff(fpr)))\n"
   ]
  },
  {
   "cell_type": "code",
   "execution_count": 39,
   "metadata": {},
   "outputs": [
    {
     "data": {
      "text/plain": [
       "[<matplotlib.lines.Line2D at 0x7f05909b8f98>]"
      ]
     },
     "execution_count": 39,
     "metadata": {},
     "output_type": "execute_result"
    },
    {
     "data": {
      "image/png": "[encoded data removed]",
      "text/plain": [
       "<Figure size 432x288 with 1 Axes>"
      ]
     },
     "metadata": {
      "needs_background": "light"
     },
     "output_type": "display_data"
    }
   ],
   "source": [
    "plt.plot(fpr,tpr)\n",
    "plt.xticks(fontsize=18)\n",
    "plt.xlabel(\"False Positive Rate\",fontsize=20)\n",
    "plt.yticks(fontsize=18)\n",
    "plt.ylabel(\"True Positive Rate\" ,fontsize=20)\n",
    "plt.title(\"ROC Curve with Guess Line\", fontsize=20)\n",
    "plt.plot([0,1],[0,1])"
   ]
  },
  {
   "cell_type": "code",
   "execution_count": 40,
   "metadata": {},
   "outputs": [
    {
     "data": {
      "text/plain": [
       "0.9818466760084329"
      ]
     },
     "execution_count": 40,
     "metadata": {},
     "output_type": "execute_result"
    }
   ],
   "source": [
    "auc"
   ]
  },
  {
   "cell_type": "code",
   "execution_count": 41,
   "metadata": {},
   "outputs": [
    {
     "data": {
      "text/plain": [
       "30"
      ]
     },
     "execution_count": 41,
     "metadata": {},
     "output_type": "execute_result"
    }
   ],
   "source": [
    "nodes"
   ]
  },
  {
   "cell_type": "code",
   "execution_count": null,
   "metadata": {},
   "outputs": [],
   "source": []
  },
  {
   "cell_type": "code",
   "execution_count": null,
   "metadata": {},
   "outputs": [],
   "source": []
  }
 ],
 "metadata": {
  "kernelspec": {
   "display_name": "Python 3",
   "language": "python",
   "name": "python3"
  },
  "language_info": {
   "codemirror_mode": {
    "name": "ipython",
    "version": 3
   },
   "file_extension": ".py",
   "mimetype": "text/x-python",
   "name": "python",
   "nbconvert_exporter": "python",
   "pygments_lexer": "ipython3",
   "version": "3.7.1"
  }
 },
 "nbformat": 4,
 "nbformat_minor": 2
}
