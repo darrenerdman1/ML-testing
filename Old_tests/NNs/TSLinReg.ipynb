{
 "cells": [
  {
   "cell_type": "code",
   "execution_count": 206,
   "metadata": {},
   "outputs": [],
   "source": [
    "import numpy as np"
   ]
  },
  {
   "cell_type": "code",
   "execution_count": 207,
   "metadata": {},
   "outputs": [],
   "source": [
    "class LinearRegression:\n",
    "    def __init__(self,indims,outdims,solver=\"Gradient Descent\"):\n",
    "        self.indims=indims\n",
    "        self.outdims=outdims\n",
    "        self.solver=solver\n",
    "        self.weights=np.array([])\n",
    "        if solver !=\"Gradient Descent\" and solver !=\"Closed Form\":\n",
    "            print(\"Not a valid solver. Must be 'Gradient Descent' or 'Closed Form'\")\n",
    "            \n",
    "    def cost(self,y,y_hat):\n",
    "        return ((y_hat-y).T@(y_hat-y))/len(y)\n",
    "\n",
    "    def weightinit(self):\n",
    "        self.weights=np.random.randn(self.indims+1,self.outdims)\n",
    "            \n",
    "    def predict(self, X):\n",
    "        if X.shape ==self.indims:\n",
    "            X=np.hstack((np.ones((X.shape[0],1)),X))\n",
    "        if not self.weights.size:\n",
    "            self.weightinit()\n",
    "        self.predictions=X@self.weights   \n",
    "        \n",
    "            \n",
    "    def train(self,X,y,epochs,eta,X_val=False,y_val=False,lam1=0,lam2=0):\n",
    "        self.valerror=[]\n",
    "        self.error=[]\n",
    "        d={}\n",
    "        X=np.hstack((np.ones((X.shape[0],1)),X))\n",
    "        \n",
    "        if self.solver==\"Gradient Descent\":\n",
    "            self.predict(X)\n",
    " \n",
    "            for i in range(epochs):\n",
    "                self.weights=self.weights-eta*(X.T@(self.predictions-y))-lam1*self.weights-lam2*np.sign(self.weights)\n",
    "                \n",
    "                if X_val:\n",
    "                    self.predict(X_val)\n",
    "                    self.valerror.append(self.cost(y_val,self.predictions))\n",
    "                self.predict(X)\n",
    "                self.error.append(self.cost(y,self.predictions))\n",
    "        \n",
    "        elif self.solver==\"Closed Form\":\n",
    "            self.weights=np.linalg.inv(X.T@X+lam2*np.identity(X.shape[1]))@X.T@y\n",
    "            if X_val:\n",
    "                    self.predict(X_val)\n",
    "                    self.valerror.append(self.cost(y_val,self.predictions))\n",
    "            self.predict(X)\n",
    "            self.error.append(self.cost(y,self.predictions))\n",
    "        else:\n",
    "            print(\"Not a valid solver. Must be 'Gradient Descent' or 'Closed Form'\")"
   ]
  },
  {
   "cell_type": "code",
   "execution_count": 117,
   "metadata": {},
   "outputs": [],
   "source": [
    "X=np.linspace(0,100,2000)\n",
    "X.shape=(2000,1)\n",
    "\n",
    "y= 10+ 4.115*X+40*np.random.randn(2000,1)"
   ]
  },
  {
   "cell_type": "code",
   "execution_count": 201,
   "metadata": {},
   "outputs": [],
   "source": [
    "model=TSLinReg(X.shape[1],y.shape[1],\"Gradient Descent\")"
   ]
  },
  {
   "cell_type": "code",
   "execution_count": 202,
   "metadata": {},
   "outputs": [],
   "source": [
    "model.train(X,y,100000,0.0000001)"
   ]
  },
  {
   "cell_type": "code",
   "execution_count": 203,
   "metadata": {},
   "outputs": [
    {
     "data": {
      "text/plain": [
       "array([[ 11.78177189],\n",
       "       [ 11.98585518],\n",
       "       [ 12.18993848],\n",
       "       ...,\n",
       "       [419.33610948],\n",
       "       [419.54019278],\n",
       "       [419.74427607]])"
      ]
     },
     "execution_count": 203,
     "metadata": {},
     "output_type": "execute_result"
    }
   ],
   "source": [
    "model.predictions"
   ]
  },
  {
   "cell_type": "code",
   "execution_count": 204,
   "metadata": {},
   "outputs": [
    {
     "data": {
      "text/plain": [
       "array([[11.78177189],\n",
       "       [ 4.07962504]])"
      ]
     },
     "execution_count": 204,
     "metadata": {},
     "output_type": "execute_result"
    }
   ],
   "source": [
    "model.weights"
   ]
  },
  {
   "cell_type": "code",
   "execution_count": null,
   "metadata": {},
   "outputs": [],
   "source": []
  }
 ],
 "metadata": {
  "kernelspec": {
   "display_name": "Python 3",
   "language": "python",
   "name": "python3"
  },
  "language_info": {
   "codemirror_mode": {
    "name": "ipython",
    "version": 3
   },
   "file_extension": ".py",
   "mimetype": "text/x-python",
   "name": "python",
   "nbconvert_exporter": "python",
   "pygments_lexer": "ipython3",
   "version": "3.7.1"
  }
 },
 "nbformat": 4,
 "nbformat_minor": 2
}
