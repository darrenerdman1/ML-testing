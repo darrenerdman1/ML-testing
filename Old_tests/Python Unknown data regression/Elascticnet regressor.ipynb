{
 "cells": [
  {
   "cell_type": "code",
   "execution_count": 1,
   "metadata": {},
   "outputs": [],
   "source": [
    "#Most of the work will be done in numpy, but pandas for data reading and matplot\n",
    "import numpy as np\n",
    "import pandas as pd\n",
    "import matplotlib.pyplot as plt\n",
    "\n",
    "#Read the csv, and tranform into numpy matrix\n",
    "Data=pd.read_csv(\"train.csv\")\n",
    "Data=np.matrix(Data)\n",
    "\n",
    "rownum=Data.shape[0]"
   ]
  },
  {
   "cell_type": "code",
   "execution_count": 2,
   "metadata": {},
   "outputs": [
    {
     "name": "stdout",
     "output_type": "stream",
     "text": [
      "0\n"
     ]
    }
   ],
   "source": [
    "#Row indices do not matter in this case, so the easiest way to random sample is to shuffle the rowes\n",
    "np.random.shuffle(Data)\n",
    "\n",
    "#Get the size of the training, test, and validation sets, so that I can split them evenly\n",
    "#Percent of data in train\n",
    "tr_ratio=.7\n",
    "#Size of validation set\n",
    "val_ratio=(1-tr_ratio)/2\n",
    "#Size of test\n",
    "tst_ratio=1-tr_ratio-val_ratio\n",
    "tr_len=int(rownum*tr_ratio)\n",
    "v_len=int(rownum*val_ratio)\n",
    "tst_len=int(rownum*tst_ratio)\n",
    "#See if any were left over in rounding\n",
    "leftover=rownum-(tr_len+v_len +tst_len)\n",
    "\n",
    "#Add the leftover to train. Decided to take the last tr_len rows, could take the first intead,\n",
    "#as the rows where randomly reorderd\n",
    "#Up to this point, the program is completely generalized, now it specificall takes data where \n",
    "#the last column is the dependent variable\n",
    "X_train=Data[-(leftover+tr_len):,:-1]\n",
    "y_train=Data[-(leftover+tr_len):,-1]\n",
    "\n",
    "#Take The first v_test rows \n",
    "X_val=Data[:v_len,:-1]\n",
    "y_val=Data[:v_len:,-1]\n",
    "\n",
    "#Take the remaining\n",
    "X_test=Data[v_len:v_len+tst_len,:-1]\n",
    "y_test=Data[v_len:v_len+tst_len,-1]\n",
    "#Make sure I am using all of the rows of data, no duplicates or missed rows\n",
    "print(len(y_train)+len(y_val)+len(y_test)-rownum)"
   ]
  },
  {
   "cell_type": "code",
   "execution_count": 3,
   "metadata": {},
   "outputs": [],
   "source": [
    "#Find index of second largest value of crit_temp, as largest is an outlier, according to above graphs. Used as center of gaussian\n",
    "\n",
    "gs_center=np.array(y_train.reshape(1,y_train.shape[0])).argsort()[0,-2]"
   ]
  },
  {
   "cell_type": "code",
   "execution_count": 4,
   "metadata": {},
   "outputs": [],
   "source": [
    "#Find the minimum and maximumm of y in order to normalize the data set \n",
    "y_tr_mean=y_train.mean()\n",
    "y_std=np.std(y_train)"
   ]
  },
  {
   "cell_type": "code",
   "execution_count": 5,
   "metadata": {},
   "outputs": [],
   "source": [
    "#Do a min-max normalization of ythe training data\n",
    "y_train=(y_train-y_tr_mean)/y_std"
   ]
  },
  {
   "cell_type": "code",
   "execution_count": 6,
   "metadata": {},
   "outputs": [],
   "source": [
    "#Apply the same normalization to the validation and test data\n",
    "y_val=(y_val-y_tr_mean)/y_std\n",
    "y_test=(y_test-y_tr_mean)/y_std"
   ]
  },
  {
   "cell_type": "code",
   "execution_count": 7,
   "metadata": {},
   "outputs": [],
   "source": [
    "X_tr_mean=X_train.mean(0)\n",
    "X_tr_std=X_train.std(0)"
   ]
  },
  {
   "cell_type": "code",
   "execution_count": 8,
   "metadata": {},
   "outputs": [],
   "source": [
    "#Do the same for the X values\n",
    "X_train=(X_train-X_tr_mean)/(X_tr_std)\n",
    "X_val=(X_val-X_tr_mean)/(X_tr_std)\n",
    "X_test=(X_test-X_tr_mean)/(X_tr_std)"
   ]
  },
  {
   "cell_type": "code",
   "execution_count": 9,
   "metadata": {},
   "outputs": [],
   "source": [
    "#write phi in functional form, to make it easier to tune\n",
    "def phi(X):\n",
    "    phi=np.ones((X.shape[0],1))\n",
    "    #Create matrix where each row is X values at the max y. Will be used for creating the desired gaussian radial functions \n",
    "    centermat=np.tile(X_train[gs_center],(X.shape[0],1))\n",
    "    for i in range(6):\n",
    "        #Trig functions seem to deal well with the fluctuations, \n",
    "        #while the polynomials give the fit a way to more easily deal with the fact that the data is not periodic\n",
    "        phi=np.hstack((phi,np.power(X,i+1)))#,np.sin((i+1)*X), np.cos((i+1)*X)))\n",
    "        #Fitting with just guassians did not work well, though adding one in does imporive the fit.\n",
    "#    phi=np.hstack((phi,np.exp(-np.power((X-centermat)/2/centermat,2))))\n",
    "\n",
    "    return phi"
   ]
  },
  {
   "cell_type": "code",
   "execution_count": 10,
   "metadata": {},
   "outputs": [],
   "source": [
    "#Find phi for all three sets\n",
    "phi_tr=phi(X_train)\n",
    "phi_val=phi(X_val)\n",
    "phi_test=phi(X_test)"
   ]
  },
  {
   "cell_type": "code",
   "execution_count": 159,
   "metadata": {},
   "outputs": [],
   "source": [
    "#Initialize a starting point for w for gradient descent\n",
    "w0=np.random.randn(phi_tr.shape[1],1)\n",
    "wtrain=w0\n",
    "#Calculate the y prediction for y for these weights\n",
    "y_hat=phi_tr@w_train\n",
    "#Error in first measurement. Least squares because it is faster\n",
    "Error=[((y_hat-y_train).T@(y_hat-y_train))[0,0]]\n",
    "eta=1e-6\n",
    "lam1=.05\n",
    "lam2=0.001\n",
    "epochs=2000\n",
    "epoch=[0]\n",
    "for i in range(epochs):\n",
    "    w_train=w_train-eta*(phi_tr.T@(y_hat-y_train))\n",
    "    y_hat=phi_tr@w_train\n",
    "    #Calculate least squares error (it takes much longer to calculate MRAE)\n",
    "    Error.append(((y_hat-y_train).T@(y_hat-y_train))[0,0])\n",
    "    epoch.append(i+1)"
   ]
  },
  {
   "cell_type": "code",
   "execution_count": null,
   "metadata": {
    "scrolled": true
   },
   "outputs": [],
   "source": [
    "plt.plot(epoch,Error)"
   ]
  },
  {
   "cell_type": "code",
   "execution_count": null,
   "metadata": {},
   "outputs": [],
   "source": [
    "min(Error)"
   ]
  },
  {
   "cell_type": "code",
   "execution_count": 160,
   "metadata": {},
   "outputs": [],
   "source": [
    "y_pred=phi_val@w_train\n",
    "poly_non_reg_error=np.median(np.array(abs((y_val-y_pred)/y_val).reshape((1,y_val.shape[0]))))"
   ]
  },
  {
   "cell_type": "code",
   "execution_count": 161,
   "metadata": {},
   "outputs": [],
   "source": [
    "y_pred=phi_test@w_train\n",
    "poly_non_reg_error=np.median(np.array(abs((y_test-y_pred)/y_test).reshape((1,y_test.shape[0]))))"
   ]
  },
  {
   "cell_type": "code",
   "execution_count": 33,
   "metadata": {
    "scrolled": false
   },
   "outputs": [
    {
     "data": {
      "text/plain": [
       "[3469.784457282592,\n",
       " 3469.6677397760045,\n",
       " 3469.5510329921945,\n",
       " 3469.434336929726,\n",
       " 3469.317651587164]"
      ]
     },
     "execution_count": 33,
     "metadata": {},
     "output_type": "execute_result"
    }
   ],
   "source": [
    "Error[-5:]"
   ]
  },
  {
   "cell_type": "code",
   "execution_count": 9,
   "metadata": {},
   "outputs": [],
   "source": [
    "#write phi in functional form, to make it easier to tune\n",
    "def phi(X):\n",
    "    phi=np.ones((X.shape[0],1))\n",
    "    #Create matrix where each row is X values at the max y. Will be used for creating the desired gaussian radial functions \n",
    "    centermat=np.tile(X_train[gs_center],(X.shape[0],1))\n",
    "    for i in range(5):\n",
    "        #Trig functions seem to deal well with the fluctuations, \n",
    "        #while the polynomials give the fit a way to more easily deal with the fact that the data is not periodic\n",
    "        phi=np.hstack((phi,np.power(X,i+1),np.sin((i+1)*X), np.cos((i+1)*X)))\n",
    "        #Fitting with just guassians did not work well, though adding one in does imporive the fit.\n",
    "    phi=np.hstack((phi,np.exp(-np.power((X-centermat)/2/centermat,2))))\n",
    "\n",
    "    return phi"
   ]
  },
  {
   "cell_type": "code",
   "execution_count": 11,
   "metadata": {},
   "outputs": [],
   "source": [
    "#Find phi for all three sets\n",
    "phi_tr=phi(X_train)\n",
    "phi_val=phi(X_val)\n",
    "phi_test=phi(X_test)\n",
    "w0=np.linalg.inv(phi_tr.T@phi_tr+.002*np.identity(phi_tr.shape[1]))@phi_tr.T@y_train"
   ]
  },
  {
   "cell_type": "code",
   "execution_count": 17,
   "metadata": {},
   "outputs": [],
   "source": [
    "#Do the same as above,but with L1 and L2 regularization (Elasticnet Regression)\n",
    "w_train=w0\n",
    "y_hat=phi_tr@w_train\n",
    "Error=[((y_hat-y_train).T@(y_hat-y_train))[0,0]]\n",
    "#eta, lam1, and lam2 were determined by finding what gave the lowest values on the validation set\n",
    "eta=1e-6\n",
    "lam1=.0001\n",
    "lam2=0.0000001\n",
    "epochs=2000\n",
    "epoch=[0]\n",
    "for i in range(epochs):\n",
    "    w_train=w_train-eta*(phi_tr.T@(y_hat-y_train))-lam1*w_train-lam2*np.sign(w_train)\n",
    "    y_hat=phi_tr@w_train\n",
    "    Error.append(np.sqrt((y_hat-y_train).T@(y_hat-y_train))[0,0])\n",
    "    epoch.append(i+1)"
   ]
  },
  {
   "cell_type": "code",
   "execution_count": 18,
   "metadata": {},
   "outputs": [
    {
     "data": {
      "text/plain": [
       "[<matplotlib.lines.Line2D at 0x7f472d361a20>]"
      ]
     },
     "execution_count": 18,
     "metadata": {},
     "output_type": "execute_result"
    },
    {
     "data": {
      "image/png": "[encoded data removed]",
      "text/plain": [
       "<Figure size 432x288 with 1 Axes>"
      ]
     },
     "metadata": {
      "needs_background": "light"
     },
     "output_type": "display_data"
    }
   ],
   "source": [
    "plt.plot(epoch,Error)"
   ]
  },
  {
   "cell_type": "code",
   "execution_count": 18,
   "metadata": {},
   "outputs": [
    {
     "data": {
      "text/plain": [
       "166748995.90667698"
      ]
     },
     "execution_count": 18,
     "metadata": {},
     "output_type": "execute_result"
    }
   ],
   "source": [
    "min(Error)"
   ]
  },
  {
   "cell_type": "code",
   "execution_count": 19,
   "metadata": {},
   "outputs": [
    {
     "data": {
      "text/plain": [
       "nan"
      ]
     },
     "execution_count": 19,
     "metadata": {},
     "output_type": "execute_result"
    }
   ],
   "source": [
    "#Can't seem to get error very low\n",
    "y_pred=phi_val@w_train\n",
    "np.median(np.array(abs((y_val-y_pred)/y_val).reshape((1,y_val.shape[0]))))"
   ]
  },
  {
   "cell_type": "code",
   "execution_count": null,
   "metadata": {},
   "outputs": [],
   "source": [
    "#Can't seem to get error very low\n",
    "y_pred=phi_val@w0\n",
    "np.median(np.array(abs((y_val-y_pred)/y_val).reshape((1,y_val.shape[0]))))"
   ]
  },
  {
   "cell_type": "code",
   "execution_count": 25,
   "metadata": {},
   "outputs": [],
   "source": [
    "y_pred=phi_test@w_train\n",
    "sin_cos_gauss_poly_mrae=np.median(np.array(abs((y_test-y_pred)/y_test).reshape((1,y_test.shape[0]))))"
   ]
  },
  {
   "cell_type": "code",
   "execution_count": 175,
   "metadata": {},
   "outputs": [
    {
     "data": {
      "text/plain": [
       "0.7703633001476554"
      ]
     },
     "execution_count": 175,
     "metadata": {},
     "output_type": "execute_result"
    }
   ],
   "source": [
    "poly_mrae"
   ]
  },
  {
   "cell_type": "code",
   "execution_count": 13,
   "metadata": {},
   "outputs": [
    {
     "data": {
      "text/plain": [
       "1.8751725191871973"
      ]
     },
     "execution_count": 13,
     "metadata": {},
     "output_type": "execute_result"
    }
   ],
   "source": [
    "sin_cos_gauss_poly_mrae"
   ]
  },
  {
   "cell_type": "code",
   "execution_count": 164,
   "metadata": {},
   "outputs": [
    {
     "data": {
      "text/plain": [
       "0.8669177840106006"
      ]
     },
     "execution_count": 164,
     "metadata": {},
     "output_type": "execute_result"
    }
   ],
   "source": [
    "poly_non_reg_error"
   ]
  },
  {
   "cell_type": "code",
   "execution_count": null,
   "metadata": {},
   "outputs": [],
   "source": []
  }
 ],
 "metadata": {
  "kernelspec": {
   "display_name": "Python 3",
   "language": "python",
   "name": "python3"
  },
  "language_info": {
   "codemirror_mode": {
    "name": "ipython",
    "version": 3
   },
   "file_extension": ".py",
   "mimetype": "text/x-python",
   "name": "python",
   "nbconvert_exporter": "python",
   "pygments_lexer": "ipython3",
   "version": "3.7.1"
  }
 },
 "nbformat": 4,
 "nbformat_minor": 2
}
