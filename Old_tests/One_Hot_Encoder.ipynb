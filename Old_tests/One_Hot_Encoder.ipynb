{
 "cells": [
  {
   "cell_type": "code",
   "execution_count": 1,
   "metadata": {},
   "outputs": [],
   "source": [
    "import numpy as np"
   ]
  },
  {
   "cell_type": "code",
   "execution_count": 326,
   "metadata": {},
   "outputs": [],
   "source": [
    "#Make a small array so that I an actually see the results easily. Two categoricat variables\n",
    "categorical_data=np.array([\"1\",\"4\"]*100)\n",
    "categorical_data=np.hstack((categorical_data.reshape(200,1), np.ones((200,1)),np.array([\"1\",\"2\"]*100).reshape(200,1)))"
   ]
  },
  {
   "cell_type": "code",
   "execution_count": 327,
   "metadata": {},
   "outputs": [],
   "source": [
    "#Cast array as matrix\n",
    "categorical_data=np.matrix(categorical_data)"
   ]
  },
  {
   "cell_type": "code",
   "execution_count": 328,
   "metadata": {},
   "outputs": [],
   "source": [
    "#Sometimes the output wouldn't change if an error occured, so shuffle sometime to make sure\n",
    "np.random.shuffle(categorical_data)"
   ]
  },
  {
   "cell_type": "code",
   "execution_count": 329,
   "metadata": {},
   "outputs": [],
   "source": [
    "#The basics of this code is stack overflow, which I generalized\n",
    "def get_one_hot(targets):\n",
    "    #Need the matrix column as a row np array for the following\n",
    "    targets=np.asarray(targets).reshape(-1)\n",
    "    #Total number of categories in column\n",
    "    num_classes=len(np.unique(targets))\n",
    "    #Create an arry the same length as the column, with the entries correspond to where\n",
    "    #they appear in the np.unique output, which sorts them.\n",
    "    indices=np.searchsorted(np.unique(targets),targets)\n",
    "    #For each index, take the corresponding column out of the identity matrix of size=number of catgories. \n",
    "    #So the third entry of the uniques array will make this return [0,0,1,0]. Does so for every index in the indices list\n",
    "    res = np.eye(num_classes)[indices]\n",
    "    #return as a column vector\n",
    "    return res.reshape(len(targets),num_classes)"
   ]
  },
  {
   "cell_type": "code",
   "execution_count": 330,
   "metadata": {},
   "outputs": [],
   "source": [
    "def mat_ohe(data,cols_to_ohe):\n",
    "    #Could not entriely avoid for loops, iterate over columns I want to one hot encode\n",
    "    for i in cols_to_ohe:\n",
    "        #Actual data in the column passed to one hot encoder, then returned as array of arrays\n",
    "        ohe_cols=get_one_hot(data[:,i])\n",
    "        #add the ohe columns to the orifinal matrix\n",
    "        data=np.hstack((data,ohe_cols))\n",
    "    #Wait to remove the origianl columns until all columns need have been oh=ne hot ecode, to avoid column numberinf issues\n",
    "    data=np.delete(data,cols_to_ohe,1)\n",
    "    #return the data as a number, now that any strings have been removed\n",
    "    return data.astype(float)\n",
    "    "
   ]
  },
  {
   "cell_type": "code",
   "execution_count": 331,
   "metadata": {},
   "outputs": [
    {
     "data": {
      "text/plain": [
       "matrix([['1', '1.0', '1'],\n",
       "        ['1', '1.0', '1'],\n",
       "        ['1', '1.0', '1'],\n",
       "        ['1', '1.0', '1'],\n",
       "        ['4', '1.0', '2'],\n",
       "        ['1', '1.0', '1'],\n",
       "        ['4', '1.0', '2'],\n",
       "        ['1', '1.0', '1'],\n",
       "        ['1', '1.0', '1'],\n",
       "        ['4', '1.0', '2'],\n",
       "        ['1', '1.0', '1'],\n",
       "        ['1', '1.0', '1'],\n",
       "        ['1', '1.0', '1'],\n",
       "        ['4', '1.0', '2'],\n",
       "        ['1', '1.0', '1'],\n",
       "        ['1', '1.0', '1'],\n",
       "        ['4', '1.0', '2'],\n",
       "        ['4', '1.0', '2'],\n",
       "        ['4', '1.0', '2'],\n",
       "        ['4', '1.0', '2']], dtype='<U32')"
      ]
     },
     "execution_count": 331,
     "metadata": {},
     "output_type": "execute_result"
    }
   ],
   "source": [
    "categorical_data[:20]"
   ]
  },
  {
   "cell_type": "code",
   "execution_count": 332,
   "metadata": {},
   "outputs": [
    {
     "name": "stdout",
     "output_type": "stream",
     "text": [
      "[['1' '1.0' '1']\n",
      " ['1' '1.0' '1']\n",
      " ['1' '1.0' '1']\n",
      " ['1' '1.0' '1']\n",
      " ['4' '1.0' '2']\n",
      " ['1' '1.0' '1']\n",
      " ['4' '1.0' '2']\n",
      " ['1' '1.0' '1']\n",
      " ['1' '1.0' '1']\n",
      " ['4' '1.0' '2']\n",
      " ['1' '1.0' '1']\n",
      " ['1' '1.0' '1']\n",
      " ['1' '1.0' '1']\n",
      " ['4' '1.0' '2']\n",
      " ['1' '1.0' '1']\n",
      " ['1' '1.0' '1']\n",
      " ['4' '1.0' '2']\n",
      " ['4' '1.0' '2']\n",
      " ['4' '1.0' '2']\n",
      " ['4' '1.0' '2']]\n",
      "[[1. 1. 0. 1. 0.]\n",
      " [1. 1. 0. 1. 0.]\n",
      " [1. 1. 0. 1. 0.]\n",
      " [1. 1. 0. 1. 0.]\n",
      " [1. 0. 1. 0. 1.]\n",
      " [1. 1. 0. 1. 0.]\n",
      " [1. 0. 1. 0. 1.]\n",
      " [1. 1. 0. 1. 0.]\n",
      " [1. 1. 0. 1. 0.]\n",
      " [1. 0. 1. 0. 1.]\n",
      " [1. 1. 0. 1. 0.]\n",
      " [1. 1. 0. 1. 0.]\n",
      " [1. 1. 0. 1. 0.]\n",
      " [1. 0. 1. 0. 1.]\n",
      " [1. 1. 0. 1. 0.]\n",
      " [1. 1. 0. 1. 0.]\n",
      " [1. 0. 1. 0. 1.]\n",
      " [1. 0. 1. 0. 1.]\n",
      " [1. 0. 1. 0. 1.]\n",
      " [1. 0. 1. 0. 1.]]\n"
     ]
    }
   ],
   "source": [
    "print(categorical_data[:20])\n",
    "#It clearly worked for this set\n",
    "print(mat_ohe(categorical_data,[0,2])[:20])"
   ]
  },
  {
   "cell_type": "code",
   "execution_count": 333,
   "metadata": {},
   "outputs": [],
   "source": [
    "categorical_data=np.array([1,2,3,4]*100)\n",
    "#Columns 2 and 13 should be one hot encoded. Col 2 has 4 categories, and col 13 has 2, so I should gain 4 columns after ohe\n",
    "categorical_data=np.hstack((np.random.randint(0,100,size=(400,1)),categorical_data.reshape(400,1), np.random.randint(0,100,size=(400,10)),np.array([\"fee\",\"fi\"]*200).reshape(400,1),np.random.randint(50,70,size=(400,5))))"
   ]
  },
  {
   "cell_type": "code",
   "execution_count": 334,
   "metadata": {},
   "outputs": [
    {
     "data": {
      "text/plain": [
       "array([['5', '1', '83', ..., '67', '54', '69'],\n",
       "       ['31', '2', '3', ..., '61', '69', '55'],\n",
       "       ['36', '3', '67', ..., '69', '67', '65'],\n",
       "       ...,\n",
       "       ['31', '2', '61', ..., '56', '50', '61'],\n",
       "       ['48', '3', '29', ..., '69', '58', '65'],\n",
       "       ['0', '4', '57', ..., '52', '57', '67']], dtype='<U21')"
      ]
     },
     "execution_count": 334,
     "metadata": {},
     "output_type": "execute_result"
    }
   ],
   "source": [
    "categorical_data"
   ]
  },
  {
   "cell_type": "code",
   "execution_count": 336,
   "metadata": {},
   "outputs": [],
   "source": [
    "ohe_larger=mat_ohe(categorical_data,[1,12])"
   ]
  },
  {
   "cell_type": "code",
   "execution_count": 346,
   "metadata": {},
   "outputs": [
    {
     "data": {
      "text/plain": [
       "array(['83', '3', '67', '96', '63', '71', '21', '1', '59', '1', '82',\n",
       "       '15', '6', '94', '98', '66', '12', '94', '41', '52'], dtype='<U21')"
      ]
     },
     "execution_count": 346,
     "metadata": {},
     "output_type": "execute_result"
    }
   ],
   "source": [
    "#Third column has moved to first column, and matrix is not all numbers, not strings\n",
    "categorical_data[:20,2]"
   ]
  },
  {
   "cell_type": "code",
   "execution_count": 347,
   "metadata": {},
   "outputs": [
    {
     "data": {
      "text/plain": [
       "array([83.,  3., 67., 96., 63., 71., 21.,  1., 59.,  1., 82., 15.,  6.,\n",
       "       94., 98., 66., 12., 94., 41., 52.])"
      ]
     },
     "execution_count": 347,
     "metadata": {},
     "output_type": "execute_result"
    }
   ],
   "source": [
    "ohe_larger[:20,1]"
   ]
  },
  {
   "cell_type": "code",
   "execution_count": 350,
   "metadata": {},
   "outputs": [
    {
     "data": {
      "text/plain": [
       "array(['50', '61', '68', '64', '61', '51', '56', '56', '51', '67', '59',\n",
       "       '61', '59', '52', '60', '50', '58', '56', '50', '52'], dtype='<U21')"
      ]
     },
     "execution_count": 350,
     "metadata": {},
     "output_type": "execute_result"
    }
   ],
   "source": [
    "#13 has moved to 11\n",
    "categorical_data[:20,13]"
   ]
  },
  {
   "cell_type": "code",
   "execution_count": 351,
   "metadata": {},
   "outputs": [
    {
     "data": {
      "text/plain": [
       "array([50., 61., 68., 64., 61., 51., 56., 56., 51., 67., 59., 61., 59.,\n",
       "       52., 60., 50., 58., 56., 50., 52.])"
      ]
     },
     "execution_count": 351,
     "metadata": {},
     "output_type": "execute_result"
    }
   ],
   "source": [
    "ohe_larger[:20,11]"
   ]
  },
  {
   "cell_type": "code",
   "execution_count": 354,
   "metadata": {},
   "outputs": [
    {
     "data": {
      "text/plain": [
       "array([[1., 0., 0., 0., 1., 0.],\n",
       "       [0., 1., 0., 0., 0., 1.],\n",
       "       [0., 0., 1., 0., 1., 0.],\n",
       "       ...,\n",
       "       [0., 1., 0., 0., 0., 1.],\n",
       "       [0., 0., 1., 0., 1., 0.],\n",
       "       [0., 0., 0., 1., 0., 1.]])"
      ]
     },
     "execution_count": 354,
     "metadata": {},
     "output_type": "execute_result"
    }
   ],
   "source": [
    "#The last 6 columns should be 1s and zeros, with a diagonal of with 4 and one with width 2,\n",
    "#since the arrays were not sorted. It is, so it seems my one hot encoder works\n",
    "ohe_larger[:,-6:]"
   ]
  },
  {
   "cell_type": "code",
   "execution_count": null,
   "metadata": {},
   "outputs": [],
   "source": []
  }
 ],
 "metadata": {
  "kernelspec": {
   "display_name": "Python 3",
   "language": "python",
   "name": "python3"
  },
  "language_info": {
   "codemirror_mode": {
    "name": "ipython",
    "version": 3
   },
   "file_extension": ".py",
   "mimetype": "text/x-python",
   "name": "python",
   "nbconvert_exporter": "python",
   "pygments_lexer": "ipython3",
   "version": "3.7.1"
  }
 },
 "nbformat": 4,
 "nbformat_minor": 2
}
