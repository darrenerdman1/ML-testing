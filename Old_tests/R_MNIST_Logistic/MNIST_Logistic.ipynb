{
 "cells": [
  {
   "cell_type": "code",
   "execution_count": 101,
   "metadata": {},
   "outputs": [],
   "source": [
    "data<-read.csv(\"fashion-mnist_train.csv\")"
   ]
  },
  {
   "cell_type": "code",
   "execution_count": 102,
   "metadata": {},
   "outputs": [],
   "source": [
    "ohe_cols<-function(x){\n",
    "     xf=factor(x)\n",
    "     return(model.matrix(~xf+0))\n",
    "}"
   ]
  },
  {
   "cell_type": "code",
   "execution_count": 103,
   "metadata": {},
   "outputs": [],
   "source": [
    "ohe_matrix<-function(X,cols){\n",
    "    X<-cbind(X,lapply(X[cols], ohe_cols))\n",
    "    X<-X[,!names(X) %in% cols]\n",
    "    return(X)\n",
    "}"
   ]
  },
  {
   "cell_type": "code",
   "execution_count": 104,
   "metadata": {},
   "outputs": [],
   "source": [
    "unique_counts<-as.data.frame(t(apply(data, 2, function(x) length(unique(x)))))"
   ]
  },
  {
   "cell_type": "code",
   "execution_count": 105,
   "metadata": {},
   "outputs": [],
   "source": [
    "data<-ohe_matrix(data,c(\"label\"))"
   ]
  },
  {
   "cell_type": "code",
   "execution_count": 106,
   "metadata": {},
   "outputs": [],
   "source": [
    "test<-read.csv(\"fashion-mnist_test.csv\")"
   ]
  },
  {
   "cell_type": "code",
   "execution_count": 107,
   "metadata": {},
   "outputs": [],
   "source": [
    "test<-ohe_matrix(test,c(\"label\"))"
   ]
  },
  {
   "cell_type": "code",
   "execution_count": 108,
   "metadata": {},
   "outputs": [
    {
     "data": {
      "text/html": [
       "<ol class=list-inline>\n",
       "\t<li>60000</li>\n",
       "\t<li>794</li>\n",
       "</ol>\n"
      ],
      "text/latex": [
       "\\begin{enumerate*}\n",
       "\\item 60000\n",
       "\\item 794\n",
       "\\end{enumerate*}\n"
      ],
      "text/markdown": [
       "1. 60000\n",
       "2. 794\n",
       "\n",
       "\n"
      ],
      "text/plain": [
       "[1] 60000   794"
      ]
     },
     "metadata": {},
     "output_type": "display_data"
    }
   ],
   "source": [
    "dim(data)"
   ]
  },
  {
   "cell_type": "code",
   "execution_count": 109,
   "metadata": {},
   "outputs": [],
   "source": [
    "#Shuffle data \n",
    "data<-data[sample(nrow(data)),]"
   ]
  },
  {
   "cell_type": "code",
   "execution_count": 110,
   "metadata": {},
   "outputs": [],
   "source": [
    "X_train<-data[1:(as.integer(nrow(data)/100*70)),1:784]\n",
    "y_train<-data[1:(as.integer(nrow(data)/100*70)),785:794]"
   ]
  },
  {
   "cell_type": "code",
   "execution_count": 111,
   "metadata": {},
   "outputs": [],
   "source": [
    "X_val<-data[(as.integer(nrow(data)/100*70)+1):(as.integer(nrow(data)/100*85)),1:784]\n",
    "y_val<-data[(as.integer(nrow(data)/100*70)+1):(as.integer(nrow(data)/100*85)),785:794]"
   ]
  },
  {
   "cell_type": "code",
   "execution_count": 112,
   "metadata": {},
   "outputs": [],
   "source": [
    "X_test<-data[(as.integer(nrow(data)/100*85)+1):(as.integer(nrow(data))),1:784]\n",
    "y_test<-data[(as.integer(nrow(data)/100*85)+1):(as.integer(nrow(data))),785:794]"
   ]
  },
  {
   "cell_type": "code",
   "execution_count": 113,
   "metadata": {},
   "outputs": [],
   "source": [
    "X_true_test<-test[,1:784]\n",
    "y_true_test<-test[,785:794]"
   ]
  },
  {
   "cell_type": "code",
   "execution_count": 114,
   "metadata": {},
   "outputs": [],
   "source": [
    "rm(data)\n",
    "rm(test)"
   ]
  },
  {
   "cell_type": "code",
   "execution_count": 115,
   "metadata": {},
   "outputs": [],
   "source": [
    "#Min max normalize\n",
    "norm<-function(X_col,X_tr_col){\n",
    "    X_col<-(X_col - min(X_tr_col))/(max(X_tr_col)-min(X_tr_col))\n",
    "    return(X_col)\n",
    "}"
   ]
  },
  {
   "cell_type": "code",
   "execution_count": 116,
   "metadata": {},
   "outputs": [],
   "source": [
    "X_val<-mapply(norm,X_val,X_train)\n",
    "X_test<-mapply(norm,X_test,X_train)\n",
    "X_true_test<-mapply(norm,X_true_test,X_train)\n",
    "X_train<-mapply(norm,X_train,X_train)"
   ]
  },
  {
   "cell_type": "code",
   "execution_count": 117,
   "metadata": {},
   "outputs": [],
   "source": [
    "#Make phi\n",
    "phi_transform<-function(X){\n",
    "    phi<-cbind(bias=rep(1,nrow(X)),X,X**2)\n",
    "    return(phi)\n",
    "}"
   ]
  },
  {
   "cell_type": "code",
   "execution_count": 118,
   "metadata": {},
   "outputs": [],
   "source": [
    "phi_tr<-phi_transform(X_train)\n",
    "phi_val<-phi_transform(X_val)\n",
    "phi_test<-phi_transform(X_test)\n",
    "phi_true_test<-phi_transform(X_true_test)"
   ]
  },
  {
   "cell_type": "code",
   "execution_count": 119,
   "metadata": {},
   "outputs": [],
   "source": [
    "phi_tr<-as.matrix(phi_tr)\n",
    "phi_val<-as.matrix(phi_val)\n",
    "phi_test<-as.matrix(phi_test)\n",
    "phi_true_test<-as.matrix(phi_true_test)\n",
    "y_train<-as.matrix(y_train)\n",
    "y_val<-as.matrix(y_val)\n",
    "y_test<-as.matrix(y_test)\n",
    "y_true_test<-as.matrix(y_true_test)"
   ]
  },
  {
   "cell_type": "code",
   "execution_count": 121,
   "metadata": {},
   "outputs": [
    {
     "name": "stderr",
     "output_type": "stream",
     "text": [
      "Warning message in rm(X_train):\n",
      "“object 'X_train' not found”Warning message in rm(X_val):\n",
      "“object 'X_val' not found”Warning message in rm(X_test):\n",
      "“object 'X_test' not found”"
     ]
    }
   ],
   "source": [
    "rm(X_train)\n",
    "rm(X_val)\n",
    "rm(X_test)\n",
    "rm(X_true_test)"
   ]
  },
  {
   "cell_type": "code",
   "execution_count": 122,
   "metadata": {},
   "outputs": [],
   "source": [
    "softmax<-function(h){\n",
    "    exp(h)/apply(exp(h),1,sum)\n",
    "}"
   ]
  },
  {
   "cell_type": "code",
   "execution_count": 123,
   "metadata": {},
   "outputs": [],
   "source": [
    "cost<-function(p,y){\n",
    "    -1*sum(y*log(p))\n",
    "}"
   ]
  },
  {
   "cell_type": "code",
   "execution_count": 124,
   "metadata": {},
   "outputs": [],
   "source": [
    "errbest<-10000000\n",
    "\n",
    "w<-matrix(rnorm(ncol(y_train)*ncol(phi_tr)),ncol(phi_tr),ncol(y_train))\n",
    "w_best<-w"
   ]
  },
  {
   "cell_type": "code",
   "execution_count": 177,
   "metadata": {},
   "outputs": [],
   "source": [
    "#Set the number of epochs\n",
    "epochs<-1000\n",
    "error<-c()\n",
    "epoch<-c()\n",
    "eta<-0.0000001\n",
    "lam2<-0.001\n",
    "#w<-w_best\n",
    "for (i in 1:epochs){\n",
    "    #calculate error on validation set\n",
    "    p_val=softmax(phi_val%*%w)\n",
    "    error<-c(error,cost(p_val,y_val))\n",
    "    epoch<-c(epoch,i)\n",
    "    if (error[i]<errbest){\n",
    "        errbest<-error[i]\n",
    "        w_best<-w\n",
    "        }\n",
    "    #Calculate new w using training set\n",
    "    p_train=softmax(phi_tr%*%w)\n",
    "    w<-w-eta*(t(phi_tr)%*%(p_train-y_train))-lam2*w\n",
    "}"
   ]
  },
  {
   "cell_type": "code",
   "execution_count": 178,
   "metadata": {
    "scrolled": true
   },
   "outputs": [
    {
     "data": {
      "image/png": "[encoded data removed]",
      "text/plain": [
       "plot without title"
      ]
     },
     "metadata": {},
     "output_type": "display_data"
    }
   ],
   "source": [
    "plot(epoch,error)"
   ]
  },
  {
   "cell_type": "code",
   "execution_count": 62,
   "metadata": {},
   "outputs": [
    {
     "data": {
      "text/html": [
       "4796.08973733309"
      ],
      "text/latex": [
       "4796.08973733309"
      ],
      "text/markdown": [
       "4796.08973733309"
      ],
      "text/plain": [
       "[1] 4796.09"
      ]
     },
     "metadata": {},
     "output_type": "display_data"
    }
   ],
   "source": [
    "errbest"
   ]
  },
  {
   "cell_type": "code",
   "execution_count": 79,
   "metadata": {},
   "outputs": [],
   "source": [
    "write.csv(w_best,\"w_best_mmnist.csv\")"
   ]
  },
  {
   "cell_type": "code",
   "execution_count": 161,
   "metadata": {},
   "outputs": [],
   "source": [
    "w<-as.matrix(read.csv(\"w_best_mmnist.csv\"), headers=FALSE)"
   ]
  },
  {
   "cell_type": "code",
   "execution_count": 162,
   "metadata": {},
   "outputs": [],
   "source": [
    "w<-w[,-c(1)]"
   ]
  },
  {
   "cell_type": "code",
   "execution_count": 163,
   "metadata": {},
   "outputs": [],
   "source": [
    "w<-as.matrix(apply(w,c(1, 2),as.numeric))"
   ]
  },
  {
   "cell_type": "code",
   "execution_count": 165,
   "metadata": {},
   "outputs": [],
   "source": [
    "p_val=softmax(phi_val%*%w)\n",
    "y_pred=round(p_val)"
   ]
  },
  {
   "cell_type": "code",
   "execution_count": 166,
   "metadata": {},
   "outputs": [
    {
     "data": {
      "text/html": [
       "0.781666666666667"
      ],
      "text/latex": [
       "0.781666666666667"
      ],
      "text/markdown": [
       "0.781666666666667"
      ],
      "text/plain": [
       "[1] 0.7816667"
      ]
     },
     "metadata": {},
     "output_type": "display_data"
    }
   ],
   "source": [
    "length(y_pred[y_pred==y_val & y_val==1])/length(y_val[y_val==1])"
   ]
  },
  {
   "cell_type": "code",
   "execution_count": 167,
   "metadata": {},
   "outputs": [
    {
     "data": {
      "text/html": [
       "0.968022222222222"
      ],
      "text/latex": [
       "0.968022222222222"
      ],
      "text/markdown": [
       "0.968022222222222"
      ],
      "text/plain": [
       "[1] 0.9680222"
      ]
     },
     "metadata": {},
     "output_type": "display_data"
    }
   ],
   "source": [
    "length(y_pred[y_pred==y_val ])/length(y_pred)"
   ]
  },
  {
   "cell_type": "code",
   "execution_count": 170,
   "metadata": {},
   "outputs": [],
   "source": [
    "p_test=softmax(phi_test%*%w)\n",
    "y_pred=round(p_test)"
   ]
  },
  {
   "cell_type": "code",
   "execution_count": 171,
   "metadata": {},
   "outputs": [
    {
     "data": {
      "text/html": [
       "0.781"
      ],
      "text/latex": [
       "0.781"
      ],
      "text/markdown": [
       "0.781"
      ],
      "text/plain": [
       "[1] 0.781"
      ]
     },
     "metadata": {},
     "output_type": "display_data"
    }
   ],
   "source": [
    "length(y_pred[y_pred==y_test & y_test==1])/length(y_test[y_test==1])"
   ]
  },
  {
   "cell_type": "code",
   "execution_count": 172,
   "metadata": {},
   "outputs": [
    {
     "data": {
      "text/html": [
       "0.967855555555556"
      ],
      "text/latex": [
       "0.967855555555556"
      ],
      "text/markdown": [
       "0.967855555555556"
      ],
      "text/plain": [
       "[1] 0.9678556"
      ]
     },
     "metadata": {},
     "output_type": "display_data"
    }
   ],
   "source": [
    "length(y_pred[y_pred==y_test ])/length(y_pred)"
   ]
  },
  {
   "cell_type": "code",
   "execution_count": 173,
   "metadata": {},
   "outputs": [],
   "source": [
    "#The test set we were provided\n",
    "p_true_test=softmax(phi_true_test%*%w)\n",
    "y_pred=round(p_true_test)"
   ]
  },
  {
   "cell_type": "code",
   "execution_count": 184,
   "metadata": {},
   "outputs": [],
   "source": [
    "recall<- function(y,y_pred){\n",
    "    length(y_pred[y_pred==y & y==1])/length(y[y==1])\n",
    "}"
   ]
  },
  {
   "cell_type": "code",
   "execution_count": 185,
   "metadata": {},
   "outputs": [
    {
     "data": {
      "text/html": [
       "<dl class=dl-horizontal>\n",
       "\t<dt>label.xf0</dt>\n",
       "\t\t<dd>0.717</dd>\n",
       "\t<dt>label.xf1</dt>\n",
       "\t\t<dd>0.942</dd>\n",
       "\t<dt>label.xf2</dt>\n",
       "\t\t<dd>0.673</dd>\n",
       "\t<dt>label.xf3</dt>\n",
       "\t\t<dd>0.793</dd>\n",
       "\t<dt>label.xf4</dt>\n",
       "\t\t<dd>0.722</dd>\n",
       "\t<dt>label.xf5</dt>\n",
       "\t\t<dd>0.787</dd>\n",
       "\t<dt>label.xf6</dt>\n",
       "\t\t<dd>0.463</dd>\n",
       "\t<dt>label.xf7</dt>\n",
       "\t\t<dd>0.858</dd>\n",
       "\t<dt>label.xf8</dt>\n",
       "\t\t<dd>0.891</dd>\n",
       "\t<dt>label.xf9</dt>\n",
       "\t\t<dd>0.913</dd>\n",
       "</dl>\n"
      ],
      "text/latex": [
       "\\begin{description*}\n",
       "\\item[label.xf0] 0.717\n",
       "\\item[label.xf1] 0.942\n",
       "\\item[label.xf2] 0.673\n",
       "\\item[label.xf3] 0.793\n",
       "\\item[label.xf4] 0.722\n",
       "\\item[label.xf5] 0.787\n",
       "\\item[label.xf6] 0.463\n",
       "\\item[label.xf7] 0.858\n",
       "\\item[label.xf8] 0.891\n",
       "\\item[label.xf9] 0.913\n",
       "\\end{description*}\n"
      ],
      "text/markdown": [
       "label.xf0\n",
       ":   0.717label.xf1\n",
       ":   0.942label.xf2\n",
       ":   0.673label.xf3\n",
       ":   0.793label.xf4\n",
       ":   0.722label.xf5\n",
       ":   0.787label.xf6\n",
       ":   0.463label.xf7\n",
       ":   0.858label.xf8\n",
       ":   0.891label.xf9\n",
       ":   0.913\n",
       "\n"
      ],
      "text/plain": [
       "label.xf0 label.xf1 label.xf2 label.xf3 label.xf4 label.xf5 label.xf6 label.xf7 \n",
       "    0.717     0.942     0.673     0.793     0.722     0.787     0.463     0.858 \n",
       "label.xf8 label.xf9 \n",
       "    0.891     0.913 "
      ]
     },
     "metadata": {},
     "output_type": "display_data"
    }
   ],
   "source": [
    "#mapply iterates over columns for DFs\n",
    "mapply(recall,as.data.frame(y_true_test),as.data.frame(y_pred))"
   ]
  },
  {
   "cell_type": "code",
   "execution_count": 175,
   "metadata": {},
   "outputs": [
    {
     "data": {
      "text/html": [
       "0.96687"
      ],
      "text/latex": [
       "0.96687"
      ],
      "text/markdown": [
       "0.96687"
      ],
      "text/plain": [
       "[1] 0.96687"
      ]
     },
     "metadata": {},
     "output_type": "display_data"
    }
   ],
   "source": [
    "length(y_pred[y_pred==y_true_test ])/length(y_pred)"
   ]
  },
  {
   "cell_type": "code",
   "execution_count": null,
   "metadata": {},
   "outputs": [],
   "source": [
    "y"
   ]
  }
 ],
 "metadata": {
  "kernelspec": {
   "display_name": "R",
   "language": "R",
   "name": "ir"
  },
  "language_info": {
   "codemirror_mode": "r",
   "file_extension": ".r",
   "mimetype": "text/x-r-source",
   "name": "R",
   "pygments_lexer": "r",
   "version": "3.5.2"
  }
 },
 "nbformat": 4,
 "nbformat_minor": 2
}
