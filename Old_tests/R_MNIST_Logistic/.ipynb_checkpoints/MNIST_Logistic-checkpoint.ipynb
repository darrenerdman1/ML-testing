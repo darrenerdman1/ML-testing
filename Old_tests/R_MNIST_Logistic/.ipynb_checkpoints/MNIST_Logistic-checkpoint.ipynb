{
 "cells": [
  {
   "cell_type": "code",
   "execution_count": 1,
   "metadata": {},
   "outputs": [],
   "source": [
    "data<-read.csv(\"fashion-mnist_train.csv\")"
   ]
  },
  {
   "cell_type": "code",
   "execution_count": 2,
   "metadata": {},
   "outputs": [],
   "source": [
    "ohe_cols<-function(x){\n",
    "     xf=factor(x)\n",
    "     return(model.matrix(~xf+0))\n",
    "}"
   ]
  },
  {
   "cell_type": "code",
   "execution_count": 3,
   "metadata": {},
   "outputs": [],
   "source": [
    "ohe_matrix<-function(X,cols){\n",
    "    X<-cbind(X,lapply(X[cols], ohe_cols))\n",
    "    X<-X[,!names(X) %in% cols]\n",
    "    return(X)\n",
    "}"
   ]
  },
  {
   "cell_type": "code",
   "execution_count": 4,
   "metadata": {},
   "outputs": [],
   "source": [
    "unique_counts<-as.data.frame(t(apply(data, 2, function(x) length(unique(x)))))"
   ]
  },
  {
   "cell_type": "code",
   "execution_count": 5,
   "metadata": {},
   "outputs": [],
   "source": [
    "data<-ohe_matrix(data,c(\"label\"))"
   ]
  },
  {
   "cell_type": "code",
   "execution_count": 6,
   "metadata": {},
   "outputs": [
    {
     "data": {
      "text/html": [
       "<ol class=list-inline>\n",
       "\t<li>60000</li>\n",
       "\t<li>794</li>\n",
       "</ol>\n"
      ],
      "text/latex": [
       "\\begin{enumerate*}\n",
       "\\item 60000\n",
       "\\item 794\n",
       "\\end{enumerate*}\n"
      ],
      "text/markdown": [
       "1. 60000\n",
       "2. 794\n",
       "\n",
       "\n"
      ],
      "text/plain": [
       "[1] 60000   794"
      ]
     },
     "metadata": {},
     "output_type": "display_data"
    }
   ],
   "source": [
    "dim(data)"
   ]
  },
  {
   "cell_type": "code",
   "execution_count": 7,
   "metadata": {},
   "outputs": [],
   "source": [
    "#Shuffle data \n",
    "data<-data[sample(nrow(data)),]"
   ]
  },
  {
   "cell_type": "code",
   "execution_count": 8,
   "metadata": {},
   "outputs": [],
   "source": [
    "X_train<-data[1:(as.integer(nrow(data)/100*70)),1:784]\n",
    "y_train<-data[1:(as.integer(nrow(data)/100*70)),785:794]"
   ]
  },
  {
   "cell_type": "code",
   "execution_count": 9,
   "metadata": {},
   "outputs": [],
   "source": [
    "X_val<-data[(as.integer(nrow(data)/100*70)+1):(as.integer(nrow(data)/100*85)),1:784]\n",
    "y_val<-data[(as.integer(nrow(data)/100*70)+1):(as.integer(nrow(data)/100*85)),785:794]"
   ]
  },
  {
   "cell_type": "code",
   "execution_count": 10,
   "metadata": {},
   "outputs": [],
   "source": [
    "X_test<-data[(as.integer(nrow(data)/100*85)+1):(as.integer(nrow(data))),1:784]\n",
    "y_test<-data[(as.integer(nrow(data)/100*85)+1):(as.integer(nrow(data))),785:794]"
   ]
  },
  {
   "cell_type": "code",
   "execution_count": 11,
   "metadata": {},
   "outputs": [],
   "source": [
    "rm(data)"
   ]
  },
  {
   "cell_type": "code",
   "execution_count": 12,
   "metadata": {},
   "outputs": [],
   "source": [
    "#Min max normalize\n",
    "norm<-function(X_col,X_tr_col){\n",
    "    X_col<-(X_col - min(X_tr_col))/(max(X_tr_col)-min(X_tr_col))\n",
    "    return(X_col)\n",
    "}"
   ]
  },
  {
   "cell_type": "code",
   "execution_count": 13,
   "metadata": {},
   "outputs": [],
   "source": [
    "X_val<-mapply(norm,X_val,X_train)\n",
    "X_test<-mapply(norm,X_test,X_train)\n",
    "X_train<-mapply(norm,X_train,X_train)"
   ]
  },
  {
   "cell_type": "code",
   "execution_count": 14,
   "metadata": {},
   "outputs": [],
   "source": [
    "#Make phi\n",
    "phi_transform<-function(X){\n",
    "    phi<-cbind(bias=rep(1,nrow(X)),X,X**2)\n",
    "    return(phi)\n",
    "}"
   ]
  },
  {
   "cell_type": "code",
   "execution_count": 15,
   "metadata": {},
   "outputs": [],
   "source": [
    "phi_tr<-phi_transform(X_train)\n",
    "phi_val<-phi_transform(X_val)\n",
    "phi_test<-phi_transform(X_test)"
   ]
  },
  {
   "cell_type": "code",
   "execution_count": 16,
   "metadata": {},
   "outputs": [],
   "source": [
    "phi_tr<-as.matrix(phi_tr)\n",
    "phi_val<-as.matrix(phi_val)\n",
    "phi_test<-as.matrix(phi_test)\n",
    "y_train<-as.matrix(y_train)\n",
    "y_val<-as.matrix(y_val)\n",
    "y_test<-as.matrix(y_test)"
   ]
  },
  {
   "cell_type": "code",
   "execution_count": 17,
   "metadata": {},
   "outputs": [],
   "source": [
    "rm(X_train)\n",
    "rm(X_val)\n",
    "rm(X_test)"
   ]
  },
  {
   "cell_type": "code",
   "execution_count": 18,
   "metadata": {},
   "outputs": [],
   "source": [
    "softmax<-function(h){\n",
    "    exp(h)/apply(exp(h),1,sum)\n",
    "}"
   ]
  },
  {
   "cell_type": "code",
   "execution_count": 19,
   "metadata": {},
   "outputs": [],
   "source": [
    "cost<-function(p,y){\n",
    "    -1*sum(y*log(p))\n",
    "}"
   ]
  },
  {
   "cell_type": "code",
   "execution_count": 20,
   "metadata": {},
   "outputs": [],
   "source": [
    "errbest<-10000000\n",
    "\n",
    "w<-matrix(rnorm(ncol(y_train)*ncol(phi_tr)),ncol(phi_tr),ncol(y_train))\n",
    "w_best<-w"
   ]
  },
  {
   "cell_type": "code",
   "execution_count": null,
   "metadata": {},
   "outputs": [],
   "source": [
    "#Set the number of epochs\n",
    "epochs<-100\n",
    "error<-c()\n",
    "epoch<-c()\n",
    "eta<-0.00001\n",
    "lam2<-0.0001\n",
    "#w<-w_best\n",
    "for (i in 1:epochs){\n",
    "    #calculate error on validation set\n",
    "    p_val=softmax(phi_val%*%w)\n",
    "    error<-c(error,cost(p_val,y_val))\n",
    "    epoch<-c(epoch,i)\n",
    "    if (error[i]<errbest){\n",
    "        errbest<-error[i]\n",
    "        w_best<-w\n",
    "        }\n",
    "    #Calculate new w using training set\n",
    "    p_train=softmax(phi_tr%*%w)\n",
    "    w<-w-eta*(t(phi_tr)%*%(p_train-y_train))-lam2*w\n",
    "}"
   ]
  },
  {
   "cell_type": "code",
   "execution_count": null,
   "metadata": {},
   "outputs": [],
   "source": [
    "plot(epoch,error)"
   ]
  },
  {
   "cell_type": "code",
   "execution_count": null,
   "metadata": {},
   "outputs": [],
   "source": [
    "errbest"
   ]
  },
  {
   "cell_type": "code",
   "execution_count": null,
   "metadata": {},
   "outputs": [],
   "source": [
    "length(y_pred[y_pred==y_val & y_val==1])/length(y_val[y_val==1])"
   ]
  },
  {
   "cell_type": "code",
   "execution_count": null,
   "metadata": {},
   "outputs": [],
   "source": [
    "length(y_pred[y_pred==y_val ])/length(y_pred)"
   ]
  },
  {
   "cell_type": "code",
   "execution_count": null,
   "metadata": {},
   "outputs": [],
   "source": []
  }
 ],
 "metadata": {
  "kernelspec": {
   "display_name": "R",
   "language": "R",
   "name": "ir"
  },
  "language_info": {
   "codemirror_mode": "r",
   "file_extension": ".r",
   "mimetype": "text/x-r-source",
   "name": "R",
   "pygments_lexer": "r",
   "version": "3.5.2"
  }
 },
 "nbformat": 4,
 "nbformat_minor": 2
}
