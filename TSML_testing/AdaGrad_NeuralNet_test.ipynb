{
 "cells": [
  {
   "cell_type": "code",
   "execution_count": 80,
   "metadata": {},
   "outputs": [],
   "source": [
    "import matplotlib.pyplot as plt"
   ]
  },
  {
   "cell_type": "code",
   "execution_count": 120,
   "metadata": {},
   "outputs": [],
   "source": [
    "import numpy as np\n",
    "\n",
    "class AdaNeuralNet:\n",
    "    def __init__(self,nodes,indims,activations,\n",
    "                  actders, cost, task='Classifcation',scaleweights=True, seed=False):\n",
    "        self.nodes=nodes\n",
    "        self.layers=len(nodes)\n",
    "        self.indims=indims\n",
    "        self.activations=activations\n",
    "        self.actders=actders\n",
    "        self.task=task\n",
    "        self.cost=cost\n",
    "        self.weights={}\n",
    "        self.biases={}\n",
    "        self.Gw={}\n",
    "        self.Gb={}\n",
    "        self.y_classes=[]\n",
    "        self.Xmins=np.array([])\n",
    "        self.scaleweights=scaleweights\n",
    "        if seed !=False:\n",
    "            np.random.seed(seed)\n",
    "\n",
    "    def weightinit(self):\n",
    "        self.weights['W0']=np.random.randn(self.indims,self.nodes[0])\n",
    "        self.biases['B0']=np.random.randn(1,self.nodes[0])\n",
    "        self.Gw['0']=np.ones((self.indims,self.nodes[0]))\n",
    "        self.Gb['0']=np.ones((1,self.nodes[0]))\n",
    "        for i in range(1,self.layers):\n",
    "            if self.scaleweights:\n",
    "                self.weights['W'+str(i)]=np.random.randn(self.nodes[i-1],self.nodes[i])*np.sqrt(1/(self.nodes[i-1]+self.nodes[i]))\n",
    "                self.biases['B'+str(i)]=np.random.randn(1,self.nodes[i])*np.sqrt(1/(self.nodes[i-1]+self.nodes[i]))\n",
    "            else:\n",
    "                self.weights['W'+str(i)]=np.random.randn(self.nodes[i-1],self.nodes[i])\n",
    "                self.biases['B'+str(i)]=np.random.randn(1,self.nodes[i])\n",
    "            self.Gw[str(i)]=np.zeros((self.nodes[i-1],self.nodes[i]))\n",
    "            self.Gb[str(i)]=np.zeros((1,self.nodes[i]))\n",
    "\n",
    "    def get_one_hot(self,targets):\n",
    "        targets=np.asarray(targets).reshape(-1)\n",
    "        num_classes=len(np.unique(targets))\n",
    "        indices=np.searchsorted(np.unique(targets),targets)\n",
    "        res = np.eye(num_classes)[indices]\n",
    "        return res.reshape(len(targets),num_classes)\n",
    "\n",
    "    def mat_ohe(self,data, cols_to_ohe):\n",
    "        ohe_cols=np.apply_along_axis(self.get_one_hot,0,data[:,cols_to_ohe])[:,:,0]\n",
    "        data=np.hstack((data,ohe_cols))\n",
    "        data=np.delete(data,cols_to_ohe,1)\n",
    "        return data.astype(float)\n",
    "\n",
    "    def norm(self,X,Xmin,Xmax):\n",
    "        return (X-Xmin)/(Xmax-Xmin)\n",
    "\n",
    "    def unnorm(self,X,Xmin,Xmax):\n",
    "        return (X)*(Xmax-Xmin)+Xmin\n",
    "\n",
    "    def predict(self, X, normalize=True):\n",
    "        self.Z={}\n",
    "        self.Zprime={}\n",
    "\n",
    "\n",
    "        if not self.Xmins.size:\n",
    "            self.Xmaxes=X.max(0)\n",
    "            self.Xmins=X.min(0)\n",
    "            X=self.norm(X,self.Xmins,self.Xmaxes)\n",
    "        elif normalize:\n",
    "            X=self.norm(X,self.Xmins,self.Xmaxes)\n",
    "\n",
    "        if not self.weights:\n",
    "            self.weightinit()\n",
    "\n",
    "        self.Z['Z0']=X\n",
    "\n",
    "        for i in range(self.layers-1):\n",
    "            self.Z['Z'+str(i+1)]=self.activations[i](self.Z['Z'+str(i)]@self.weights['W'+str(i)]+\\\n",
    "                  self.biases[\"B\"+str(i)])\n",
    "            self.Zprime['Zprime'+str(i)]=self.actders[i](self.Z['Z'+str(i)]@self.weights['W'+str(i)]+\\\n",
    "                       self.biases[\"B\"+str(i)])\n",
    "        if self.task=='Classification':\n",
    "            #Convert to array in case a matrix was passed\n",
    "            self.probabilities=np.array(self.activations[self.layers-1](self.Z['Z'+str(self.layers-1)]\\\n",
    "                                        @self.weights['W'+str(self.layers-1)]+\\\n",
    "                                        self.biases[\"B\"+str(self.layers-1)]))\n",
    "            if self.nodes[-1]>1 and self.y_classes.size:\n",
    "                 self.predictions=self.y_classes[np.argmax(self.probabilities, axis=1)].reshape(-1,1)\n",
    "            elif self.nodes[-1]>1:\n",
    "                self.predictions=np.eye(self.probabilities.shape[1])[np.argmax(self.probabilities, axis=1)]\n",
    "            else:\n",
    "                self.predictions=np.where(np.rint(self.probabilities)==1,self.positive_class,self.negative_class).reshape(-1,1)\n",
    "        elif self.task=='Regression':\n",
    "            self.normpredictions=self.Z['Z'+str(self.layers-1)]@self.weights['W'+str(self.layers-1)]+\\\n",
    "            self.biases[\"B\"+str(self.layers-1)]\n",
    "\n",
    "            self.predictions=self.unnorm(self.normpredictions,self.ymins,self.ymaxes)\n",
    "        else:\n",
    "            self.predictions=\"Invalid task. Must use regression or classification.Default is classification\"\n",
    "\n",
    "    def train(self,X,y,epochs,eta,mu=0,decay=False, k=0.9, T=900,X_val=np.array([]),y_val=np.array([])):\n",
    "        self.valerror=[]\n",
    "        self.error=[]\n",
    "        d={}\n",
    "        self.Xmaxes=X.max(0)\n",
    "        self.Xmins=X.min(0)\n",
    "        X=self.norm(X,self.Xmins,self.Xmaxes)\n",
    "        if X_val.size:\n",
    "            X_val=self.norm(X_val,self.Xmins,self.Xmaxes)\n",
    "\n",
    "        if (self.task==\"Classification\" and y.shape[1]<self.nodes[-1]):\n",
    "            self.y_classes=np.unique(y)\n",
    "            y=self.mat_ohe(y,[0])\n",
    "            if y_val.size:\n",
    "                y_val=self.mat_ohe(y_val,[0])\n",
    "        elif (self.task==\"Classification\" and y.shape[1]==self.nodes[-1]):\n",
    "            self.positive_class=np.unique(y)[1]\n",
    "            self.negative_class=np.unique(y)[0]\n",
    "            y=np.where(y==self.positive_class,1,0)\n",
    "            if y_val.size:\n",
    "                y_val=np.where(y_val==self.positive_class,1,0)\n",
    "        elif self.task==\"Regression\":\n",
    "            self.ymaxes=y.max(0)\n",
    "            self.ymins=y.min(0)\n",
    "            y=self.norm(y,self.ymins,self.ymaxes)\n",
    "            if y_val.size:\n",
    "                y_val=self.norm(y_val,self.ymins,self.ymaxes)\n",
    "        self.predict(X,False)\n",
    "        for i in range(epochs):\n",
    "            if self.task=='Classification':\n",
    "                d['d'+str(self.layers-1)]=self.probabilities-y\n",
    "            elif self.task=='Regression':\n",
    "                d['d'+str(self.layers-1)]=self.normpredictions-y\n",
    "            else:\n",
    "                return self.predictions\n",
    "\n",
    "            for j in range(self.layers-1):\n",
    "                d['d'+str(self.layers-2-j)]=np.multiply(d['d'+str(self.layers-1-j)]\\\n",
    "                @self.weights['W'+str(self.layers-1-j)].T,\\\n",
    "                self.Zprime['Zprime'+str(self.layers-2-j)])\n",
    "\n",
    "            for j in range(self.layers):\n",
    "                self.Gw[str(j)]=self.Gw[str(j)]+(self.Z['Z'+str(j)].T@d['d'+str(j)])**2\n",
    "                self.Gb[str(j)]=self.Gb[str(j)]+((np.sum(d['d'+str(j)], axis=0)))**2\n",
    "                \n",
    "                etaw=eta*np.ones(self.Gw[str(j)].shape)/np.sqrt(self.Gw[str(j)]+1e-9)\n",
    "                etab=eta*np.ones(self.Gb[str(j)].shape)/np.sqrt(self.Gb[str(j)]+1e-9)\n",
    "                self.weights['W'+str(j)]=self.weights['W'+str(j)]-etaw*(self.Z['Z'+str(j)].T@d['d'+str(j)])\n",
    "                \n",
    "                self.biases['B'+str(j)]=self.biases['B'+str(j)]-etab*(np.sum(d['d'+str(j)], axis=0))\n",
    "\n",
    "            if decay==\"Scheduled\":\n",
    "                eta=eta*k**(i/T)\n",
    "            elif decay==\"Inverse\":\n",
    "                eta=eta/(k*i+1)\n",
    "            elif decay==\"Exponential\":\n",
    "                eta=eta*np.exp(-k*i)\n",
    "\n",
    "\n",
    "            if self.task=='Classification':\n",
    "                if y_val.size:\n",
    "                    self.predict(X_val,False)\n",
    "                    self.valerror.append(self.cost(y_val,self.probabilities))\n",
    "                self.predict(X,False)\n",
    "                self.error.append(self.cost(y,self.probabilities))\n",
    "            else:\n",
    "                if y_val.size:\n",
    "                    self.predict(X_val,False)\n",
    "                    self.valerror.append(self.cost(y_val,self.normpredictions))\n",
    "                self.predict(X,False)\n",
    "                self.error.append(self.cost(y,self.normpredictions))\n"
   ]
  },
  {
   "cell_type": "code",
   "execution_count": 121,
   "metadata": {},
   "outputs": [],
   "source": [
    "def sigmoid(X):\n",
    "    return 1/(1+np.exp(-X))\n",
    "\n",
    "def cost(y,p):\n",
    "    Err=[]\n",
    "    zeros=np.where(y==0)\n",
    "    ones=np.where(y==1)\n",
    "    Err=np.hstack((-y[ones]*np.log(p[ones]),-(1-y[zeros])*np.log(1-p[zeros])))\n",
    "    return np.mean(Err)\n",
    "\n",
    "def dertanh(X):\n",
    "    return 1-np.power(np.tanh(X),2)"
   ]
  },
  {
   "cell_type": "code",
   "execution_count": 122,
   "metadata": {},
   "outputs": [],
   "source": [
    "nodes=[20,20,20,1]\n",
    "activations=[np.tanh]*(len(nodes)-1)+[sigmoid]\n",
    "act_ders=[dertanh]*(len(nodes)-1)\n"
   ]
  },
  {
   "cell_type": "code",
   "execution_count": 123,
   "metadata": {},
   "outputs": [],
   "source": [
    "X1=np.random.randn(1000,2)\n",
    "X2=np.random.randn(1000,2)+4.5\n",
    "\n",
    "X1=np.hstack((np.ones((1000,1)),X1))\n",
    "X2=np.hstack((np.zeros((1000,1)),X2))\n",
    "\n",
    "X=np.vstack((X1,X2))\n",
    "\n",
    "np.random.shuffle(X)\n",
    "y=X[:,:1]\n",
    "X=X[:,1:]"
   ]
  },
  {
   "cell_type": "code",
   "execution_count": 166,
   "metadata": {},
   "outputs": [],
   "source": [
    "model=AdaNeuralNet(nodes,X.shape[1],activations,act_ders,cost,task=\"Classification\")"
   ]
  },
  {
   "cell_type": "code",
   "execution_count": 195,
   "metadata": {},
   "outputs": [],
   "source": [
    "model.train(X,y,10000,0.9)"
   ]
  },
  {
   "cell_type": "code",
   "execution_count": 196,
   "metadata": {},
   "outputs": [
    {
     "data": {
      "text/plain": [
       "[<matplotlib.lines.Line2D at 0x7f30d38aea20>]"
      ]
     },
     "execution_count": 196,
     "metadata": {},
     "output_type": "execute_result"
    },
    {
     "data": {
      "image/png": "[encoded data removed]",
      "text/plain": [
       "<Figure size 432x288 with 1 Axes>"
      ]
     },
     "metadata": {
      "needs_background": "light"
     },
     "output_type": "display_data"
    }
   ],
   "source": [
    "plt.plot(model.error)"
   ]
  },
  {
   "cell_type": "code",
   "execution_count": 197,
   "metadata": {},
   "outputs": [
    {
     "data": {
      "text/plain": [
       "1.0"
      ]
     },
     "execution_count": 197,
     "metadata": {},
     "output_type": "execute_result"
    }
   ],
   "source": [
    "(model.predictions==y).mean()"
   ]
  },
  {
   "cell_type": "code",
   "execution_count": 191,
   "metadata": {},
   "outputs": [
    {
     "data": {
      "text/plain": [
       "0.998"
      ]
     },
     "execution_count": 191,
     "metadata": {},
     "output_type": "execute_result"
    }
   ],
   "source": [
    "(np.rint(model.probabilities)==y).mean()"
   ]
  },
  {
   "cell_type": "code",
   "execution_count": 150,
   "metadata": {},
   "outputs": [
    {
     "data": {
      "text/plain": [
       "array([[1.],\n",
       "       [1.],\n",
       "       [1.],\n",
       "       ...,\n",
       "       [1.],\n",
       "       [1.],\n",
       "       [1.]])"
      ]
     },
     "execution_count": 150,
     "metadata": {},
     "output_type": "execute_result"
    }
   ],
   "source": [
    "model.predictions"
   ]
  },
  {
   "cell_type": "code",
   "execution_count": 118,
   "metadata": {},
   "outputs": [
    {
     "data": {
      "text/plain": [
       "1.0"
      ]
     },
     "execution_count": 118,
     "metadata": {},
     "output_type": "execute_result"
    }
   ],
   "source": [
    "model.positive_class"
   ]
  },
  {
   "cell_type": "code",
   "execution_count": 119,
   "metadata": {},
   "outputs": [
    {
     "data": {
      "text/plain": [
       "array([1.])"
      ]
     },
     "execution_count": 119,
     "metadata": {},
     "output_type": "execute_result"
    }
   ],
   "source": [
    "model.negative_class"
   ]
  },
  {
   "cell_type": "code",
   "execution_count": 198,
   "metadata": {},
   "outputs": [],
   "source": [
    "data=np.random.randn(2000,2)\n",
    "data2=(25./100.)*np.random.randn(1000,2)\n",
    "data3=2.3*np.random.randn(3000,2)\n",
    "\n",
    "circle=np.array([[x[0],x[1]] for x in data if (np.sqrt(x[0]**2+x[1]**2)>2.0)])\n",
    "circle3=np.array([[x[0],x[1]] for x in data3 if (np.sqrt(x[0]**2+x[1]**2)>5.50)])\n",
    "\n",
    "data2=np.hstack((data2,np.zeros((data2.shape[0],1))))\n",
    "data=np.hstack((circle,np.ones((circle.shape[0],1))))\n",
    "data3=np.hstack((circle3,2*np.ones((circle3.shape[0],1))))\n",
    "\n",
    "\n",
    "data=data[:300,:]\n",
    "data2=data2[:300,:]\n",
    "data3=data3[:300,:]\n",
    "X=np.vstack((data,data2,data3))\n",
    "np.random.shuffle(X)\n",
    "y=X[:,-1:]\n",
    "X=X[:,:-1]"
   ]
  },
  {
   "cell_type": "code",
   "execution_count": 203,
   "metadata": {},
   "outputs": [],
   "source": [
    "def softmax(X):\n",
    "    p=np.exp(X)\n",
    "    return(p/(p.sum(1).reshape(X.shape[0],1)))"
   ]
  },
  {
   "cell_type": "code",
   "execution_count": 204,
   "metadata": {},
   "outputs": [],
   "source": [
    "nodes=[20,20,20,3]\n",
    "activations=[np.tanh]*(len(nodes)-1)+[softmax]\n",
    "act_ders=[dertanh]*(len(nodes)-1)\n"
   ]
  },
  {
   "cell_type": "code",
   "execution_count": 205,
   "metadata": {},
   "outputs": [],
   "source": [
    "model=AdaNeuralNet(nodes,X.shape[1],activations,act_ders,cost,task=\"Classification\")"
   ]
  },
  {
   "cell_type": "code",
   "execution_count": 212,
   "metadata": {},
   "outputs": [],
   "source": [
    "model.train(X,y,100,9)"
   ]
  },
  {
   "cell_type": "code",
   "execution_count": 213,
   "metadata": {},
   "outputs": [
    {
     "data": {
      "text/plain": [
       "[<matplotlib.lines.Line2D at 0x7f30d37e03c8>]"
      ]
     },
     "execution_count": 213,
     "metadata": {},
     "output_type": "execute_result"
    },
    {
     "data": {
      "image/png": "[encoded data removed]",
      "text/plain": [
       "<Figure size 432x288 with 1 Axes>"
      ]
     },
     "metadata": {
      "needs_background": "light"
     },
     "output_type": "display_data"
    }
   ],
   "source": [
    "plt.plot(model.error)"
   ]
  },
  {
   "cell_type": "code",
   "execution_count": 214,
   "metadata": {},
   "outputs": [
    {
     "data": {
      "text/plain": [
       "array([0., 1., 2.])"
      ]
     },
     "execution_count": 214,
     "metadata": {},
     "output_type": "execute_result"
    }
   ],
   "source": [
    "model.y_classes"
   ]
  },
  {
   "cell_type": "code",
   "execution_count": 215,
   "metadata": {},
   "outputs": [
    {
     "data": {
      "text/plain": [
       "array([[0.11902043, 0.33439206, 0.54658751],\n",
       "       [0.11902043, 0.33439206, 0.54658751],\n",
       "       [0.11902043, 0.33439206, 0.54658751],\n",
       "       ...,\n",
       "       [0.11902043, 0.33439206, 0.54658751],\n",
       "       [0.11902043, 0.33439206, 0.54658751],\n",
       "       [0.11902043, 0.33439206, 0.54658751]])"
      ]
     },
     "execution_count": 215,
     "metadata": {},
     "output_type": "execute_result"
    }
   ],
   "source": [
    "model.probabilities"
   ]
  },
  {
   "cell_type": "code",
   "execution_count": null,
   "metadata": {},
   "outputs": [],
   "source": []
  },
  {
   "cell_type": "code",
   "execution_count": null,
   "metadata": {},
   "outputs": [],
   "source": []
  }
 ],
 "metadata": {
  "kernelspec": {
   "display_name": "Python 3",
   "language": "python",
   "name": "python3"
  },
  "language_info": {
   "codemirror_mode": {
    "name": "ipython",
    "version": 3
   },
   "file_extension": ".py",
   "mimetype": "text/x-python",
   "name": "python",
   "nbconvert_exporter": "python",
   "pygments_lexer": "ipython3",
   "version": "3.7.2"
  }
 },
 "nbformat": 4,
 "nbformat_minor": 2
}
